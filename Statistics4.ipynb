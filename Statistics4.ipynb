{
 "cells": [
  {
   "cell_type": "markdown",
   "id": "3d650ed4-d140-425a-9c35-f55033b768a5",
   "metadata": {},
   "source": [
    "# Veri Bilimi İçin İstatistik"
   ]
  },
  {
   "cell_type": "markdown",
   "id": "3eb502e3-80bd-4c76-845e-321bf4a52b28",
   "metadata": {},
   "source": [
    "# Örnek Teorisi"
   ]
  },
  {
   "cell_type": "code",
   "execution_count": 4,
   "id": "efbaf19d-ab9e-49cc-ad69-c57b46e32a98",
   "metadata": {},
   "outputs": [],
   "source": [
    "import numpy as np\n",
    "import pandas as pd\n",
    "import seaborn as sns\n",
    "import researchpy as rp\n",
    "import statsmodels.stats.api as sms\n",
    "from scipy.stats import bernoulli\n",
    "from scipy.stats import binom\n",
    "from scipy.stats import poisson\n",
    "import scipy.stats as stats\n",
    "from scipy.stats import shapiro\n",
    "import pylab\n",
    "from statsmodels.stats.descriptivestats import sign_test\n",
    "from scipy.stats import norm\n",
    "from statsmodels.stats.proportion import proportions_ztest as propz\n",
    "from scipy.stats import f_oneway\n",
    "from scipy.stats import kruskal\n",
    "from scipy.stats import pearsonr\n",
    "\n",
    "from warnings import filterwarnings\n",
    "filterwarnings(\"ignore\")"
   ]
  },
  {
   "cell_type": "code",
   "execution_count": 5,
   "id": "51aad130-010f-4b03-aa53-103808fd5b33",
   "metadata": {},
   "outputs": [],
   "source": [
    "populasyon = np.random.randint(0,80,10000)"
   ]
  },
  {
   "cell_type": "code",
   "execution_count": 6,
   "id": "7390a6f0-b539-4425-8613-166ec17c9f60",
   "metadata": {},
   "outputs": [
    {
     "data": {
      "text/plain": [
       "array([27, 17, 14, ..., 64, 40, 31])"
      ]
     },
     "execution_count": 6,
     "metadata": {},
     "output_type": "execute_result"
    }
   ],
   "source": [
    "populasyon"
   ]
  },
  {
   "cell_type": "code",
   "execution_count": 7,
   "id": "8f60a537-52ee-446b-a907-aaa36673f60d",
   "metadata": {},
   "outputs": [
    {
     "data": {
      "text/plain": [
       "array([27, 17, 14, 27,  5, 27, 37, 45, 78, 39])"
      ]
     },
     "execution_count": 7,
     "metadata": {},
     "output_type": "execute_result"
    }
   ],
   "source": [
    "populasyon[0:10]"
   ]
  },
  {
   "cell_type": "code",
   "execution_count": 8,
   "id": "61c55665-107d-4730-bea7-fd0af9a901ec",
   "metadata": {},
   "outputs": [
    {
     "data": {
      "text/plain": [
       "array([25, 21, 73, 47, 38, 54, 48, 47, 22, 12])"
      ]
     },
     "execution_count": 8,
     "metadata": {},
     "output_type": "execute_result"
    }
   ],
   "source": [
    "# Örneklem Çekimi\n",
    "np.random.seed(115)\n",
    "orneklem = np.random.choice(a = populasyon, size = 100)\n",
    "orneklem[0:10]"
   ]
  },
  {
   "cell_type": "code",
   "execution_count": 9,
   "id": "f9bd2dc6-413f-42ab-90ba-f31825cf9c5c",
   "metadata": {},
   "outputs": [
    {
     "data": {
      "text/plain": [
       "38.5"
      ]
     },
     "execution_count": 9,
     "metadata": {},
     "output_type": "execute_result"
    }
   ],
   "source": [
    "orneklem.mean()"
   ]
  },
  {
   "cell_type": "code",
   "execution_count": 10,
   "id": "c0cc8c13-9723-4568-99db-6f7dabcffd1f",
   "metadata": {},
   "outputs": [
    {
     "data": {
      "text/plain": [
       "39.531"
      ]
     },
     "execution_count": 10,
     "metadata": {},
     "output_type": "execute_result"
    }
   ],
   "source": [
    "populasyon.mean()"
   ]
  },
  {
   "cell_type": "code",
   "execution_count": 11,
   "id": "fa5fb2f8-980b-4ac8-a06e-877ecacafe7a",
   "metadata": {},
   "outputs": [],
   "source": [
    "# Örneklem Dağılımı"
   ]
  },
  {
   "cell_type": "code",
   "execution_count": 12,
   "id": "08426341-eec3-4131-9e99-548dc6ec249c",
   "metadata": {},
   "outputs": [],
   "source": [
    "np.random.seed(10)\n",
    "orneklem1 = np.random.choice(a = populasyon, size = 100)\n",
    "orneklem2 = np.random.choice(a = populasyon, size = 100)\n",
    "orneklem3 = np.random.choice(a = populasyon, size = 100)\n",
    "orneklem4 = np.random.choice(a = populasyon, size = 100)\n",
    "orneklem5 = np.random.choice(a = populasyon, size = 100)\n",
    "orneklem6 = np.random.choice(a = populasyon, size = 100)\n",
    "orneklem7 = np.random.choice(a = populasyon, size = 100)\n",
    "orneklem8 = np.random.choice(a = populasyon, size = 100)\n",
    "orneklem9 = np.random.choice(a = populasyon, size = 100)\n",
    "orneklem10 = np.random.choice(a = populasyon, size = 100)"
   ]
  },
  {
   "cell_type": "code",
   "execution_count": 13,
   "id": "2b8ce32a-e4d6-49c2-a6e1-919b47f782a2",
   "metadata": {},
   "outputs": [
    {
     "data": {
      "text/plain": [
       "39.376"
      ]
     },
     "execution_count": 13,
     "metadata": {},
     "output_type": "execute_result"
    }
   ],
   "source": [
    "(orneklem1.mean()+orneklem2.mean()+orneklem3.mean()+orneklem4.mean()+orneklem5.mean()+\n",
    "orneklem6.mean()+orneklem7.mean()+orneklem8.mean()+orneklem9.mean()+orneklem10.mean())/10"
   ]
  },
  {
   "cell_type": "code",
   "execution_count": 14,
   "id": "27fec449-bbfa-47a5-8e6a-822328bd1db8",
   "metadata": {},
   "outputs": [
    {
     "data": {
      "text/plain": [
       "38.94"
      ]
     },
     "execution_count": 14,
     "metadata": {},
     "output_type": "execute_result"
    }
   ],
   "source": [
    "orneklem1.mean()"
   ]
  },
  {
   "cell_type": "code",
   "execution_count": 15,
   "id": "73068271-630f-4ff9-af39-bd78121816d8",
   "metadata": {},
   "outputs": [
    {
     "data": {
      "text/plain": [
       "36.64"
      ]
     },
     "execution_count": 15,
     "metadata": {},
     "output_type": "execute_result"
    }
   ],
   "source": [
    "orneklem2.mean()"
   ]
  },
  {
   "cell_type": "markdown",
   "id": "c8497bbd-5804-48e6-a557-c6dc1a9d4e5d",
   "metadata": {},
   "source": [
    "# Betimsel İstatistikler"
   ]
  },
  {
   "cell_type": "code",
   "execution_count": 16,
   "id": "142459b9-39a3-450a-a051-f1b7ee3d6567",
   "metadata": {},
   "outputs": [
    {
     "data": {
      "text/html": [
       "<div>\n",
       "<style scoped>\n",
       "    .dataframe tbody tr th:only-of-type {\n",
       "        vertical-align: middle;\n",
       "    }\n",
       "\n",
       "    .dataframe tbody tr th {\n",
       "        vertical-align: top;\n",
       "    }\n",
       "\n",
       "    .dataframe thead th {\n",
       "        text-align: right;\n",
       "    }\n",
       "</style>\n",
       "<table border=\"1\" class=\"dataframe\">\n",
       "  <thead>\n",
       "    <tr style=\"text-align: right;\">\n",
       "      <th></th>\n",
       "      <th>total_bill</th>\n",
       "      <th>tip</th>\n",
       "      <th>sex</th>\n",
       "      <th>smoker</th>\n",
       "      <th>day</th>\n",
       "      <th>time</th>\n",
       "      <th>size</th>\n",
       "    </tr>\n",
       "  </thead>\n",
       "  <tbody>\n",
       "    <tr>\n",
       "      <th>0</th>\n",
       "      <td>16.99</td>\n",
       "      <td>1.01</td>\n",
       "      <td>Female</td>\n",
       "      <td>No</td>\n",
       "      <td>Sun</td>\n",
       "      <td>Dinner</td>\n",
       "      <td>2</td>\n",
       "    </tr>\n",
       "    <tr>\n",
       "      <th>1</th>\n",
       "      <td>10.34</td>\n",
       "      <td>1.66</td>\n",
       "      <td>Male</td>\n",
       "      <td>No</td>\n",
       "      <td>Sun</td>\n",
       "      <td>Dinner</td>\n",
       "      <td>3</td>\n",
       "    </tr>\n",
       "    <tr>\n",
       "      <th>2</th>\n",
       "      <td>21.01</td>\n",
       "      <td>3.50</td>\n",
       "      <td>Male</td>\n",
       "      <td>No</td>\n",
       "      <td>Sun</td>\n",
       "      <td>Dinner</td>\n",
       "      <td>3</td>\n",
       "    </tr>\n",
       "    <tr>\n",
       "      <th>3</th>\n",
       "      <td>23.68</td>\n",
       "      <td>3.31</td>\n",
       "      <td>Male</td>\n",
       "      <td>No</td>\n",
       "      <td>Sun</td>\n",
       "      <td>Dinner</td>\n",
       "      <td>2</td>\n",
       "    </tr>\n",
       "    <tr>\n",
       "      <th>4</th>\n",
       "      <td>24.59</td>\n",
       "      <td>3.61</td>\n",
       "      <td>Female</td>\n",
       "      <td>No</td>\n",
       "      <td>Sun</td>\n",
       "      <td>Dinner</td>\n",
       "      <td>4</td>\n",
       "    </tr>\n",
       "  </tbody>\n",
       "</table>\n",
       "</div>"
      ],
      "text/plain": [
       "   total_bill   tip     sex smoker  day    time  size\n",
       "0       16.99  1.01  Female     No  Sun  Dinner     2\n",
       "1       10.34  1.66    Male     No  Sun  Dinner     3\n",
       "2       21.01  3.50    Male     No  Sun  Dinner     3\n",
       "3       23.68  3.31    Male     No  Sun  Dinner     2\n",
       "4       24.59  3.61  Female     No  Sun  Dinner     4"
      ]
     },
     "execution_count": 16,
     "metadata": {},
     "output_type": "execute_result"
    }
   ],
   "source": [
    "tips = sns.load_dataset(\"tips\")\n",
    "df = tips.copy()\n",
    "df.head()"
   ]
  },
  {
   "cell_type": "code",
   "execution_count": 17,
   "id": "05968b9e-f217-4d23-9534-19d3718f2b9c",
   "metadata": {},
   "outputs": [
    {
     "data": {
      "text/html": [
       "<div>\n",
       "<style scoped>\n",
       "    .dataframe tbody tr th:only-of-type {\n",
       "        vertical-align: middle;\n",
       "    }\n",
       "\n",
       "    .dataframe tbody tr th {\n",
       "        vertical-align: top;\n",
       "    }\n",
       "\n",
       "    .dataframe thead th {\n",
       "        text-align: right;\n",
       "    }\n",
       "</style>\n",
       "<table border=\"1\" class=\"dataframe\">\n",
       "  <thead>\n",
       "    <tr style=\"text-align: right;\">\n",
       "      <th></th>\n",
       "      <th>count</th>\n",
       "      <th>mean</th>\n",
       "      <th>std</th>\n",
       "      <th>min</th>\n",
       "      <th>25%</th>\n",
       "      <th>50%</th>\n",
       "      <th>75%</th>\n",
       "      <th>max</th>\n",
       "    </tr>\n",
       "  </thead>\n",
       "  <tbody>\n",
       "    <tr>\n",
       "      <th>total_bill</th>\n",
       "      <td>244.0</td>\n",
       "      <td>19.785943</td>\n",
       "      <td>8.902412</td>\n",
       "      <td>3.07</td>\n",
       "      <td>13.3475</td>\n",
       "      <td>17.795</td>\n",
       "      <td>24.1275</td>\n",
       "      <td>50.81</td>\n",
       "    </tr>\n",
       "    <tr>\n",
       "      <th>tip</th>\n",
       "      <td>244.0</td>\n",
       "      <td>2.998279</td>\n",
       "      <td>1.383638</td>\n",
       "      <td>1.00</td>\n",
       "      <td>2.0000</td>\n",
       "      <td>2.900</td>\n",
       "      <td>3.5625</td>\n",
       "      <td>10.00</td>\n",
       "    </tr>\n",
       "    <tr>\n",
       "      <th>size</th>\n",
       "      <td>244.0</td>\n",
       "      <td>2.569672</td>\n",
       "      <td>0.951100</td>\n",
       "      <td>1.00</td>\n",
       "      <td>2.0000</td>\n",
       "      <td>2.000</td>\n",
       "      <td>3.0000</td>\n",
       "      <td>6.00</td>\n",
       "    </tr>\n",
       "  </tbody>\n",
       "</table>\n",
       "</div>"
      ],
      "text/plain": [
       "            count       mean       std   min      25%     50%      75%    max\n",
       "total_bill  244.0  19.785943  8.902412  3.07  13.3475  17.795  24.1275  50.81\n",
       "tip         244.0   2.998279  1.383638  1.00   2.0000   2.900   3.5625  10.00\n",
       "size        244.0   2.569672  0.951100  1.00   2.0000   2.000   3.0000   6.00"
      ]
     },
     "execution_count": 17,
     "metadata": {},
     "output_type": "execute_result"
    }
   ],
   "source": [
    "df.describe().T"
   ]
  },
  {
   "cell_type": "code",
   "execution_count": 18,
   "id": "1603a85e-c5fb-4d8e-85a1-078b846609ca",
   "metadata": {},
   "outputs": [],
   "source": [
    "# !pip install researchpy"
   ]
  },
  {
   "cell_type": "code",
   "execution_count": 19,
   "id": "c716c4c9-cf22-4da2-819d-e2991b86fb30",
   "metadata": {},
   "outputs": [
    {
     "name": "stdout",
     "output_type": "stream",
     "text": [
      "\n",
      "\n"
     ]
    },
    {
     "data": {
      "text/html": [
       "<div>\n",
       "<style scoped>\n",
       "    .dataframe tbody tr th:only-of-type {\n",
       "        vertical-align: middle;\n",
       "    }\n",
       "\n",
       "    .dataframe tbody tr th {\n",
       "        vertical-align: top;\n",
       "    }\n",
       "\n",
       "    .dataframe thead th {\n",
       "        text-align: right;\n",
       "    }\n",
       "</style>\n",
       "<table border=\"1\" class=\"dataframe\">\n",
       "  <thead>\n",
       "    <tr style=\"text-align: right;\">\n",
       "      <th></th>\n",
       "      <th>Variable</th>\n",
       "      <th>N</th>\n",
       "      <th>Mean</th>\n",
       "      <th>SD</th>\n",
       "      <th>SE</th>\n",
       "      <th>95% Conf.</th>\n",
       "      <th>Interval</th>\n",
       "    </tr>\n",
       "  </thead>\n",
       "  <tbody>\n",
       "    <tr>\n",
       "      <th>0</th>\n",
       "      <td>total_bill</td>\n",
       "      <td>244.0</td>\n",
       "      <td>19.7859</td>\n",
       "      <td>8.9024</td>\n",
       "      <td>0.5699</td>\n",
       "      <td>18.6633</td>\n",
       "      <td>20.9086</td>\n",
       "    </tr>\n",
       "    <tr>\n",
       "      <th>1</th>\n",
       "      <td>tip</td>\n",
       "      <td>244.0</td>\n",
       "      <td>2.9983</td>\n",
       "      <td>1.3836</td>\n",
       "      <td>0.0886</td>\n",
       "      <td>2.8238</td>\n",
       "      <td>3.1728</td>\n",
       "    </tr>\n",
       "    <tr>\n",
       "      <th>2</th>\n",
       "      <td>size</td>\n",
       "      <td>244.0</td>\n",
       "      <td>2.5697</td>\n",
       "      <td>0.9511</td>\n",
       "      <td>0.0609</td>\n",
       "      <td>2.4497</td>\n",
       "      <td>2.6896</td>\n",
       "    </tr>\n",
       "  </tbody>\n",
       "</table>\n",
       "</div>"
      ],
      "text/plain": [
       "     Variable      N     Mean      SD      SE  95% Conf.  Interval\n",
       "0  total_bill  244.0  19.7859  8.9024  0.5699    18.6633   20.9086\n",
       "1         tip  244.0   2.9983  1.3836  0.0886     2.8238    3.1728\n",
       "2        size  244.0   2.5697  0.9511  0.0609     2.4497    2.6896"
      ]
     },
     "execution_count": 19,
     "metadata": {},
     "output_type": "execute_result"
    }
   ],
   "source": [
    "rp.summary_cont(df[[\"total_bill\",\"tip\",\"size\"]])"
   ]
  },
  {
   "cell_type": "code",
   "execution_count": 20,
   "id": "bdeab177-bf27-44ea-b793-da864a008907",
   "metadata": {},
   "outputs": [
    {
     "data": {
      "text/html": [
       "<div>\n",
       "<style scoped>\n",
       "    .dataframe tbody tr th:only-of-type {\n",
       "        vertical-align: middle;\n",
       "    }\n",
       "\n",
       "    .dataframe tbody tr th {\n",
       "        vertical-align: top;\n",
       "    }\n",
       "\n",
       "    .dataframe thead th {\n",
       "        text-align: right;\n",
       "    }\n",
       "</style>\n",
       "<table border=\"1\" class=\"dataframe\">\n",
       "  <thead>\n",
       "    <tr style=\"text-align: right;\">\n",
       "      <th></th>\n",
       "      <th>Variable</th>\n",
       "      <th>Outcome</th>\n",
       "      <th>Count</th>\n",
       "      <th>Percent</th>\n",
       "    </tr>\n",
       "  </thead>\n",
       "  <tbody>\n",
       "    <tr>\n",
       "      <th>0</th>\n",
       "      <td>sex</td>\n",
       "      <td>Male</td>\n",
       "      <td>157</td>\n",
       "      <td>64.34</td>\n",
       "    </tr>\n",
       "    <tr>\n",
       "      <th>1</th>\n",
       "      <td></td>\n",
       "      <td>Female</td>\n",
       "      <td>87</td>\n",
       "      <td>35.66</td>\n",
       "    </tr>\n",
       "    <tr>\n",
       "      <th>2</th>\n",
       "      <td>smoker</td>\n",
       "      <td>No</td>\n",
       "      <td>151</td>\n",
       "      <td>61.89</td>\n",
       "    </tr>\n",
       "    <tr>\n",
       "      <th>3</th>\n",
       "      <td></td>\n",
       "      <td>Yes</td>\n",
       "      <td>93</td>\n",
       "      <td>38.11</td>\n",
       "    </tr>\n",
       "    <tr>\n",
       "      <th>4</th>\n",
       "      <td>day</td>\n",
       "      <td>Sat</td>\n",
       "      <td>87</td>\n",
       "      <td>35.66</td>\n",
       "    </tr>\n",
       "    <tr>\n",
       "      <th>5</th>\n",
       "      <td></td>\n",
       "      <td>Sun</td>\n",
       "      <td>76</td>\n",
       "      <td>31.15</td>\n",
       "    </tr>\n",
       "    <tr>\n",
       "      <th>6</th>\n",
       "      <td></td>\n",
       "      <td>Thur</td>\n",
       "      <td>62</td>\n",
       "      <td>25.41</td>\n",
       "    </tr>\n",
       "    <tr>\n",
       "      <th>7</th>\n",
       "      <td></td>\n",
       "      <td>Fri</td>\n",
       "      <td>19</td>\n",
       "      <td>7.79</td>\n",
       "    </tr>\n",
       "  </tbody>\n",
       "</table>\n",
       "</div>"
      ],
      "text/plain": [
       "  Variable Outcome  Count  Percent\n",
       "0      sex    Male    157    64.34\n",
       "1           Female     87    35.66\n",
       "2   smoker      No    151    61.89\n",
       "3              Yes     93    38.11\n",
       "4      day     Sat     87    35.66\n",
       "5              Sun     76    31.15\n",
       "6             Thur     62    25.41\n",
       "7              Fri     19     7.79"
      ]
     },
     "execution_count": 20,
     "metadata": {},
     "output_type": "execute_result"
    }
   ],
   "source": [
    "rp.summary_cat(df[[\"sex\",\"smoker\",\"day\"]])"
   ]
  },
  {
   "cell_type": "code",
   "execution_count": 21,
   "id": "e90230f8-0677-4a05-8f38-2cc708308f05",
   "metadata": {},
   "outputs": [
    {
     "data": {
      "text/html": [
       "<div>\n",
       "<style scoped>\n",
       "    .dataframe tbody tr th:only-of-type {\n",
       "        vertical-align: middle;\n",
       "    }\n",
       "\n",
       "    .dataframe tbody tr th {\n",
       "        vertical-align: top;\n",
       "    }\n",
       "\n",
       "    .dataframe thead th {\n",
       "        text-align: right;\n",
       "    }\n",
       "</style>\n",
       "<table border=\"1\" class=\"dataframe\">\n",
       "  <thead>\n",
       "    <tr style=\"text-align: right;\">\n",
       "      <th></th>\n",
       "      <th>tip</th>\n",
       "      <th>total_bill</th>\n",
       "    </tr>\n",
       "  </thead>\n",
       "  <tbody>\n",
       "    <tr>\n",
       "      <th>tip</th>\n",
       "      <td>1.914455</td>\n",
       "      <td>8.323502</td>\n",
       "    </tr>\n",
       "    <tr>\n",
       "      <th>total_bill</th>\n",
       "      <td>8.323502</td>\n",
       "      <td>79.252939</td>\n",
       "    </tr>\n",
       "  </tbody>\n",
       "</table>\n",
       "</div>"
      ],
      "text/plain": [
       "                 tip  total_bill\n",
       "tip         1.914455    8.323502\n",
       "total_bill  8.323502   79.252939"
      ]
     },
     "execution_count": 21,
     "metadata": {},
     "output_type": "execute_result"
    }
   ],
   "source": [
    "df[[\"tip\",\"total_bill\"]].cov()"
   ]
  },
  {
   "cell_type": "code",
   "execution_count": 22,
   "id": "148c8fb0-90b0-40aa-895f-888db9df6178",
   "metadata": {},
   "outputs": [
    {
     "data": {
      "text/html": [
       "<div>\n",
       "<style scoped>\n",
       "    .dataframe tbody tr th:only-of-type {\n",
       "        vertical-align: middle;\n",
       "    }\n",
       "\n",
       "    .dataframe tbody tr th {\n",
       "        vertical-align: top;\n",
       "    }\n",
       "\n",
       "    .dataframe thead th {\n",
       "        text-align: right;\n",
       "    }\n",
       "</style>\n",
       "<table border=\"1\" class=\"dataframe\">\n",
       "  <thead>\n",
       "    <tr style=\"text-align: right;\">\n",
       "      <th></th>\n",
       "      <th>tip</th>\n",
       "      <th>total_bill</th>\n",
       "    </tr>\n",
       "  </thead>\n",
       "  <tbody>\n",
       "    <tr>\n",
       "      <th>tip</th>\n",
       "      <td>1.000000</td>\n",
       "      <td>0.675734</td>\n",
       "    </tr>\n",
       "    <tr>\n",
       "      <th>total_bill</th>\n",
       "      <td>0.675734</td>\n",
       "      <td>1.000000</td>\n",
       "    </tr>\n",
       "  </tbody>\n",
       "</table>\n",
       "</div>"
      ],
      "text/plain": [
       "                 tip  total_bill\n",
       "tip         1.000000    0.675734\n",
       "total_bill  0.675734    1.000000"
      ]
     },
     "execution_count": 22,
     "metadata": {},
     "output_type": "execute_result"
    }
   ],
   "source": [
    "df[[\"tip\",\"total_bill\"]].corr()"
   ]
  },
  {
   "cell_type": "markdown",
   "id": "efd5e110-2d3e-45d4-88ff-f71434d8087a",
   "metadata": {
    "tags": []
   },
   "source": [
    "# İş Uygulaması: Fiyat Stratejisi Karar Destek\n",
    "\n",
    "CEO fiyat belirleme konusunda bilimsel bir dayanak ve esneklik istiyor\n",
    "* Satıcı, alıcı ve bir ürün var\n",
    "* Alıcılara ürüne ne kadar ücret öderdiniz diye soruluyor\n",
    "* Optimum fiat bilimsel ve esnek olarak bulunmak isteniyor"
   ]
  },
  {
   "cell_type": "code",
   "execution_count": 23,
   "id": "cdbb7c1d-d5f3-4e31-866f-1694149a6491",
   "metadata": {},
   "outputs": [],
   "source": [
    "fiyatlar = np.random.randint(10,110,1000)"
   ]
  },
  {
   "cell_type": "code",
   "execution_count": 24,
   "id": "45185f8c-185f-4de8-9e21-a2fda737efeb",
   "metadata": {},
   "outputs": [
    {
     "data": {
      "text/plain": [
       "58.492"
      ]
     },
     "execution_count": 24,
     "metadata": {},
     "output_type": "execute_result"
    }
   ],
   "source": [
    "fiyatlar.mean()"
   ]
  },
  {
   "cell_type": "code",
   "execution_count": 25,
   "id": "4007eb58-b4b2-401c-8753-e59c14bf7ba6",
   "metadata": {},
   "outputs": [
    {
     "data": {
      "text/plain": [
       "(56.67953887736034, 60.30446112263965)"
      ]
     },
     "execution_count": 25,
     "metadata": {},
     "output_type": "execute_result"
    }
   ],
   "source": [
    "sms.DescrStatsW(fiyatlar).tconfint_mean()"
   ]
  },
  {
   "cell_type": "markdown",
   "id": "afc8567d-1697-472f-a137-edf59dd762d5",
   "metadata": {},
   "source": [
    "**En iyi fiyat aralığı**"
   ]
  },
  {
   "cell_type": "markdown",
   "id": "9d371d33-02f1-4ac5-9358-1371693de557",
   "metadata": {},
   "source": [
    "# Olasılık Dağılımları"
   ]
  },
  {
   "cell_type": "markdown",
   "id": "24f734c7-0308-4dbd-8ec5-85cd8d35d24d",
   "metadata": {},
   "source": [
    "## Bernoulli Dağılımı\n",
    "\n",
    "Başarılı-başarısız, olumlu-olumsuz şeklindeki iki sonuçlu olaylar ile ilgilenildiğinde kullanılan kesikli olasılık dağılımıdır\n",
    "\n",
    "\n",
    "${\\displaystyle f(k;p)=p^{k}(1-p)^{1-k}\\quad {\\text{for }}k\\in \\{0,1\\}}$\n",
    "\n",
    "\n",
    "${\\displaystyle \\operatorname {E} \\left(X\\right)=p}$\n",
    "\n",
    "$\\operatorname {Var} [X]=pq=p(1-p)$"
   ]
  },
  {
   "cell_type": "code",
   "execution_count": 26,
   "id": "2afa750a-1240-466d-be7e-a3d6e110fab4",
   "metadata": {},
   "outputs": [],
   "source": [
    "p = 0.6"
   ]
  },
  {
   "cell_type": "code",
   "execution_count": 27,
   "id": "2bf2c24a-64eb-448b-8c26-607e28d03cfc",
   "metadata": {},
   "outputs": [
    {
     "data": {
      "text/plain": [
       "0.6"
      ]
     },
     "execution_count": 27,
     "metadata": {},
     "output_type": "execute_result"
    }
   ],
   "source": [
    "rv = bernoulli(p)\n",
    "rv.pmf(k = 1)"
   ]
  },
  {
   "cell_type": "code",
   "execution_count": 28,
   "id": "90fed876-3a3d-409b-8a95-785629c22f45",
   "metadata": {},
   "outputs": [
    {
     "data": {
      "text/plain": [
       "0.4"
      ]
     },
     "execution_count": 28,
     "metadata": {},
     "output_type": "execute_result"
    }
   ],
   "source": [
    "rv = bernoulli(p)\n",
    "rv.pmf(k = 0)"
   ]
  },
  {
   "cell_type": "markdown",
   "id": "eeb261a4-5448-4893-8440-02a7ba5cccdf",
   "metadata": {
    "tags": []
   },
   "source": [
    "## Büyük Sayılar Yasası"
   ]
  },
  {
   "cell_type": "markdown",
   "id": "3af80e66-5e93-45dc-9e37-e8eabdc53523",
   "metadata": {},
   "source": [
    "**Bir rassal değişkenin uzun vadeli kararlılığını tanımlayan olasılık teoremidir.**"
   ]
  },
  {
   "cell_type": "code",
   "execution_count": 29,
   "id": "4a361039-ac09-4b8b-8a30-be3a9cfe42be",
   "metadata": {},
   "outputs": [
    {
     "name": "stdout",
     "output_type": "stream",
     "text": [
      "Atış Sayısı: 2 --- Yazı Olasılığı: 50.0\n",
      "Atış Sayısı: 4 --- Yazı Olasılığı: 0.0\n",
      "Atış Sayısı: 8 --- Yazı Olasılığı: 62.5\n",
      "Atış Sayısı: 16 --- Yazı Olasılığı: 43.75\n",
      "Atış Sayısı: 32 --- Yazı Olasılığı: 46.88\n",
      "Atış Sayısı: 64 --- Yazı Olasılığı: 56.25\n",
      "Atış Sayısı: 128 --- Yazı Olasılığı: 50.78\n",
      "Atış Sayısı: 256 --- Yazı Olasılığı: 52.73\n",
      "Atış Sayısı: 512 --- Yazı Olasılığı: 52.93\n",
      "Atış Sayısı: 1024 --- Yazı Olasılığı: 50.2\n",
      "Atış Sayısı: 2048 --- Yazı Olasılığı: 48.58\n",
      "Atış Sayısı: 4096 --- Yazı Olasılığı: 49.49\n",
      "Atış Sayısı: 8192 --- Yazı Olasılığı: 49.58\n",
      "Atış Sayısı: 16384 --- Yazı Olasılığı: 49.96\n",
      "Atış Sayısı: 32768 --- Yazı Olasılığı: 50.0\n",
      "Atış Sayısı: 65536 --- Yazı Olasılığı: 49.68\n",
      "Atış Sayısı: 131072 --- Yazı Olasılığı: 49.97\n",
      "Atış Sayısı: 262144 --- Yazı Olasılığı: 50.13\n",
      "Atış Sayısı: 524288 --- Yazı Olasılığı: 50.01\n",
      "Atış Sayısı: 1048576 --- Yazı Olasılığı: 50.09\n",
      "Atış Sayısı: 2097152 --- Yazı Olasılığı: 50.01\n",
      "Atış Sayısı: 4194304 --- Yazı Olasılığı: 50.03\n",
      "Atış Sayısı: 8388608 --- Yazı Olasılığı: 50.05\n",
      "Atış Sayısı: 16777216 --- Yazı Olasılığı: 50.01\n",
      "Atış Sayısı: 33554432 --- Yazı Olasılığı: 50.01\n",
      "Atış Sayısı: 67108864 --- Yazı Olasılığı: 50.0\n",
      "Atış Sayısı: 134217728 --- Yazı Olasılığı: 50.0\n",
      "Atış Sayısı: 268435456 --- Yazı Olasılığı: 50.0\n",
      "Atış Sayısı: 536870912 --- Yazı Olasılığı: 50.0\n",
      "Atış Sayısı: 1073741824 --- Yazı Olasılığı: 50.0\n"
     ]
    }
   ],
   "source": [
    "rng = np.random.RandomState(123)\n",
    "for i in np.arange(1,31):\n",
    "    deney_sayisi = 2**i\n",
    "    yazi_turalar = rng.randint(0,2,size = deney_sayisi)\n",
    "    yazi_olasiliklari = np.mean(yazi_turalar)\n",
    "    print(f\"Atış Sayısı: {deney_sayisi} --- Yazı Olasılığı: {(round(yazi_olasiliklari*100,2))}\")"
   ]
  },
  {
   "cell_type": "markdown",
   "id": "169af67d-9f44-4620-b39f-62645b2f709d",
   "metadata": {
    "tags": []
   },
   "source": [
    "## Binom Dağılımı\n",
    "\n",
    "Binom dağılımı, bağımsız n deneme sonucu k başarılı olma olasılığı ile ilgilenildiğinde kullanılan dağılımdır\n",
    "\n",
    "\n",
    "${\\displaystyle f(k;n,p)={n \\choose k}p^{k}(1-p)^{n-k}}$, k = 0, 1, 2, ...,n\n",
    "\n",
    "\n",
    "${\\displaystyle \\operatorname {E} (X)=np}$\n",
    "\n",
    "\n",
    "${\\displaystyle \\operatorname {Var} (X)=np(1-p)}$\n",
    "\n",
    "Örnek:\n",
    "Bir madeni para 4 kere atılıyor 2 kere yazı gelmesi olasılığı nedir?\n",
    "\n",
    "\n",
    "${\\displaystyle f(2;4,0.5)={4 \\choose 2}0.5^{2}(1-0.5)^{4-2}=0.375}$"
   ]
  },
  {
   "cell_type": "markdown",
   "id": "980328c4-7366-43e0-aaa0-6a31fb84a8dc",
   "metadata": {},
   "source": [
    "* Bir mecrada reklam verilecek\n",
    "* Dağılım ve reklama tıklama olasılığı biliniyor (0.01)\n",
    "* Reklamı 100 kişi gördüğünde 1,5,10 defa tıklanma olasılığı nedir?\n",
    "\n",
    "${\\displaystyle f(1;100,0.01)={100 \\choose 1}0.01^{2}(1-0.01)^{100-1}}$ = 0.37\n",
    "\n",
    "${\\displaystyle f(5;100,0.01)}$ = 0.00289779\n",
    "\n",
    "${\\displaystyle f(10;100,0.01)}$ = 0.00000007"
   ]
  },
  {
   "cell_type": "code",
   "execution_count": 30,
   "id": "328d4e8b-855c-4d07-827a-75dc73cd3e19",
   "metadata": {},
   "outputs": [
    {
     "name": "stdout",
     "output_type": "stream",
     "text": [
      "0.36972963764972666\n",
      "0.002897787123761478\n",
      "7.006035693977194e-08\n"
     ]
    }
   ],
   "source": [
    "p = 0.01\n",
    "n = 100\n",
    "rv = binom (n,p)\n",
    "print(rv.pmf(1))\n",
    "print(rv.pmf(5))\n",
    "print(rv.pmf(10))"
   ]
  },
  {
   "cell_type": "markdown",
   "id": "469a3b6b-741c-4b37-8fd5-e630b5a472b8",
   "metadata": {},
   "source": [
    "## Poisson Dağılımı\n",
    "\n",
    "\n",
    "Belirli bir zaman aralığında belirli bir alanda nadiren rastlanan olayların olasılıklarını hesaplamak için kullanılır\n",
    "\n",
    "\n",
    "${\\displaystyle f(x,\\lambda )={\\frac {\\lambda ^{x}e^{-\\lambda }}{x!}}\\,\\!}$,  x = 0,1,2,...,n\n",
    "\n",
    "\n",
    "${\\displaystyle E(X)=\\lambda}$<br>\n",
    "${\\displaystyle Var(X)=\\lambda}$\n",
    "\n",
    "Lambda: Beklenen sonucun ortalama gerçekleşme sayısı\n",
    "\n",
    "**Örnek Olaylar**\n",
    "* 10 bin kelimeden oluşan bir kitapta hatalı kelime sayısı\n",
    "* 4000 öğrencili okulda not girişinde hata olması\n",
    "* Bir iş gününde çağrı merkezine gelen taktir sayısı\n",
    "* Kredi kartı işlemlerinde sahtekarlık olması\n",
    "* Rötara düşen uçuş sefer sayısı\n",
    "<br><br>\n",
    "n = Gözlem sayısı : büyük olmalıdır<br>\n",
    "p = Olasılık : küçük küçük olmalıdır<br><br>\n",
    "Genel kabul gören şekliyle<br>\n",
    "n > 50\n",
    "n*p(lambda) < 5 olmalıdır\n",
    "<br><br><br>\n",
    "Örnek: Bir üniversitede 5000 not girişinde 5 tane notun yanlış girilme olasılığı nedir?\n",
    "<br>\n",
    "(Dağılım Poisson ve Lambda = 0.2)\n",
    "<br><br>\n",
    "${\\displaystyle f(5;0.2) = {\\frac {{0.2^5}{e^{-0.2}}}{5!}} = 0.00000218328201}$"
   ]
  },
  {
   "cell_type": "markdown",
   "id": "74aa09ed-c8e3-4525-8460-8a6b66b8322a",
   "metadata": {},
   "source": [
    "Hatalı ilan girişi olasılıkları hesaplanma isteniyor\n",
    "* Bir yıl süresince ölçüm yapılmıyor\n",
    "* Dağılım biliniyor (Poisson) ve Lambda 0.1 (ortalama hata sayısı)\n",
    "* Hiç hata olmaması, 3 hata olması ve 5 hata olması olasılıkları nedir?\n",
    "\n",
    "\n",
    "${\\displaystyle f(0; 0.1 )={\\frac {0.1 ^{0}e^{-0.1 }}{0!}}\\,\\!}$ = 0.9048374180\n",
    "\n",
    "\n",
    "${\\displaystyle f(3; 0.1 )={\\frac {0.1 ^{3}e^{-0.1 }}{3!}}\\,\\!}$ = 0.0001508062\n",
    "\n",
    "\n",
    "${\\displaystyle f(5; 0.1 )={\\frac {0.1 ^{5}e^{-0.1 }}{5!}}\\,\\!}$ = 0.0000000754"
   ]
  },
  {
   "cell_type": "code",
   "execution_count": 31,
   "id": "1ec026a4-e1a0-4f93-9ef5-d0e9f5989423",
   "metadata": {},
   "outputs": [],
   "source": [
    "lambda_ = 0.1"
   ]
  },
  {
   "cell_type": "code",
   "execution_count": 32,
   "id": "c5932049-b91e-4cfe-8272-2cc70aa34f07",
   "metadata": {},
   "outputs": [
    {
     "name": "stdout",
     "output_type": "stream",
     "text": [
      "0.9048374180359595\n",
      "0.00015080623633932676\n",
      "7.54031181696634e-08\n"
     ]
    }
   ],
   "source": [
    "rv = poisson(mu = lambda_)\n",
    "print(rv.pmf(k = 0))\n",
    "print(rv.pmf(k = 3))\n",
    "print(rv.pmf(k = 5))"
   ]
  },
  {
   "cell_type": "markdown",
   "id": "9d8e3a22-2840-4e08-a5de-f5350f75f75e",
   "metadata": {},
   "source": [
    "# Normal Dağılım"
   ]
  },
  {
   "cell_type": "markdown",
   "id": "6251081c-5d6e-4932-9e30-877ff05cf7ad",
   "metadata": {},
   "source": [
    "**Normal dağıldığı bilinen sürekli rassal değişkenler için olasılık hesaplaması amacıyla kullanılır**"
   ]
  },
  {
   "cell_type": "markdown",
   "id": "4fce1e5e-9009-47a2-a131-1b8024ad3563",
   "metadata": {},
   "source": [
    "${\\displaystyle f(x\\mid \\mu ,\\sigma ^{2})={\\frac {1}{\\sqrt {2\\pi \\sigma ^{2}}}}e^{-{\\frac {(x-\\mu )^{2}}{2\\sigma ^{2}}}}}$\n",
    "\n",
    "* $\\mu$  ortalama ya da dağılımın beklenen değeri\n",
    "\n",
    "* ${\\displaystyle \\sigma }$  standart sapma\n",
    "\n",
    "* ${\\displaystyle \\sigma ^{2}}$ varyans"
   ]
  },
  {
   "cell_type": "markdown",
   "id": "c0a0133c-54df-4f6d-b392-ecc476cc0659",
   "metadata": {},
   "source": [
    "Bir yatırım/toplantı öncesinde gelecek ay ile ilgili satışların belirli değerlerde gerçekleşmesi olasılıkları belirlenmek isteniyor\n",
    "* Dağılımın normal olduğu biliniyor\n",
    "* Aylık ortalama satış sayısı 80K, standart sapması 5K\n",
    "* 90K'dan fazla satış yapma olasılığı nedir?"
   ]
  },
  {
   "cell_type": "markdown",
   "id": "1851b22e-8653-4366-8d83-f331ff6df13d",
   "metadata": {},
   "source": [
    "90K'dan fazla olma olasılığı\n",
    "\n",
    "${\\displaystyle P(X>90) = 0.0228}$"
   ]
  },
  {
   "cell_type": "markdown",
   "id": "8ed7f5c3-1c2d-4c0a-bc2d-145ca4adbe57",
   "metadata": {},
   "source": [
    "70K'dan fazla olma olasılığı\n",
    "\n",
    "${\\displaystyle P(X>70) = 0.9772}$"
   ]
  },
  {
   "cell_type": "markdown",
   "id": "563fecc5-299d-46fb-a405-71dc71568f38",
   "metadata": {},
   "source": [
    "73K'dan az olma olasılığı\n",
    "\n",
    "${\\displaystyle P(X<70) = 0.0808}$"
   ]
  },
  {
   "cell_type": "markdown",
   "id": "ff9a70d3-f969-4fa7-938e-bff918554f98",
   "metadata": {},
   "source": [
    "85K ile 90K arasında olma olasılığı\n",
    "\n",
    "${\\displaystyle P(85<X<90) = 0.1359}$"
   ]
  },
  {
   "cell_type": "code",
   "execution_count": 33,
   "id": "7d51fcae-7aaa-4079-b417-b4994b6233de",
   "metadata": {},
   "outputs": [
    {
     "data": {
      "text/plain": [
       "0.02275013194817921"
      ]
     },
     "execution_count": 33,
     "metadata": {},
     "output_type": "execute_result"
    }
   ],
   "source": [
    "# 90 dan fazla olması\n",
    "1-norm.cdf(90,80,5)"
   ]
  },
  {
   "cell_type": "code",
   "execution_count": 34,
   "id": "539ce8d7-7ca9-4222-81cb-0ea52197260a",
   "metadata": {},
   "outputs": [
    {
     "data": {
      "text/plain": [
       "0.9772498680518208"
      ]
     },
     "execution_count": 34,
     "metadata": {},
     "output_type": "execute_result"
    }
   ],
   "source": [
    "# 70 den fazla olması\n",
    "1-norm.cdf(70,80,5)"
   ]
  },
  {
   "cell_type": "code",
   "execution_count": 35,
   "id": "030702d5-4b88-40b8-8389-3663c75d4dc1",
   "metadata": {},
   "outputs": [
    {
     "data": {
      "text/plain": [
       "0.08075665923377107"
      ]
     },
     "execution_count": 35,
     "metadata": {},
     "output_type": "execute_result"
    }
   ],
   "source": [
    "# 73 den az olması\n",
    "norm.cdf(73,80,5)"
   ]
  },
  {
   "cell_type": "code",
   "execution_count": 36,
   "id": "3a1d45d1-a6af-4333-b1ea-7b1eab98b2c3",
   "metadata": {},
   "outputs": [
    {
     "data": {
      "text/plain": [
       "0.13590512198327787"
      ]
     },
     "execution_count": 36,
     "metadata": {},
     "output_type": "execute_result"
    }
   ],
   "source": [
    "# 85 ile 90 arasında olması\n",
    "norm.cdf(90,80,5) - norm.cdf(85,80,5)"
   ]
  },
  {
   "cell_type": "markdown",
   "id": "fc2cd801-41ed-4521-b1b2-87d30fc93f20",
   "metadata": {
    "tags": []
   },
   "source": [
    "# Hipotez Testi\n",
    "\n",
    "Bir inanışı test etmek için kullanılan istatistiksel bir tekniktir\n",
    "<br><br>\n",
    "<d><i>H</i><sub>0</sub>: <i>μ</i> = <i>50</i></d><br>\n",
    "<d><i>H</i><sub>1</sub>: <i>μ</i> ≠ <i>50</i></d><br><br>\n",
    "<d><i>H</i><sub>0</sub>: <i>μ</i> <= <i>50</i></d><br>\n",
    "<d><i>H</i><sub>1</sub>: <i>μ</i> > <i>50</i></d><br><br>\n",
    "<d><i>H</i><sub>0</sub>: <i>μ</i> >= <i>50</i></d><br>\n",
    "<d><i>H</i><sub>1</sub>: <i>μ</i> < <i>50</i></d><br><br>\n",
    "**Hipotez Test Sonucu Verilen Kararda**\n",
    "<br>\n",
    "**<d><i>H</i><sub>0</sub></d>** **reddedilmedi** ve **doğru** ise: Doğru Karar (1 - ${\\displaystyle \\alpha}$) -> Güven Düzeyi\n",
    "<br>\n",
    "**<d><i>H</i><sub>0</sub></d>** **reddedildi** ve **doğru** ise: I.Tip Hata (${\\displaystyle \\alpha}$)\n",
    "<br>\n",
    "**<d><i>H</i><sub>0</sub></d>** **reddedilmedi** ve **yanlış** ise: II.Tip Hata (${\\displaystyle \\beta}$)\n",
    "<br>\n",
    "**<d><i>H</i><sub>0</sub></d>** **reddedildi** ve **yanlış** ise: Doğru Karar (1 - ${\\displaystyle \\beta}$) -> Testin Gücü"
   ]
  },
  {
   "cell_type": "markdown",
   "id": "87c96b68-d1d6-4d1c-89e7-1b39e98aecf7",
   "metadata": {
    "tags": []
   },
   "source": [
    "## p-value (p<0.05)\n",
    "\n",
    "Hipotez testlerinin sonuçlarını değerlendirmek üzere programlar tarafından p-value değeri verilir.<br>\n",
    "Bu değer üzerinden kolay yorum yapılabilir"
   ]
  },
  {
   "cell_type": "markdown",
   "id": "7e3d6195-e668-4809-857c-7183241ea010",
   "metadata": {},
   "source": [
    "Sepete ürün ekleme işlemi sonrasında ödeme ekranında 5 adım vardır ve bu adımların birisi sorgulanmaktadır"
   ]
  },
  {
   "cell_type": "markdown",
   "id": "15ba0fe3-597c-4ba1-ac2e-7ce8d9f102d4",
   "metadata": {
    "tags": []
   },
   "source": [
    "# İş Uygulaması: Ürün Satın Alma Optimizasyonu\n",
    "* Her adımın 20'şer saniye olması hedefi var. 4.Adım sorgulanıyor.\n",
    "* Bu durumu test etmek için 100 örnek alınıyor.\n",
    "* Örnek standart sapması 5 saniyedir. Örnek ortalaması ise 9 saniyedir."
   ]
  },
  {
   "cell_type": "markdown",
   "id": "fe6ab1ef-20dc-47ae-a207-5846c35376bf",
   "metadata": {},
   "source": [
    "## Hipotez Testi Adımları"
   ]
  },
  {
   "cell_type": "markdown",
   "id": "0096d8f3-4dfd-4d44-8323-a967e7e720ce",
   "metadata": {
    "tags": []
   },
   "source": [
    "**Adım 1:** Hipotezlerin kurulması ve yönerinin belirlenmesi\n",
    "<br>\n",
    "<d><i>H</i><sub>0</sub>: <i>μ</i> = <i>50</i></d>   \n",
    "<d><i>H</i><sub>1</sub>: <i>μ</i> ≠ <i>50</i></d>\n",
    "<br>\n",
    "**Adım 2:** Anlamlılık düzeyinin ve tablo değerinin belirlenmesi \n",
    "<br>\n",
    "**Adım 3:** Test istatistiğinin belirlenmesi ve test istatistiğinin hesaplanması\n",
    "<br>\n",
    "**Adım 4:** Ztablo ve Zhesap değerlerinin karşılaştırılması\n",
    "<br>\n",
    "**Adım 5:** Yorum"
   ]
  },
  {
   "cell_type": "markdown",
   "id": "9ecb82f0-7408-4f8c-8b06-b0ceba34d066",
   "metadata": {},
   "source": [
    "# Tek Örneklem T Testi\n",
    "\n",
    "Popülasyon ortalaması ile varsayımsal bir değer arasında istatistiksel olarak anlamlı bir farklılık olup olmadığını test etmek için kullanılan parametrik bir testtir.\n",
    "\n",
    "Örnek ortalamasına ilişkin test yapmak için kullanılır.\n",
    "\n",
    "\n",
    "**Hipotezler:**\n",
    "\n",
    "<d><i>H</i><sub>0</sub>: <i>μ</i> = <i>50</i></d>   \n",
    "<d><i>H</i><sub>1</sub>: <i>μ</i> ≠ <i>50</i></d><br><br>\n",
    "\n",
    "<d><i>H</i><sub>0</sub>: <i>μ</i> <= <i>50</i></d><br>\n",
    "<d><i>H</i><sub>1</sub>: <i>μ</i> > <i>50</i></d><br><br>\n",
    "\n",
    "<d><i>H</i><sub>0</sub>: <i>μ</i> >= <i>50</i></d><br>\n",
    "<d><i>H</i><sub>1</sub>: <i>μ</i> < <i>50</i></d><br><br>\n",
    "\n",
    "\n",
    "\n",
    "\n",
    "<table></table>\n",
    "\n",
    "**Test İstatistiği:**\n",
    "\n",
    "${\\displaystyle t={\\frac {{\\bar {x}}-\\mu _{0}}{\\frac {s}{\\sqrt {n}}}}}$\n",
    "\n",
    "${\\displaystyle z={\\frac {{\\bar {x}}-\\mu _{0}}{\\frac {\\sigma}{\\sqrt {n}}}}}$\n",
    "<br><br>\n",
    "* Anakütle standart sapması biliniyorsa z istatistiği kullanılır\n",
    "* Anakütle standart sapması bilinimyorsa ve n > 30 ise z istatistiği kullanılır\n",
    "* Anakütle standart sapması bilinmiyorsa ve n < 30 ise t istatistiği kullanılır"
   ]
  },
  {
   "cell_type": "markdown",
   "id": "a43c796f-483c-4978-bc46-fd74bca86696",
   "metadata": {
    "tags": []
   },
   "source": [
    "# İş Uygulaması: Ürün Satın Alma Optimizasyonu\n",
    "* Her adımın 20'şer saniye olması hedefi var. 4.Adım sorgulanıyor.\n",
    "* Bu durumu test etmek için 100 örnek alınıyor.\n",
    "* Örnek standart sapması 5 saniyedir. Örnek ortalaması ise 9 saniyedir."
   ]
  },
  {
   "cell_type": "markdown",
   "id": "e4221f2f-89e8-417f-8669-7785aee4afb6",
   "metadata": {},
   "source": [
    "## Hipotez Testi Adımları"
   ]
  },
  {
   "cell_type": "markdown",
   "id": "adffe7a0-c96b-4209-8b33-562edd99f24b",
   "metadata": {
    "tags": []
   },
   "source": [
    "**Adım 1:** Hipotezlerin kurulması ve yönerinin belirlenmesi\n",
    "\n",
    "<d><i>H</i><sub>0</sub>: <i>μ</i> = <i>20</i></d>   \n",
    "<d><i>H</i><sub>1</sub>: <i>μ</i> ≠ <i>20</i></d><br><br>\n",
    "<hr><br>\n",
    "\n",
    "**Adım 2:** Anlamlılık düzeyinin ve tablo değerinin belirlenmesi \n",
    "\n",
    "${\\displaystyle α = 0.05  }$\n",
    "\n",
    "Hipotez iki yönlü olduğu için çalışmanın başında kabul edilebilir ata miktarı ikiye bölünür\n",
    "\n",
    "${\\displaystyle {\\frac {α}{2}} = 0.025}$\n",
    "\n",
    "Ztablo olasılık değeri: 0.5 - 0.025 = 0.475\n",
    "\n",
    "Ztablo kritik değer = -/+ 1.96\n",
    "<hr><br>\n",
    "\n",
    "**Adım 3:** Test istatistiğinin belirlenmesi ve test istatistiğinin hesaplanması\n",
    "\n",
    "${\\displaystyle z={\\frac {{\\bar {x}}-\\mu}{\\frac {\\sigma(s)}{\\sqrt {n}}}}}$\n",
    "\n",
    "${\\displaystyle zhesap={\\frac {19-20}{{5/\\sqrt {100}}}} = -2.00}$\n",
    "\n",
    "n = 100, standart sapma = 5, örnek ortalaması 19 sn\n",
    "<hr><br>\n",
    "\n",
    "**Adım 4:** Ztablo ve Zhesap değerlerinin karşılaştırılması\n",
    "\n",
    "Zh > Zt ya da -Zh < -Zt ise H0 Red\n",
    "\n",
    "**Zhesap = -2.00** < **Ztablo = 1.96** olduğu için H0 reddedilir\n",
    "<hr><br>\n",
    "\n",
    "**Adım 5:** Yorum\n",
    "\n",
    "<d><i>H</i><sub>0</sub>: <i>μ</i> = <i>20</i></d>   \n",
    "<d><i>H</i><sub>1</sub>: <i>μ</i> ≠ <i>20</i></d><br><br>\n",
    "\n",
    "4.adımda geçirilen sürenin 20 saniye olduğunu iddia eden H0 hipotezi reddedilmiştir. \n",
    "\n",
    "Buna göre kullanıcılar isatistiksel olarak yüzde 95 güvenirlik ile 4.adımda 20 saniyeden farklı zaman geçirmektedir."
   ]
  },
  {
   "cell_type": "code",
   "execution_count": 37,
   "id": "b29cbf75-4d1d-40fb-a705-1c610e328789",
   "metadata": {
    "tags": []
   },
   "outputs": [
    {
     "data": {
      "text/plain": [
       "1.959963984540054"
      ]
     },
     "execution_count": 37,
     "metadata": {},
     "output_type": "execute_result"
    }
   ],
   "source": [
    "# Adım 4 python işlemi\n",
    "stats.norm.ppf(1 - 0.05/2)"
   ]
  },
  {
   "cell_type": "markdown",
   "id": "75e13a75-dae0-4bf5-8667-0ad9969d5c75",
   "metadata": {},
   "source": [
    "# İş Uygulaması: Web Sitesinde Geçirilen Sürenin Testi"
   ]
  },
  {
   "cell_type": "markdown",
   "id": "1ccd80b1-8aaf-475a-9b84-6f0dfaaa82a2",
   "metadata": {},
   "source": [
    "Bir Web Sitesinde Geçirilen Sürenin Ortalama 170 Saniye Olduğu İddia Edilmektedir\n",
    "* Yazılımlardan elde edilen web sitesinde geçirilen ortalama süreler var\n",
    "* Bu veriler incelendiğinde bir yönetici ya da çalışan bu değerlerin böyle olmadığına yönelik düşünceler taşıyor ve bu durumu test etmek istiyorlar\n",
    "<br>\n",
    "<d><i>H</i><sub>0</sub>: <i>μ</i> = <i>20</i></d>   \n",
    "<d><i>H</i><sub>1</sub>: <i>μ</i> ≠ <i>20</i></d><br><br>\n",
    "\n",
    "Ölçümler bir numpy dizisi içinde tutulsun"
   ]
  },
  {
   "cell_type": "code",
   "execution_count": 38,
   "id": "01dea741-0029-44f1-ae4f-0620b5605842",
   "metadata": {},
   "outputs": [],
   "source": [
    "olcumler = np.array([17, 160, 234, 149, 145, 107, 197, 75, 201, 225, 211, 119, \n",
    "              157, 145, 127, 244, 163, 114, 145,  65, 112, 185, 202, 146,\n",
    "              203, 224, 203, 114, 188, 156, 187, 154, 177, 95, 165, 50, 110, \n",
    "              216, 138, 151, 166, 135, 155, 84, 251, 173, 131, 207, 121, 120])"
   ]
  },
  {
   "cell_type": "code",
   "execution_count": 39,
   "id": "593b115c-09f6-4b34-9918-79431529a6c4",
   "metadata": {},
   "outputs": [
    {
     "data": {
      "text/plain": [
       "array([ 17, 160, 234, 149, 145, 107, 197,  75, 201, 225])"
      ]
     },
     "execution_count": 39,
     "metadata": {},
     "output_type": "execute_result"
    }
   ],
   "source": [
    "olcumler[0:10]"
   ]
  },
  {
   "cell_type": "code",
   "execution_count": 40,
   "id": "8b32cd03-510e-4fcb-bf6d-53f0f1776b7b",
   "metadata": {},
   "outputs": [
    {
     "data": {
      "text/plain": [
       "DescribeResult(nobs=50, minmax=(17, 251), mean=154.38, variance=2578.0363265306123, skewness=-0.32398897278694483, kurtosis=-0.05849823498415985)"
      ]
     },
     "execution_count": 40,
     "metadata": {},
     "output_type": "execute_result"
    }
   ],
   "source": [
    "stats.describe(olcumler)"
   ]
  },
  {
   "cell_type": "markdown",
   "id": "592b920b-d29b-4fcf-bc48-da862981a02c",
   "metadata": {},
   "source": [
    "# Varsayımlar"
   ]
  },
  {
   "cell_type": "markdown",
   "id": "d7c5eaa8-9ad2-46ed-9865-33644c468508",
   "metadata": {},
   "source": [
    "## Normallik Varsayımı"
   ]
  },
  {
   "cell_type": "code",
   "execution_count": 41,
   "id": "f187d3f8-6542-49e3-b730-cc23161ffe52",
   "metadata": {},
   "outputs": [
    {
     "data": {
      "image/png": "[encoded data removed]",
      "text/plain": [
       "<Figure size 432x288 with 1 Axes>"
      ]
     },
     "metadata": {
      "needs_background": "light"
     },
     "output_type": "display_data"
    }
   ],
   "source": [
    "# Histogram\n",
    "pd.DataFrame(olcumler).plot.hist();"
   ]
  },
  {
   "cell_type": "code",
   "execution_count": 42,
   "id": "4d60f011-3a8d-442f-a1a9-442e90682fc3",
   "metadata": {},
   "outputs": [
    {
     "data": {
      "image/png": "[encoded data removed]",
      "text/plain": [
       "<Figure size 432x288 with 1 Axes>"
      ]
     },
     "metadata": {
      "needs_background": "light"
     },
     "output_type": "display_data"
    }
   ],
   "source": [
    "## qqplot\n",
    "stats.probplot(olcumler,dist = \"norm\", plot=pylab)\n",
    "pylab.show()"
   ]
  },
  {
   "cell_type": "code",
   "execution_count": 43,
   "id": "84fc8f86-9128-4118-8e66-85f9d90db24f",
   "metadata": {},
   "outputs": [],
   "source": [
    "# Shapiro-Wilks Testi"
   ]
  },
  {
   "cell_type": "markdown",
   "id": "5634c44e-5c1e-4049-97e9-208fbd2f1fbc",
   "metadata": {},
   "source": [
    "H0: Örnek dağılımı ile teorik normal dağılım arasında istatistiksel olarak anlamlı bir farklılık **yoktur**\n",
    "\n",
    "H1: Örnek dağılımı ile teorik normal dağılım arasında istatistiksel olarak anlamlı bir farklılık **vardır**"
   ]
  },
  {
   "cell_type": "code",
   "execution_count": 44,
   "id": "39a9b15e-8d53-4b27-84f8-0fb6deae388b",
   "metadata": {},
   "outputs": [
    {
     "data": {
      "text/plain": [
       "ShapiroResult(statistic=0.9853105545043945, pvalue=0.7848747968673706)"
      ]
     },
     "execution_count": 44,
     "metadata": {},
     "output_type": "execute_result"
    }
   ],
   "source": [
    "shapiro(olcumler)"
   ]
  },
  {
   "cell_type": "code",
   "execution_count": 45,
   "id": "e8d52531-82f2-4787-8f74-7bac1250f5ef",
   "metadata": {},
   "outputs": [
    {
     "name": "stdout",
     "output_type": "stream",
     "text": [
      "T Hesap İstatistiği: 0.9853105545043945\n",
      "Hesaplanan P-value: 0.7848747968673706\n"
     ]
    }
   ],
   "source": [
    "print(\"T Hesap İstatistiği: \" + str(shapiro(olcumler)[0]))\n",
    "print(\"Hesaplanan P-value: \" + str(shapiro(olcumler)[1]))"
   ]
  },
  {
   "cell_type": "markdown",
   "id": "b5e4f60f-d1d2-4da4-b350-5ce587e22031",
   "metadata": {},
   "source": [
    "**pvalue = 0.7** > **pvalue = 0.05** olduğu için H0 **reddedilemez**"
   ]
  },
  {
   "cell_type": "markdown",
   "id": "67c01806-9ce7-429b-8ceb-607ebb4dceee",
   "metadata": {},
   "source": [
    "## Tek Örneklem T Testi Uygulaması"
   ]
  },
  {
   "cell_type": "code",
   "execution_count": 46,
   "id": "d41cdd82-6a14-4c2a-833a-5c0df357326e",
   "metadata": {},
   "outputs": [],
   "source": [
    "# Hipotez Testinin Uygulanması"
   ]
  },
  {
   "cell_type": "code",
   "execution_count": 47,
   "id": "47817dea-91bd-4731-bc27-2b319536ac92",
   "metadata": {},
   "outputs": [
    {
     "data": {
      "text/plain": [
       "Ttest_1sampResult(statistic=-2.1753117985877966, pvalue=0.034460415195071446)"
      ]
     },
     "execution_count": 47,
     "metadata": {},
     "output_type": "execute_result"
    }
   ],
   "source": [
    "stats.ttest_1samp(olcumler,popmean= 170)"
   ]
  },
  {
   "cell_type": "markdown",
   "id": "a5cc028d-1ae6-4fa6-a5c9-03ecb4628eda",
   "metadata": {},
   "source": [
    "H0: Web sitesinde geçirilen ortalama süre 170 saniyedir.\n",
    "\n",
    "H1: Web sitesinde geçirilen ortalama süre 170 saniye değildir."
   ]
  },
  {
   "cell_type": "markdown",
   "id": "243d2077-6255-4fa2-8914-61fce248c291",
   "metadata": {},
   "source": [
    "**pvalue = 0.03** < **pvalue = 0.05** olduğu için H0 reddedilir\n",
    "\n",
    "Sonuç: Web siteisnde geçirilen süre 170 saniye değildir. Daha azdır."
   ]
  },
  {
   "cell_type": "markdown",
   "id": "1ea57421-7588-4b6d-9f61-67aa6dcf1fd8",
   "metadata": {},
   "source": [
    "# Nonparametrik Tek Örneklem Testi\n",
    "Eldeki örnekte parametrik olduğu için ve normallik varsayımı sağlandığı için bu testi yapmaya gerek yoktur"
   ]
  },
  {
   "cell_type": "code",
   "execution_count": 48,
   "id": "5a9d6e6c-c49c-4fe9-8a2b-53418ef99760",
   "metadata": {},
   "outputs": [],
   "source": [
    "olcumler = np.array([17, 160, 234, 149, 145, 107, 197, 75, 201, 225, 211, 119, \n",
    "              157, 145, 127, 244, 163, 114, 145,  65, 112, 185, 202, 146,\n",
    "              203, 224, 203, 114, 188, 156, 187, 154, 177, 95, 165, 50, 110, \n",
    "              216, 138, 151, 166, 135, 155, 84, 251, 173, 131, 207, 121, 120])"
   ]
  },
  {
   "cell_type": "code",
   "execution_count": 49,
   "id": "3de6b538-5caa-45f0-8b81-999190c26486",
   "metadata": {},
   "outputs": [
    {
     "data": {
      "text/plain": [
       "(-7.0, 0.06490864707227217)"
      ]
     },
     "execution_count": 49,
     "metadata": {},
     "output_type": "execute_result"
    }
   ],
   "source": [
    "sign_test(olcumler,170)"
   ]
  },
  {
   "cell_type": "markdown",
   "id": "996b731c-5de2-4c72-8a53-2cb4c8e67663",
   "metadata": {},
   "source": [
    "# Tek Örneklem Oran Testi"
   ]
  },
  {
   "cell_type": "markdown",
   "id": "ee9aba0f-6f85-466a-a6a1-2187605a92d4",
   "metadata": {},
   "source": [
    "Oransal bir ifade test edilmek istenildiğinde kullanılır"
   ]
  },
  {
   "cell_type": "markdown",
   "id": "96b35816-a30d-4bb9-b21b-2ad51b4a07ce",
   "metadata": {},
   "source": [
    "**Hipotezler:**\n",
    "\n",
    "<d><i>H</i><sub>0</sub>: <i>p</i> = <i>P</i><sub>0</sub></d>   \n",
    "<d><i>H</i><sub>1</sub>: <i>p</i> ≠ <i>P</i><sub>0</sub></d><br><br>\n",
    "\n",
    "<d><i>H</i><sub>0</sub>: <i>P</i> <= <i>P</i><sub>0</sub></d><br>\n",
    "<d><i>H</i><sub>1</sub>: <i>P</i> > <i>P</i><sub>0</sub></d><br><br>\n",
    "\n",
    "<d><i>H</i><sub>0</sub>: <i>P</i> >= <i>P</i><sub>0</sub></d><br>\n",
    "<d><i>H</i><sub>1</sub>: <i>P</i> < <i>P</i><sub>0</sub></d><br><br>"
   ]
  },
  {
   "cell_type": "markdown",
   "id": "11abb22d-cc20-4249-bcaf-6e6c0cc6c28e",
   "metadata": {},
   "source": [
    "**Test İstatistiği**"
   ]
  },
  {
   "cell_type": "markdown",
   "id": "a7cc6ec7-e004-4d2b-b4cc-12f42d714ec6",
   "metadata": {},
   "source": [
    "${\\displaystyle t={\\frac {{\\hat {p}}-p _{0}}{\\sqrt {\\frac {p _{0} (1-p _{0})}{n}}}}}$"
   ]
  },
  {
   "cell_type": "markdown",
   "id": "ff0b9193-7ca4-4b84-b818-22d742109740",
   "metadata": {},
   "source": [
    "**Varsayım**\n",
    "\n",
    "${\\displaystyle n > 30}$"
   ]
  },
  {
   "cell_type": "markdown",
   "id": "0f6a79b4-4971-4b0a-a132-675d45b6a5db",
   "metadata": {},
   "source": [
    "# İş Uygulaması: Dönüşüm Oranı Testi"
   ]
  },
  {
   "cell_type": "markdown",
   "id": "e178e9e1-3975-43a7-a3ce-71b91734e228",
   "metadata": {},
   "source": [
    "Bir yazılım ve bir mecrada reklam verilmiş ve bu reklama ilişkin yazılım tarafından 0.125 dönüşüm oranı elde edildiği ifade edilmiş. \n",
    "\n",
    "Fakat bu durum kontrol edilmek isteiyor. \n",
    "\n",
    "Çünkü bu yüksek bir oran ve gelirler incelendiğinde örtüşmüyor.\n",
    "\n",
    "* 500 kişi dış mecrada alışveriş yapmış, 40 kişi sitemize gelip alışveriş yapmış.\n",
    "* Örnek üzerinden elde edilen dönüşüm oranı: 40/500 = 0.08"
   ]
  },
  {
   "cell_type": "markdown",
   "id": "e7deb8ab-dbdd-4d77-bcd4-7c3cc4ea7ef5",
   "metadata": {},
   "source": [
    "HO: p = 0.125 \n",
    "\n",
    "H1: p != 0.125"
   ]
  },
  {
   "cell_type": "code",
   "execution_count": 50,
   "id": "d05c0ad7-7127-4488-aba4-2321d50d67d0",
   "metadata": {},
   "outputs": [],
   "source": [
    "count = 40\n",
    "n_obs = 500\n",
    "value = 0.125"
   ]
  },
  {
   "cell_type": "code",
   "execution_count": 52,
   "id": "cd403a5b-c4af-4fd1-bd3d-558e5aae6b35",
   "metadata": {},
   "outputs": [
    {
     "data": {
      "text/plain": [
       "(-3.7090151628513017, 0.0002080669689845979)"
      ]
     },
     "execution_count": 52,
     "metadata": {},
     "output_type": "execute_result"
    }
   ],
   "source": [
    "propz(count, n_obs, value)"
   ]
  },
  {
   "cell_type": "markdown",
   "id": "73e625fa-e494-4817-8f49-267a515cc0e8",
   "metadata": {},
   "source": [
    "**pvalue = 0.0002** < **pvalue = 0.05** olduğu için H0 reddedilir"
   ]
  },
  {
   "cell_type": "markdown",
   "id": "5d13198e-1899-43db-aa57-2d85c69a02a4",
   "metadata": {},
   "source": [
    "# Bağımsız İki Örneklem T Testi (AB Testi)"
   ]
  },
  {
   "cell_type": "markdown",
   "id": "c84f1622-7355-4ccb-94b9-8034e0ae15a4",
   "metadata": {},
   "source": [
    "İki grup ortalaması arasında karşılaştırma yapılmak istenildiğinde kullanılır"
   ]
  },
  {
   "cell_type": "markdown",
   "id": "b37980bd-3683-4978-91a9-1962e498fb10",
   "metadata": {},
   "source": [
    "**Hipotezler:**\n",
    "\n",
    "<d><i>H</i><sub>0</sub>: <i>μ</i><sub>1</sub> = <i>μ</i><sub>2</sub></d><br>\n",
    "<d><i>H</i><sub>1</sub>: <i>μ</i><sub>1</sub> ≠ <i>μ</i><sub>2</sub></d><br><br>\n",
    "\n",
    "<d><i>H</i><sub>0</sub>: <i>μ</i><sub>1</sub> <= <i>μ</i><sub>2</sub></d><br>\n",
    "<d><i>H</i><sub>1</sub>: <i>μ</i><sub>1</sub> > <i>μ</i><sub>2</sub></d><br><br>\n",
    "\n",
    "<d><i>H</i><sub>0</sub>: <i>μ</i><sub>1</sub> >= <i>μ</i><sub>2</sub></d><br>\n",
    "<d><i>H</i><sub>1</sub>: <i>μ</i><sub>1</sub> < <i>μ</i><sub>2</sub></d><br><br>\n",
    "\n",
    "\n",
    "**Örnek sayıları aynı, varyanslar homojen ise**\n",
    "\n",
    "${\\displaystyle t={\\frac {{\\bar {x _{1}}} - {\\bar {x _{2}}}}{s _{p}{\\sqrt {\\frac {2}{n}}}}}  ,  s_{p} = {\\sqrt {\\frac {s^{2}x _{1} + s^{2}x _{2}}{2}}}}$\n",
    "\n",
    "\n",
    "**Örnek sayıları farklı, varyanslar homojen ise**\n",
    "\n",
    "${\\displaystyle t={\\frac {{\\bar {x _{1}}} - {\\bar {x _{2}}}}{s _{p}{\\sqrt {\\frac {1}{n _{1}}+{\\frac {1}{n _{2}}}}}}}  ,  s_{p} = {\\sqrt {\\frac {(n _{1}-1){s^{2}x _{1} + (n _{2}-1)s^{2}x _{2}}}{{n _{1} + n _{2} - 2}}}}}$\n",
    "\n",
    "\n",
    "**Örnek sayıları farklı, varyanslar homojen değil ise**\n",
    "\n",
    "${\\displaystyle t={\\frac {{\\bar {x _{1}}} - {\\bar {x _{2}}}}{{s _{\\bar {\\Delta}}}}} , {s _{\\bar {\\Delta}}} = {\\sqrt {\\frac {{s^{2} _{1}}}{{n _{1}}}+{\\frac {{s^{2} _{2}}}{{n _{2}}}}}}}$\n",
    "\n",
    "\n",
    "## Varsayımlar\n",
    "\n",
    "* Normallik\n",
    "* Varyans Homojenliği"
   ]
  },
  {
   "cell_type": "markdown",
   "id": "75022c7b-1472-4f9a-a508-45e208697b9c",
   "metadata": {},
   "source": [
    "# İş Uygulaması: ML Modelinin Başarı Testi (AB Testi)"
   ]
  },
  {
   "cell_type": "markdown",
   "id": "6cc6442d-2750-4579-a328-205d5c0476c9",
   "metadata": {},
   "source": [
    "Bir ML projesine yatırım yapılmış. <br>Ürettiği tahminler neticesinde oluşan gelir ile eski sistemin ürettiği gelirler karşılaştırılıp anlamlı farklılık olup olmadığı test edilmek isteniyor.\n",
    "* Model geliştirilmiş ve web sitesine entegre edilmiş.\n",
    "* Site kullanıcıları belirli bir kurala göre ikiye bölünmüş olsun.\n",
    "* A grubu eski, B grubu yeni sistem.\n",
    "* Gelir anlamında anlamlı iş yapılıp yapılmadığı test edilmek isteniyor."
   ]
  },
  {
   "cell_type": "markdown",
   "id": "d2e79c3e-0f94-4d64-b8bd-dc32cf534b57",
   "metadata": {},
   "source": [
    "**ML modeli anlamlı bir farklilik oluşturabildi mi?**\n",
    "\n",
    "<d><i>H</i><sub>0</sub>: <i>μ</i><sub>1</sub> = <i>μ</i><sub>2</sub></d><br>\n",
    "<d><i>H</i><sub>1</sub>: <i>μ</i><sub>1</sub> ≠ <i>μ</i><sub>2</sub></d><br><br>"
   ]
  },
  {
   "cell_type": "code",
   "execution_count": 53,
   "id": "f49a8115-85a6-4928-84f4-ed09b2e191ad",
   "metadata": {},
   "outputs": [],
   "source": [
    "# Veri Tipi 1"
   ]
  },
  {
   "cell_type": "code",
   "execution_count": 54,
   "id": "48dd318b-8225-4f9b-9292-0117d6cbc9b0",
   "metadata": {},
   "outputs": [
    {
     "data": {
      "text/html": [
       "<div>\n",
       "<style scoped>\n",
       "    .dataframe tbody tr th:only-of-type {\n",
       "        vertical-align: middle;\n",
       "    }\n",
       "\n",
       "    .dataframe tbody tr th {\n",
       "        vertical-align: top;\n",
       "    }\n",
       "\n",
       "    .dataframe thead th {\n",
       "        text-align: right;\n",
       "    }\n",
       "</style>\n",
       "<table border=\"1\" class=\"dataframe\">\n",
       "  <thead>\n",
       "    <tr style=\"text-align: right;\">\n",
       "      <th></th>\n",
       "      <th>A</th>\n",
       "      <th>B</th>\n",
       "    </tr>\n",
       "  </thead>\n",
       "  <tbody>\n",
       "    <tr>\n",
       "      <th>0</th>\n",
       "      <td>30</td>\n",
       "      <td>37</td>\n",
       "    </tr>\n",
       "    <tr>\n",
       "      <th>1</th>\n",
       "      <td>27</td>\n",
       "      <td>39</td>\n",
       "    </tr>\n",
       "    <tr>\n",
       "      <th>2</th>\n",
       "      <td>21</td>\n",
       "      <td>31</td>\n",
       "    </tr>\n",
       "    <tr>\n",
       "      <th>3</th>\n",
       "      <td>27</td>\n",
       "      <td>31</td>\n",
       "    </tr>\n",
       "    <tr>\n",
       "      <th>4</th>\n",
       "      <td>29</td>\n",
       "      <td>34</td>\n",
       "    </tr>\n",
       "  </tbody>\n",
       "</table>\n",
       "</div>"
      ],
      "text/plain": [
       "    A   B\n",
       "0  30  37\n",
       "1  27  39\n",
       "2  21  31\n",
       "3  27  31\n",
       "4  29  34"
      ]
     },
     "execution_count": 54,
     "metadata": {},
     "output_type": "execute_result"
    }
   ],
   "source": [
    "A = pd.DataFrame([30,27,21,27,29,30,20,20,27,32,35,22,24,23,25,27,23,27,23,\n",
    "        25,21,18,24,26,33,26,27,28,19,25])\n",
    "\n",
    "B = pd.DataFrame([37,39,31,31,34,38,30,36,29,28,38,28,37,37,30,32,31,31,27,\n",
    "        32,33,33,33,31,32,33,26,32,33,29])\n",
    "\n",
    "A_B = pd.concat([A,B],axis = 1)\n",
    "A_B.columns = [\"A\",\"B\"]\n",
    "\n",
    "A_B.head()"
   ]
  },
  {
   "cell_type": "code",
   "execution_count": 55,
   "id": "84f4c365-591d-4c4f-af32-1981f65acb55",
   "metadata": {},
   "outputs": [],
   "source": [
    "# Veri Tipi 2 (Veri DÜzenlemesi)"
   ]
  },
  {
   "cell_type": "code",
   "execution_count": 56,
   "id": "4cc145d6-0266-45a2-b1d5-13fc820558a8",
   "metadata": {},
   "outputs": [
    {
     "name": "stdout",
     "output_type": "stream",
     "text": [
      "   gelir GRUP\n",
      "0     30    A\n",
      "1     27    A\n",
      "2     21    A\n",
      "3     27    A\n",
      "4     29    A\n",
      "    gelir GRUP\n",
      "25     33    B\n",
      "26     26    B\n",
      "27     32    B\n",
      "28     33    B\n",
      "29     29    B\n"
     ]
    }
   ],
   "source": [
    "A = pd.DataFrame([30,27,21,27,29,30,20,20,27,32,35,22,24,23,25,27,23,27,23,\n",
    "        25,21,18,24,26,33,26,27,28,19,25])\n",
    "\n",
    "B = pd.DataFrame([37,39,31,31,34,38,30,36,29,28,38,28,37,37,30,32,31,31,27,\n",
    "        32,33,33,33,31,32,33,26,32,33,29])\n",
    "\n",
    "# A ve A'nın grubu\n",
    "GRUP_A = np.arange(len(A))\n",
    "GRUP_A = pd.DataFrame(GRUP_A)\n",
    "GRUP_A[:] = \"A\"\n",
    "A = pd.concat([A,GRUP_A],axis = 1)\n",
    "\n",
    "# B ve B'nin grubu\n",
    "GRUP_B = np.arange(len(B))\n",
    "GRUP_B = pd.DataFrame(GRUP_B)\n",
    "GRUP_B[:] = \"B\"\n",
    "B = pd.concat([B, GRUP_B], axis = 1)\n",
    "\n",
    "# Tüm veri\n",
    "AB = pd.concat([A,B])\n",
    "AB.columns = [\"gelir\",\"GRUP\"]\n",
    "print(AB.head())\n",
    "print(AB.tail())"
   ]
  },
  {
   "cell_type": "code",
   "execution_count": 57,
   "id": "1d0fb2f6-f9ae-49c2-9d90-a7501c53603b",
   "metadata": {},
   "outputs": [
    {
     "data": {
      "image/png": "[encoded data removed]",
      "text/plain": [
       "<Figure size 432x288 with 1 Axes>"
      ]
     },
     "metadata": {
      "needs_background": "light"
     },
     "output_type": "display_data"
    }
   ],
   "source": [
    "sns.boxplot(x = \"GRUP\", y = \"gelir\", data = AB);"
   ]
  },
  {
   "cell_type": "markdown",
   "id": "4c21b98d-9b56-4ce0-8a19-ff9b11cc377a",
   "metadata": {},
   "source": [
    "## Varsayım Kontrolü"
   ]
  },
  {
   "cell_type": "code",
   "execution_count": 58,
   "id": "bbe5f411-6bb2-4b93-b21c-4c29deac9489",
   "metadata": {},
   "outputs": [
    {
     "data": {
      "text/html": [
       "<div>\n",
       "<style scoped>\n",
       "    .dataframe tbody tr th:only-of-type {\n",
       "        vertical-align: middle;\n",
       "    }\n",
       "\n",
       "    .dataframe tbody tr th {\n",
       "        vertical-align: top;\n",
       "    }\n",
       "\n",
       "    .dataframe thead th {\n",
       "        text-align: right;\n",
       "    }\n",
       "</style>\n",
       "<table border=\"1\" class=\"dataframe\">\n",
       "  <thead>\n",
       "    <tr style=\"text-align: right;\">\n",
       "      <th></th>\n",
       "      <th>A</th>\n",
       "      <th>B</th>\n",
       "    </tr>\n",
       "  </thead>\n",
       "  <tbody>\n",
       "    <tr>\n",
       "      <th>0</th>\n",
       "      <td>30</td>\n",
       "      <td>37</td>\n",
       "    </tr>\n",
       "    <tr>\n",
       "      <th>1</th>\n",
       "      <td>27</td>\n",
       "      <td>39</td>\n",
       "    </tr>\n",
       "    <tr>\n",
       "      <th>2</th>\n",
       "      <td>21</td>\n",
       "      <td>31</td>\n",
       "    </tr>\n",
       "    <tr>\n",
       "      <th>3</th>\n",
       "      <td>27</td>\n",
       "      <td>31</td>\n",
       "    </tr>\n",
       "    <tr>\n",
       "      <th>4</th>\n",
       "      <td>29</td>\n",
       "      <td>34</td>\n",
       "    </tr>\n",
       "  </tbody>\n",
       "</table>\n",
       "</div>"
      ],
      "text/plain": [
       "    A   B\n",
       "0  30  37\n",
       "1  27  39\n",
       "2  21  31\n",
       "3  27  31\n",
       "4  29  34"
      ]
     },
     "execution_count": 58,
     "metadata": {},
     "output_type": "execute_result"
    }
   ],
   "source": [
    "A_B.head()"
   ]
  },
  {
   "cell_type": "code",
   "execution_count": 59,
   "id": "9c72f350-6902-4391-9ebb-4daec6a0a71f",
   "metadata": {},
   "outputs": [
    {
     "data": {
      "text/html": [
       "<div>\n",
       "<style scoped>\n",
       "    .dataframe tbody tr th:only-of-type {\n",
       "        vertical-align: middle;\n",
       "    }\n",
       "\n",
       "    .dataframe tbody tr th {\n",
       "        vertical-align: top;\n",
       "    }\n",
       "\n",
       "    .dataframe thead th {\n",
       "        text-align: right;\n",
       "    }\n",
       "</style>\n",
       "<table border=\"1\" class=\"dataframe\">\n",
       "  <thead>\n",
       "    <tr style=\"text-align: right;\">\n",
       "      <th></th>\n",
       "      <th>gelir</th>\n",
       "      <th>GRUP</th>\n",
       "    </tr>\n",
       "  </thead>\n",
       "  <tbody>\n",
       "    <tr>\n",
       "      <th>0</th>\n",
       "      <td>30</td>\n",
       "      <td>A</td>\n",
       "    </tr>\n",
       "    <tr>\n",
       "      <th>1</th>\n",
       "      <td>27</td>\n",
       "      <td>A</td>\n",
       "    </tr>\n",
       "    <tr>\n",
       "      <th>2</th>\n",
       "      <td>21</td>\n",
       "      <td>A</td>\n",
       "    </tr>\n",
       "    <tr>\n",
       "      <th>3</th>\n",
       "      <td>27</td>\n",
       "      <td>A</td>\n",
       "    </tr>\n",
       "    <tr>\n",
       "      <th>4</th>\n",
       "      <td>29</td>\n",
       "      <td>A</td>\n",
       "    </tr>\n",
       "  </tbody>\n",
       "</table>\n",
       "</div>"
      ],
      "text/plain": [
       "   gelir GRUP\n",
       "0     30    A\n",
       "1     27    A\n",
       "2     21    A\n",
       "3     27    A\n",
       "4     29    A"
      ]
     },
     "execution_count": 59,
     "metadata": {},
     "output_type": "execute_result"
    }
   ],
   "source": [
    "AB.head()"
   ]
  },
  {
   "cell_type": "code",
   "execution_count": 60,
   "id": "50b3cc30-345a-413b-b0ff-01ce8a54c1f0",
   "metadata": {},
   "outputs": [],
   "source": [
    "# Normallik Varsayımı"
   ]
  },
  {
   "cell_type": "code",
   "execution_count": 61,
   "id": "3378a7b7-d335-43f4-8f77-ef8e29059b18",
   "metadata": {},
   "outputs": [
    {
     "data": {
      "text/plain": [
       "ShapiroResult(statistic=0.9789242148399353, pvalue=0.7962799668312073)"
      ]
     },
     "execution_count": 61,
     "metadata": {},
     "output_type": "execute_result"
    }
   ],
   "source": [
    "shapiro(A_B.A)"
   ]
  },
  {
   "cell_type": "code",
   "execution_count": 62,
   "id": "62d44564-2b05-4691-a522-13037b1806ae",
   "metadata": {},
   "outputs": [
    {
     "data": {
      "text/plain": [
       "ShapiroResult(statistic=0.9561261534690857, pvalue=0.2458445429801941)"
      ]
     },
     "execution_count": 62,
     "metadata": {},
     "output_type": "execute_result"
    }
   ],
   "source": [
    "shapiro(A_B.B)"
   ]
  },
  {
   "cell_type": "markdown",
   "id": "02feda6c-ec9d-432a-a914-078f8bfe283f",
   "metadata": {},
   "source": [
    "**İki şekilde de p-değerleri 0.05 den büyük olduğu için normallik varsayımı sağlanmaktadır**"
   ]
  },
  {
   "cell_type": "markdown",
   "id": "65749e07-34e6-42be-92dc-aa3db7963bba",
   "metadata": {},
   "source": [
    "### Varyans Homojenliği"
   ]
  },
  {
   "cell_type": "markdown",
   "id": "01c84121-75b1-401a-8c45-8d1fbb155e8d",
   "metadata": {},
   "source": [
    "H0: Varyanslar Homojendir<br>\n",
    "H1: Varyanslar Homojen Değildir"
   ]
  },
  {
   "cell_type": "code",
   "execution_count": 63,
   "id": "5057adad-30a2-4b4e-8696-ad82e7125332",
   "metadata": {},
   "outputs": [
    {
     "data": {
      "text/plain": [
       "LeveneResult(statistic=1.1101802757158004, pvalue=0.2964124900636569)"
      ]
     },
     "execution_count": 63,
     "metadata": {},
     "output_type": "execute_result"
    }
   ],
   "source": [
    "stats.levene(A_B.A, A_B.B)"
   ]
  },
  {
   "cell_type": "markdown",
   "id": "088c079c-65a2-413c-ba0a-bf96c6227386",
   "metadata": {},
   "source": [
    "**p-değeri 0.05 den büyük olduğu için H0 reddedilemez**"
   ]
  },
  {
   "cell_type": "markdown",
   "id": "3d222a84-a72e-46b1-b562-7ca996b276d0",
   "metadata": {},
   "source": [
    "## Hipotez Testi"
   ]
  },
  {
   "cell_type": "code",
   "execution_count": 64,
   "id": "283c779c-1e24-4e53-9b95-5319cc89c4a0",
   "metadata": {},
   "outputs": [
    {
     "data": {
      "text/plain": [
       "Ttest_indResult(statistic=-7.028690967745927, pvalue=2.6233215605475075e-09)"
      ]
     },
     "execution_count": 64,
     "metadata": {},
     "output_type": "execute_result"
    }
   ],
   "source": [
    "stats.ttest_ind(A_B[\"A\"], A_B[\"B\"], equal_var = True)"
   ]
  },
  {
   "cell_type": "code",
   "execution_count": 65,
   "id": "d01800fb-7ef9-44cc-8618-b81cac995728",
   "metadata": {},
   "outputs": [
    {
     "name": "stdout",
     "output_type": "stream",
     "text": [
      "Test İstatistiği = -7.0287, p-değeri = 0.0\n"
     ]
    }
   ],
   "source": [
    "test_istatistigi, pvalue = stats.ttest_ind(A_B[\"A\"], A_B[\"B\"], equal_var=True)\n",
    "print(f\"Test İstatistiği = {round(test_istatistigi,4)}, p-değeri = {round(pvalue,4)}\")"
   ]
  },
  {
   "cell_type": "markdown",
   "id": "b64d2786-8f65-4624-b716-7a6127f63e0f",
   "metadata": {},
   "source": [
    "**İstatistiksel olarak anlamlı bir fark vardır ve bu yeni sistemin lehinedir**"
   ]
  },
  {
   "cell_type": "markdown",
   "id": "6a531fda-5906-4c20-ad9a-d6676240f698",
   "metadata": {},
   "source": [
    "## Nonparametrik Bağımsız İki Örneklem Testi"
   ]
  },
  {
   "cell_type": "code",
   "execution_count": 66,
   "id": "55416cad-6712-401d-afa2-960cac3ce649",
   "metadata": {},
   "outputs": [
    {
     "data": {
      "text/plain": [
       "MannwhitneyuResult(statistic=89.5, pvalue=9.557950378612535e-08)"
      ]
     },
     "execution_count": 66,
     "metadata": {},
     "output_type": "execute_result"
    }
   ],
   "source": [
    "stats.mannwhitneyu(A_B[\"A\"], A_B[\"B\"])"
   ]
  },
  {
   "cell_type": "code",
   "execution_count": 67,
   "id": "7919bc88-67f7-4450-804d-5b56fcf2ab95",
   "metadata": {},
   "outputs": [
    {
     "name": "stdout",
     "output_type": "stream",
     "text": [
      "Test İstatistiği = 89.5, p-değeri = 0.0\n"
     ]
    }
   ],
   "source": [
    "test_istatistigi2, pvalue = stats.mannwhitneyu(A_B[\"A\"], A_B[\"B\"])\n",
    "print(f\"Test İstatistiği = {round(test_istatistigi2,4)}, p-değeri = {round(pvalue,4)}\")"
   ]
  },
  {
   "cell_type": "markdown",
   "id": "2679d407-c228-4214-b326-c014ede468b3",
   "metadata": {},
   "source": [
    "# Bağımlı İki Örneklem T Testi"
   ]
  },
  {
   "cell_type": "markdown",
   "id": "0c73c3f2-07ab-43d2-95ae-e203fc5a3ffe",
   "metadata": {},
   "source": [
    "Bağımlı iki grup ortalaması arasında karşılaştırma yapılmak istenildiğinde kullanılır."
   ]
  },
  {
   "cell_type": "markdown",
   "id": "ceb22f38-aa01-4c20-b3e8-30b59d847095",
   "metadata": {
    "tags": []
   },
   "source": [
    "## Hipotezler\n",
    "\n",
    "<d><i>H</i><sub>0</sub>: <i>μ</i><sub>ö</sub> = <i>μ</i><sub>s</sub></d><br>\n",
    "<d><i>H</i><sub>1</sub>: <i>μ</i><sub>ö</sub> ≠ <i>μ</i><sub>s</sub></d><br><br>\n",
    "\n",
    "<d><i>H</i><sub>0</sub>: <i>μ</i><sub>ö</sub> <= <i>μ</i><sub>s</sub></d><br>\n",
    "<d><i>H</i><sub>1</sub>: <i>μ</i><sub>ö</sub> > <i>μ</i><sub>s</sub></d><br><br>\n",
    "\n",
    "<d><i>H</i><sub>0</sub>: <i>μ</i><sub>ö</sub> >= <i>μ</i><sub>s</sub></d><br>\n",
    "<d><i>H</i><sub>1</sub>: <i>μ</i><sub>ö</sub> < <i>μ</i><sub>s</sub></d><br><br>\n",
    "\n",
    "## Test İstatistiği\n",
    "\n",
    "${\\displaystyle t={\\frac {{\\bar {x _{D}}} - {\\mu _{0}}}{ {\\frac {s _{D}}{{\\sqrt n}}}}}}$\n",
    "\n",
    "## Varsayımlar\n",
    "\n",
    "* Normallik\n",
    "* Varyans Homojenliği"
   ]
  },
  {
   "cell_type": "markdown",
   "id": "d056c680-9fcc-4461-a8d9-ff190674b37e",
   "metadata": {},
   "source": [
    "# İş Uygulaması: Şirket İçi Eğitimin Performans Etkisi Ölçümü"
   ]
  },
  {
   "cell_type": "markdown",
   "id": "02e406a5-fcc7-4a99-ae80-649d5f5bbcce",
   "metadata": {},
   "source": [
    "Belirli uğraşlar sonucunda alınan bir eğitimin katma değer sağlayıp sağlamadığı olçülmek isteniyor\n",
    "\n",
    "* Bir departman bir konuda eğitim talep ediyor\n",
    "* Gerekli/gereksiz değerlendirmeleri neticesinde eğitim alınıyor\n",
    "* Eğitimden önce ve sonra olacak şekilde gerekli ölçümler yapılıyor\n",
    "* Eğitim sonrasında eğitimin sağladığı katma değer test edilmek isteniyor"
   ]
  },
  {
   "cell_type": "markdown",
   "id": "3c4d99fc-0a0b-4973-a2e5-95b735338f5a",
   "metadata": {},
   "source": [
    "<d><i>H</i><sub>0</sub>: <i>μ</i><sub>ö</sub> = <i>μ</i><sub>s</sub></d><br>\n",
    "<d><i>H</i><sub>1</sub>: <i>μ</i><sub>ö</sub> ≠ <i>μ</i><sub>s</sub></d><br><br>\n",
    "H0: Eğitim alınmadan önce ve eğitim alındıktan sonra bir etki **gözlenmemiştir**<br>\n",
    "H1: Eğitim alınmadan önce ve eğitim alındıktan sonra bir etki gözlenmiştir"
   ]
  },
  {
   "cell_type": "code",
   "execution_count": 68,
   "id": "f40b52ed-3281-4592-8353-397c72f8d1b6",
   "metadata": {},
   "outputs": [],
   "source": [
    "oncesi = pd.DataFrame([123,119,119,116,123,123,121,120,117,118,121,121,123,119,\n",
    "            121,118,124,121,125,115,115,119,118,121,117,117,120,120,\n",
    "            121,117,118,117,123,118,124,121,115,118,125,115])\n",
    "\n",
    "sonrasi = pd.DataFrame([118,127,122,132,129,123,129,132,128,130,128,138,140,130,\n",
    "             134,134,124,140,134,129,129,138,134,124,122,126,133,127,\n",
    "             130,130,130,132,117,130,125,129,133,120,127,123])"
   ]
  },
  {
   "cell_type": "code",
   "execution_count": 69,
   "id": "a8bc9563-65a7-4de2-998a-1cdcb83e0787",
   "metadata": {},
   "outputs": [
    {
     "data": {
      "text/html": [
       "<div>\n",
       "<style scoped>\n",
       "    .dataframe tbody tr th:only-of-type {\n",
       "        vertical-align: middle;\n",
       "    }\n",
       "\n",
       "    .dataframe tbody tr th {\n",
       "        vertical-align: top;\n",
       "    }\n",
       "\n",
       "    .dataframe thead th {\n",
       "        text-align: right;\n",
       "    }\n",
       "</style>\n",
       "<table border=\"1\" class=\"dataframe\">\n",
       "  <thead>\n",
       "    <tr style=\"text-align: right;\">\n",
       "      <th></th>\n",
       "      <th>0</th>\n",
       "    </tr>\n",
       "  </thead>\n",
       "  <tbody>\n",
       "    <tr>\n",
       "      <th>0</th>\n",
       "      <td>123</td>\n",
       "    </tr>\n",
       "    <tr>\n",
       "      <th>1</th>\n",
       "      <td>119</td>\n",
       "    </tr>\n",
       "    <tr>\n",
       "      <th>2</th>\n",
       "      <td>119</td>\n",
       "    </tr>\n",
       "    <tr>\n",
       "      <th>3</th>\n",
       "      <td>116</td>\n",
       "    </tr>\n",
       "    <tr>\n",
       "      <th>4</th>\n",
       "      <td>123</td>\n",
       "    </tr>\n",
       "  </tbody>\n",
       "</table>\n",
       "</div>"
      ],
      "text/plain": [
       "     0\n",
       "0  123\n",
       "1  119\n",
       "2  119\n",
       "3  116\n",
       "4  123"
      ]
     },
     "execution_count": 69,
     "metadata": {},
     "output_type": "execute_result"
    }
   ],
   "source": [
    "oncesi[0:5]"
   ]
  },
  {
   "cell_type": "code",
   "execution_count": 70,
   "id": "e2853734-2348-4209-b32b-ba8f9b37c199",
   "metadata": {},
   "outputs": [
    {
     "data": {
      "text/html": [
       "<div>\n",
       "<style scoped>\n",
       "    .dataframe tbody tr th:only-of-type {\n",
       "        vertical-align: middle;\n",
       "    }\n",
       "\n",
       "    .dataframe tbody tr th {\n",
       "        vertical-align: top;\n",
       "    }\n",
       "\n",
       "    .dataframe thead th {\n",
       "        text-align: right;\n",
       "    }\n",
       "</style>\n",
       "<table border=\"1\" class=\"dataframe\">\n",
       "  <thead>\n",
       "    <tr style=\"text-align: right;\">\n",
       "      <th></th>\n",
       "      <th>0</th>\n",
       "    </tr>\n",
       "  </thead>\n",
       "  <tbody>\n",
       "    <tr>\n",
       "      <th>0</th>\n",
       "      <td>118</td>\n",
       "    </tr>\n",
       "    <tr>\n",
       "      <th>1</th>\n",
       "      <td>127</td>\n",
       "    </tr>\n",
       "    <tr>\n",
       "      <th>2</th>\n",
       "      <td>122</td>\n",
       "    </tr>\n",
       "    <tr>\n",
       "      <th>3</th>\n",
       "      <td>132</td>\n",
       "    </tr>\n",
       "    <tr>\n",
       "      <th>4</th>\n",
       "      <td>129</td>\n",
       "    </tr>\n",
       "  </tbody>\n",
       "</table>\n",
       "</div>"
      ],
      "text/plain": [
       "     0\n",
       "0  118\n",
       "1  127\n",
       "2  122\n",
       "3  132\n",
       "4  129"
      ]
     },
     "execution_count": 70,
     "metadata": {},
     "output_type": "execute_result"
    }
   ],
   "source": [
    "sonrasi[0:5]"
   ]
  },
  {
   "cell_type": "code",
   "execution_count": 71,
   "id": "399da128-e43f-4ad1-a229-033680ce108a",
   "metadata": {},
   "outputs": [],
   "source": [
    "# Veri Seti 1"
   ]
  },
  {
   "cell_type": "code",
   "execution_count": 72,
   "id": "386e4f27-03de-4e4c-a2dd-ec1cc70ef033",
   "metadata": {},
   "outputs": [
    {
     "name": "stdout",
     "output_type": "stream",
     "text": [
      "'AYRIK' Veri Seti: \n",
      "\n",
      "    ONCESI  SONRASI\n",
      "0     123      118\n",
      "1     119      127\n",
      "2     119      122\n",
      "3     116      132\n",
      "4     123      129\n",
      "\n",
      "\n"
     ]
    }
   ],
   "source": [
    "ayrik = pd.concat([oncesi,sonrasi],axis = 1)\n",
    "ayrik.columns = [\"ONCESI\",\"SONRASI\"]\n",
    "print(f\"'AYRIK' Veri Seti: \\n\\n {ayrik.head()}\\n\\n\")"
   ]
  },
  {
   "cell_type": "code",
   "execution_count": 73,
   "id": "0e226a0a-0c06-4883-920d-499d2fbd525e",
   "metadata": {},
   "outputs": [],
   "source": [
    "# Veri Seti 2"
   ]
  },
  {
   "cell_type": "code",
   "execution_count": 74,
   "id": "20e4e5a6-1b27-46c4-82c3-c8fa88e2e8aa",
   "metadata": {},
   "outputs": [],
   "source": [
    "# Öncesi Flag/Tag Oluşturma"
   ]
  },
  {
   "cell_type": "code",
   "execution_count": 75,
   "id": "3e33a604-6cf7-4fd6-b140-4239890c388d",
   "metadata": {},
   "outputs": [],
   "source": [
    "grup_oncesi = np.arange(len(oncesi))\n",
    "grup_oncesi = pd.DataFrame(grup_oncesi)\n",
    "grup_oncesi[:] = \"ONCESI\""
   ]
  },
  {
   "cell_type": "code",
   "execution_count": 76,
   "id": "19cf1fa5-689e-408d-9d2d-4fa842083b11",
   "metadata": {},
   "outputs": [],
   "source": [
    "# Flag ve ONCESI Değerlerini Bir Araya Getirme"
   ]
  },
  {
   "cell_type": "code",
   "execution_count": 77,
   "id": "d591c7c4-badf-46c0-9b01-e5a8805a3c13",
   "metadata": {},
   "outputs": [],
   "source": [
    "A = pd.concat([oncesi,grup_oncesi], axis = 1)"
   ]
  },
  {
   "cell_type": "code",
   "execution_count": 78,
   "id": "f4702259-9799-4916-8c56-f819c9f5aa91",
   "metadata": {},
   "outputs": [],
   "source": [
    "# Sonrası Flas/Tag Oluşturma"
   ]
  },
  {
   "cell_type": "code",
   "execution_count": 79,
   "id": "6ab6ecbf-943b-4524-8b04-3ad4a6ec488a",
   "metadata": {},
   "outputs": [],
   "source": [
    "grup_sonrasi = np.arange(len(sonrasi))\n",
    "grup_sonrasi = pd.DataFrame(grup_sonrasi)\n",
    "grup_sonrasi[:] = \"SONRASI\""
   ]
  },
  {
   "cell_type": "code",
   "execution_count": 80,
   "id": "c6e10512-3f37-4561-8f79-26bb8affc18b",
   "metadata": {},
   "outputs": [],
   "source": [
    "# Flag ve SONRASI Değerlerini Bir Araya Getirme"
   ]
  },
  {
   "cell_type": "code",
   "execution_count": 81,
   "id": "a59cab06-9eae-4249-8987-eeabb738a5eb",
   "metadata": {},
   "outputs": [],
   "source": [
    "B = pd.concat([sonrasi,grup_sonrasi], axis = 1)"
   ]
  },
  {
   "cell_type": "code",
   "execution_count": 82,
   "id": "2cddf03a-925a-4a27-bbd8-39f3219e62f1",
   "metadata": {},
   "outputs": [],
   "source": [
    "# Tüm Veriyi Bir Araya Getirme"
   ]
  },
  {
   "cell_type": "code",
   "execution_count": 83,
   "id": "26542741-6a2c-4576-87b7-2b88b25aed72",
   "metadata": {},
   "outputs": [
    {
     "data": {
      "text/html": [
       "<div>\n",
       "<style scoped>\n",
       "    .dataframe tbody tr th:only-of-type {\n",
       "        vertical-align: middle;\n",
       "    }\n",
       "\n",
       "    .dataframe tbody tr th {\n",
       "        vertical-align: top;\n",
       "    }\n",
       "\n",
       "    .dataframe thead th {\n",
       "        text-align: right;\n",
       "    }\n",
       "</style>\n",
       "<table border=\"1\" class=\"dataframe\">\n",
       "  <thead>\n",
       "    <tr style=\"text-align: right;\">\n",
       "      <th></th>\n",
       "      <th>0</th>\n",
       "      <th>0</th>\n",
       "    </tr>\n",
       "  </thead>\n",
       "  <tbody>\n",
       "    <tr>\n",
       "      <th>0</th>\n",
       "      <td>123</td>\n",
       "      <td>ONCESI</td>\n",
       "    </tr>\n",
       "    <tr>\n",
       "      <th>1</th>\n",
       "      <td>119</td>\n",
       "      <td>ONCESI</td>\n",
       "    </tr>\n",
       "    <tr>\n",
       "      <th>2</th>\n",
       "      <td>119</td>\n",
       "      <td>ONCESI</td>\n",
       "    </tr>\n",
       "    <tr>\n",
       "      <th>3</th>\n",
       "      <td>116</td>\n",
       "      <td>ONCESI</td>\n",
       "    </tr>\n",
       "    <tr>\n",
       "      <th>4</th>\n",
       "      <td>123</td>\n",
       "      <td>ONCESI</td>\n",
       "    </tr>\n",
       "    <tr>\n",
       "      <th>...</th>\n",
       "      <td>...</td>\n",
       "      <td>...</td>\n",
       "    </tr>\n",
       "    <tr>\n",
       "      <th>35</th>\n",
       "      <td>129</td>\n",
       "      <td>SONRASI</td>\n",
       "    </tr>\n",
       "    <tr>\n",
       "      <th>36</th>\n",
       "      <td>133</td>\n",
       "      <td>SONRASI</td>\n",
       "    </tr>\n",
       "    <tr>\n",
       "      <th>37</th>\n",
       "      <td>120</td>\n",
       "      <td>SONRASI</td>\n",
       "    </tr>\n",
       "    <tr>\n",
       "      <th>38</th>\n",
       "      <td>127</td>\n",
       "      <td>SONRASI</td>\n",
       "    </tr>\n",
       "    <tr>\n",
       "      <th>39</th>\n",
       "      <td>123</td>\n",
       "      <td>SONRASI</td>\n",
       "    </tr>\n",
       "  </tbody>\n",
       "</table>\n",
       "<p>80 rows × 2 columns</p>\n",
       "</div>"
      ],
      "text/plain": [
       "      0        0\n",
       "0   123   ONCESI\n",
       "1   119   ONCESI\n",
       "2   119   ONCESI\n",
       "3   116   ONCESI\n",
       "4   123   ONCESI\n",
       "..  ...      ...\n",
       "35  129  SONRASI\n",
       "36  133  SONRASI\n",
       "37  120  SONRASI\n",
       "38  127  SONRASI\n",
       "39  123  SONRASI\n",
       "\n",
       "[80 rows x 2 columns]"
      ]
     },
     "execution_count": 83,
     "metadata": {},
     "output_type": "execute_result"
    }
   ],
   "source": [
    "birlikte = pd.concat([A,B])\n",
    "birlikte"
   ]
  },
  {
   "cell_type": "code",
   "execution_count": 84,
   "id": "96ea01cf-9593-4f5e-82d2-c37fec65d5a3",
   "metadata": {},
   "outputs": [],
   "source": [
    "# İsimlendirme"
   ]
  },
  {
   "cell_type": "code",
   "execution_count": 85,
   "id": "b8db4100-342b-4dee-806d-11d8e8af9019",
   "metadata": {},
   "outputs": [
    {
     "name": "stdout",
     "output_type": "stream",
     "text": [
      "'BIRLIKTE' Veri Seti: \n",
      "\n",
      "   PERFORMANS ONCESI_SONRASI\n",
      "0         123         ONCESI\n",
      "1         119         ONCESI\n",
      "2         119         ONCESI\n",
      "3         116         ONCESI\n",
      "4         123         ONCESI\n",
      "\n"
     ]
    }
   ],
   "source": [
    "birlikte.columns = [\"PERFORMANS\",\"ONCESI_SONRASI\"]\n",
    "print(f\"'BIRLIKTE' Veri Seti: \\n\\n{birlikte.head()}\\n\")"
   ]
  },
  {
   "cell_type": "code",
   "execution_count": 86,
   "id": "16d99f4a-989e-405a-9a78-c8a4f73fa17b",
   "metadata": {},
   "outputs": [
    {
     "data": {
      "image/png": "[encoded data removed]",
      "text/plain": [
       "<Figure size 432x288 with 1 Axes>"
      ]
     },
     "metadata": {
      "needs_background": "light"
     },
     "output_type": "display_data"
    }
   ],
   "source": [
    "sns.boxplot(x = \"ONCESI_SONRASI\", y = \"PERFORMANS\", data = birlikte);"
   ]
  },
  {
   "cell_type": "markdown",
   "id": "a34b0f66-ccfb-4b34-99af-524a54c8734b",
   "metadata": {},
   "source": [
    "## Varsayım Kontrolleri"
   ]
  },
  {
   "cell_type": "code",
   "execution_count": 87,
   "id": "a1f59f60-b465-4a73-962f-7eb334135f4e",
   "metadata": {},
   "outputs": [
    {
     "data": {
      "text/plain": [
       "ShapiroResult(statistic=0.9543654918670654, pvalue=0.10722342133522034)"
      ]
     },
     "execution_count": 87,
     "metadata": {},
     "output_type": "execute_result"
    }
   ],
   "source": [
    "shapiro(ayrik.ONCESI)"
   ]
  },
  {
   "cell_type": "markdown",
   "id": "62561da8-1e34-4cb3-b6ff-9f2862b8ac0c",
   "metadata": {},
   "source": [
    "**p-değeri 0.05 den büyük olduğu için H0 reddedilemez. Dağılım Normaldir**"
   ]
  },
  {
   "cell_type": "code",
   "execution_count": 88,
   "id": "c3105e82-a068-42aa-835f-700f277f6476",
   "metadata": {},
   "outputs": [
    {
     "data": {
      "text/plain": [
       "ShapiroResult(statistic=0.9780087471008301, pvalue=0.6159457564353943)"
      ]
     },
     "execution_count": 88,
     "metadata": {},
     "output_type": "execute_result"
    }
   ],
   "source": [
    "shapiro(ayrik.SONRASI)"
   ]
  },
  {
   "cell_type": "markdown",
   "id": "c8d8c356-3f45-4293-8fec-6f37b97fd396",
   "metadata": {},
   "source": [
    "**p-değeri 0.05 den büyük olduğu için H0 reddedilemez. Dağılım Normaldir**"
   ]
  },
  {
   "cell_type": "markdown",
   "id": "b9d4f7d4-7f02-4532-89db-c97c08fce5ab",
   "metadata": {},
   "source": [
    "### Varyans Homojenliği"
   ]
  },
  {
   "cell_type": "code",
   "execution_count": 89,
   "id": "4ee96061-21dc-4430-9f23-a5343697668b",
   "metadata": {},
   "outputs": [
    {
     "data": {
      "text/plain": [
       "LeveneResult(statistic=8.31303288672351, pvalue=0.0050844511807370246)"
      ]
     },
     "execution_count": 89,
     "metadata": {},
     "output_type": "execute_result"
    }
   ],
   "source": [
    "stats.levene(ayrik.ONCESI, ayrik.SONRASI)"
   ]
  },
  {
   "cell_type": "markdown",
   "id": "1cb6ea14-73ea-4e2c-bd81-68c5d7c791c6",
   "metadata": {},
   "source": [
    "**p-değeri 0.05 den küçük olduğu için H0 reddedilir. Varyans Homojenliği sağlanmamaktadır**\n",
    "<br>\n",
    "Ne yapılması Gerekir?\n",
    "\n",
    "* Aykırı veriler düzenlenebilir\n",
    "* Tolerans gösterilebilir"
   ]
  },
  {
   "cell_type": "markdown",
   "id": "eaad35c2-f2f9-4f89-a001-1149484d4cfe",
   "metadata": {},
   "source": [
    "## Hipotez Testi"
   ]
  },
  {
   "cell_type": "code",
   "execution_count": 90,
   "id": "bffd5458-c7a5-4373-af10-bf5704c04a0d",
   "metadata": {},
   "outputs": [
    {
     "data": {
      "text/plain": [
       "Ttest_relResult(statistic=-9.281533480429937, pvalue=2.0235251764440722e-11)"
      ]
     },
     "execution_count": 90,
     "metadata": {},
     "output_type": "execute_result"
    }
   ],
   "source": [
    "stats.ttest_rel(ayrik.ONCESI, ayrik.SONRASI)"
   ]
  },
  {
   "cell_type": "code",
   "execution_count": 91,
   "id": "d8b0e450-9a62-414f-8061-c985a80ada39",
   "metadata": {},
   "outputs": [
    {
     "name": "stdout",
     "output_type": "stream",
     "text": [
      "Test İstatistiği = -9.2815, p-değeri = 0.0\n"
     ]
    }
   ],
   "source": [
    "test_istatistigi, pvalue = stats.ttest_rel(ayrik[\"ONCESI\"], ayrik[\"SONRASI\"])\n",
    "print(f\"Test İstatistiği = {round(test_istatistigi,4)}, p-değeri = {round(pvalue,4)}\")"
   ]
  },
  {
   "cell_type": "markdown",
   "id": "28cf575d-b536-400c-8f79-fe79dfdb4707",
   "metadata": {},
   "source": [
    "**p-değeri 0.05 den büyük olduğu için H0 reddedilir. Eğitim Verimli Olmuştur**"
   ]
  },
  {
   "cell_type": "markdown",
   "id": "ec5949be-9b1a-4100-ab31-d7b17810d645",
   "metadata": {},
   "source": [
    "## Nonparametrik Bağımlı İki Örneklem Testi"
   ]
  },
  {
   "cell_type": "code",
   "execution_count": 92,
   "id": "72d0ace3-c1a3-48f9-905b-2ff6d8769d29",
   "metadata": {},
   "outputs": [
    {
     "data": {
      "text/plain": [
       "WilcoxonResult(statistic=15.0, pvalue=2.491492033374464e-07)"
      ]
     },
     "execution_count": 92,
     "metadata": {},
     "output_type": "execute_result"
    }
   ],
   "source": [
    "stats.wilcoxon(ayrik.ONCESI, ayrik.SONRASI)"
   ]
  },
  {
   "cell_type": "code",
   "execution_count": 93,
   "id": "e7f37612-c129-4a95-bf76-01f4470dab0c",
   "metadata": {},
   "outputs": [
    {
     "name": "stdout",
     "output_type": "stream",
     "text": [
      "Test İstatistiği = 15.0, p-değeri = 0.0\n"
     ]
    }
   ],
   "source": [
    "test_istatistigi, pvalue = stats.wilcoxon(ayrik[\"ONCESI\"], ayrik[\"SONRASI\"])\n",
    "print(f\"Test İstatistiği = {round(test_istatistigi,4)}, p-değeri = {round(pvalue,4)}\")"
   ]
  },
  {
   "cell_type": "markdown",
   "id": "ce040bbf-bb44-44a2-9309-32aa7e2de851",
   "metadata": {},
   "source": [
    "# İki Örneklem Oran Testi"
   ]
  },
  {
   "cell_type": "markdown",
   "id": "f366fff5-bc0d-41f0-812a-778a656e2642",
   "metadata": {},
   "source": [
    "İki oran arasında karşılaştırma yapma için kullanılır"
   ]
  },
  {
   "cell_type": "markdown",
   "id": "d8508ee5-49bf-4ed4-ab6d-6789a2cf8965",
   "metadata": {},
   "source": [
    "## Hipotezler\n",
    "\n",
    "<d><i>H</i><sub>0</sub>: <i>P</i><sub>1</sub> = <i>P</i><sub>2</sub></d><br>\n",
    "<d><i>H</i><sub>1</sub>: <i>P</i><sub>1</sub> ≠ <i>P</i><sub>2</sub></d><br><br>\n",
    "\n",
    "<d><i>H</i><sub>0</sub>: <i>P</i><sub>1</sub> <= <i>P</i><sub>2</sub></d><br>\n",
    "<d><i>H</i><sub>1</sub>: <i>P</i><sub>1</sub> > <i>P</i><sub>2</sub></d><br><br>\n",
    "\n",
    "<d><i>H</i><sub>0</sub>: <i>P</i><sub>1</sub> >= <i>P</i><sub>2</sub></d><br>\n",
    "<d><i>H</i><sub>1</sub>: <i>P</i><sub>1</sub> < <i>P</i><sub>2</sub></d><br><br>\n",
    "\n",
    "## Test İstatistiği\n",
    "\n",
    "${\\displaystyle Z _{h}={\\frac {p _{1} -  p _{2}}{\\sqrt {p(1-p){(\\frac {1}{n _{1}}}+{\\frac {1}{n _{2}}})}}}}$\n",
    "\n",
    "## Varsayımlar\n",
    "\n",
    "* <i>n</i><sub>1</sub> > <i>30</i></d><br>\n",
    "* <i>n</i><sub>2</sub> > <i>30</i></d><br><br>"
   ]
  },
  {
   "cell_type": "markdown",
   "id": "ac6737c1-5a68-4a20-be53-b81212d9e9a0",
   "metadata": {},
   "source": [
    "# İş Uygulaması: Kullanıcı Arayüzü Deneyi (AB Testi)"
   ]
  },
  {
   "cell_type": "code",
   "execution_count": 94,
   "id": "8d489ef7-fdc7-4f32-bb78-97d4df0b6069",
   "metadata": {},
   "outputs": [],
   "source": [
    "basari_sayisi = np.array([300, 250])\n",
    "gozlem_sayisi = np.array([1000, 1100])"
   ]
  },
  {
   "cell_type": "code",
   "execution_count": 95,
   "id": "bd454707-5b34-4ce7-bf6b-9522a48bbadd",
   "metadata": {
    "tags": []
   },
   "outputs": [
    {
     "data": {
      "text/plain": [
       "(3.7857863233209255, 0.0001532232957772221)"
      ]
     },
     "execution_count": 95,
     "metadata": {},
     "output_type": "execute_result"
    }
   ],
   "source": [
    "propz(count = basari_sayisi, nobs = gozlem_sayisi)"
   ]
  },
  {
   "cell_type": "markdown",
   "id": "c1400fa8-f797-401a-bbcf-d3411d898814",
   "metadata": {},
   "source": [
    "**p-değeri 0.05 den büyük olduğu için H0 reddedilir. İstatistiksel olarak anlamlı bir fark vardır. Buton renklerinin kullanıcı davranışlarına etkisi vardır ve yeşil butonun lehine olur.**"
   ]
  },
  {
   "cell_type": "markdown",
   "id": "42d074bb-39ee-4b9a-815c-c11e3e57a8ab",
   "metadata": {},
   "source": [
    "# Varyans Analizi"
   ]
  },
  {
   "cell_type": "markdown",
   "id": "9fc98dd0-344f-43e1-b3f1-4bb0c8acdebe",
   "metadata": {},
   "source": [
    "İki ya da daha fazla grup arasında istatistiksel olarak anlamlı farklılık olup olmadığı öğrenilmek istenildiğinde kullanılır"
   ]
  },
  {
   "cell_type": "markdown",
   "id": "d685f03c-e2bc-482a-8b34-02652ed57901",
   "metadata": {},
   "source": [
    "<d><i>H</i><sub>0</sub>: <i>μ</i><sub>1</sub> = <i>μ</i><sub>2</sub> = <i>μ</i><sub>2</sub></d><br>\n",
    "<d><i>H</i><sub>1</sub>: Eşit değillerdir (en az birisi farklıdır)</d>\n",
    "\n",
    "## Test İstatistiği\n",
    "\n",
    "${\\displaystyle F _{s} = {\\frac {MS _{(between)}}{MS _(within)}}}$\n",
    "\n",
    "## Varsayımlar\n",
    "* Gözlemlerin birbirinden bağımsız olması (grupların)\n",
    "* Normal dağılım\n",
    "* Varyans homojenliği"
   ]
  },
  {
   "cell_type": "markdown",
   "id": "30d843c6-178b-41b6-abdb-c25a477f0f19",
   "metadata": {
    "tags": []
   },
   "source": [
    "# İş Uygulaması: Anasayfa İçerik Stratejisi Belirlemek"
   ]
  },
  {
   "cell_type": "markdown",
   "id": "cc245e87-15a9-47c4-9e18-88d53ded75cb",
   "metadata": {},
   "source": [
    "Anasayfada geçirilen süre artırılmak isteniyor\n",
    "* Bir web sitesi için başarı kriterleri: ortalama ziyaret süresi, hemen çıkış oranı vb.\n",
    "* Uzun zaman geçiren kullanıcıların reklamlara daha fazla tıkladığı ve markaya olan bağlılıkların arttığı biliniyor\n",
    "* Buna yönelik olak benzer haberler, farklı resimler ya da farklı formatlarda hazırlanarak oluşturulan test gruplarına gösteriliyor.\n",
    "* **A:** Doğal şekilde, **B:** Yönlendirici, **C:** İlgi Çekici"
   ]
  },
  {
   "cell_type": "code",
   "execution_count": 96,
   "id": "e82ff7d6-0e31-4e53-8847-98f2d91cc08b",
   "metadata": {},
   "outputs": [
    {
     "data": {
      "text/html": [
       "<div>\n",
       "<style scoped>\n",
       "    .dataframe tbody tr th:only-of-type {\n",
       "        vertical-align: middle;\n",
       "    }\n",
       "\n",
       "    .dataframe tbody tr th {\n",
       "        vertical-align: top;\n",
       "    }\n",
       "\n",
       "    .dataframe thead th {\n",
       "        text-align: right;\n",
       "    }\n",
       "</style>\n",
       "<table border=\"1\" class=\"dataframe\">\n",
       "  <thead>\n",
       "    <tr style=\"text-align: right;\">\n",
       "      <th></th>\n",
       "      <th>GRUP_A</th>\n",
       "      <th>GRUP_B</th>\n",
       "      <th>GRUP_C</th>\n",
       "    </tr>\n",
       "  </thead>\n",
       "  <tbody>\n",
       "    <tr>\n",
       "      <th>0</th>\n",
       "      <td>28</td>\n",
       "      <td>31</td>\n",
       "      <td>40</td>\n",
       "    </tr>\n",
       "    <tr>\n",
       "      <th>1</th>\n",
       "      <td>33</td>\n",
       "      <td>32</td>\n",
       "      <td>33</td>\n",
       "    </tr>\n",
       "    <tr>\n",
       "      <th>2</th>\n",
       "      <td>30</td>\n",
       "      <td>30</td>\n",
       "      <td>38</td>\n",
       "    </tr>\n",
       "    <tr>\n",
       "      <th>3</th>\n",
       "      <td>29</td>\n",
       "      <td>30</td>\n",
       "      <td>41</td>\n",
       "    </tr>\n",
       "    <tr>\n",
       "      <th>4</th>\n",
       "      <td>28</td>\n",
       "      <td>33</td>\n",
       "      <td>42</td>\n",
       "    </tr>\n",
       "  </tbody>\n",
       "</table>\n",
       "</div>"
      ],
      "text/plain": [
       "   GRUP_A  GRUP_B  GRUP_C\n",
       "0      28      31      40\n",
       "1      33      32      33\n",
       "2      30      30      38\n",
       "3      29      30      41\n",
       "4      28      33      42"
      ]
     },
     "execution_count": 96,
     "metadata": {},
     "output_type": "execute_result"
    }
   ],
   "source": [
    "A = pd.DataFrame([28,33,30,29,28,29,27,31,30,32,28,33,25,29,27,31,31,30,31,34,30,32,31,34,28,32,31,28,33,29])\n",
    "\n",
    "B = pd.DataFrame([31,32,30,30,33,32,34,27,36,30,31,30,38,29,30,34,34,31,35,35,33,30,28,29,26,37,31,28,34,33])\n",
    "\n",
    "C = pd.DataFrame([40,33,38,41,42,43,38,35,39,39,36,34,35,40,38,36,39,36,33,35,38,35,40,40,39,38,38,43,40,42])\n",
    "\n",
    "dfs = [A, B, C]\n",
    "\n",
    "ABC = pd.concat(dfs, axis = 1)\n",
    "ABC.columns= [\"GRUP_A\", \"GRUP_B\", \"GRUP_C\"]\n",
    "ABC.head()"
   ]
  },
  {
   "cell_type": "markdown",
   "id": "0aba9480-6dbd-4383-92fb-fd825f97927b",
   "metadata": {
    "tags": []
   },
   "source": [
    "## Varsayım Kontrolü"
   ]
  },
  {
   "cell_type": "code",
   "execution_count": 97,
   "id": "349b6066-e364-417c-8f7b-bee553bf0975",
   "metadata": {},
   "outputs": [
    {
     "data": {
      "text/plain": [
       "ShapiroResult(statistic=0.9697431921958923, pvalue=0.5321715474128723)"
      ]
     },
     "execution_count": 97,
     "metadata": {},
     "output_type": "execute_result"
    }
   ],
   "source": [
    "shapiro(ABC[\"GRUP_A\"])"
   ]
  },
  {
   "cell_type": "code",
   "execution_count": 98,
   "id": "6cba35f4-2ed9-4f1d-b728-9e5c69bcba62",
   "metadata": {},
   "outputs": [
    {
     "data": {
      "text/plain": [
       "ShapiroResult(statistic=0.9789854884147644, pvalue=0.7979801297187805)"
      ]
     },
     "execution_count": 98,
     "metadata": {},
     "output_type": "execute_result"
    }
   ],
   "source": [
    "shapiro(ABC[\"GRUP_B\"])"
   ]
  },
  {
   "cell_type": "code",
   "execution_count": 99,
   "id": "5ddab670-0968-4e52-beff-c756c264f062",
   "metadata": {},
   "outputs": [
    {
     "data": {
      "text/plain": [
       "ShapiroResult(statistic=0.9579201340675354, pvalue=0.273820161819458)"
      ]
     },
     "execution_count": 99,
     "metadata": {},
     "output_type": "execute_result"
    }
   ],
   "source": [
    "shapiro(ABC[\"GRUP_C\"])"
   ]
  },
  {
   "cell_type": "markdown",
   "id": "be1d6e0a-d5a1-483d-9488-97cb68b61e13",
   "metadata": {},
   "source": [
    "**Üç test içinde p-value değeri 0.05 den büyük olduğu için H0 reddedilemez. Normallik varsayımı sağlanmaktadır**"
   ]
  },
  {
   "cell_type": "markdown",
   "id": "c077a39b-8e42-466a-922c-03d8a9c7ef70",
   "metadata": {},
   "source": [
    "### Varyans Homojenliği"
   ]
  },
  {
   "cell_type": "code",
   "execution_count": 100,
   "id": "013fb633-b893-4c58-abab-45e09cda00fa",
   "metadata": {},
   "outputs": [
    {
     "data": {
      "text/plain": [
       "LeveneResult(statistic=1.0267403645055275, pvalue=0.3624711011741707)"
      ]
     },
     "execution_count": 100,
     "metadata": {},
     "output_type": "execute_result"
    }
   ],
   "source": [
    "stats.levene(ABC[\"GRUP_A\"], ABC[\"GRUP_B\"], ABC[\"GRUP_C\"])"
   ]
  },
  {
   "cell_type": "markdown",
   "id": "2bcb59ca-d2b7-421a-aa25-706e71440478",
   "metadata": {},
   "source": [
    "**p-value değeri 0.05 den büyük olduğu için H0 reddedilemez. Varyanslar Homojendir**"
   ]
  },
  {
   "cell_type": "markdown",
   "id": "1096eca3-e844-4be8-a320-614dd8bcd55c",
   "metadata": {},
   "source": [
    "## Hipotez Testi"
   ]
  },
  {
   "cell_type": "code",
   "execution_count": 101,
   "id": "8f032bb0-be02-412d-9404-e8e23228b6a7",
   "metadata": {},
   "outputs": [
    {
     "data": {
      "text/plain": [
       "F_onewayResult(statistic=74.69278140730431, pvalue=1.307905074681148e-19)"
      ]
     },
     "execution_count": 101,
     "metadata": {},
     "output_type": "execute_result"
    }
   ],
   "source": [
    "result = f_oneway(ABC[\"GRUP_A\"], ABC[\"GRUP_B\"], ABC[\"GRUP_C\"])\n",
    "result"
   ]
  },
  {
   "cell_type": "code",
   "execution_count": 102,
   "id": "6afee5cd-e539-4298-b20f-92e010565d64",
   "metadata": {},
   "outputs": [
    {
     "name": "stdout",
     "output_type": "stream",
     "text": [
      "0.0\n"
     ]
    }
   ],
   "source": [
    "print(f\"{(round(result[1],5))}\")"
   ]
  },
  {
   "cell_type": "markdown",
   "id": "b2fe9c0c-dee1-4779-a320-1e9429c67339",
   "metadata": {},
   "source": [
    "**p-value değeri 0.05 den küçük olduğu için H0 reddedilir. İstatistiksel olarak anlamlı bir farklılık vardır**"
   ]
  },
  {
   "cell_type": "code",
   "execution_count": 103,
   "id": "1c9ac475-3b43-4948-b7ec-bb9800b41a55",
   "metadata": {},
   "outputs": [
    {
     "data": {
      "text/html": [
       "<div>\n",
       "<style scoped>\n",
       "    .dataframe tbody tr th:only-of-type {\n",
       "        vertical-align: middle;\n",
       "    }\n",
       "\n",
       "    .dataframe tbody tr th {\n",
       "        vertical-align: top;\n",
       "    }\n",
       "\n",
       "    .dataframe thead th {\n",
       "        text-align: right;\n",
       "    }\n",
       "</style>\n",
       "<table border=\"1\" class=\"dataframe\">\n",
       "  <thead>\n",
       "    <tr style=\"text-align: right;\">\n",
       "      <th></th>\n",
       "      <th>count</th>\n",
       "      <th>mean</th>\n",
       "      <th>std</th>\n",
       "      <th>min</th>\n",
       "      <th>25%</th>\n",
       "      <th>50%</th>\n",
       "      <th>75%</th>\n",
       "      <th>max</th>\n",
       "    </tr>\n",
       "  </thead>\n",
       "  <tbody>\n",
       "    <tr>\n",
       "      <th>GRUP_A</th>\n",
       "      <td>30.0</td>\n",
       "      <td>30.133333</td>\n",
       "      <td>2.224214</td>\n",
       "      <td>25.0</td>\n",
       "      <td>28.25</td>\n",
       "      <td>30.0</td>\n",
       "      <td>31.75</td>\n",
       "      <td>34.0</td>\n",
       "    </tr>\n",
       "    <tr>\n",
       "      <th>GRUP_B</th>\n",
       "      <td>30.0</td>\n",
       "      <td>31.700000</td>\n",
       "      <td>2.937862</td>\n",
       "      <td>26.0</td>\n",
       "      <td>30.00</td>\n",
       "      <td>31.0</td>\n",
       "      <td>34.00</td>\n",
       "      <td>38.0</td>\n",
       "    </tr>\n",
       "    <tr>\n",
       "      <th>GRUP_C</th>\n",
       "      <td>30.0</td>\n",
       "      <td>38.100000</td>\n",
       "      <td>2.808239</td>\n",
       "      <td>33.0</td>\n",
       "      <td>36.00</td>\n",
       "      <td>38.0</td>\n",
       "      <td>40.00</td>\n",
       "      <td>43.0</td>\n",
       "    </tr>\n",
       "  </tbody>\n",
       "</table>\n",
       "</div>"
      ],
      "text/plain": [
       "        count       mean       std   min    25%   50%    75%   max\n",
       "GRUP_A   30.0  30.133333  2.224214  25.0  28.25  30.0  31.75  34.0\n",
       "GRUP_B   30.0  31.700000  2.937862  26.0  30.00  31.0  34.00  38.0\n",
       "GRUP_C   30.0  38.100000  2.808239  33.0  36.00  38.0  40.00  43.0"
      ]
     },
     "execution_count": 103,
     "metadata": {},
     "output_type": "execute_result"
    }
   ],
   "source": [
    "ABC.describe().T"
   ]
  },
  {
   "cell_type": "markdown",
   "id": "26494724-aa4e-40b5-ad03-e49d1ce7cd26",
   "metadata": {},
   "source": [
    "## Nonparametrik Hipotez Testi"
   ]
  },
  {
   "cell_type": "code",
   "execution_count": 104,
   "id": "185a9d08-8133-4161-bd8c-60788c3a9f5a",
   "metadata": {},
   "outputs": [
    {
     "data": {
      "text/plain": [
       "KruskalResult(statistic=54.19819735523783, pvalue=1.7022015426175926e-12)"
      ]
     },
     "execution_count": 104,
     "metadata": {},
     "output_type": "execute_result"
    }
   ],
   "source": [
    "result2 = kruskal(ABC[\"GRUP_A\"], ABC[\"GRUP_B\"],ABC[\"GRUP_C\"])\n",
    "result2"
   ]
  },
  {
   "cell_type": "code",
   "execution_count": 105,
   "id": "fe7dd7dd-426d-4c18-929e-f619147f8eac",
   "metadata": {},
   "outputs": [
    {
     "name": "stdout",
     "output_type": "stream",
     "text": [
      "0.0\n"
     ]
    }
   ],
   "source": [
    "print(f\"{round(result2[1],5)}\")"
   ]
  },
  {
   "cell_type": "markdown",
   "id": "1dfddfd4-46a3-47ef-90e1-fd65d38071d3",
   "metadata": {},
   "source": [
    "**p-value değeri 0.05 den küçük olduğu için H0 reddedilir. İstatistiksel olarak anlamlı bir farklılık vardır**"
   ]
  },
  {
   "cell_type": "markdown",
   "id": "8bc04bf5-d898-411a-9b32-200f3fee3349",
   "metadata": {},
   "source": [
    "# Korelasyon Analizi (İlişki Analizi)\n",
    "\n",
    "Değişkenler arasında ilişki, bu ilişkinin yönü ve şiddeti ile ilgili bilgiler sağlayan istatistiksel bit yöntemdir\n",
    "\n",
    "* Mükemmel Pozitif Kolerasyon (1) (Doğru Orantı)\n",
    "* Yüksek Pozitif Kolerasyon (0.9)\n",
    "* Düşük Pozitif Kolerasyon (0.5)\n",
    "* Kolerasyon Yok (0)\n",
    "* Düşük Negatif Kolerasyon (-0.5) (Ters Orantı)\n",
    "* Yüksek Negatif Kolerasyon (-0.9)\n",
    "* Mükemmel Negatif Kolerasyon (-1)\n",
    "\n",
    "\n",
    "## Hipotezler\n",
    "\n",
    "<d><i>H</i><sub>0</sub>: <i>ρ</i> = <i>0</i></d><br>\n",
    "<d><i>H</i><sub>1</sub>: <i>ρ</i> ≠ <i>0</i></d><br><br>\n",
    "\n",
    "## Test İstatistiği\n",
    "\n",
    "${\\displaystyle r _{xy}= {\\frac {\\Sigma x _{i}y _{i}-n{\\bar x}{\\bar y}}{{\\sqrt {(\\Sigma x ^ 2 _{i} - n{\\bar x ^2})}}{\\sqrt {(\\Sigma y ^ 2 _{i} - n{\\bar y ^2})}}}}}$\n",
    "\n",
    "${\\displaystyle t = r{\\sqrt {\\frac {n-2}{1-r^2}}}}$\n",
    "\n",
    "\n",
    "## Varsayımlar\n",
    "\n",
    "* İki değişken içinde normallik varsayımı\n",
    "** Varsayım sağlanıyorsa Pearson Korelasyon Katsayısı\n",
    "** Varsayım **sağlanmıyorsa** Spearman Korelasyon Katsayısı"
   ]
  },
  {
   "cell_type": "markdown",
   "id": "1ea60adf-a92b-4aa2-8187-4ec292e84b0c",
   "metadata": {},
   "source": [
    "# İş Uygulaması: Bahşiş ile Hesap Arasındaki İlişkinin İncelenmesi"
   ]
  },
  {
   "cell_type": "markdown",
   "id": "b7de4e02-506f-4393-a0d0-c11fe1303c91",
   "metadata": {},
   "source": [
    "Bahşiş ile ödenen hesap arasında korelasyon var mı?"
   ]
  },
  {
   "cell_type": "markdown",
   "id": "0a80c176-dbba-42b1-babb-9056fcb0292a",
   "metadata": {},
   "source": [
    "Bahşiş veri seti:\n",
    "    \n",
    "    \n",
    "total_bill: yemeğin toplam fiyatı (bahşiş ve vergi dahil)\n",
    "\n",
    "tip: bahşiş\n",
    "\n",
    "sex: ücreti ödeyen kişinin cinsiyeti (0=male, 1=female)\n",
    "\n",
    "smoker: grupta sigara içen var mı? (0=No, 1=Yes)\n",
    "\n",
    "day: gün (3=Thur, 4=Fri, 5=Sat, 6=Sun)\n",
    "\n",
    "time: ne zaman? (0=Day, 1=Night)\n",
    "\n",
    "size: grupta kaç kişi var?"
   ]
  },
  {
   "cell_type": "code",
   "execution_count": 106,
   "id": "7245be54-68ec-4547-8175-8f9b1887eccb",
   "metadata": {},
   "outputs": [
    {
     "data": {
      "text/html": [
       "<div>\n",
       "<style scoped>\n",
       "    .dataframe tbody tr th:only-of-type {\n",
       "        vertical-align: middle;\n",
       "    }\n",
       "\n",
       "    .dataframe tbody tr th {\n",
       "        vertical-align: top;\n",
       "    }\n",
       "\n",
       "    .dataframe thead th {\n",
       "        text-align: right;\n",
       "    }\n",
       "</style>\n",
       "<table border=\"1\" class=\"dataframe\">\n",
       "  <thead>\n",
       "    <tr style=\"text-align: right;\">\n",
       "      <th></th>\n",
       "      <th>total_bill</th>\n",
       "      <th>tip</th>\n",
       "      <th>sex</th>\n",
       "      <th>smoker</th>\n",
       "      <th>day</th>\n",
       "      <th>time</th>\n",
       "      <th>size</th>\n",
       "    </tr>\n",
       "  </thead>\n",
       "  <tbody>\n",
       "    <tr>\n",
       "      <th>0</th>\n",
       "      <td>16.99</td>\n",
       "      <td>1.01</td>\n",
       "      <td>Female</td>\n",
       "      <td>No</td>\n",
       "      <td>Sun</td>\n",
       "      <td>Dinner</td>\n",
       "      <td>2</td>\n",
       "    </tr>\n",
       "    <tr>\n",
       "      <th>1</th>\n",
       "      <td>10.34</td>\n",
       "      <td>1.66</td>\n",
       "      <td>Male</td>\n",
       "      <td>No</td>\n",
       "      <td>Sun</td>\n",
       "      <td>Dinner</td>\n",
       "      <td>3</td>\n",
       "    </tr>\n",
       "    <tr>\n",
       "      <th>2</th>\n",
       "      <td>21.01</td>\n",
       "      <td>3.50</td>\n",
       "      <td>Male</td>\n",
       "      <td>No</td>\n",
       "      <td>Sun</td>\n",
       "      <td>Dinner</td>\n",
       "      <td>3</td>\n",
       "    </tr>\n",
       "    <tr>\n",
       "      <th>3</th>\n",
       "      <td>23.68</td>\n",
       "      <td>3.31</td>\n",
       "      <td>Male</td>\n",
       "      <td>No</td>\n",
       "      <td>Sun</td>\n",
       "      <td>Dinner</td>\n",
       "      <td>2</td>\n",
       "    </tr>\n",
       "    <tr>\n",
       "      <th>4</th>\n",
       "      <td>24.59</td>\n",
       "      <td>3.61</td>\n",
       "      <td>Female</td>\n",
       "      <td>No</td>\n",
       "      <td>Sun</td>\n",
       "      <td>Dinner</td>\n",
       "      <td>4</td>\n",
       "    </tr>\n",
       "  </tbody>\n",
       "</table>\n",
       "</div>"
      ],
      "text/plain": [
       "   total_bill   tip     sex smoker  day    time  size\n",
       "0       16.99  1.01  Female     No  Sun  Dinner     2\n",
       "1       10.34  1.66    Male     No  Sun  Dinner     3\n",
       "2       21.01  3.50    Male     No  Sun  Dinner     3\n",
       "3       23.68  3.31    Male     No  Sun  Dinner     2\n",
       "4       24.59  3.61  Female     No  Sun  Dinner     4"
      ]
     },
     "execution_count": 106,
     "metadata": {},
     "output_type": "execute_result"
    }
   ],
   "source": [
    "tips = sns.load_dataset(\"tips\")\n",
    "df = tips.copy()\n",
    "df.head()"
   ]
  },
  {
   "cell_type": "code",
   "execution_count": 107,
   "id": "b0c993f8-ac11-46f5-a299-d1fdaa6a6cb0",
   "metadata": {},
   "outputs": [
    {
     "data": {
      "text/html": [
       "<div>\n",
       "<style scoped>\n",
       "    .dataframe tbody tr th:only-of-type {\n",
       "        vertical-align: middle;\n",
       "    }\n",
       "\n",
       "    .dataframe tbody tr th {\n",
       "        vertical-align: top;\n",
       "    }\n",
       "\n",
       "    .dataframe thead th {\n",
       "        text-align: right;\n",
       "    }\n",
       "</style>\n",
       "<table border=\"1\" class=\"dataframe\">\n",
       "  <thead>\n",
       "    <tr style=\"text-align: right;\">\n",
       "      <th></th>\n",
       "      <th>total_bill</th>\n",
       "      <th>tip</th>\n",
       "      <th>sex</th>\n",
       "      <th>smoker</th>\n",
       "      <th>day</th>\n",
       "      <th>time</th>\n",
       "      <th>size</th>\n",
       "    </tr>\n",
       "  </thead>\n",
       "  <tbody>\n",
       "    <tr>\n",
       "      <th>0</th>\n",
       "      <td>15.98</td>\n",
       "      <td>1.01</td>\n",
       "      <td>Female</td>\n",
       "      <td>No</td>\n",
       "      <td>Sun</td>\n",
       "      <td>Dinner</td>\n",
       "      <td>2</td>\n",
       "    </tr>\n",
       "    <tr>\n",
       "      <th>1</th>\n",
       "      <td>8.68</td>\n",
       "      <td>1.66</td>\n",
       "      <td>Male</td>\n",
       "      <td>No</td>\n",
       "      <td>Sun</td>\n",
       "      <td>Dinner</td>\n",
       "      <td>3</td>\n",
       "    </tr>\n",
       "    <tr>\n",
       "      <th>2</th>\n",
       "      <td>17.51</td>\n",
       "      <td>3.50</td>\n",
       "      <td>Male</td>\n",
       "      <td>No</td>\n",
       "      <td>Sun</td>\n",
       "      <td>Dinner</td>\n",
       "      <td>3</td>\n",
       "    </tr>\n",
       "    <tr>\n",
       "      <th>3</th>\n",
       "      <td>20.37</td>\n",
       "      <td>3.31</td>\n",
       "      <td>Male</td>\n",
       "      <td>No</td>\n",
       "      <td>Sun</td>\n",
       "      <td>Dinner</td>\n",
       "      <td>2</td>\n",
       "    </tr>\n",
       "    <tr>\n",
       "      <th>4</th>\n",
       "      <td>20.98</td>\n",
       "      <td>3.61</td>\n",
       "      <td>Female</td>\n",
       "      <td>No</td>\n",
       "      <td>Sun</td>\n",
       "      <td>Dinner</td>\n",
       "      <td>4</td>\n",
       "    </tr>\n",
       "  </tbody>\n",
       "</table>\n",
       "</div>"
      ],
      "text/plain": [
       "   total_bill   tip     sex smoker  day    time  size\n",
       "0       15.98  1.01  Female     No  Sun  Dinner     2\n",
       "1        8.68  1.66    Male     No  Sun  Dinner     3\n",
       "2       17.51  3.50    Male     No  Sun  Dinner     3\n",
       "3       20.37  3.31    Male     No  Sun  Dinner     2\n",
       "4       20.98  3.61  Female     No  Sun  Dinner     4"
      ]
     },
     "execution_count": 107,
     "metadata": {},
     "output_type": "execute_result"
    }
   ],
   "source": [
    "# Bahşiş ve vergiler dahil olduğu için bahşiş çıkarılır\n",
    "df[\"total_bill\"] = df[\"total_bill\"] - df[\"tip\"]\n",
    "df.head()"
   ]
  },
  {
   "cell_type": "code",
   "execution_count": 108,
   "id": "df0a0007-145d-4d7a-a0d7-9b3bc808d3e6",
   "metadata": {},
   "outputs": [
    {
     "data": {
      "image/png": "[encoded data removed]",
      "text/plain": [
       "<Figure size 432x288 with 1 Axes>"
      ]
     },
     "metadata": {
      "needs_background": "light"
     },
     "output_type": "display_data"
    }
   ],
   "source": [
    "df.plot.scatter(\"total_bill\",\"tip\");"
   ]
  },
  {
   "cell_type": "markdown",
   "id": "7a49e82d-a297-45c8-a5f6-eabacfe6ad11",
   "metadata": {
    "tags": []
   },
   "source": [
    "## Varsayım Kontrolü"
   ]
  },
  {
   "cell_type": "code",
   "execution_count": 109,
   "id": "b37670d5-5877-4c04-be0c-9007e4a70c08",
   "metadata": {},
   "outputs": [
    {
     "name": "stdout",
     "output_type": "stream",
     "text": [
      "'tip' için test istatistiği: 0.89781, p-değeri: 0.0\n",
      "'total_bill' için test istatistiği: 0.91357, p-değeri: 0.0\n"
     ]
    }
   ],
   "source": [
    "test_istatistigi , pvalue = shapiro(df[\"tip\"])\n",
    "print(f\"'tip' için test istatistiği: {round(test_istatistigi,5)}, p-değeri: {round(pvalue,5)}\")\n",
    "\n",
    "test_istatistigi2, pvalue2 = shapiro(df[\"total_bill\"])\n",
    "print(f\"'total_bill' için test istatistiği: {round(test_istatistigi2,5)}, p-değeri: {round(pvalue2,5)}\")"
   ]
  },
  {
   "cell_type": "markdown",
   "id": "2dc19307-24da-4b50-a5a6-d987c2c65888",
   "metadata": {},
   "source": [
    "**p-value değeri 0.05 den küçük olduğu için H0 reddedilir. Örnek dağılım ile normal dağılım arasında istatistiksel olarak anlamlı bir fark vardır.**"
   ]
  },
  {
   "cell_type": "markdown",
   "id": "91439531-084d-4196-a205-8722b4039d70",
   "metadata": {
    "tags": []
   },
   "source": [
    "## Hipotez Testi"
   ]
  },
  {
   "cell_type": "markdown",
   "id": "907d6eb4-e5b8-43c8-960b-19e39a9fde31",
   "metadata": {},
   "source": [
    "### Korelasyon Katsayısı"
   ]
  },
  {
   "cell_type": "code",
   "execution_count": 110,
   "id": "91889e0a-44a0-40b7-bdb0-02404597d4de",
   "metadata": {},
   "outputs": [
    {
     "data": {
      "text/plain": [
       "0.5766634471096374"
      ]
     },
     "execution_count": 110,
     "metadata": {},
     "output_type": "execute_result"
    }
   ],
   "source": [
    "# Pearson korelasyon katsayısı\n",
    "df[\"tip\"].corr(df[\"total_bill\"])"
   ]
  },
  {
   "cell_type": "code",
   "execution_count": 111,
   "id": "4606ff67-694a-4385-aae0-6fa4123881d0",
   "metadata": {},
   "outputs": [
    {
     "data": {
      "text/plain": [
       "0.593691939408997"
      ]
     },
     "execution_count": 111,
     "metadata": {},
     "output_type": "execute_result"
    }
   ],
   "source": [
    "# Spearman korelasyon katsayısı\n",
    "df[\"tip\"].corr(df[\"total_bill\"], method = \"spearman\")"
   ]
  },
  {
   "cell_type": "markdown",
   "id": "12b19c20-550a-4339-ba70-d8a2de69fb2f",
   "metadata": {},
   "source": [
    "* Değişkenler arasında pozitif yönlü ilişki vardır\n",
    "* İlişkinin yönü orta şiddetlidir"
   ]
  },
  {
   "cell_type": "markdown",
   "id": "fb870b06-3439-4b65-a774-99133ef736ae",
   "metadata": {},
   "source": [
    "### Korelasyonun Anlamlılığının Testi"
   ]
  },
  {
   "cell_type": "code",
   "execution_count": 112,
   "id": "3aa3b468-8eab-40b2-a27d-5f89a1bb3595",
   "metadata": {},
   "outputs": [
    {
     "name": "stdout",
     "output_type": "stream",
     "text": [
      "Korelasyon Katsayısı = 0.5767, p-değeri = 0.0\n"
     ]
    }
   ],
   "source": [
    "test_istatistigi3, pvalue3 = pearsonr(df[\"tip\"],df[\"total_bill\"])\n",
    "\n",
    "print(f\"Korelasyon Katsayısı = {round(test_istatistigi3,4)}, p-değeri = {round(pvalue3,4)}\")"
   ]
  },
  {
   "cell_type": "markdown",
   "id": "6ea4e3d0-bfe6-46b1-8956-8d198bdf6c12",
   "metadata": {},
   "source": [
    "**p-value değeri 0.05 den küçük olduğu için H0 reddedilir. İstatistiksel olarak anlamlı bir fark vardır.**"
   ]
  },
  {
   "cell_type": "markdown",
   "id": "791072cf-9f69-420c-ac9a-7e400c5d5b67",
   "metadata": {},
   "source": [
    "## Nonparametrik Hipotez Testi"
   ]
  },
  {
   "cell_type": "code",
   "execution_count": 113,
   "id": "e0066fe9-8d7e-4965-b641-62e5107f0bae",
   "metadata": {},
   "outputs": [
    {
     "data": {
      "text/plain": [
       "SpearmanrResult(correlation=0.593691939408997, pvalue=1.2452285137560276e-24)"
      ]
     },
     "execution_count": 113,
     "metadata": {},
     "output_type": "execute_result"
    }
   ],
   "source": [
    "stats.spearmanr(df[\"tip\"], df[\"total_bill\"])"
   ]
  },
  {
   "cell_type": "code",
   "execution_count": 114,
   "id": "634ffcef-1131-4490-b434-c5fac8864c6d",
   "metadata": {},
   "outputs": [
    {
     "name": "stdout",
     "output_type": "stream",
     "text": [
      "Korelasyon Katsayısı = 0.5937, p-değeri = 0.0\n"
     ]
    }
   ],
   "source": [
    "test_istatistigi4, pvalue4 = stats.spearmanr(df[\"tip\"],df[\"total_bill\"])\n",
    "\n",
    "print(f\"Korelasyon Katsayısı = {round(test_istatistigi4,4)}, p-değeri = {round(pvalue4,4)}\")"
   ]
  },
  {
   "cell_type": "markdown",
   "id": "b2f03865-8e0f-4f3b-b9c5-6e307a0db19a",
   "metadata": {
    "tags": []
   },
   "source": [
    "**p-value değeri 0.05 den küçük olduğu için H0 reddedilir. Örnek dağılım ile normal dağılım arasında istatistiksel olarak anlamlı bir fark vardır.**\n",
    "* Pozitif yönlüdür\n",
    "* Orta şiddete sahiptir"
   ]
  },
  {
   "cell_type": "code",
   "execution_count": 115,
   "id": "9ddf3d6d-bcf4-4371-bad8-e4eb0968e8e8",
   "metadata": {},
   "outputs": [
    {
     "name": "stdout",
     "output_type": "stream",
     "text": [
      "Korelasyon Katsayısı = 0.4401, p-değeri = 0.0\n"
     ]
    }
   ],
   "source": [
    "test_istatistigi5, pvalue5 = stats.kendalltau(df[\"tip\"],df[\"total_bill\"])\n",
    "\n",
    "print(f\"Korelasyon Katsayısı = {round(test_istatistigi5,4)}, p-değeri = {round(pvalue5,4)}\")"
   ]
  }
 ],
 "metadata": {
  "kernelspec": {
   "display_name": "Python 3 (ipykernel)",
   "language": "python",
   "name": "python3"
  },
  "language_info": {
   "codemirror_mode": {
    "name": "ipython",
    "version": 3
   },
   "file_extension": ".py",
   "mimetype": "text/x-python",
   "name": "python",
   "nbconvert_exporter": "python",
   "pygments_lexer": "ipython3",
   "version": "3.10.2"
  }
 },
 "nbformat": 4,
 "nbformat_minor": 5
}
