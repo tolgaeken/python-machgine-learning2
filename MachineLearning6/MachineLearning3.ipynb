{
 "cells": [
  {
   "cell_type": "markdown",
   "id": "4552fb95-28fa-4906-a22a-8d30337f7b1d",
   "metadata": {},
   "source": [
    "# Doğrusal Olmayan Regresyon Modelleri\n",
    "\n",
    "* K-En Yakın Komşu (KNN)\n",
    "* Destek Vektör Resgresyonu (SVR)\n",
    "* Çok Katmanlı Algılayıcılar (ANN)\n",
    "* Classification and Regression Trees (CART)\n",
    "* Bagging (Bootstrap Aggregation)\n",
    "* Random Forests (RF)\n",
    "* Gradient Boosting Machines (GBM)\n",
    "* Extreme Gradient Boosting (XGBoost)\n",
    "* LightGBM\n",
    "* CatBoost"
   ]
  },
  {
   "cell_type": "code",
   "execution_count": 9,
   "id": "ba0c96a0-254d-48b8-8620-53f6c1d1602d",
   "metadata": {},
   "outputs": [],
   "source": [
    "import numpy as np\n",
    "import pandas as pd \n",
    "from sklearn.model_selection import train_test_split, GridSearchCV,cross_val_score\n",
    "from sklearn.metrics import mean_squared_error, r2_score\n",
    "import matplotlib.pyplot as plt\n",
    "from sklearn.preprocessing import scale \n",
    "from sklearn import model_selection\n",
    "from sklearn.tree import DecisionTreeRegressor, DecisionTreeClassifier\n",
    "from sklearn.neighbors import KNeighborsRegressor\n",
    "from sklearn.ensemble import BaggingRegressor\n",
    "from sklearn.svm import SVR\n",
    "from sklearn.linear_model import LinearRegression\n",
    "from sklearn.svm import SVR\n",
    "from sklearn.preprocessing import StandardScaler\n",
    "from sklearn.neural_network import MLPRegressor\n",
    "from skompiler import skompile\n",
    "from sklearn.ensemble import RandomForestRegressor\n",
    "from sklearn.ensemble import GradientBoostingRegressor\n",
    "import xgboost as xgb\n",
    "from xgboost import XGBRegressor\n",
    "from lightgbm import LGBMRegressor\n",
    "from catboost import CatBoostRegressor\n",
    "\n",
    "from warnings import filterwarnings\n",
    "filterwarnings('ignore')"
   ]
  },
  {
   "cell_type": "markdown",
   "id": "6428158c-24a6-47f8-bdb5-3678903bb884",
   "metadata": {},
   "source": [
    "# K-En Yakın Komşu (KNN)\n",
    "Tahminler gözlem benzerliğine göre yapılır\n",
    "<br>\n",
    "Öklid ya da benzeri bir uzaklık hesabı ile her bir gözleme uzaklık hesaplanır\n",
    "<br><br>\n",
    "${\\displaystyle \\sqrt {\\sum_{i=1}^k (x_i - y_i)^2}}$\n",
    "<br><br>\n",
    "**KNN Basamakları**\n",
    "* Komşu sayısını belirle (K)\n",
    "* Bilinmeyen nokta ile diğer tüm noktalar ile arasındaki uzaklıkları hesapla\n",
    "* Uzaklıkları sırala ve belirlenen k sayısına göre en yakın olan k gözlemi seç\n",
    "* Sınıflandırma ise en sık sınıf, regresyon ise ortalama değeri tahmin değeri olarak ver"
   ]
  },
  {
   "cell_type": "code",
   "execution_count": 2,
   "id": "7ff81428-563b-404e-88e0-1247e1405a1c",
   "metadata": {},
   "outputs": [],
   "source": [
    "hit = pd.read_csv(\"Ml3Hitters.csv\")\n",
    "df = hit.copy()\n",
    "df = df.dropna()\n",
    "dms = pd.get_dummies(df[['League', 'Division', 'NewLeague']])\n",
    "y = df[\"Salary\"]\n",
    "X_ = df.drop(['Salary', 'League', 'Division', 'NewLeague'], axis=1).astype('float64')\n",
    "X = pd.concat([X_, dms[['League_N', 'Division_W', 'NewLeague_N']]], axis=1)\n",
    "X_train, X_test, y_train, y_test = train_test_split(X, y, \n",
    "                                                    test_size=0.25, \n",
    "                                                    random_state=42)"
   ]
  },
  {
   "cell_type": "code",
   "execution_count": 3,
   "id": "4e9c468e-e15a-4e92-addc-006767fda4d2",
   "metadata": {},
   "outputs": [
    {
     "data": {
      "text/plain": [
       "5"
      ]
     },
     "execution_count": 3,
     "metadata": {},
     "output_type": "execute_result"
    }
   ],
   "source": [
    "knn_model = KNeighborsRegressor().fit(X_train, y_train)\n",
    "# Komşuluk sayısını belirleme\n",
    "knn_model.n_neighbors"
   ]
  },
  {
   "cell_type": "markdown",
   "id": "1b3af1a2-eb22-4cbd-b9ff-a3c04b1f29bc",
   "metadata": {},
   "source": [
    "## Tahmin"
   ]
  },
  {
   "cell_type": "code",
   "execution_count": 4,
   "id": "d4170d70-2982-4cda-8815-732bfea9d7c4",
   "metadata": {},
   "outputs": [
    {
     "data": {
      "text/plain": [
       "426.6570764525201"
      ]
     },
     "execution_count": 4,
     "metadata": {},
     "output_type": "execute_result"
    }
   ],
   "source": [
    "y_pred = knn_model.predict(X_test)\n",
    "np.sqrt(mean_squared_error(y_test, y_pred))"
   ]
  },
  {
   "cell_type": "code",
   "execution_count": 5,
   "id": "dc3145bc-06c1-45e3-a6b7-1cdb3ce090bd",
   "metadata": {},
   "outputs": [
    {
     "name": "stdout",
     "output_type": "stream",
     "text": [
      "k = 1 için RMSE değeri:  0.0\n",
      "k = 2 için RMSE değeri:  179.52761335480352\n",
      "k = 3 için RMSE değeri:  205.20157172291863\n",
      "k = 4 için RMSE değeri:  220.5139794876305\n",
      "k = 5 için RMSE değeri:  239.6467132541376\n",
      "k = 6 için RMSE değeri:  243.5904190007242\n",
      "k = 7 için RMSE değeri:  258.1478781634636\n",
      "k = 8 için RMSE değeri:  266.05374203349805\n",
      "k = 9 için RMSE değeri:  269.73782093553376\n",
      "k = 10 için RMSE değeri:  271.2798300436963\n"
     ]
    }
   ],
   "source": [
    "RMSE = [] \n",
    "\n",
    "for k in range(10):\n",
    "    k = k+1\n",
    "    knn_model = KNeighborsRegressor(n_neighbors = k).fit(X_train, y_train)\n",
    "    y_pred = knn_model.predict(X_train) \n",
    "    rmse = np.sqrt(mean_squared_error(y_train,y_pred)) \n",
    "    RMSE.append(rmse) \n",
    "    print(\"k =\" , k , \"için RMSE değeri: \", rmse)"
   ]
  },
  {
   "cell_type": "markdown",
   "id": "6d1e4299-d43e-44c3-9372-6e12b2925494",
   "metadata": {},
   "source": [
    "## Model Tuning"
   ]
  },
  {
   "cell_type": "code",
   "execution_count": 6,
   "id": "e2ff05e4-13d1-41f1-a2b7-26d8fa974dc2",
   "metadata": {},
   "outputs": [
    {
     "data": {
      "text/plain": [
       "GridSearchCV(cv=10, estimator=KNeighborsRegressor(),\n",
       "             param_grid={'n_neighbors': array([ 1,  2,  3,  4,  5,  6,  7,  8,  9, 10, 11, 12, 13, 14, 15, 16, 17,\n",
       "       18, 19, 20, 21, 22, 23, 24, 25, 26, 27, 28, 29])})"
      ]
     },
     "execution_count": 6,
     "metadata": {},
     "output_type": "execute_result"
    }
   ],
   "source": [
    "# Komşu sayılarını belirleme\n",
    "knn_params = {\"n_neighbors\": np.arange(1,30,1)}\n",
    "knn = KNeighborsRegressor()\n",
    "# Knn nesnesi tanımlama\n",
    "knn_cv_model = GridSearchCV(knn, knn_params, cv = 10)\n",
    "knn_cv_model.fit(X_train, y_train)"
   ]
  },
  {
   "cell_type": "code",
   "execution_count": 7,
   "id": "63ce0bf7-0066-4342-8232-d4aa798a3270",
   "metadata": {},
   "outputs": [
    {
     "data": {
      "text/plain": [
       "8"
      ]
     },
     "execution_count": 7,
     "metadata": {},
     "output_type": "execute_result"
    }
   ],
   "source": [
    "# En uygun parametreyi belirleme\n",
    "knn_cv_model.best_params_[\"n_neighbors\"]"
   ]
  },
  {
   "cell_type": "code",
   "execution_count": 8,
   "id": "97143b46-7656-45fc-9fa1-f922a92aa9ec",
   "metadata": {},
   "outputs": [
    {
     "name": "stdout",
     "output_type": "stream",
     "text": [
      "k = 1 için RMSE değeri:  0.0 RMSE_CV değeri:  325.3947514706382\n",
      "k = 2 için RMSE değeri:  179.52761335480352 RMSE_CV değeri:  293.24000183333817\n",
      "k = 3 için RMSE değeri:  205.20157172291863 RMSE_CV değeri:  283.7486667487823\n",
      "k = 4 için RMSE değeri:  220.5139794876305 RMSE_CV değeri:  286.3240222024089\n",
      "k = 5 için RMSE değeri:  239.6467132541376 RMSE_CV değeri:  290.0705466132226\n",
      "k = 6 için RMSE değeri:  243.5904190007242 RMSE_CV değeri:  298.1263115575851\n",
      "k = 7 için RMSE değeri:  258.1478781634636 RMSE_CV değeri:  294.77070479194987\n",
      "k = 8 için RMSE değeri:  266.05374203349805 RMSE_CV değeri:  291.98672028891235\n",
      "k = 9 için RMSE değeri:  269.73782093553376 RMSE_CV değeri:  295.7162739573105\n",
      "k = 10 için RMSE değeri:  271.2798300436963 RMSE_CV değeri:  301.31047022701154\n"
     ]
    }
   ],
   "source": [
    "RMSE = [] \n",
    "RMSE_CV = []\n",
    "for k in range(10):\n",
    "    k = k+1\n",
    "    knn_model = KNeighborsRegressor(n_neighbors = k).fit(X_train, y_train)\n",
    "    y_pred = knn_model.predict(X_train) \n",
    "    rmse = np.sqrt(mean_squared_error(y_train,y_pred)) \n",
    "    rmse_cv = np.sqrt(-1*cross_val_score(knn_model, X_train, y_train, cv=10, \n",
    "                                         scoring = \"neg_mean_squared_error\").mean())\n",
    "    RMSE.append(rmse) \n",
    "    RMSE_CV.append(rmse_cv)\n",
    "    print(\"k =\" , k , \"için RMSE değeri: \", rmse, \"RMSE_CV değeri: \", rmse_cv )\n"
   ]
  },
  {
   "cell_type": "code",
   "execution_count": 9,
   "id": "1b8cfc6e-5c32-45db-9573-595f3455113f",
   "metadata": {},
   "outputs": [
    {
     "data": {
      "text/plain": [
       "KNeighborsRegressor(n_neighbors=8)"
      ]
     },
     "execution_count": 9,
     "metadata": {},
     "output_type": "execute_result"
    }
   ],
   "source": [
    "knn_tuned = KNeighborsRegressor(n_neighbors = knn_cv_model.best_params_[\"n_neighbors\"])\n",
    "knn_tuned.fit(X_train, y_train)"
   ]
  },
  {
   "cell_type": "code",
   "execution_count": 10,
   "id": "5ae7c60a-f626-4066-8e50-29482320b37e",
   "metadata": {},
   "outputs": [
    {
     "data": {
      "text/plain": [
       "413.7094731463598"
      ]
     },
     "execution_count": 10,
     "metadata": {},
     "output_type": "execute_result"
    }
   ],
   "source": [
    "np.sqrt(mean_squared_error(y_test,knn_tuned.predict(X_test))) "
   ]
  },
  {
   "cell_type": "markdown",
   "id": "ce00d171-9a43-42fa-95d8-b31d0ed6d239",
   "metadata": {
    "tags": []
   },
   "source": [
    "# SVR (Destek Vektör Regresyonu)"
   ]
  },
  {
   "cell_type": "markdown",
   "id": "03156340-1eec-41e3-babc-29e11ad2ad16",
   "metadata": {
    "jp-MarkdownHeadingCollapsed": true,
    "tags": []
   },
   "source": [
    "Amaç, bir marjin aralığında maksimum noktayı en küçük hata ile alabilecek şekilde doğru ya da eğriyi belirlemektir\n",
    "<br><br>\n",
    "**Minimizasyon Problemi**\n",
    "<br><br>\n",
    "${\\displaystyle {\\frac {1}{2}}||w||^2 + c {\\sum_{i=1}^2}(\\xi_i+\\xi_i^*)}$\n",
    "<br><br>\n",
    "**Kısıtlar**\n",
    "<br><br>\n",
    "${\\displaystyle y_i - (w * x_i) - b \\eqslantless \\epsilon + \\xi_i}$\n",
    "<br><br>\n",
    "${\\displaystyle (w * x_i) + b - y_i \\eqslantless \\epsilon + \\xi_i^*}$\n",
    "<br><br>\n",
    "${\\displaystyle \\xi_i , \\xi_i^* \\geqslant 0,}$<br>${\\displaystyle i = 1,...,m}$"
   ]
  },
  {
   "cell_type": "markdown",
   "id": "01b34f32-7838-4dfd-9230-5fa27b4348bf",
   "metadata": {
    "tags": []
   },
   "source": [
    "# Doğrusal SVR"
   ]
  },
  {
   "cell_type": "code",
   "execution_count": 42,
   "id": "9f7e06b9-ae80-4bcd-9585-96f1d16dace2",
   "metadata": {},
   "outputs": [],
   "source": [
    "hit = pd.read_csv(\"Ml3Hitters.csv\")\n",
    "df = hit.copy()\n",
    "df = df.dropna()\n",
    "dms = pd.get_dummies(df[['League', 'Division', 'NewLeague']])\n",
    "y = df[\"Salary\"]\n",
    "X_ = df.drop(['Salary', 'League', 'Division', 'NewLeague'], axis=1).astype('float64')\n",
    "X = pd.concat([X_, dms[['League_N', 'Division_W', 'NewLeague_N']]], axis=1)\n",
    "X_train, X_test, y_train, y_test = train_test_split(X, y, \n",
    "                                                    test_size=0.25, \n",
    "                                                    random_state=42)"
   ]
  },
  {
   "cell_type": "code",
   "execution_count": 43,
   "id": "f48e4ba1-b49a-41df-8883-e0e461724ad6",
   "metadata": {},
   "outputs": [],
   "source": [
    "X_train = pd.DataFrame(X_train[\"Hits\"])\n",
    "X_test = pd.DataFrame(X_test[\"Hits\"])"
   ]
  },
  {
   "cell_type": "code",
   "execution_count": 69,
   "id": "11312b6a-2ba8-4e6e-84d2-c799f5836726",
   "metadata": {},
   "outputs": [
    {
     "data": {
      "text/plain": [
       "array([403.52804878, 666.91219512, 706.66829268, 194.80853659,\n",
       "       423.40609756])"
      ]
     },
     "execution_count": 69,
     "metadata": {},
     "output_type": "execute_result"
    }
   ],
   "source": [
    "svr_model = SVR(kernel = \"linear\").fit(X_train, y_train)\n",
    "svr_model.predict(X_train)[0:5]"
   ]
  },
  {
   "cell_type": "code",
   "execution_count": 70,
   "id": "b434f944-6e10-4f51-89ff-80e6c58ed386",
   "metadata": {},
   "outputs": [
    {
     "name": "stdout",
     "output_type": "stream",
     "text": [
      "y = -48.69756097561513 + 4.969512195122093 x\n"
     ]
    }
   ],
   "source": [
    "print (\"y = {0} + {1} x\".format(svr_model.intercept_[0], \n",
    "                                svr_model.coef_[0][0])) "
   ]
  },
  {
   "cell_type": "code",
   "execution_count": 71,
   "id": "1dbe1752-3b91-4bbc-a13a-07dbe9afef7f",
   "metadata": {},
   "outputs": [
    {
     "data": {
      "text/plain": [
       "183    91.0\n",
       "Name: Hits, dtype: float64"
      ]
     },
     "execution_count": 71,
     "metadata": {},
     "output_type": "execute_result"
    }
   ],
   "source": [
    "X_train[\"Hits\"][0:1]"
   ]
  },
  {
   "cell_type": "code",
   "execution_count": 72,
   "id": "af63875d-d923-40fa-a65f-45884a4062b4",
   "metadata": {},
   "outputs": [
    {
     "data": {
      "text/plain": [
       "403.5280487804953"
      ]
     },
     "execution_count": 72,
     "metadata": {},
     "output_type": "execute_result"
    }
   ],
   "source": [
    "-48.69756097561513 + 4.969512195122093*91"
   ]
  },
  {
   "cell_type": "code",
   "execution_count": 85,
   "id": "018fa085-377a-47b6-9eb4-1f2a2611dfba",
   "metadata": {},
   "outputs": [],
   "source": [
    "y_pred = svr_model.predict(X_train)"
   ]
  },
  {
   "cell_type": "code",
   "execution_count": 86,
   "id": "8e90fb5a-b40d-44cb-a6c6-653fcf3e202c",
   "metadata": {},
   "outputs": [
    {
     "data": {
      "image/png": "[encoded data removed]",
      "text/plain": [
       "<Figure size 432x288 with 1 Axes>"
      ]
     },
     "metadata": {
      "needs_background": "light"
     },
     "output_type": "display_data"
    }
   ],
   "source": [
    "plt.scatter(X_train, y_train)\n",
    "plt.plot(X_train,y_pred, color = \"r\");"
   ]
  },
  {
   "cell_type": "code",
   "execution_count": 87,
   "id": "5847ade8-3a08-4d41-870a-b1b66f80ba60",
   "metadata": {},
   "outputs": [
    {
     "name": "stdout",
     "output_type": "stream",
     "text": [
      "y = -8.814095480334345 + 5.172456135470686 x\n"
     ]
    }
   ],
   "source": [
    "lm_model = LinearRegression().fit(X_train, y_train)\n",
    "lm_pred  = lm_model.predict(X_train)\n",
    "print(\"y = {0} + {1} x\".format(lm_model.intercept_, lm_model.coef_[0]))"
   ]
  },
  {
   "cell_type": "code",
   "execution_count": 88,
   "id": "8f8270bc-0c1c-4cdf-b20f-8d5392476c07",
   "metadata": {},
   "outputs": [
    {
     "data": {
      "text/plain": [
       "461.879412847498"
      ]
     },
     "execution_count": 88,
     "metadata": {},
     "output_type": "execute_result"
    }
   ],
   "source": [
    "-8.814095480334572 + 5.1724561354706875*91"
   ]
  },
  {
   "cell_type": "code",
   "execution_count": 89,
   "id": "8e817cbc-7f43-41a0-ae77-b8814e24188c",
   "metadata": {},
   "outputs": [
    {
     "data": {
      "text/plain": [
       "Text(0, 0.5, 'Maaş (Salary)')"
      ]
     },
     "execution_count": 89,
     "metadata": {},
     "output_type": "execute_result"
    },
    {
     "data": {
      "image/png": "[encoded data removed]",
      "text/plain": [
       "<Figure size 432x288 with 1 Axes>"
      ]
     },
     "metadata": {
      "needs_background": "light"
     },
     "output_type": "display_data"
    }
   ],
   "source": [
    "plt.scatter(X_train, y_train, alpha=0.5, s=23)\n",
    "plt.plot(X_train, lm_pred, 'g')\n",
    "plt.plot(X_train, y_pred, color='r')\n",
    "\n",
    "plt.xlabel(\"Atış Sayısı(Hits)\")\n",
    "plt.ylabel(\"Maaş (Salary)\")"
   ]
  },
  {
   "cell_type": "markdown",
   "id": "406e369a-cf7b-4efb-87e3-a1659f842195",
   "metadata": {},
   "source": [
    "## Tahmin"
   ]
  },
  {
   "cell_type": "code",
   "execution_count": 90,
   "id": "867f3687-14bd-4b20-8937-e3626c954c64",
   "metadata": {},
   "outputs": [
    {
     "name": "stdout",
     "output_type": "stream",
     "text": [
      "y = -48.69756097561513 + 4.969512195122093 x\n"
     ]
    }
   ],
   "source": [
    "print (\"y = {0} + {1} x\".format(svr_model.intercept_[0], svr_model.coef_[0][0])) "
   ]
  },
  {
   "cell_type": "code",
   "execution_count": 91,
   "id": "99c0cfb2-3ce7-467d-96d3-1c773b1d0ae3",
   "metadata": {},
   "outputs": [
    {
     "data": {
      "text/plain": [
       "array([403.52804878])"
      ]
     },
     "execution_count": 91,
     "metadata": {},
     "output_type": "execute_result"
    }
   ],
   "source": [
    "svr_model.predict([[91]])"
   ]
  },
  {
   "cell_type": "code",
   "execution_count": 92,
   "id": "4d3eb202-636d-4e8c-bdd7-a66eee7129cb",
   "metadata": {},
   "outputs": [
    {
     "data": {
      "text/plain": [
       "459.0187960365147"
      ]
     },
     "execution_count": 92,
     "metadata": {},
     "output_type": "execute_result"
    }
   ],
   "source": [
    "y_pred = svr_model.predict(X_test)\n",
    "np.sqrt(mean_squared_error(y_test, y_pred))"
   ]
  },
  {
   "cell_type": "code",
   "execution_count": 93,
   "id": "20af14ee-95e4-424b-bbbf-817571267fb6",
   "metadata": {},
   "outputs": [
    {
     "data": {
      "text/plain": [
       "SVR(kernel='linear')"
      ]
     },
     "execution_count": 93,
     "metadata": {},
     "output_type": "execute_result"
    }
   ],
   "source": [
    "svr_model"
   ]
  },
  {
   "cell_type": "markdown",
   "id": "029f2266-b778-4db0-810d-5349e45c1dfb",
   "metadata": {},
   "source": [
    "## Model Tuning"
   ]
  },
  {
   "cell_type": "code",
   "execution_count": 94,
   "id": "f66646dc-b0cc-4c5d-886f-e8754041926f",
   "metadata": {},
   "outputs": [
    {
     "data": {
      "text/plain": [
       "SVR(kernel='linear')"
      ]
     },
     "execution_count": 94,
     "metadata": {},
     "output_type": "execute_result"
    }
   ],
   "source": [
    "svr_model"
   ]
  },
  {
   "cell_type": "code",
   "execution_count": 95,
   "id": "d9442587-6d93-4de3-8960-4c36a4ebeb7c",
   "metadata": {},
   "outputs": [],
   "source": [
    "svr_params = {\"C\": np.arange(0.1,2,0.1)}\n",
    "svr_cv_model = GridSearchCV(svr_model, svr_params, cv = 10).fit(X_train,y_train)"
   ]
  },
  {
   "cell_type": "code",
   "execution_count": 96,
   "id": "d3944758-f745-4e12-890c-46655736d8c8",
   "metadata": {},
   "outputs": [
    {
     "data": {
      "text/plain": [
       "0.1"
      ]
     },
     "execution_count": 96,
     "metadata": {},
     "output_type": "execute_result"
    }
   ],
   "source": [
    "pd.Series(svr_cv_model.best_params_)[0]"
   ]
  },
  {
   "cell_type": "code",
   "execution_count": 100,
   "id": "8db655ee-dc91-4ead-9a22-fd52b4938c78",
   "metadata": {},
   "outputs": [],
   "source": [
    "svr_tuned = SVR(kernel = \"linear\", \n",
    "                C = pd.Series(svr_cv_model.best_params_)[0]).fit(X_train, y_train)"
   ]
  },
  {
   "cell_type": "code",
   "execution_count": 103,
   "id": "0b4a8af5-a2bd-4be3-9886-3904a223bbc4",
   "metadata": {},
   "outputs": [
    {
     "data": {
      "text/plain": [
       "458.198966781116"
      ]
     },
     "execution_count": 103,
     "metadata": {},
     "output_type": "execute_result"
    }
   ],
   "source": [
    "y_pred = svr_tuned.predict(X_test)\n",
    "np.sqrt(mean_squared_error(y_test, y_pred))"
   ]
  },
  {
   "cell_type": "markdown",
   "id": "7e449531-108d-4fbf-8960-95db9938dddd",
   "metadata": {},
   "source": [
    "# Doğrusal Olmayan SVR"
   ]
  },
  {
   "cell_type": "code",
   "execution_count": 104,
   "id": "a16e4c28-5aa2-44f9-bb2e-e4973dd944e7",
   "metadata": {},
   "outputs": [],
   "source": [
    "np.random.seed(3)\n",
    "\n",
    "x_sim = np.random.uniform(2, 10, 145)\n",
    "y_sim = np.sin(x_sim) + np.random.normal(0, 0.4, 145)\n",
    "\n",
    "x_outliers = np.arange(2.5, 5, 0.5)\n",
    "y_outliers = -5*np.ones(5)\n",
    "\n",
    "x_sim_idx = np.argsort(np.concatenate([x_sim, x_outliers]))\n",
    "x_sim = np.concatenate([x_sim, x_outliers])[x_sim_idx]\n",
    "y_sim = np.concatenate([y_sim, y_outliers])[x_sim_idx]\n",
    "\n",
    "ols = LinearRegression()\n",
    "ols.fit(np.sin(x_sim[:, np.newaxis]), y_sim)\n",
    "ols_pred = ols.predict(np.sin(x_sim[:, np.newaxis]))\n",
    "\n",
    "eps = 0.1\n",
    "svr = SVR(kernel = \"rbf\", epsilon = eps)\n",
    "svr.fit(x_sim[:, np.newaxis], y_sim)\n",
    "svr_pred = svr.predict(x_sim[:, np.newaxis])"
   ]
  },
  {
   "cell_type": "code",
   "execution_count": 105,
   "id": "a2f21081-e113-4650-bb10-b5b7efc91270",
   "metadata": {},
   "outputs": [
    {
     "data": {
      "image/png": "[encoded data removed]",
      "text/plain": [
       "<Figure size 432x288 with 1 Axes>"
      ]
     },
     "metadata": {
      "needs_background": "light"
     },
     "output_type": "display_data"
    }
   ],
   "source": [
    "plt.scatter(x_sim, y_sim, alpha=0.5, s=26)\n",
    "plt_ols, = plt.plot(x_sim, ols_pred, 'g')\n",
    "plt_svr, = plt.plot(x_sim, svr_pred, color='r')\n",
    "plt.xlabel(\"Bağımsız Değişken\")\n",
    "plt.ylabel(\"Bağımlı Değişken\")\n",
    "plt.ylim(-5.2, 2.2)\n",
    "plt.legend([plt_ols, plt_svr], ['EKK', 'SVR'], loc = 4);"
   ]
  },
  {
   "cell_type": "code",
   "execution_count": 108,
   "id": "62a94368-262b-4f16-82c4-3f86b1feb8d2",
   "metadata": {},
   "outputs": [],
   "source": [
    "hit = pd.read_csv(\"Ml3Hitters.csv\")\n",
    "df = hit.copy()\n",
    "df = df.dropna()\n",
    "dms = pd.get_dummies(df[['League', 'Division', 'NewLeague']])\n",
    "y = df[\"Salary\"]\n",
    "X_ = df.drop(['Salary', 'League', 'Division', 'NewLeague'], axis=1).astype('float64')\n",
    "X = pd.concat([X_, dms[['League_N', 'Division_W', 'NewLeague_N']]], axis=1)\n",
    "X_train, X_test, y_train, y_test = train_test_split(X, y, \n",
    "                                                    test_size=0.25, \n",
    "                                                    random_state=42)"
   ]
  },
  {
   "cell_type": "code",
   "execution_count": 109,
   "id": "a1179d3f-0e9e-42af-ad5a-5f79060aa579",
   "metadata": {},
   "outputs": [],
   "source": [
    "svr_rbf = SVR(kernel = \"rbf\").fit(X_train, y_train)"
   ]
  },
  {
   "cell_type": "markdown",
   "id": "c8628a01-2223-4e30-a472-a4eea9b25b1d",
   "metadata": {},
   "source": [
    "## Tahmin"
   ]
  },
  {
   "cell_type": "code",
   "execution_count": 110,
   "id": "45a1fb8e-90ef-4f92-a2e7-48d0d7d8fedf",
   "metadata": {},
   "outputs": [
    {
     "data": {
      "text/plain": [
       "460.0032657244849"
      ]
     },
     "execution_count": 110,
     "metadata": {},
     "output_type": "execute_result"
    }
   ],
   "source": [
    "y_pred = svr_rbf.predict(X_test)\n",
    "np.sqrt(mean_squared_error(y_test, y_pred))"
   ]
  },
  {
   "cell_type": "markdown",
   "id": "7baeec1a-ba92-43a4-a458-e9e978ee800f",
   "metadata": {},
   "source": [
    "## Model Tuning"
   ]
  },
  {
   "cell_type": "code",
   "execution_count": 112,
   "id": "5d07180a-6f66-4fb2-afa2-8ea6c12f06d1",
   "metadata": {},
   "outputs": [
    {
     "data": {
      "text/plain": [
       "GridSearchCV(cv=10, estimator=SVR(),\n",
       "             param_grid={'C': [0.1, 0.4, 5, 10, 20, 30, 40, 50]})"
      ]
     },
     "execution_count": 112,
     "metadata": {},
     "output_type": "execute_result"
    }
   ],
   "source": [
    "svr_params = {\"C\": [0.1,0.4,5,10,20,30,40,50]}\n",
    "svr_cv_model = GridSearchCV(svr_rbf,svr_params, cv = 10)\n",
    "svr_cv_model.fit(X_train, y_train)"
   ]
  },
  {
   "cell_type": "code",
   "execution_count": 116,
   "id": "f6f521ac-8483-4635-8b6b-b864c5610ebf",
   "metadata": {},
   "outputs": [
    {
     "data": {
      "text/plain": [
       "50"
      ]
     },
     "execution_count": 116,
     "metadata": {},
     "output_type": "execute_result"
    }
   ],
   "source": [
    "pd.Series(svr_cv_model.best_params_)[0]"
   ]
  },
  {
   "cell_type": "code",
   "execution_count": 118,
   "id": "01e57b46-6559-4161-a75d-27db15c3d839",
   "metadata": {},
   "outputs": [
    {
     "data": {
      "text/plain": [
       "428.00406888095694"
      ]
     },
     "execution_count": 118,
     "metadata": {},
     "output_type": "execute_result"
    }
   ],
   "source": [
    "svr_tuned = SVR(kernel = \"rbf\", C = pd.Series(svr_cv_model.best_params_)[0]).fit(X_train, y_train)\n",
    "y_pred = svr_tuned.predict(X_test)\n",
    "np.sqrt(mean_squared_error(y_test, y_pred))"
   ]
  },
  {
   "cell_type": "markdown",
   "id": "eef05e1e-c226-46fc-b311-88d02ab69ac3",
   "metadata": {
    "tags": []
   },
   "source": [
    "# Yapay Sinir Ağları (Çok Katmanlı Algılayıcı)\n",
    "\n",
    "İnsan beyninin bilgi işleme şeklini referans alan sınıflandırma ve regresyon problemleri için kullanılabilen kuvvetli makine öğrenmesi algoritmalarından birisidir\n",
    "<br><br><br>\n",
    "${\\displaystyle h_k (x)=g(\\beta_{0k} + {\\sum_{j=1}^P}x_j \\beta_{jk})}$\n",
    "<br><br>\n",
    "${\\displaystyle g(u)= {\\frac{1}{1+ e^{-u}}}}$\n",
    "<br><br>\n",
    "${\\displaystyle f(x) = \\gamma_0 + {\\sum_{k=1}^H}\\gamma_k h_k}$\n",
    "<br><br>\n",
    "${\\displaystyle {\\sum_{i=1}^n}(y_i - f_i (x))^2 + \\lambda {\\sum_{k=1}^H}{\\sum_{j = 0}^P}\\beta_{jk}^2 + \\lambda{\\sum_{k=0}^H}\\gamma_k^2}$"
   ]
  },
  {
   "cell_type": "code",
   "execution_count": 131,
   "id": "7547864a-2a54-41ce-8b4b-a74cc6ff45d2",
   "metadata": {},
   "outputs": [],
   "source": [
    "hit = pd.read_csv(\"Ml3Hitters.csv\")\n",
    "df = hit.copy()\n",
    "df = df.dropna()\n",
    "dms = pd.get_dummies(df[['League', 'Division', 'NewLeague']])\n",
    "y = df[\"Salary\"]\n",
    "X_ = df.drop(['Salary', 'League', 'Division', 'NewLeague'], axis=1).astype('float64')\n",
    "X = pd.concat([X_, dms[['League_N', 'Division_W', 'NewLeague_N']]], axis=1)\n",
    "X_train, X_test, y_train, y_test = train_test_split(X, y, \n",
    "                                                    test_size=0.25, \n",
    "                                                    random_state=42)"
   ]
  },
  {
   "cell_type": "code",
   "execution_count": 132,
   "id": "df6731d9-1190-45a9-9b4f-47d4a2bada6f",
   "metadata": {},
   "outputs": [],
   "source": [
    "scaler = StandardScaler()\n",
    "scaler.fit(X_train)\n",
    "X_train_scaled = scaler.transform(X_train)\n",
    "X_test_scaled = scaler.transform(X_test)"
   ]
  },
  {
   "cell_type": "code",
   "execution_count": 137,
   "id": "e973bc10-e821-4a56-8d0b-ba569297c277",
   "metadata": {},
   "outputs": [
    {
     "name": "stdout",
     "output_type": "stream",
     "text": [
      "3\n",
      "(100,)\n"
     ]
    }
   ],
   "source": [
    "mlp_model = MLPRegressor().fit(X_train_scaled, y_train)\n",
    "print(mlp_model.n_layers_)\n",
    "print(mlp_model.hidden_layer_sizes)"
   ]
  },
  {
   "cell_type": "code",
   "execution_count": 140,
   "id": "9d188f03-1730-40f5-9763-e12d290ec67c",
   "metadata": {},
   "outputs": [
    {
     "name": "stdout",
     "output_type": "stream",
     "text": [
      "(100, 20)\n",
      "4\n"
     ]
    }
   ],
   "source": [
    "mlp_model = MLPRegressor(hidden_layer_sizes = (100,20)).fit(X_train_scaled, y_train)\n",
    "print(mlp_model.hidden_layer_sizes)\n",
    "print(mlp_model.n_layers_)"
   ]
  },
  {
   "cell_type": "markdown",
   "id": "0eb893aa-2f63-4171-a0e3-b25c2e44d7de",
   "metadata": {},
   "source": [
    "## Tahmin"
   ]
  },
  {
   "cell_type": "code",
   "execution_count": 141,
   "id": "5787c3ef-19f3-4cf1-b6c7-7917361f59c6",
   "metadata": {},
   "outputs": [
    {
     "data": {
      "text/plain": [
       "array([ 79.59443009, 390.66435746, 256.57332638,  67.57010631,\n",
       "        73.41336041])"
      ]
     },
     "execution_count": 141,
     "metadata": {},
     "output_type": "execute_result"
    }
   ],
   "source": [
    "mlp_model.predict(X_train_scaled)[0:5]"
   ]
  },
  {
   "cell_type": "code",
   "execution_count": 142,
   "id": "6392615c-2d55-45f4-82d5-4dff936aed0f",
   "metadata": {},
   "outputs": [
    {
     "data": {
      "text/plain": [
       "451.86547151287"
      ]
     },
     "execution_count": 142,
     "metadata": {},
     "output_type": "execute_result"
    }
   ],
   "source": [
    "y_pred = mlp_model.predict(X_test_scaled)\n",
    "np.sqrt(mean_squared_error(y_test, y_pred))"
   ]
  },
  {
   "cell_type": "markdown",
   "id": "d5277514-e043-4c56-9089-cee3b6f3c163",
   "metadata": {},
   "source": [
    "## Model Tuning"
   ]
  },
  {
   "cell_type": "code",
   "execution_count": 145,
   "id": "80325447-a36c-4721-8058-b857418ec01b",
   "metadata": {},
   "outputs": [
    {
     "data": {
      "text/plain": [
       "{'activation': 'relu', 'alpha': 0.005, 'hidden_layer_sizes': (100, 50, 150)}"
      ]
     },
     "execution_count": 145,
     "metadata": {},
     "output_type": "execute_result"
    }
   ],
   "source": [
    "mlp_params = {\"alpha\": [0.1,0.01,0.02,0.005],\n",
    "              \"hidden_layer_sizes\": [(20,20),(100,50,150),(300,200,150)],\n",
    "              \"activation\": [\"relu\",\"logistic\"]}\n",
    "mlp_cv_model = GridSearchCV(mlp_model, mlp_params, cv = 10).fit(X_train_scaled, y_train)\n",
    "mlp_cv_model.best_params_"
   ]
  },
  {
   "cell_type": "code",
   "execution_count": 147,
   "id": "7e37b754-68dc-42f6-b3c3-3c6838f83bfe",
   "metadata": {},
   "outputs": [
    {
     "data": {
      "text/plain": [
       "361.2123051320188"
      ]
     },
     "execution_count": 147,
     "metadata": {},
     "output_type": "execute_result"
    }
   ],
   "source": [
    "mlp_tuned = MLPRegressor(alpha = 0.02,hidden_layer_sizes = (100,50,150)).fit(X_train_scaled, y_train)\n",
    "y_pred = mlp_tuned.predict(X_test_scaled)\n",
    "np.sqrt(mean_squared_error(y_test, y_pred))"
   ]
  },
  {
   "cell_type": "markdown",
   "id": "1678ac22-2343-4716-8a61-6fb3c732c8ad",
   "metadata": {},
   "source": [
    "# Regresyon Ağaçları (CART)\n",
    "\n",
    "Amaç, veri seti içerisindeki karmaşık yapıları basit karar yapılarına dönüştürmektir\n",
    "<br>\n",
    "Heterojen veri setleri belirlenmiş bir hedef değişkene göre homojen alt gruplara ayrılır"
   ]
  },
  {
   "cell_type": "code",
   "execution_count": 67,
   "id": "4999502f-58ff-423e-8b3d-ed8afd35bbab",
   "metadata": {},
   "outputs": [],
   "source": [
    "hit = pd.read_csv(\"Ml3Hitters.csv\")\n",
    "df = hit.copy()\n",
    "df = df.dropna()\n",
    "dms = pd.get_dummies(df[['League', 'Division', 'NewLeague']])\n",
    "y = df[\"Salary\"]\n",
    "X_ = df.drop(['Salary', 'League', 'Division', 'NewLeague'], axis=1).astype('float64')\n",
    "X = pd.concat([X_, dms[['League_N', 'Division_W', 'NewLeague_N']]], axis=1)\n",
    "X_train, X_test, y_train, y_test = train_test_split(X, y, \n",
    "                                                    test_size=0.25, \n",
    "                                                    random_state=42)"
   ]
  },
  {
   "cell_type": "code",
   "execution_count": 68,
   "id": "1e24884e-98cf-4e69-a78f-d9a974ce1046",
   "metadata": {},
   "outputs": [],
   "source": [
    "X_train = pd.DataFrame(X_train[\"Hits\"])\n",
    "X_test = pd.DataFrame(X_test[\"Hits\"])"
   ]
  },
  {
   "cell_type": "code",
   "execution_count": 69,
   "id": "a2239f98-9cde-494c-9387-01e130a1958c",
   "metadata": {},
   "outputs": [],
   "source": [
    "cart_model = DecisionTreeRegressor()"
   ]
  },
  {
   "cell_type": "code",
   "execution_count": 70,
   "id": "0d12b25d-2722-46b4-bada-94e5c2927a67",
   "metadata": {
    "collapsed": true,
    "jupyter": {
     "outputs_hidden": true
    },
    "tags": []
   },
   "outputs": [
    {
     "data": {
      "text/plain": [
       "\u001b[1;31mType:\u001b[0m        DecisionTreeRegressor\n",
       "\u001b[1;31mString form:\u001b[0m DecisionTreeRegressor()\n",
       "\u001b[1;31mFile:\u001b[0m        c:\\users\\tolga\\appdata\\local\\programs\\python\\python310\\lib\\site-packages\\sklearn\\tree\\_classes.py\n",
       "\u001b[1;31mDocstring:\u001b[0m  \n",
       "A decision tree regressor.\n",
       "\n",
       "Read more in the :ref:`User Guide <tree>`.\n",
       "\n",
       "Parameters\n",
       "----------\n",
       "criterion : {\"squared_error\", \"friedman_mse\", \"absolute_error\",             \"poisson\"}, default=\"squared_error\"\n",
       "    The function to measure the quality of a split. Supported criteria\n",
       "    are \"squared_error\" for the mean squared error, which is equal to\n",
       "    variance reduction as feature selection criterion and minimizes the L2\n",
       "    loss using the mean of each terminal node, \"friedman_mse\", which uses\n",
       "    mean squared error with Friedman's improvement score for potential\n",
       "    splits, \"absolute_error\" for the mean absolute error, which minimizes\n",
       "    the L1 loss using the median of each terminal node, and \"poisson\" which\n",
       "    uses reduction in Poisson deviance to find splits.\n",
       "\n",
       "    .. versionadded:: 0.18\n",
       "       Mean Absolute Error (MAE) criterion.\n",
       "\n",
       "    .. versionadded:: 0.24\n",
       "        Poisson deviance criterion.\n",
       "\n",
       "    .. deprecated:: 1.0\n",
       "        Criterion \"mse\" was deprecated in v1.0 and will be removed in\n",
       "        version 1.2. Use `criterion=\"squared_error\"` which is equivalent.\n",
       "\n",
       "    .. deprecated:: 1.0\n",
       "        Criterion \"mae\" was deprecated in v1.0 and will be removed in\n",
       "        version 1.2. Use `criterion=\"absolute_error\"` which is equivalent.\n",
       "\n",
       "splitter : {\"best\", \"random\"}, default=\"best\"\n",
       "    The strategy used to choose the split at each node. Supported\n",
       "    strategies are \"best\" to choose the best split and \"random\" to choose\n",
       "    the best random split.\n",
       "\n",
       "max_depth : int, default=None\n",
       "    The maximum depth of the tree. If None, then nodes are expanded until\n",
       "    all leaves are pure or until all leaves contain less than\n",
       "    min_samples_split samples.\n",
       "\n",
       "min_samples_split : int or float, default=2\n",
       "    The minimum number of samples required to split an internal node:\n",
       "\n",
       "    - If int, then consider `min_samples_split` as the minimum number.\n",
       "    - If float, then `min_samples_split` is a fraction and\n",
       "      `ceil(min_samples_split * n_samples)` are the minimum\n",
       "      number of samples for each split.\n",
       "\n",
       "    .. versionchanged:: 0.18\n",
       "       Added float values for fractions.\n",
       "\n",
       "min_samples_leaf : int or float, default=1\n",
       "    The minimum number of samples required to be at a leaf node.\n",
       "    A split point at any depth will only be considered if it leaves at\n",
       "    least ``min_samples_leaf`` training samples in each of the left and\n",
       "    right branches.  This may have the effect of smoothing the model,\n",
       "    especially in regression.\n",
       "\n",
       "    - If int, then consider `min_samples_leaf` as the minimum number.\n",
       "    - If float, then `min_samples_leaf` is a fraction and\n",
       "      `ceil(min_samples_leaf * n_samples)` are the minimum\n",
       "      number of samples for each node.\n",
       "\n",
       "    .. versionchanged:: 0.18\n",
       "       Added float values for fractions.\n",
       "\n",
       "min_weight_fraction_leaf : float, default=0.0\n",
       "    The minimum weighted fraction of the sum total of weights (of all\n",
       "    the input samples) required to be at a leaf node. Samples have\n",
       "    equal weight when sample_weight is not provided.\n",
       "\n",
       "max_features : int, float or {\"auto\", \"sqrt\", \"log2\"}, default=None\n",
       "    The number of features to consider when looking for the best split:\n",
       "\n",
       "    - If int, then consider `max_features` features at each split.\n",
       "    - If float, then `max_features` is a fraction and\n",
       "      `int(max_features * n_features)` features are considered at each\n",
       "      split.\n",
       "    - If \"auto\", then `max_features=n_features`.\n",
       "    - If \"sqrt\", then `max_features=sqrt(n_features)`.\n",
       "    - If \"log2\", then `max_features=log2(n_features)`.\n",
       "    - If None, then `max_features=n_features`.\n",
       "\n",
       "    Note: the search for a split does not stop until at least one\n",
       "    valid partition of the node samples is found, even if it requires to\n",
       "    effectively inspect more than ``max_features`` features.\n",
       "\n",
       "random_state : int, RandomState instance or None, default=None\n",
       "    Controls the randomness of the estimator. The features are always\n",
       "    randomly permuted at each split, even if ``splitter`` is set to\n",
       "    ``\"best\"``. When ``max_features < n_features``, the algorithm will\n",
       "    select ``max_features`` at random at each split before finding the best\n",
       "    split among them. But the best found split may vary across different\n",
       "    runs, even if ``max_features=n_features``. That is the case, if the\n",
       "    improvement of the criterion is identical for several splits and one\n",
       "    split has to be selected at random. To obtain a deterministic behaviour\n",
       "    during fitting, ``random_state`` has to be fixed to an integer.\n",
       "    See :term:`Glossary <random_state>` for details.\n",
       "\n",
       "max_leaf_nodes : int, default=None\n",
       "    Grow a tree with ``max_leaf_nodes`` in best-first fashion.\n",
       "    Best nodes are defined as relative reduction in impurity.\n",
       "    If None then unlimited number of leaf nodes.\n",
       "\n",
       "min_impurity_decrease : float, default=0.0\n",
       "    A node will be split if this split induces a decrease of the impurity\n",
       "    greater than or equal to this value.\n",
       "\n",
       "    The weighted impurity decrease equation is the following::\n",
       "\n",
       "        N_t / N * (impurity - N_t_R / N_t * right_impurity\n",
       "                            - N_t_L / N_t * left_impurity)\n",
       "\n",
       "    where ``N`` is the total number of samples, ``N_t`` is the number of\n",
       "    samples at the current node, ``N_t_L`` is the number of samples in the\n",
       "    left child, and ``N_t_R`` is the number of samples in the right child.\n",
       "\n",
       "    ``N``, ``N_t``, ``N_t_R`` and ``N_t_L`` all refer to the weighted sum,\n",
       "    if ``sample_weight`` is passed.\n",
       "\n",
       "    .. versionadded:: 0.19\n",
       "\n",
       "ccp_alpha : non-negative float, default=0.0\n",
       "    Complexity parameter used for Minimal Cost-Complexity Pruning. The\n",
       "    subtree with the largest cost complexity that is smaller than\n",
       "    ``ccp_alpha`` will be chosen. By default, no pruning is performed. See\n",
       "    :ref:`minimal_cost_complexity_pruning` for details.\n",
       "\n",
       "    .. versionadded:: 0.22\n",
       "\n",
       "Attributes\n",
       "----------\n",
       "feature_importances_ : ndarray of shape (n_features,)\n",
       "    The feature importances.\n",
       "    The higher, the more important the feature.\n",
       "    The importance of a feature is computed as the\n",
       "    (normalized) total reduction of the criterion brought\n",
       "    by that feature. It is also known as the Gini importance [4]_.\n",
       "\n",
       "    Warning: impurity-based feature importances can be misleading for\n",
       "    high cardinality features (many unique values). See\n",
       "    :func:`sklearn.inspection.permutation_importance` as an alternative.\n",
       "\n",
       "max_features_ : int\n",
       "    The inferred value of max_features.\n",
       "\n",
       "n_features_ : int\n",
       "    The number of features when ``fit`` is performed.\n",
       "\n",
       "    .. deprecated:: 1.0\n",
       "       `n_features_` is deprecated in 1.0 and will be removed in\n",
       "       1.2. Use `n_features_in_` instead.\n",
       "\n",
       "n_features_in_ : int\n",
       "    Number of features seen during :term:`fit`.\n",
       "\n",
       "    .. versionadded:: 0.24\n",
       "\n",
       "feature_names_in_ : ndarray of shape (`n_features_in_`,)\n",
       "    Names of features seen during :term:`fit`. Defined only when `X`\n",
       "    has feature names that are all strings.\n",
       "\n",
       "    .. versionadded:: 1.0\n",
       "\n",
       "n_outputs_ : int\n",
       "    The number of outputs when ``fit`` is performed.\n",
       "\n",
       "tree_ : Tree instance\n",
       "    The underlying Tree object. Please refer to\n",
       "    ``help(sklearn.tree._tree.Tree)`` for attributes of Tree object and\n",
       "    :ref:`sphx_glr_auto_examples_tree_plot_unveil_tree_structure.py`\n",
       "    for basic usage of these attributes.\n",
       "\n",
       "See Also\n",
       "--------\n",
       "DecisionTreeClassifier : A decision tree classifier.\n",
       "\n",
       "Notes\n",
       "-----\n",
       "The default values for the parameters controlling the size of the trees\n",
       "(e.g. ``max_depth``, ``min_samples_leaf``, etc.) lead to fully grown and\n",
       "unpruned trees which can potentially be very large on some data sets. To\n",
       "reduce memory consumption, the complexity and size of the trees should be\n",
       "controlled by setting those parameter values.\n",
       "\n",
       "References\n",
       "----------\n",
       "\n",
       ".. [1] https://en.wikipedia.org/wiki/Decision_tree_learning\n",
       "\n",
       ".. [2] L. Breiman, J. Friedman, R. Olshen, and C. Stone, \"Classification\n",
       "       and Regression Trees\", Wadsworth, Belmont, CA, 1984.\n",
       "\n",
       ".. [3] T. Hastie, R. Tibshirani and J. Friedman. \"Elements of Statistical\n",
       "       Learning\", Springer, 2009.\n",
       "\n",
       ".. [4] L. Breiman, and A. Cutler, \"Random Forests\",\n",
       "       https://www.stat.berkeley.edu/~breiman/RandomForests/cc_home.htm\n",
       "\n",
       "Examples\n",
       "--------\n",
       ">>> from sklearn.datasets import load_diabetes\n",
       ">>> from sklearn.model_selection import cross_val_score\n",
       ">>> from sklearn.tree import DecisionTreeRegressor\n",
       ">>> X, y = load_diabetes(return_X_y=True)\n",
       ">>> regressor = DecisionTreeRegressor(random_state=0)\n",
       ">>> cross_val_score(regressor, X, y, cv=10)\n",
       "...                    # doctest: +SKIP\n",
       "...\n",
       "array([-0.39..., -0.46...,  0.02...,  0.06..., -0.50...,\n",
       "       0.16...,  0.11..., -0.73..., -0.30..., -0.00...])\n"
      ]
     },
     "metadata": {},
     "output_type": "display_data"
    }
   ],
   "source": [
    "?cart_model"
   ]
  },
  {
   "cell_type": "code",
   "execution_count": 71,
   "id": "355c5856-cf47-4a5f-81e7-4b57819cb9d4",
   "metadata": {
    "tags": []
   },
   "outputs": [
    {
     "data": {
      "text/plain": [
       "DecisionTreeRegressor()"
      ]
     },
     "execution_count": 71,
     "metadata": {},
     "output_type": "execute_result"
    }
   ],
   "source": [
    "cart_model.fit(X_train, y_train)"
   ]
  },
  {
   "cell_type": "code",
   "execution_count": 72,
   "id": "514aeeb1-eea7-49d4-b245-6739e817b812",
   "metadata": {},
   "outputs": [],
   "source": [
    "# # Ağaç yapısını gösterme\n",
    "\n",
    "# !pip install skompiler\n",
    "# !pip install SKompiler[full]\n",
    "# from skompiler import skompile"
   ]
  },
  {
   "cell_type": "code",
   "execution_count": 73,
   "id": "8abcc1cc-4a11-4d4f-a376-18a142d46432",
   "metadata": {},
   "outputs": [
    {
     "data": {
      "image/png": "[encoded data removed]",
      "text/plain": [
       "<Figure size 432x288 with 1 Axes>"
      ]
     },
     "metadata": {
      "needs_background": "light"
     },
     "output_type": "display_data"
    }
   ],
   "source": [
    "X_grid = np.arange(min(np.array(X_train)),max(np.array(X_train)), 0.01) \n",
    "X_grid = X_grid.reshape((len(X_grid), 1))  \n",
    "plt.scatter(X_train, y_train, color = 'red') \n",
    "plt.plot(X_grid, cart_model.predict(X_grid), color = 'blue')  \n",
    "plt.title('CART REGRESYON AĞACI')  \n",
    "plt.xlabel('Atış Sayısı(Hits)') \n",
    "plt.ylabel('Maaş (Salary)') ;"
   ]
  },
  {
   "cell_type": "code",
   "execution_count": 74,
   "id": "651036e3-b77e-4e13-b394-783eaadc8e83",
   "metadata": {},
   "outputs": [
    {
     "name": "stdout",
     "output_type": "stream",
     "text": [
      "((920.0 if x[0] <= 18.0 else ((500.0 if x[0] <= 34.5 else (70.0 if x[0] <= \n",
      "    38.0 else 175.0) if x[0] <= 39.5 else 90.0 if x[0] <= 40.5 else 67.5) if\n",
      "    x[0] <= 41.5 else 900.0 if x[0] <= 42.5 else (((((215.55566666666664 if\n",
      "    x[0] <= 44.5 else 180.0) if x[0] <= 46.5 else 347.5 if x[0] <= 48.0 else\n",
      "    337.5) if x[0] <= 50.0 else 70.0) if x[0] <= 51.5 else 507.5) if x[0] <=\n",
      "    52.5 else 150.0 if x[0] <= 53.5 else 146.83333333333334) if x[0] <= \n",
      "    54.5 else 1300.0 if x[0] <= 55.5 else (170.0 if x[0] <= 56.5 else \n",
      "    193.75) if x[0] <= 57.5 else ((((((340.0 if x[0] <= 59.0 else 418.5) if\n",
      "    x[0] <= 60.5 else 235.0 if x[0] <= 62.0 else 341.667) if x[0] <= 63.5 else\n",
      "    75.0) if x[0] <= 64.5 else 650.0) if x[0] <= 65.5 else 170.0 if x[0] <=\n",
      "    67.0 else 228.66666666666666) if x[0] <= 69.0 else 472.5) if x[0] <= \n",
      "    70.5 else (100.0 if x[0] <= 71.5 else 130.0) if x[0] <= 72.5 else \n",
      "    409.1665 if x[0] <= 74.5 else 215.0) if x[0] <= 76.5 else (((505.0 if x\n",
      "    [0] <= 77.5 else ((((328.88899999999995 if x[0] <= 79.0 else 700.0) if \n",
      "    x[0] <= 80.5 else 348.75 if x[0] <= 81.5 else 267.5) if x[0] <= 82.5 else\n",
      "    600.0 if x[0] <= 83.5 else 600.0) if x[0] <= 84.5 else (331.25 if x[0] <=\n",
      "    85.5 else (180.0 if x[0] <= 86.5 else 91.5) if x[0] <= 88.5 else 450.0 if\n",
      "    x[0] <= 90.5 else 125.0) if x[0] <= 91.5 else 411.25 if x[0] <= 92.5 else\n",
      "    250.0) if x[0] <= 93.5 else 670.0 if x[0] <= 94.5 else ((100.0 if x[0] <=\n",
      "    95.5 else 504.1665) if x[0] <= 96.5 else 210.0 if x[0] <= 98.0 else \n",
      "    87.5) if x[0] <= 100.0 else 466.0) if x[0] <= 101.5 else 247.5 if x[0] <=\n",
      "    102.5 else 257.3334) if x[0] <= 103.5 else (750.0 if x[0] <= 105.0 else\n",
      "    850.0) if x[0] <= 107.0 else 162.5 if x[0] <= 109.0 else (560.0 if x[0] <=\n",
      "    111.0 else 442.5 if x[0] <= 112.5 else 487.5) if x[0] <= 114.0 else \n",
      "    300.0) if x[0] <= 116.0 else 110.0) if x[0] <= 117.5 else ((((1300.0 if\n",
      "    x[0] <= 118.5 else 773.3333333333334 if x[0] <= 120.5 else 442.5) if x[\n",
      "    0] <= 122.5 else 1240.0 if x[0] <= 124.0 else 1925.571) if x[0] <= \n",
      "    125.5 else (561.25 if x[0] <= 126.5 else (695.2776666666667 if x[0] <= \n",
      "    127.5 else 1043.75) if x[0] <= 128.5 else (750.0 if x[0] <= 129.5 else \n",
      "    480.0) if x[0] <= 130.5 else 726.6666666666666) if x[0] <= 131.5 else (\n",
      "    ((611.6665 if x[0] <= 133.5 else 461.0) if x[0] <= 135.5 else 725.0) if\n",
      "    x[0] <= 137.0 else 152.5 if x[0] <= 138.5 else 555.0 if x[0] <= 139.5 else\n",
      "    200.0) if x[0] <= 140.5 else 712.5 if x[0] <= 141.5 else 777.5) if x[0] <=\n",
      "    143.0 else (((1021.6666666666666 if x[0] <= 144.5 else 500.0 if x[0] <=\n",
      "    145.5 else 815.0) if x[0] <= 146.5 else 1230.0 if x[0] <= 148.0 else \n",
      "    787.5 if x[0] <= 149.5 else 1000.0) if x[0] <= 150.5 else 2460.0) if x[\n",
      "    0] <= 151.5 else (451.6666666666667 if x[0] <= 153.0 else 580.0 if x[0] <=\n",
      "    155.5 else 530.0) if x[0] <= 157.5 else (((((775.0 if x[0] <= 158.5 else\n",
      "    759.1665) if x[0] <= 159.5 else 1670.0 if x[0] <= 161.5 else 923.0 if x\n",
      "    [0] <= 165.5 else 863.0556666666666) if x[0] <= 168.5 else \n",
      "    743.3333333333334) if x[0] <= 169.5 else 1118.75 if x[0] <= 170.5 else \n",
      "    1350.0) if x[0] <= 171.5 else 165.0 if x[0] <= 173.0 else (849.3335 if \n",
      "    x[0] <= 175.5 else 1350.0) if x[0] <= 177.5 else (740.0 if x[0] <= \n",
      "    178.5 else 575.0 if x[0] <= 181.5 else 630.0) if x[0] <= 185.0 else \n",
      "    1300.0 if x[0] <= 198.5 else 740.0) if x[0] <= 212.0 else 350.0) if x[0\n",
      "    ] <= 225.5 else 1975.0)\n",
      "\n"
     ]
    }
   ],
   "source": [
    "# Karar kural seti\n",
    "print(skompile(cart_model.predict).to(\"python/code\"))"
   ]
  },
  {
   "cell_type": "code",
   "execution_count": 75,
   "id": "a8550889-6cfe-4167-ae55-7956e8c13ccf",
   "metadata": {},
   "outputs": [
    {
     "data": {
      "image/png": "[encoded data removed]",
      "text/plain": [
       "<Figure size 432x288 with 1 Axes>"
      ]
     },
     "metadata": {
      "needs_background": "light"
     },
     "output_type": "display_data"
    }
   ],
   "source": [
    "cart_model = DecisionTreeRegressor(max_leaf_nodes = 3)\n",
    "cart_model.fit(X_train, y_train)\n",
    "X_grid = np.arange(min(np.array(X_train)),max(np.array(X_train)), 0.01) \n",
    "X_grid = X_grid.reshape((len(X_grid), 1))  \n",
    "plt.scatter(X_train, y_train, color = 'red') \n",
    "plt.plot(X_grid, cart_model.predict(X_grid), color = 'blue')  \n",
    "plt.title('CART REGRESYON AĞACI')  \n",
    "plt.xlabel('Atış Sayısı(Hits)') \n",
    "plt.ylabel('Maaş (Salary)') ;"
   ]
  },
  {
   "cell_type": "code",
   "execution_count": 76,
   "id": "7c262224-6831-43ec-a6d2-95693298be9d",
   "metadata": {},
   "outputs": [
    {
     "name": "stdout",
     "output_type": "stream",
     "text": [
      "(345.2011551724138 if x[0] <= 117.5 else 813.0988 if x[0] <= 225.5 else 1975.0)\n",
      "\n"
     ]
    }
   ],
   "source": [
    "# Karar kural seti\n",
    "print(skompile(cart_model.predict).to(\"python/code\"))"
   ]
  },
  {
   "cell_type": "code",
   "execution_count": 77,
   "id": "b3631f3a-ec72-45e7-9df0-4f85508c5c67",
   "metadata": {},
   "outputs": [
    {
     "data": {
      "image/png": "[encoded data removed]",
      "text/plain": [
       "<Figure size 432x288 with 1 Axes>"
      ]
     },
     "metadata": {
      "needs_background": "light"
     },
     "output_type": "display_data"
    }
   ],
   "source": [
    "cart_model = DecisionTreeRegressor(min_samples_split = 2)\n",
    "cart_model.fit(X_train, y_train)\n",
    "X_grid = np.arange(min(np.array(X_train)),max(np.array(X_train)), 0.01) \n",
    "X_grid = X_grid.reshape((len(X_grid), 1))  \n",
    "plt.scatter(X_train, y_train, color = 'red') \n",
    "plt.plot(X_grid, cart_model.predict(X_grid), color = 'blue')  \n",
    "plt.title('CART REGRESYON AĞACI')  \n",
    "plt.xlabel('Atış Sayısı(Hits)') \n",
    "plt.ylabel('Maaş (Salary)') ;"
   ]
  },
  {
   "cell_type": "code",
   "execution_count": 78,
   "id": "19960cc9-fa45-4f9c-bf61-73e9ac7f6c4b",
   "metadata": {},
   "outputs": [
    {
     "name": "stdout",
     "output_type": "stream",
     "text": [
      "((920.0 if x[0] <= 18.0 else ((500.0 if x[0] <= 34.5 else (70.0 if x[0] <= \n",
      "    38.0 else 175.0) if x[0] <= 39.5 else 90.0 if x[0] <= 40.5 else 67.5) if\n",
      "    x[0] <= 41.5 else 900.0 if x[0] <= 42.5 else (((((215.55566666666664 if\n",
      "    x[0] <= 44.5 else 180.0) if x[0] <= 46.5 else 347.5 if x[0] <= 48.0 else\n",
      "    337.5) if x[0] <= 50.0 else 70.0) if x[0] <= 51.5 else 507.5) if x[0] <=\n",
      "    52.5 else 150.0 if x[0] <= 53.5 else 146.83333333333334) if x[0] <= \n",
      "    54.5 else 1300.0 if x[0] <= 55.5 else (170.0 if x[0] <= 56.5 else \n",
      "    193.75) if x[0] <= 57.5 else ((((((340.0 if x[0] <= 59.0 else 418.5) if\n",
      "    x[0] <= 60.5 else 235.0 if x[0] <= 62.0 else 341.667) if x[0] <= 63.5 else\n",
      "    75.0) if x[0] <= 64.5 else 650.0) if x[0] <= 65.5 else 170.0 if x[0] <=\n",
      "    67.0 else 228.66666666666666) if x[0] <= 69.0 else 472.5) if x[0] <= \n",
      "    70.5 else (100.0 if x[0] <= 71.5 else 130.0) if x[0] <= 72.5 else \n",
      "    409.1665 if x[0] <= 74.5 else 215.0) if x[0] <= 76.5 else (((505.0 if x\n",
      "    [0] <= 77.5 else ((((328.88899999999995 if x[0] <= 79.0 else 700.0) if \n",
      "    x[0] <= 80.5 else 348.75 if x[0] <= 81.5 else 267.5) if x[0] <= 82.5 else\n",
      "    600.0 if x[0] <= 83.5 else 600.0) if x[0] <= 84.5 else (331.25 if x[0] <=\n",
      "    85.5 else (180.0 if x[0] <= 86.5 else 91.5) if x[0] <= 88.5 else 450.0 if\n",
      "    x[0] <= 90.5 else 125.0) if x[0] <= 91.5 else 411.25 if x[0] <= 92.5 else\n",
      "    250.0) if x[0] <= 93.5 else 670.0 if x[0] <= 94.5 else ((100.0 if x[0] <=\n",
      "    95.5 else 504.1665) if x[0] <= 96.5 else 210.0 if x[0] <= 98.0 else \n",
      "    87.5) if x[0] <= 100.0 else 466.0) if x[0] <= 101.5 else 247.5 if x[0] <=\n",
      "    102.5 else 257.3334) if x[0] <= 103.5 else (750.0 if x[0] <= 105.0 else\n",
      "    850.0) if x[0] <= 107.0 else 162.5 if x[0] <= 109.0 else (560.0 if x[0] <=\n",
      "    111.0 else 442.5 if x[0] <= 112.5 else 487.5) if x[0] <= 114.0 else \n",
      "    300.0) if x[0] <= 116.0 else 110.0) if x[0] <= 117.5 else ((((1300.0 if\n",
      "    x[0] <= 118.5 else 773.3333333333334 if x[0] <= 120.5 else 442.5) if x[\n",
      "    0] <= 122.5 else 1240.0 if x[0] <= 124.0 else 1925.571) if x[0] <= \n",
      "    125.5 else (561.25 if x[0] <= 126.5 else (695.2776666666667 if x[0] <= \n",
      "    127.5 else 1043.75) if x[0] <= 128.5 else (750.0 if x[0] <= 129.5 else \n",
      "    480.0) if x[0] <= 130.5 else 726.6666666666666) if x[0] <= 131.5 else (\n",
      "    ((611.6665 if x[0] <= 133.5 else 461.0) if x[0] <= 135.5 else 725.0) if\n",
      "    x[0] <= 137.0 else 152.5 if x[0] <= 138.5 else 555.0 if x[0] <= 139.5 else\n",
      "    200.0) if x[0] <= 140.5 else 712.5 if x[0] <= 141.5 else 777.5) if x[0] <=\n",
      "    143.0 else (((1021.6666666666666 if x[0] <= 144.5 else 500.0 if x[0] <=\n",
      "    145.5 else 815.0) if x[0] <= 146.5 else 1230.0 if x[0] <= 148.0 else \n",
      "    787.5 if x[0] <= 149.5 else 1000.0) if x[0] <= 150.5 else 2460.0) if x[\n",
      "    0] <= 151.5 else (451.6666666666667 if x[0] <= 153.0 else 580.0 if x[0] <=\n",
      "    155.5 else 530.0) if x[0] <= 157.5 else (((((775.0 if x[0] <= 158.5 else\n",
      "    759.1665) if x[0] <= 159.5 else 1670.0 if x[0] <= 161.5 else 923.0 if x\n",
      "    [0] <= 165.5 else 863.0556666666666) if x[0] <= 168.5 else \n",
      "    743.3333333333334) if x[0] <= 169.5 else 1118.75 if x[0] <= 170.5 else \n",
      "    1350.0) if x[0] <= 171.5 else 165.0 if x[0] <= 173.0 else (849.3335 if \n",
      "    x[0] <= 175.5 else 1350.0) if x[0] <= 177.5 else (740.0 if x[0] <= \n",
      "    178.5 else 575.0 if x[0] <= 181.5 else 630.0) if x[0] <= 185.0 else \n",
      "    1300.0 if x[0] <= 198.5 else 740.0) if x[0] <= 212.0 else 350.0) if x[0\n",
      "    ] <= 225.5 else 1975.0)\n",
      "\n"
     ]
    }
   ],
   "source": [
    "# Karar kural seti\n",
    "print(skompile(cart_model.predict).to(\"python/code\"))"
   ]
  },
  {
   "cell_type": "code",
   "execution_count": 79,
   "id": "b29676f1-f7c7-41fd-84e7-c0dd2d97e306",
   "metadata": {},
   "outputs": [
    {
     "data": {
      "image/png": "[encoded data removed]",
      "text/plain": [
       "<Figure size 432x288 with 1 Axes>"
      ]
     },
     "metadata": {
      "needs_background": "light"
     },
     "output_type": "display_data"
    }
   ],
   "source": [
    "cart_model = DecisionTreeRegressor(max_leaf_nodes = 10)\n",
    "cart_model.fit(X_train, y_train)\n",
    "X_grid = np.arange(min(np.array(X_train)),max(np.array(X_train)), 0.01) \n",
    "X_grid = X_grid.reshape((len(X_grid), 1))  \n",
    "plt.scatter(X_train, y_train, color = 'red') \n",
    "plt.plot(X_grid, cart_model.predict(X_grid), color = 'blue')  \n",
    "plt.title('CART REGRESYON AĞACI')  \n",
    "plt.xlabel('Atış Sayısı(Hits)') \n",
    "plt.ylabel('Maaş (Salary)') ;"
   ]
  },
  {
   "cell_type": "code",
   "execution_count": 80,
   "id": "c1477aff-53dc-421b-b1e8-9821171f721c",
   "metadata": {},
   "outputs": [
    {
     "name": "stdout",
     "output_type": "stream",
     "text": [
      "(345.2011551724138 if x[0] <= 117.5 else ((((1300.0 if x[0] <= 118.5 else \n",
      "    641.0) if x[0] <= 122.5 else 1468.5236666666667) if x[0] <= 125.5 else \n",
      "    621.9679230769232) if x[0] <= 143.0 else (958.6111111111111 if x[0] <= \n",
      "    150.5 else 2460.0) if x[0] <= 151.5 else 499.1666666666667 if x[0] <= \n",
      "    157.5 else 892.5402413793104) if x[0] <= 225.5 else 1975.0)\n",
      "\n"
     ]
    }
   ],
   "source": [
    "# Karar kural seti\n",
    "print(skompile(cart_model.predict).to(\"python/code\"))"
   ]
  },
  {
   "cell_type": "markdown",
   "id": "0433fdc4-2cdf-41e5-a624-2d1425678892",
   "metadata": {},
   "source": [
    "## Tahmin"
   ]
  },
  {
   "cell_type": "code",
   "execution_count": 81,
   "id": "af26d03f-d885-407c-88d6-d2e896130c41",
   "metadata": {},
   "outputs": [],
   "source": [
    "x = [91]"
   ]
  },
  {
   "cell_type": "code",
   "execution_count": 82,
   "id": "be02fbdb-4a91-4aa3-aa15-6ca4a57b12b4",
   "metadata": {},
   "outputs": [
    {
     "data": {
      "text/plain": [
       "345.2011551724138"
      ]
     },
     "execution_count": 82,
     "metadata": {},
     "output_type": "execute_result"
    }
   ],
   "source": [
    "(345.2011551724138 if x[0] <= 117.5 else ((((1300.0 if x[0] <= 118.5 else \n",
    "    641.0) if x[0] <= 122.5 else 1468.5236666666667) if x[0] <= 125.5 else \n",
    "    621.9679230769232) if x[0] <= 143.0 else (958.6111111111111 if x[0] <= \n",
    "    150.5 else 2460.0) if x[0] <= 151.5 else 499.1666666666667 if x[0] <= \n",
    "    157.5 else 892.5402413793104) if x[0] <= 225.5 else 1975.0)"
   ]
  },
  {
   "cell_type": "code",
   "execution_count": 83,
   "id": "f40c7a31-86eb-43db-bc0b-b8d26fd680fd",
   "metadata": {},
   "outputs": [
    {
     "data": {
      "text/plain": [
       "array([621.96792308, 958.61111111, 621.96792308, 345.20115517,\n",
       "       345.20115517])"
      ]
     },
     "execution_count": 83,
     "metadata": {},
     "output_type": "execute_result"
    }
   ],
   "source": [
    "cart_model.predict(X_test)[0:5]"
   ]
  },
  {
   "cell_type": "code",
   "execution_count": 84,
   "id": "f22e8c37-fa2a-4987-b9b2-b4fe17dfd9e7",
   "metadata": {},
   "outputs": [
    {
     "data": {
      "text/plain": [
       "array([345.20115517])"
      ]
     },
     "execution_count": 84,
     "metadata": {},
     "output_type": "execute_result"
    }
   ],
   "source": [
    "cart_model.predict([[91]])"
   ]
  },
  {
   "cell_type": "markdown",
   "id": "72ab4d2e-6437-4160-81c6-329745f20c5f",
   "metadata": {},
   "source": [
    "**Sonuçlar aynıdır**"
   ]
  },
  {
   "cell_type": "code",
   "execution_count": 85,
   "id": "517abee8-13d4-42c9-ba1b-62398241293d",
   "metadata": {},
   "outputs": [
    {
     "data": {
      "text/plain": [
       "486.34593105235456"
      ]
     },
     "execution_count": 85,
     "metadata": {},
     "output_type": "execute_result"
    }
   ],
   "source": [
    "y_pred = cart_model.predict(X_test)\n",
    "np.sqrt(mean_squared_error(y_test, y_pred))"
   ]
  },
  {
   "cell_type": "markdown",
   "id": "3791dff0-e9b7-4b5f-bd4d-2e550c4d9577",
   "metadata": {},
   "source": [
    "## Model Tuning"
   ]
  },
  {
   "cell_type": "code",
   "execution_count": 86,
   "id": "ec272fa3-4c15-470d-9073-13161de59a23",
   "metadata": {},
   "outputs": [
    {
     "data": {
      "text/plain": [
       "462.4884294447576"
      ]
     },
     "execution_count": 86,
     "metadata": {},
     "output_type": "execute_result"
    }
   ],
   "source": [
    "cart_model = DecisionTreeRegressor(max_leaf_nodes = 2)\n",
    "cart_model.fit(X_train, y_train)\n",
    "y_pred = cart_model.predict(X_test)\n",
    "np.sqrt(mean_squared_error(y_test, y_pred))"
   ]
  },
  {
   "cell_type": "code",
   "execution_count": 87,
   "id": "5d492d02-9ab4-4602-8d33-0b779dc0ca99",
   "metadata": {},
   "outputs": [
    {
     "data": {
      "text/plain": [
       "455.8367349677217"
      ]
     },
     "execution_count": 87,
     "metadata": {},
     "output_type": "execute_result"
    }
   ],
   "source": [
    "cart_model = DecisionTreeRegressor(max_leaf_nodes = 15)\n",
    "cart_model.fit(X_train, y_train)\n",
    "y_pred = cart_model.predict(X_test)\n",
    "np.sqrt(mean_squared_error(y_test, y_pred))"
   ]
  },
  {
   "cell_type": "code",
   "execution_count": 88,
   "id": "fb6526e7-1f25-46c9-92c0-cc0f04491f5a",
   "metadata": {},
   "outputs": [
    {
     "data": {
      "text/plain": [
       "458.44092458608196"
      ]
     },
     "execution_count": 88,
     "metadata": {},
     "output_type": "execute_result"
    }
   ],
   "source": [
    "cart_model = DecisionTreeRegressor(max_leaf_nodes = 15, min_samples_split = 10)\n",
    "cart_model.fit(X_train, y_train)\n",
    "y_pred = cart_model.predict(X_test)\n",
    "np.sqrt(mean_squared_error(y_test, y_pred))"
   ]
  },
  {
   "cell_type": "code",
   "execution_count": 89,
   "id": "ea05dbb8-862c-48aa-bc9c-16b5a5abebd1",
   "metadata": {},
   "outputs": [
    {
     "data": {
      "text/plain": [
       "468.49579052913884"
      ]
     },
     "execution_count": 89,
     "metadata": {},
     "output_type": "execute_result"
    }
   ],
   "source": [
    "cart_model = DecisionTreeRegressor(min_samples_split = 2)\n",
    "cart_model.fit(X_train, y_train)\n",
    "y_pred = cart_model.predict(X_test)\n",
    "np.sqrt(mean_squared_error(y_test, y_pred))"
   ]
  },
  {
   "cell_type": "code",
   "execution_count": 90,
   "id": "939ca145-1932-4ce4-9a48-40539ea624bb",
   "metadata": {},
   "outputs": [
    {
     "data": {
      "text/plain": [
       "231.67017321152872"
      ]
     },
     "execution_count": 90,
     "metadata": {},
     "output_type": "execute_result"
    }
   ],
   "source": [
    "cart_model = DecisionTreeRegressor(min_samples_split = 2)\n",
    "cart_model.fit(X_train, y_train)\n",
    "y_pred = cart_model.predict(X_train)\n",
    "np.sqrt(mean_squared_error(y_train, y_pred))"
   ]
  },
  {
   "cell_type": "code",
   "execution_count": 91,
   "id": "72c7e701-6ec2-47f9-8010-af6a81d0c687",
   "metadata": {},
   "outputs": [
    {
     "data": {
      "text/plain": [
       "468.49579052913884"
      ]
     },
     "execution_count": 91,
     "metadata": {},
     "output_type": "execute_result"
    }
   ],
   "source": [
    "cart_model = DecisionTreeRegressor()\n",
    "cart_model.fit(X_train, y_train)\n",
    "y_pred = cart_model.predict(X_test)\n",
    "np.sqrt(mean_squared_error(y_test, y_pred))"
   ]
  },
  {
   "cell_type": "code",
   "execution_count": 92,
   "id": "0a5c92e2-a275-44f0-a3ca-5dc224e15845",
   "metadata": {},
   "outputs": [
    {
     "data": {
      "text/plain": [
       "{'max_leaf_nodes': 2, 'min_samples_split': 2}"
      ]
     },
     "execution_count": 92,
     "metadata": {},
     "output_type": "execute_result"
    }
   ],
   "source": [
    "cart_params = {\"min_samples_split\":range(2,20), \n",
    "          \"max_leaf_nodes\":range(2,10)}\n",
    "cart_cv_model = GridSearchCV(cart_model, cart_params, cv = 10).fit(X_train, y_train)\n",
    "cart_cv_model.best_params_"
   ]
  },
  {
   "cell_type": "code",
   "execution_count": 93,
   "id": "5ea0454c-ad56-4a01-a28b-96e476e0c77d",
   "metadata": {},
   "outputs": [
    {
     "data": {
      "text/plain": [
       "{'max_leaf_nodes': 9, 'min_samples_split': 76}"
      ]
     },
     "execution_count": 93,
     "metadata": {},
     "output_type": "execute_result"
    }
   ],
   "source": [
    "cart_params = {\"min_samples_split\":range(2,100), \n",
    "          \"max_leaf_nodes\":range(2,10)}\n",
    "cart_cv_model = GridSearchCV(cart_model, cart_params, cv = 10).fit(X_train, y_train)\n",
    "cart_cv_model.best_params_"
   ]
  },
  {
   "cell_type": "code",
   "execution_count": 94,
   "id": "86001be7-fb3a-4230-852f-e22b40f1873c",
   "metadata": {},
   "outputs": [
    {
     "data": {
      "text/plain": [
       "423.406689243066"
      ]
     },
     "execution_count": 94,
     "metadata": {},
     "output_type": "execute_result"
    }
   ],
   "source": [
    "cart_tuned = DecisionTreeRegressor(max_leaf_nodes = 9, min_samples_split = 76).fit(X_train, y_train)\n",
    "y_pred = cart_tuned.predict(X_test)\n",
    "np.sqrt(mean_squared_error(y_test, y_pred))"
   ]
  },
  {
   "cell_type": "markdown",
   "id": "4af046fd-f7a5-4e7f-84fe-7d9e85c78285",
   "metadata": {},
   "source": [
    "# Bagged Trees Regresyon (Bagging)\n",
    "\n",
    "Temeli bootstrap yöntemi ile oluşturulan birden fazla karar ağacının ürettiği tahminlerin bir araya getirilerek değerlendirmesine dayanır"
   ]
  },
  {
   "cell_type": "code",
   "execution_count": 96,
   "id": "4c2472d7-d374-4d88-bef7-ab4b658aed5d",
   "metadata": {},
   "outputs": [],
   "source": [
    "hit = pd.read_csv(\"Ml3Hitters.csv\")\n",
    "df = hit.copy()\n",
    "df = df.dropna()\n",
    "dms = pd.get_dummies(df[['League', 'Division', 'NewLeague']])\n",
    "y = df[\"Salary\"]\n",
    "X_ = df.drop(['Salary', 'League', 'Division', 'NewLeague'], axis=1).astype('float64')\n",
    "X = pd.concat([X_, dms[['League_N', 'Division_W', 'NewLeague_N']]], axis=1)\n",
    "X_train, X_test, y_train, y_test = train_test_split(X, y, \n",
    "                                                    test_size=0.25, \n",
    "                                                    random_state=42)"
   ]
  },
  {
   "cell_type": "code",
   "execution_count": 97,
   "id": "2694df9f-4c9e-461a-bc33-d17eec078904",
   "metadata": {},
   "outputs": [
    {
     "data": {
      "text/plain": [
       "10"
      ]
     },
     "execution_count": 97,
     "metadata": {},
     "output_type": "execute_result"
    }
   ],
   "source": [
    "bag_model = BaggingRegressor(bootstrap_features = True).fit(X_train, y_train)\n",
    "bag_model.n_estimators"
   ]
  },
  {
   "cell_type": "code",
   "execution_count": 98,
   "id": "1016b58d-b24d-4f58-87b2-e01b6c894fff",
   "metadata": {},
   "outputs": [
    {
     "data": {
      "text/plain": [
       "[DecisionTreeRegressor(random_state=916374743),\n",
       " DecisionTreeRegressor(random_state=142342350),\n",
       " DecisionTreeRegressor(random_state=2011662457),\n",
       " DecisionTreeRegressor(random_state=555008477),\n",
       " DecisionTreeRegressor(random_state=835665431),\n",
       " DecisionTreeRegressor(random_state=1420178061),\n",
       " DecisionTreeRegressor(random_state=1525964507),\n",
       " DecisionTreeRegressor(random_state=604126080),\n",
       " DecisionTreeRegressor(random_state=1342325629),\n",
       " DecisionTreeRegressor(random_state=2098747816)]"
      ]
     },
     "execution_count": 98,
     "metadata": {},
     "output_type": "execute_result"
    }
   ],
   "source": [
    "bag_model.estimators_"
   ]
  },
  {
   "cell_type": "code",
   "execution_count": 99,
   "id": "3ec6bc61-40d9-4678-824b-d7e44355ba3f",
   "metadata": {},
   "outputs": [
    {
     "data": {
      "text/plain": [
       "[array([135,  75, 130, 126, 195,  50,  89, 113,  57,  63, 171, 113, 192,\n",
       "        174, 123, 136, 157, 167,  84,  24, 149,  76,  48, 117, 107,  32,\n",
       "        193, 161, 116, 155,  72,  95, 153, 166,  98,  15,  93,  49,   1,\n",
       "        103, 189, 183,  47,  11, 138,  94, 113,  52, 196, 122, 194,  83,\n",
       "         19, 148, 195,  82,  51,  43, 130, 189, 140,  42, 108,  68, 184,\n",
       "         51, 121, 122, 147, 142,  73, 109,  77, 162, 184, 174,  13, 107,\n",
       "         83, 102,  53,  73, 154,  11, 151,   0, 100, 111,  64,  11, 147,\n",
       "        114,  81, 182, 102, 151,  62, 115, 115,  13, 196, 100, 123, 164,\n",
       "         90, 112, 182, 152, 170,  77, 171,  87, 115, 145, 133, 132, 135,\n",
       "        146,  18, 124, 192, 187, 131, 175, 111, 119, 129,  36,  29, 134,\n",
       "         51,  45,  20,  54, 136,   6, 127, 143,  11, 154, 158,  61, 139,\n",
       "         74,  41, 121,  84,  80, 177, 174, 110,  81,  55, 109,  47, 159,\n",
       "        131, 143, 167,  41, 180, 115, 188, 175,   3,  15,  72,  45,  74,\n",
       "         68, 150, 121, 134, 169,  44, 106,   9, 172, 100, 145,   6,  36,\n",
       "         14,  22, 192,  41,   6, 128,  27, 142, 116,  11,  98,  19,  79,\n",
       "        183,  86]),\n",
       " array([ 12,  27, 136,   3,  61,  58,  79,  34,  37, 140, 174, 167, 132,\n",
       "         22, 184, 103, 174, 142,  66,  61, 128,  10,  60,  11,  53, 144,\n",
       "         42, 123, 109,  78,  75, 185,  43, 124, 112,  67, 117,  45,  59,\n",
       "        177,   5, 129,  41, 123,  39, 151, 192,  55,  40, 174,  81, 104,\n",
       "        117, 141, 114, 150,  73, 136,  63,  27,  79,  35, 172, 194, 156,\n",
       "        106,  57,  70,   4,  81,  87,  99, 190, 125, 194, 192,  87, 128,\n",
       "        137,  10, 194,  18,  33,   6,  39,  29,  78, 116,   4,  83,  89,\n",
       "        113,  88, 147, 192, 150,  75, 130, 168,  65,  41, 128,  75,  69,\n",
       "         69, 102, 151,  96,  17, 144,  55, 102,  75, 142,  84, 151, 169,\n",
       "        143, 153, 124,  68, 173,   5,  70,  60,  49,  22, 166,  18,  60,\n",
       "        121, 134, 119,  27,  24,  28,  26, 143, 148, 175, 124,   1,   3,\n",
       "        103,  58,  54,   5,  70,  36, 139, 111,  10,  80,  39, 160,  72,\n",
       "         61, 110,  93,  15,   2,  36, 150,  65,  26,  98, 134,  20, 166,\n",
       "         34, 176,  35, 108, 171,  12,  13, 125, 166,  23,  38, 127, 109,\n",
       "         14, 112,   8, 103, 184,  67, 131,  45, 173,  14,  56,  44,  31,\n",
       "        131, 172]),\n",
       " array([ 23, 175,  44, 181, 117,  34, 187, 134, 167,   5, 170,  34,  94,\n",
       "        172,  13,  45, 178, 153, 188,  97,  64, 144, 181, 127, 163, 147,\n",
       "         41, 130,  43,  55, 141,  65, 102, 174, 163,  24,   3,  33,  99,\n",
       "         93, 146,  76,  87,  94, 175,  21,   5, 104, 170,  26,  71, 149,\n",
       "         81, 190,  47,  36, 156, 162,   5,  24, 170,   1, 174,  82, 148,\n",
       "         86, 104, 115,   5, 122,  20, 118,  16,  90, 121, 189, 149, 134,\n",
       "         31, 109, 120,  86, 182, 166,  79,  55,  38, 139,  69, 194,  56,\n",
       "        158,  47, 136, 194,  16, 143, 150, 102,  95, 119,   7, 162,  21,\n",
       "        108,  93,  74, 167,   3, 109, 128, 189,   7, 149, 100, 157,  17,\n",
       "        132, 133,  55, 133, 139,   6,  60, 106,  73, 186,   3, 133, 125,\n",
       "          2,  34, 128,  65, 167,  90,  40, 148, 109,  45,  96,  77, 139,\n",
       "          5,   4,  23,  33,  99,  96, 122, 136, 154, 183, 163,  68, 119,\n",
       "         50,  34, 103, 152, 141,  79,  56,  41,  98,  76,  91,  71, 158,\n",
       "        121, 178,  35,  35, 173,  57,   2, 178,  57,  61,  19,  67,  12,\n",
       "         72, 159,  98,  73,  27, 100, 114,  85,  81,  45,  56, 185,  58,\n",
       "          1, 115]),\n",
       " array([ 65, 107,  16, 157, 188, 171,   9, 105,  28, 149, 174, 132, 171,\n",
       "        135,  69, 111, 125,  82,  14, 130, 126,  48,  66, 185,  51, 113,\n",
       "          7, 136, 137,   3,  82,  20, 158, 131, 139, 115, 123,   5,  54,\n",
       "         95, 100,  92,   4, 145,  28,  46, 166, 132, 104, 180, 185,  81,\n",
       "         31, 193,  54,  33,   0,  82, 136,  18,  12, 107,  16,  49,  89,\n",
       "         32,  60, 191, 162, 164,  92,   5,  58, 171, 196, 156,  56,  30,\n",
       "        180, 168, 195,  92,  90, 112, 141,  73,  18, 138, 158, 157,  56,\n",
       "         81, 123, 130, 149,  65,  55, 170,  91,   9,  70, 175, 157,  26,\n",
       "         55, 193, 165,  17,  12,  18,  20, 179, 109, 121,   3, 179,  38,\n",
       "        137,  37,  84, 183,  73, 128, 108, 105,  88,  76, 193, 127,  76,\n",
       "         41, 191,  50, 174, 130,  80, 148, 170, 154, 104, 153, 120, 123,\n",
       "          2, 137,  11,  25,  83, 178,   7,  51, 115, 150, 139,  33,  31,\n",
       "        179,  49, 121,  29,  57,   7, 146,  84,  68,  57,  57, 134, 171,\n",
       "        145, 189, 157,  65, 117,  39,  97,  89,  67,  21,  40, 156, 156,\n",
       "         61, 128, 143,  93, 145, 172,  70,  75,  34, 154, 192, 182, 186,\n",
       "        156, 172]),\n",
       " array([ 65,  18, 148, 128, 183,  10, 144,  38,  22,  15, 177,  23,  21,\n",
       "        141,  35, 186, 170,  66,  74, 144, 147,  14, 104, 194, 163, 105,\n",
       "         38,  83,  16,  98, 136, 173, 140, 101, 127, 171,   6, 182,   6,\n",
       "        115, 141, 180,  88, 129,  77,  55,   9, 187,  69,  28,  86,  44,\n",
       "         86,   2,  79,  92,  14, 148, 170, 173, 136, 129, 158, 176, 120,\n",
       "         19,  62,  85,  93,  87, 175,  87, 185,  97,  88,  59,  31,  48,\n",
       "        142,  92,   7,  25,  74,  18,  50,   2, 189, 123,   4, 110,  95,\n",
       "        162, 134,  88,  83, 188,  17,  82,  35, 176,  42,  94,  87,  23,\n",
       "        131,  30, 147, 173,  99, 165, 130, 185,  85,   6,  80,  39, 162,\n",
       "        132, 193, 190,  30, 184, 136, 129,   6, 161,  16, 190, 182, 157,\n",
       "         72, 179,  47,  73,  21, 134, 129, 138, 114, 182, 127,  53,  88,\n",
       "         19,  28,  74,  79,  45, 108,  86, 156, 163, 140, 132,  40,  81,\n",
       "        193, 182, 193, 137,  87,  34, 167, 166,  91, 177, 174, 137,  31,\n",
       "          3,  44,  88,  37,  37, 120, 171, 195,  25, 143,   3, 196, 137,\n",
       "         52,  61,  71,  74, 118,  73, 153,   5, 195,  13,  72, 190, 174,\n",
       "         36, 150]),\n",
       " array([ 14,  91,  88,  44,  91,  59, 114, 166,  80, 155,  31,  17, 159,\n",
       "         77,  95, 113,  85,  75,  28,  98, 190,  44, 163,  92, 137, 179,\n",
       "        114,  23,  47,  70,  49, 111, 166,  29, 161, 134, 125, 184, 151,\n",
       "         43,  36, 148,  38, 162,  63, 143, 133,  68,  68, 163,  84, 182,\n",
       "        152, 187,  20,  86,  47,  66, 172,  17, 158, 191, 195,  60, 150,\n",
       "         25,  65,  90, 172,  70,  73,  80,  30, 112, 156, 171,  38,  78,\n",
       "        143, 116, 165,  85, 100,  63,  57,  45, 101, 155, 118,  37, 189,\n",
       "        158,  60, 163,  74, 191, 118, 168, 175, 160,  34,  10, 186, 139,\n",
       "        167,  95, 167, 110,   5, 100,  45, 159, 190,  81,  32, 175, 129,\n",
       "         80,  63,  35, 101, 100,  46, 156, 179, 127, 191, 141, 192,   6,\n",
       "        133,  52, 173, 156, 163, 188, 126,  23, 152, 178, 188,  10, 134,\n",
       "         66, 102,  48,  38,  14,  97, 117, 191, 176, 134,   2, 164, 174,\n",
       "         34,  28,  53,   4, 170, 153, 185,  22, 117, 127, 174, 186, 147,\n",
       "         38,  74, 170, 171,  87, 107, 157,  13,  68,  64,  54, 144, 156,\n",
       "         57, 137, 128, 141, 186,  57, 155, 181,  14, 156,  45,  25,  62,\n",
       "        139, 167]),\n",
       " array([ 24,   0,  44,  13, 142,  32, 153,  17, 132, 155,  56, 182, 143,\n",
       "        110,  56, 178,  27,  66,  72,  12,  38, 143, 137, 139,  48,   0,\n",
       "        169, 155,  66,   0,  89, 106,  64,  64, 138, 123, 161,  48, 155,\n",
       "         48, 150,  36,  79,  14, 110,  23,  15,  61, 130,  77,  29, 123,\n",
       "         59, 191,  10, 159, 139,  68, 160, 157,   9,  47,  48, 115, 158,\n",
       "        164,  22,  13, 165,   5,  42, 127,  35,  69, 100,  75,  56,  45,\n",
       "        125, 184, 153, 143,  69, 155, 190,   3,  21, 168,  99, 125,  39,\n",
       "         37, 135,  77,  10,  79,  11, 106,  79, 147, 157, 183,  31, 136,\n",
       "          3,   9, 137,  37,  42, 176,  10,   4, 112, 116,  47,  76,  72,\n",
       "        150, 149,  62, 103, 149,  71, 145, 164,  62,  54,  93,  25, 109,\n",
       "        167, 193,  34, 110,  25, 191,   7,  56, 142,  16, 119, 113,  29,\n",
       "        127,  91, 167,  99, 153, 121,  95,  25, 136,  74, 134,  46,  20,\n",
       "        178,  34, 178, 131, 160, 132,  22,  11, 149,  17, 175,  64,  54,\n",
       "        109, 193,  27,  23,  68, 112,  80,  49, 129,  27, 118, 175,  70,\n",
       "         90,  17, 137, 100,  26,  75, 168,   0,  24,  34,  74,  42, 193,\n",
       "        141, 161]),\n",
       " array([ 71,   5, 124, 156,  99, 139,  55, 117,  68,  46, 140,  14, 177,\n",
       "         58, 168, 131, 140,  41,  55,  80, 119, 138,  69, 159,  29, 149,\n",
       "          9,  26, 142, 180,  97, 104, 188, 191,  71,  17,  10,  86, 124,\n",
       "        187, 121, 147,  63,  14, 181,   3,  76,   6, 192,  19, 180,  92,\n",
       "         67,  71, 195,  82,   2, 148, 174,  61, 116, 123, 196, 171,  92,\n",
       "         26, 153,   8, 182,  32,  87,  81, 168, 162,  67,  81,  15,  32,\n",
       "         39,   8,  35, 192,  29, 127,  73, 189,  70, 123, 108,  61, 152,\n",
       "         51,  12,  42,  55,  78,  27, 130, 158,  82,  95, 139,  35, 125,\n",
       "         75, 154,  53, 191,  71, 158,  85,  28,  10,  22,  48, 168,  99,\n",
       "        183,  36,  13,  30,  72,  39,  97,   0,  71, 184,  15, 178, 121,\n",
       "         74,  55, 114, 151,  88, 180,  15, 149, 177,  77, 181,  37, 128,\n",
       "         13,  29,  44,  72, 112,  35,  39,  93,  79, 143, 122,   2,  59,\n",
       "         92, 130,  63, 113,  67, 109,  50,  19,  65, 133, 154,  59,  63,\n",
       "         88,  76,  24, 140,  64,  43, 102,  78, 194,   7, 176,  82,  65,\n",
       "        184,  72,  26,  15, 103,  77,  47,  68,  65,   0, 178, 166, 166,\n",
       "         16, 126]),\n",
       " array([183, 118,  78, 147,  51, 108, 119, 159,  57, 115, 164,  27, 113,\n",
       "         49, 110, 150,  80,  18,  18,  82, 180,  29,  14,  73, 181, 133,\n",
       "         39,   5,  28,  36,   4,  10, 184,   3,  88,  99,  84, 160, 122,\n",
       "        104,  26, 192,  55,   6,  39, 164,  72,  97,  68,  92, 116,  67,\n",
       "        126, 109, 123,  29,  15,  12, 120,  42, 115, 189, 189, 143,  31,\n",
       "         74, 135, 188,  76, 105, 122,  31,  58, 114, 105,  98, 176,  32,\n",
       "         49, 183, 147, 125, 192,  83,  48, 143,  59, 115,  26,  90, 132,\n",
       "        183, 164,  52, 138, 164,  19, 130, 109, 123,  87, 170,  51,  76,\n",
       "        166,  45,  82, 194,  40,  60, 153,   1, 129,  98, 107, 119, 188,\n",
       "        177,  74,  31, 117, 180,  67, 125,  51, 171,  63, 139, 107,  70,\n",
       "         42, 167,  89,  13,   7, 158, 173, 157, 172, 134,  96,  63, 119,\n",
       "          6,  25, 116,  58, 133, 136,   7, 119, 126, 133, 188, 189,   0,\n",
       "        184, 118, 150, 115,   1,  51, 195,  35, 105,  21,  94,   8,  24,\n",
       "        121, 189, 124, 133, 146,  28,  53,  30, 187, 178,  13,  86, 114,\n",
       "         82, 121,  66, 155, 131,  98, 126,  75,  36,  11,  89,  50,  37,\n",
       "        135,  51]),\n",
       " array([ 70, 160,  71, 185, 134, 114, 108,  14, 120,  23,  57, 118, 190,\n",
       "         62, 153, 180, 122, 191, 116, 167, 153, 195,   5, 120, 145, 122,\n",
       "        166,  31,  81,  16,  97, 136, 157,  62, 128, 127, 170,  60,  57,\n",
       "        172, 123, 185, 188,  50, 122,  80, 147,  13,  76, 101,  69,  79,\n",
       "        125, 185,  77, 167, 119, 103, 146,  69, 105,  81,  72,  57, 133,\n",
       "        162,  53, 194,  85,  33, 123, 179, 191, 186,  79, 150,  58, 150,\n",
       "         45, 196,  63,   4,  41, 102,  42,  58,  75, 171,  35,  25, 143,\n",
       "        128, 196,  20,  59,  39,  66,   9,  48, 124, 153, 131, 172,   2,\n",
       "         46,  97,  15,  32,  15, 190,  82, 113, 147, 176, 106, 141,  85,\n",
       "         11, 182,  79, 134, 187,  84,  47,  19,  72,  11,  74, 186,  90,\n",
       "         25, 160,  42, 115, 161, 149, 153, 147,  32, 190, 140,  66,  26,\n",
       "         41,  63,  62, 154, 145, 188, 177,  46, 148, 187,  88, 148,  73,\n",
       "         92,  84,  13,  61, 175, 128, 121,  75,   2, 135, 179, 157, 177,\n",
       "         70,   6,   8,  54, 139, 144,  19,  56, 165,  95,  22, 144,  68,\n",
       "        148,  83, 175,   8,   6,  19, 123, 173, 124,  63, 181,  54, 120,\n",
       "         22, 105])]"
      ]
     },
     "execution_count": 99,
     "metadata": {},
     "output_type": "execute_result"
    }
   ],
   "source": [
    "bag_model.estimators_samples_"
   ]
  },
  {
   "cell_type": "code",
   "execution_count": 100,
   "id": "a1703896-97fd-4175-a140-d36596485246",
   "metadata": {},
   "outputs": [
    {
     "data": {
      "text/plain": [
       "[array([ 7,  9,  4,  8,  3, 10,  2, 10, 17, 15,  1, 16,  1, 17,  0, 12,  6,\n",
       "        16, 14]),\n",
       " array([14, 13,  5, 15, 13, 10,  4, 18, 11,  1, 15,  4, 14, 14, 12,  9, 17,\n",
       "        18,  9]),\n",
       " array([ 4, 17, 14,  1,  9,  9,  7, 10, 15, 11,  1,  0, 12, 16,  9,  1, 11,\n",
       "        11,  4]),\n",
       " array([ 1, 14,  1,  0,  4,  1,  0, 13,  0,  9, 15,  4, 12,  6, 14, 16, 12,\n",
       "        17, 10]),\n",
       " array([ 7,  5,  1,  5, 14,  7,  8,  4, 18,  9, 16,  0,  9,  2,  2,  7, 14,\n",
       "        12, 16]),\n",
       " array([13, 10,  8,  4, 15,  5,  4, 18, 17, 17,  2,  5, 10,  7,  8, 13,  9,\n",
       "        13, 10]),\n",
       " array([18,  1, 14,  0, 13,  6,  2, 15,  2,  5, 18,  3, 15,  4,  0, 16,  6,\n",
       "        16, 15]),\n",
       " array([ 0, 18, 15,  1,  5,  5,  2,  4,  4,  3,  6,  9, 16, 11, 17, 14,  3,\n",
       "         8,  7]),\n",
       " array([ 9,  5, 12,  7,  5,  1, 15, 16, 12,  6, 10, 11,  8, 12,  3,  4, 13,\n",
       "         8,  6]),\n",
       " array([ 8, 13,  4,  9,  7, 11,  1, 15,  7, 14,  0,  9,  7,  1, 18,  1,  3,\n",
       "         9,  5])]"
      ]
     },
     "execution_count": 100,
     "metadata": {},
     "output_type": "execute_result"
    }
   ],
   "source": [
    "bag_model.estimators_features_"
   ]
  },
  {
   "cell_type": "code",
   "execution_count": 101,
   "id": "86aacfda-93a2-47f6-a580-6692b7065e09",
   "metadata": {},
   "outputs": [
    {
     "data": {
      "text/plain": [
       "DecisionTreeRegressor(random_state=916374743)"
      ]
     },
     "execution_count": 101,
     "metadata": {},
     "output_type": "execute_result"
    }
   ],
   "source": [
    "bag_model.estimators_[0]"
   ]
  },
  {
   "cell_type": "markdown",
   "id": "6e1b6c4f-08dc-42ec-84ae-016aed5748a7",
   "metadata": {},
   "source": [
    "## Tahmin"
   ]
  },
  {
   "cell_type": "code",
   "execution_count": 102,
   "id": "b4fcd9f3-6850-4732-a8ab-2f2697eeaa7d",
   "metadata": {},
   "outputs": [
    {
     "data": {
      "text/plain": [
       "356.2394430567229"
      ]
     },
     "execution_count": 102,
     "metadata": {},
     "output_type": "execute_result"
    }
   ],
   "source": [
    "y_pred = bag_model.predict(X_test)\n",
    "np.sqrt(mean_squared_error(y_test, y_pred))"
   ]
  },
  {
   "cell_type": "code",
   "execution_count": 103,
   "id": "5dbb9536-c553-41cb-8a54-e9b76651808f",
   "metadata": {},
   "outputs": [
    {
     "data": {
      "text/plain": [
       "449.4766692679859"
      ]
     },
     "execution_count": 103,
     "metadata": {},
     "output_type": "execute_result"
    }
   ],
   "source": [
    "iki_y_pred = bag_model.estimators_[1].fit(X_train, y_train).predict(X_test)\n",
    "np.sqrt(mean_squared_error(y_test, iki_y_pred))"
   ]
  },
  {
   "cell_type": "code",
   "execution_count": 104,
   "id": "8a9f9cfe-8217-45eb-bb40-5b3dec09f398",
   "metadata": {},
   "outputs": [
    {
     "data": {
      "text/plain": [
       "540.0120517928842"
      ]
     },
     "execution_count": 104,
     "metadata": {},
     "output_type": "execute_result"
    }
   ],
   "source": [
    "yedi_y_pred = bag_model.estimators_[6].fit(X_train, y_train).predict(X_test)\n",
    "np.sqrt(mean_squared_error(y_test, yedi_y_pred))"
   ]
  },
  {
   "cell_type": "markdown",
   "id": "0fcdf7a5-4662-4fa2-a6c8-a6475232e463",
   "metadata": {},
   "source": [
    "## Model Tuning"
   ]
  },
  {
   "cell_type": "code",
   "execution_count": 105,
   "id": "897ad585-22af-4732-9327-0a8ec3b6c7d2",
   "metadata": {},
   "outputs": [
    {
     "data": {
      "text/plain": [
       "{'n_estimators': 17}"
      ]
     },
     "execution_count": 105,
     "metadata": {},
     "output_type": "execute_result"
    }
   ],
   "source": [
    "bag_model = BaggingRegressor(bootstrap_features = True).fit(X_train, y_train)\n",
    "bag_params = {\"n_estimators\": range(2,20)}\n",
    "bag_cv_model = GridSearchCV(bag_model, bag_params, cv = 10).fit(X_train, y_train)\n",
    "bag_cv_model.best_params_"
   ]
  },
  {
   "cell_type": "code",
   "execution_count": 106,
   "id": "ace76f19-36be-4822-b21a-18f6e7ee2b70",
   "metadata": {},
   "outputs": [
    {
     "data": {
      "text/plain": [
       "346.457987188104"
      ]
     },
     "execution_count": 106,
     "metadata": {},
     "output_type": "execute_result"
    }
   ],
   "source": [
    "bag_tuned = BaggingRegressor(n_estimators = 14, random_state = 45).fit(X_train, y_train)\n",
    "y_pred = bag_tuned.predict(X_test)\n",
    "np.sqrt(mean_squared_error(y_test, y_pred))"
   ]
  },
  {
   "cell_type": "markdown",
   "id": "ad4ef59e-f3fe-432b-b291-fea555c6d1d0",
   "metadata": {},
   "source": [
    "# Random Forests\n",
    "\n",
    "Temeli birden çok karar ağacının ürettiği tahminlerin bir araya getirilerek değerlendirilmesine dayanır\n",
    "<br><br>\n",
    "* Bagging (Breiman, 1996) ile Random Subspace (Ho, 1998) yöntemlerinin birleşimi ile oluşmuştur\n",
    "* Ağaçlar için gözlemler bootstrap rastgele örnek seçim yöntmei ile **değişkenler random subspace yöntemi ile seçilir**\n",
    "* Karar ağacının her br düğümünde en iyi dallara ayırıcı (bilgi kazancı) değişken tüm değişkenler arasından rastgele seçilen daha az sayıdaki değişken arasından seçilir\n",
    "* Ağaç oluşturmada veri setinin 2/3'ü kullanılır, dışarıda kalan veri ağaçlarının performans değerlendirmesi ce değişken öneminin belirlenmesi için kullanılır\n",
    "* Her düğüm noktasında rastgele değişken seçimi yapılır (regresyonda p/3, sınıflamada karekök(p))\n",
    "* Nihai tahmin için ağaçlardan tahmin değerleri talep edilirken her bir ağacın daha önce hesaplanan hata oranları göz önüne alınarak ağaçlara ağırlık verilir"
   ]
  },
  {
   "cell_type": "code",
   "execution_count": 108,
   "id": "e09fe102-b9eb-4805-a8ec-2e5d80e78cad",
   "metadata": {},
   "outputs": [],
   "source": [
    "hit = pd.read_csv(\"Ml3Hitters.csv\")\n",
    "df = hit.copy()\n",
    "df = df.dropna()\n",
    "dms = pd.get_dummies(df[['League', 'Division', 'NewLeague']])\n",
    "y = df[\"Salary\"]\n",
    "X_ = df.drop(['Salary', 'League', 'Division', 'NewLeague'], axis=1).astype('float64')\n",
    "X = pd.concat([X_, dms[['League_N', 'Division_W', 'NewLeague_N']]], axis=1)\n",
    "X_train, X_test, y_train, y_test = train_test_split(X, y, \n",
    "                                                    test_size=0.25, \n",
    "                                                    random_state=42)"
   ]
  },
  {
   "cell_type": "code",
   "execution_count": 110,
   "id": "faa330d9-2731-482c-8546-abdda9fa6fcb",
   "metadata": {},
   "outputs": [],
   "source": [
    "rf_model = RandomForestRegressor(random_state = 42).fit(X_train, y_train)"
   ]
  },
  {
   "cell_type": "code",
   "execution_count": 111,
   "id": "287ec102-8c84-4b79-b7b7-02dcba70c447",
   "metadata": {
    "collapsed": true,
    "jupyter": {
     "outputs_hidden": true
    },
    "tags": []
   },
   "outputs": [
    {
     "data": {
      "text/plain": [
       "\u001b[1;31mType:\u001b[0m        RandomForestRegressor\n",
       "\u001b[1;31mString form:\u001b[0m RandomForestRegressor(random_state=42)\n",
       "\u001b[1;31mLength:\u001b[0m      100\n",
       "\u001b[1;31mFile:\u001b[0m        c:\\users\\tolga\\appdata\\local\\programs\\python\\python310\\lib\\site-packages\\sklearn\\ensemble\\_forest.py\n",
       "\u001b[1;31mDocstring:\u001b[0m  \n",
       "A random forest regressor.\n",
       "\n",
       "A random forest is a meta estimator that fits a number of classifying\n",
       "decision trees on various sub-samples of the dataset and uses averaging\n",
       "to improve the predictive accuracy and control over-fitting.\n",
       "The sub-sample size is controlled with the `max_samples` parameter if\n",
       "`bootstrap=True` (default), otherwise the whole dataset is used to build\n",
       "each tree.\n",
       "\n",
       "Read more in the :ref:`User Guide <forest>`.\n",
       "\n",
       "Parameters\n",
       "----------\n",
       "n_estimators : int, default=100\n",
       "    The number of trees in the forest.\n",
       "\n",
       "    .. versionchanged:: 0.22\n",
       "       The default value of ``n_estimators`` changed from 10 to 100\n",
       "       in 0.22.\n",
       "\n",
       "criterion : {\"squared_error\", \"absolute_error\", \"poisson\"},             default=\"squared_error\"\n",
       "    The function to measure the quality of a split. Supported criteria\n",
       "    are \"squared_error\" for the mean squared error, which is equal to\n",
       "    variance reduction as feature selection criterion, \"absolute_error\"\n",
       "    for the mean absolute error, and \"poisson\" which uses reduction in\n",
       "    Poisson deviance to find splits.\n",
       "    Training using \"absolute_error\" is significantly slower\n",
       "    than when using \"squared_error\".\n",
       "\n",
       "    .. versionadded:: 0.18\n",
       "       Mean Absolute Error (MAE) criterion.\n",
       "\n",
       "    .. versionadded:: 1.0\n",
       "       Poisson criterion.\n",
       "\n",
       "    .. deprecated:: 1.0\n",
       "        Criterion \"mse\" was deprecated in v1.0 and will be removed in\n",
       "        version 1.2. Use `criterion=\"squared_error\"` which is equivalent.\n",
       "\n",
       "    .. deprecated:: 1.0\n",
       "        Criterion \"mae\" was deprecated in v1.0 and will be removed in\n",
       "        version 1.2. Use `criterion=\"absolute_error\"` which is equivalent.\n",
       "\n",
       "max_depth : int, default=None\n",
       "    The maximum depth of the tree. If None, then nodes are expanded until\n",
       "    all leaves are pure or until all leaves contain less than\n",
       "    min_samples_split samples.\n",
       "\n",
       "min_samples_split : int or float, default=2\n",
       "    The minimum number of samples required to split an internal node:\n",
       "\n",
       "    - If int, then consider `min_samples_split` as the minimum number.\n",
       "    - If float, then `min_samples_split` is a fraction and\n",
       "      `ceil(min_samples_split * n_samples)` are the minimum\n",
       "      number of samples for each split.\n",
       "\n",
       "    .. versionchanged:: 0.18\n",
       "       Added float values for fractions.\n",
       "\n",
       "min_samples_leaf : int or float, default=1\n",
       "    The minimum number of samples required to be at a leaf node.\n",
       "    A split point at any depth will only be considered if it leaves at\n",
       "    least ``min_samples_leaf`` training samples in each of the left and\n",
       "    right branches.  This may have the effect of smoothing the model,\n",
       "    especially in regression.\n",
       "\n",
       "    - If int, then consider `min_samples_leaf` as the minimum number.\n",
       "    - If float, then `min_samples_leaf` is a fraction and\n",
       "      `ceil(min_samples_leaf * n_samples)` are the minimum\n",
       "      number of samples for each node.\n",
       "\n",
       "    .. versionchanged:: 0.18\n",
       "       Added float values for fractions.\n",
       "\n",
       "min_weight_fraction_leaf : float, default=0.0\n",
       "    The minimum weighted fraction of the sum total of weights (of all\n",
       "    the input samples) required to be at a leaf node. Samples have\n",
       "    equal weight when sample_weight is not provided.\n",
       "\n",
       "max_features : {\"auto\", \"sqrt\", \"log2\"}, int or float, default=\"auto\"\n",
       "    The number of features to consider when looking for the best split:\n",
       "\n",
       "    - If int, then consider `max_features` features at each split.\n",
       "    - If float, then `max_features` is a fraction and\n",
       "      `round(max_features * n_features)` features are considered at each\n",
       "      split.\n",
       "    - If \"auto\", then `max_features=n_features`.\n",
       "    - If \"sqrt\", then `max_features=sqrt(n_features)`.\n",
       "    - If \"log2\", then `max_features=log2(n_features)`.\n",
       "    - If None, then `max_features=n_features`.\n",
       "\n",
       "    Note: the search for a split does not stop until at least one\n",
       "    valid partition of the node samples is found, even if it requires to\n",
       "    effectively inspect more than ``max_features`` features.\n",
       "\n",
       "max_leaf_nodes : int, default=None\n",
       "    Grow trees with ``max_leaf_nodes`` in best-first fashion.\n",
       "    Best nodes are defined as relative reduction in impurity.\n",
       "    If None then unlimited number of leaf nodes.\n",
       "\n",
       "min_impurity_decrease : float, default=0.0\n",
       "    A node will be split if this split induces a decrease of the impurity\n",
       "    greater than or equal to this value.\n",
       "\n",
       "    The weighted impurity decrease equation is the following::\n",
       "\n",
       "        N_t / N * (impurity - N_t_R / N_t * right_impurity\n",
       "                            - N_t_L / N_t * left_impurity)\n",
       "\n",
       "    where ``N`` is the total number of samples, ``N_t`` is the number of\n",
       "    samples at the current node, ``N_t_L`` is the number of samples in the\n",
       "    left child, and ``N_t_R`` is the number of samples in the right child.\n",
       "\n",
       "    ``N``, ``N_t``, ``N_t_R`` and ``N_t_L`` all refer to the weighted sum,\n",
       "    if ``sample_weight`` is passed.\n",
       "\n",
       "    .. versionadded:: 0.19\n",
       "\n",
       "bootstrap : bool, default=True\n",
       "    Whether bootstrap samples are used when building trees. If False, the\n",
       "    whole dataset is used to build each tree.\n",
       "\n",
       "oob_score : bool, default=False\n",
       "    Whether to use out-of-bag samples to estimate the generalization score.\n",
       "    Only available if bootstrap=True.\n",
       "\n",
       "n_jobs : int, default=None\n",
       "    The number of jobs to run in parallel. :meth:`fit`, :meth:`predict`,\n",
       "    :meth:`decision_path` and :meth:`apply` are all parallelized over the\n",
       "    trees. ``None`` means 1 unless in a :obj:`joblib.parallel_backend`\n",
       "    context. ``-1`` means using all processors. See :term:`Glossary\n",
       "    <n_jobs>` for more details.\n",
       "\n",
       "random_state : int, RandomState instance or None, default=None\n",
       "    Controls both the randomness of the bootstrapping of the samples used\n",
       "    when building trees (if ``bootstrap=True``) and the sampling of the\n",
       "    features to consider when looking for the best split at each node\n",
       "    (if ``max_features < n_features``).\n",
       "    See :term:`Glossary <random_state>` for details.\n",
       "\n",
       "verbose : int, default=0\n",
       "    Controls the verbosity when fitting and predicting.\n",
       "\n",
       "warm_start : bool, default=False\n",
       "    When set to ``True``, reuse the solution of the previous call to fit\n",
       "    and add more estimators to the ensemble, otherwise, just fit a whole\n",
       "    new forest. See :term:`the Glossary <warm_start>`.\n",
       "\n",
       "ccp_alpha : non-negative float, default=0.0\n",
       "    Complexity parameter used for Minimal Cost-Complexity Pruning. The\n",
       "    subtree with the largest cost complexity that is smaller than\n",
       "    ``ccp_alpha`` will be chosen. By default, no pruning is performed. See\n",
       "    :ref:`minimal_cost_complexity_pruning` for details.\n",
       "\n",
       "    .. versionadded:: 0.22\n",
       "\n",
       "max_samples : int or float, default=None\n",
       "    If bootstrap is True, the number of samples to draw from X\n",
       "    to train each base estimator.\n",
       "\n",
       "    - If None (default), then draw `X.shape[0]` samples.\n",
       "    - If int, then draw `max_samples` samples.\n",
       "    - If float, then draw `max_samples * X.shape[0]` samples. Thus,\n",
       "      `max_samples` should be in the interval `(0.0, 1.0]`.\n",
       "\n",
       "    .. versionadded:: 0.22\n",
       "\n",
       "Attributes\n",
       "----------\n",
       "base_estimator_ : DecisionTreeRegressor\n",
       "    The child estimator template used to create the collection of fitted\n",
       "    sub-estimators.\n",
       "\n",
       "estimators_ : list of DecisionTreeRegressor\n",
       "    The collection of fitted sub-estimators.\n",
       "\n",
       "feature_importances_ : ndarray of shape (n_features,)\n",
       "    The impurity-based feature importances.\n",
       "    The higher, the more important the feature.\n",
       "    The importance of a feature is computed as the (normalized)\n",
       "    total reduction of the criterion brought by that feature.  It is also\n",
       "    known as the Gini importance.\n",
       "\n",
       "    Warning: impurity-based feature importances can be misleading for\n",
       "    high cardinality features (many unique values). See\n",
       "    :func:`sklearn.inspection.permutation_importance` as an alternative.\n",
       "\n",
       "n_features_ : int\n",
       "    The number of features when ``fit`` is performed.\n",
       "\n",
       "    .. deprecated:: 1.0\n",
       "        Attribute `n_features_` was deprecated in version 1.0 and will be\n",
       "        removed in 1.2. Use `n_features_in_` instead.\n",
       "\n",
       "n_features_in_ : int\n",
       "    Number of features seen during :term:`fit`.\n",
       "\n",
       "    .. versionadded:: 0.24\n",
       "\n",
       "feature_names_in_ : ndarray of shape (`n_features_in_`,)\n",
       "    Names of features seen during :term:`fit`. Defined only when `X`\n",
       "    has feature names that are all strings.\n",
       "\n",
       "    .. versionadded:: 1.0\n",
       "\n",
       "n_outputs_ : int\n",
       "    The number of outputs when ``fit`` is performed.\n",
       "\n",
       "oob_score_ : float\n",
       "    Score of the training dataset obtained using an out-of-bag estimate.\n",
       "    This attribute exists only when ``oob_score`` is True.\n",
       "\n",
       "oob_prediction_ : ndarray of shape (n_samples,) or (n_samples, n_outputs)\n",
       "    Prediction computed with out-of-bag estimate on the training set.\n",
       "    This attribute exists only when ``oob_score`` is True.\n",
       "\n",
       "See Also\n",
       "--------\n",
       "sklearn.tree.DecisionTreeRegressor : A decision tree regressor.\n",
       "sklearn.ensemble.ExtraTreesRegressor : Ensemble of extremely randomized\n",
       "    tree regressors.\n",
       "\n",
       "Notes\n",
       "-----\n",
       "The default values for the parameters controlling the size of the trees\n",
       "(e.g. ``max_depth``, ``min_samples_leaf``, etc.) lead to fully grown and\n",
       "unpruned trees which can potentially be very large on some data sets. To\n",
       "reduce memory consumption, the complexity and size of the trees should be\n",
       "controlled by setting those parameter values.\n",
       "\n",
       "The features are always randomly permuted at each split. Therefore,\n",
       "the best found split may vary, even with the same training data,\n",
       "``max_features=n_features`` and ``bootstrap=False``, if the improvement\n",
       "of the criterion is identical for several splits enumerated during the\n",
       "search of the best split. To obtain a deterministic behaviour during\n",
       "fitting, ``random_state`` has to be fixed.\n",
       "\n",
       "The default value ``max_features=\"auto\"`` uses ``n_features``\n",
       "rather than ``n_features / 3``. The latter was originally suggested in\n",
       "[1], whereas the former was more recently justified empirically in [2].\n",
       "\n",
       "References\n",
       "----------\n",
       ".. [1] L. Breiman, \"Random Forests\", Machine Learning, 45(1), 5-32, 2001.\n",
       "\n",
       ".. [2] P. Geurts, D. Ernst., and L. Wehenkel, \"Extremely randomized\n",
       "       trees\", Machine Learning, 63(1), 3-42, 2006.\n",
       "\n",
       "Examples\n",
       "--------\n",
       ">>> from sklearn.ensemble import RandomForestRegressor\n",
       ">>> from sklearn.datasets import make_regression\n",
       ">>> X, y = make_regression(n_features=4, n_informative=2,\n",
       "...                        random_state=0, shuffle=False)\n",
       ">>> regr = RandomForestRegressor(max_depth=2, random_state=0)\n",
       ">>> regr.fit(X, y)\n",
       "RandomForestRegressor(...)\n",
       ">>> print(regr.predict([[0, 0, 0, 0]]))\n",
       "[-8.32987858]\n"
      ]
     },
     "metadata": {},
     "output_type": "display_data"
    }
   ],
   "source": [
    "?rf_model"
   ]
  },
  {
   "cell_type": "markdown",
   "id": "a4926b76-c5ea-4f60-8464-cf818c030664",
   "metadata": {},
   "source": [
    "## Tahmin"
   ]
  },
  {
   "cell_type": "code",
   "execution_count": 112,
   "id": "29e26347-5e83-49af-8123-35840d79b0b4",
   "metadata": {},
   "outputs": [
    {
     "data": {
      "text/plain": [
       "array([ 738.69167,  913.51164, 1181.145  ,  139.65167,  634.60833])"
      ]
     },
     "execution_count": 112,
     "metadata": {},
     "output_type": "execute_result"
    }
   ],
   "source": [
    "rf_model.predict(X_test)[0:5]"
   ]
  },
  {
   "cell_type": "code",
   "execution_count": 113,
   "id": "49f84443-b25f-4f6b-9716-b620559e4fa9",
   "metadata": {},
   "outputs": [
    {
     "data": {
      "text/plain": [
       "344.8191624908484"
      ]
     },
     "execution_count": 113,
     "metadata": {},
     "output_type": "execute_result"
    }
   ],
   "source": [
    "y_pred = rf_model.predict(X_test)\n",
    "np.sqrt(mean_squared_error(y_test, y_pred))"
   ]
  },
  {
   "cell_type": "markdown",
   "id": "53bbf541-3766-4c29-9d4d-ccfc11c49a52",
   "metadata": {},
   "source": [
    "## Model Tuning"
   ]
  },
  {
   "cell_type": "code",
   "execution_count": 115,
   "id": "a3bb4307-b8ff-4afd-b6a8-4d19993e7321",
   "metadata": {},
   "outputs": [
    {
     "data": {
      "text/plain": [
       "{'max_depth': 8, 'max_features': 3, 'n_estimators': 200}"
      ]
     },
     "execution_count": 115,
     "metadata": {},
     "output_type": "execute_result"
    }
   ],
   "source": [
    "rf_params = {\"max_depth\": list(range(1, 10)),\n",
    "             \"max_features\": [3, 5, 10, 15],\n",
    "             \"n_estimators\" : [100, 200, 500, 1000, 2000]}\n",
    "rf_model = RandomForestRegressor(random_state = 42)\n",
    "rf_cv_model = GridSearchCV(rf_model, rf_params, cv = 10, n_jobs = -1).fit(X_train, y_train)\n",
    "rf_cv_model.best_params_"
   ]
  },
  {
   "cell_type": "code",
   "execution_count": 116,
   "id": "8be92ff3-fb7d-427e-9ac6-1d6374ceafec",
   "metadata": {},
   "outputs": [
    {
     "data": {
      "text/plain": [
       "348.2157319389608"
      ]
     },
     "execution_count": 116,
     "metadata": {},
     "output_type": "execute_result"
    }
   ],
   "source": [
    "rf_tuned = RandomForestRegressor(max_depth = 8, max_features = 3, n_estimators = 200).fit(X_train, y_train)\n",
    "y_pred = rf_tuned.predict(X_test)\n",
    "np.sqrt(mean_squared_error(y_test, y_pred))"
   ]
  },
  {
   "cell_type": "code",
   "execution_count": 118,
   "id": "3ffae56a-c72d-4240-bae3-e4cb09c5ab2e",
   "metadata": {},
   "outputs": [
    {
     "data": {
      "image/png": "[encoded data removed]",
      "text/plain": [
       "<Figure size 432x288 with 1 Axes>"
      ]
     },
     "metadata": {
      "needs_background": "light"
     },
     "output_type": "display_data"
    }
   ],
   "source": [
    "Importance = pd.DataFrame({\"Importance\":rf_tuned.feature_importances_*100},index = X_train.columns)\n",
    "Importance.sort_values(by = \"Importance\", axis = 0, ascending = True).plot(kind = \"barh\", color = \"r\")\n",
    "plt.xlabel(\"Değişken Önem Düzeyleri\");"
   ]
  },
  {
   "cell_type": "markdown",
   "id": "522cffce-bc44-4991-ae1f-4f2f9a69654e",
   "metadata": {},
   "source": [
    "# Gradient Boosting Machines\n",
    "\n",
    "AdaBoost'un sınılandırma ve regresyon problemlerine kolayca uyarlanabilen genelleştirilmiş versiyonudur\n",
    "<br>\n",
    "Artıklar üzerinde tek bir tahminsel model formunda olan modeller serisi kurulur\n",
    "<br><br>\n",
    "* Boosting Yöntemlerine Giriş\n",
    "    * Zayıf öğrencileri bir araya getirip güçlü bir öğrenici ortaya çıkarmak fikrine dayanır\n",
    "* Adaptive Boosting (AdaBoost)\n",
    "    * Zayıf sınıflandırıcıların bir araya gelerek güçlü bir sınıflandırıcı oluşturması fikrini hayata geçiren algoritmadır\n",
    "<br><br>\n",
    "* Gradient boosting tek bir tahminsel model formunda olan modeller serisi oluşturur\n",
    "* Seri içerisindeki bir model, serideki bir önceki modelin tahmin artıklarının/hatalarının (residuals) üzerinde kurularak (fit) oluşturulur\n",
    "* GBM diferansiyellenebilen herhangi bir kayıp fonksiyonu optimize eebilen Gradient descent algoritmasını kullanmaktadır\n",
    "* GBM birçok temel öğrenici tipi (base learner type) kullanabilir. (Trees, linear terms, spilines vb.)\n",
    "* Cost fonksiyonları ve link fonksiyonları modifiye edilebilirdir\n",
    "* Boosting + Gradient Descent = GBM"
   ]
  },
  {
   "cell_type": "code",
   "execution_count": 120,
   "id": "1d2d0add-6f6c-4b23-83b6-98fc74b0ddb3",
   "metadata": {},
   "outputs": [],
   "source": [
    "hit = pd.read_csv(\"Ml3Hitters.csv\")\n",
    "df = hit.copy()\n",
    "df = df.dropna()\n",
    "dms = pd.get_dummies(df[['League', 'Division', 'NewLeague']])\n",
    "y = df[\"Salary\"]\n",
    "X_ = df.drop(['Salary', 'League', 'Division', 'NewLeague'], axis=1).astype('float64')\n",
    "X = pd.concat([X_, dms[['League_N', 'Division_W', 'NewLeague_N']]], axis=1)\n",
    "X_train, X_test, y_train, y_test = train_test_split(X, y, \n",
    "                                                    test_size=0.25, \n",
    "                                                    random_state=42)"
   ]
  },
  {
   "cell_type": "code",
   "execution_count": 122,
   "id": "5ab22185-98c5-41ab-b914-9ba0a23b3cf2",
   "metadata": {},
   "outputs": [],
   "source": [
    "gbm_model = GradientBoostingRegressor().fit(X_train, y_train)"
   ]
  },
  {
   "cell_type": "code",
   "execution_count": 123,
   "id": "c65f904d-6049-47f6-85e3-aac2769b3e57",
   "metadata": {
    "collapsed": true,
    "jupyter": {
     "outputs_hidden": true
    },
    "tags": []
   },
   "outputs": [
    {
     "data": {
      "text/plain": [
       "\u001b[1;31mType:\u001b[0m        GradientBoostingRegressor\n",
       "\u001b[1;31mString form:\u001b[0m GradientBoostingRegressor()\n",
       "\u001b[1;31mLength:\u001b[0m      100\n",
       "\u001b[1;31mFile:\u001b[0m        c:\\users\\tolga\\appdata\\local\\programs\\python\\python310\\lib\\site-packages\\sklearn\\ensemble\\_gb.py\n",
       "\u001b[1;31mDocstring:\u001b[0m  \n",
       "Gradient Boosting for regression.\n",
       "\n",
       "GB builds an additive model in a forward stage-wise fashion;\n",
       "it allows for the optimization of arbitrary differentiable loss functions.\n",
       "In each stage a regression tree is fit on the negative gradient of the\n",
       "given loss function.\n",
       "\n",
       "Read more in the :ref:`User Guide <gradient_boosting>`.\n",
       "\n",
       "Parameters\n",
       "----------\n",
       "loss : {'squared_error', 'absolute_error', 'huber', 'quantile'},             default='squared_error'\n",
       "    Loss function to be optimized. 'squared_error' refers to the squared\n",
       "    error for regression. 'absolute_error' refers to the absolute error of\n",
       "    regression and is a robust loss function. 'huber' is a\n",
       "    combination of the two. 'quantile' allows quantile regression (use\n",
       "    `alpha` to specify the quantile).\n",
       "\n",
       "    .. deprecated:: 1.0\n",
       "        The loss 'ls' was deprecated in v1.0 and will be removed in\n",
       "        version 1.2. Use `loss='squared_error'` which is equivalent.\n",
       "\n",
       "    .. deprecated:: 1.0\n",
       "        The loss 'lad' was deprecated in v1.0 and will be removed in\n",
       "        version 1.2. Use `loss='absolute_error'` which is equivalent.\n",
       "\n",
       "learning_rate : float, default=0.1\n",
       "    Learning rate shrinks the contribution of each tree by `learning_rate`.\n",
       "    There is a trade-off between learning_rate and n_estimators.\n",
       "\n",
       "n_estimators : int, default=100\n",
       "    The number of boosting stages to perform. Gradient boosting\n",
       "    is fairly robust to over-fitting so a large number usually\n",
       "    results in better performance.\n",
       "\n",
       "subsample : float, default=1.0\n",
       "    The fraction of samples to be used for fitting the individual base\n",
       "    learners. If smaller than 1.0 this results in Stochastic Gradient\n",
       "    Boosting. `subsample` interacts with the parameter `n_estimators`.\n",
       "    Choosing `subsample < 1.0` leads to a reduction of variance\n",
       "    and an increase in bias.\n",
       "\n",
       "criterion : {'friedman_mse', 'squared_error', 'mse', 'mae'},             default='friedman_mse'\n",
       "    The function to measure the quality of a split. Supported criteria\n",
       "    are \"friedman_mse\" for the mean squared error with improvement\n",
       "    score by Friedman, \"squared_error\" for mean squared error, and \"mae\"\n",
       "    for the mean absolute error. The default value of \"friedman_mse\" is\n",
       "    generally the best as it can provide a better approximation in some\n",
       "    cases.\n",
       "\n",
       "    .. versionadded:: 0.18\n",
       "\n",
       "    .. deprecated:: 0.24\n",
       "        `criterion='mae'` is deprecated and will be removed in version\n",
       "        1.1 (renaming of 0.26). The correct way of minimizing the absolute\n",
       "        error is to use `loss='absolute_error'` instead.\n",
       "\n",
       "    .. deprecated:: 1.0\n",
       "        Criterion 'mse' was deprecated in v1.0 and will be removed in\n",
       "        version 1.2. Use `criterion='squared_error'` which is equivalent.\n",
       "\n",
       "min_samples_split : int or float, default=2\n",
       "    The minimum number of samples required to split an internal node:\n",
       "\n",
       "    - If int, then consider `min_samples_split` as the minimum number.\n",
       "    - If float, then `min_samples_split` is a fraction and\n",
       "      `ceil(min_samples_split * n_samples)` are the minimum\n",
       "      number of samples for each split.\n",
       "\n",
       "    .. versionchanged:: 0.18\n",
       "       Added float values for fractions.\n",
       "\n",
       "min_samples_leaf : int or float, default=1\n",
       "    The minimum number of samples required to be at a leaf node.\n",
       "    A split point at any depth will only be considered if it leaves at\n",
       "    least ``min_samples_leaf`` training samples in each of the left and\n",
       "    right branches.  This may have the effect of smoothing the model,\n",
       "    especially in regression.\n",
       "\n",
       "    - If int, then consider `min_samples_leaf` as the minimum number.\n",
       "    - If float, then `min_samples_leaf` is a fraction and\n",
       "      `ceil(min_samples_leaf * n_samples)` are the minimum\n",
       "      number of samples for each node.\n",
       "\n",
       "    .. versionchanged:: 0.18\n",
       "       Added float values for fractions.\n",
       "\n",
       "min_weight_fraction_leaf : float, default=0.0\n",
       "    The minimum weighted fraction of the sum total of weights (of all\n",
       "    the input samples) required to be at a leaf node. Samples have\n",
       "    equal weight when sample_weight is not provided.\n",
       "\n",
       "max_depth : int, default=3\n",
       "    Maximum depth of the individual regression estimators. The maximum\n",
       "    depth limits the number of nodes in the tree. Tune this parameter\n",
       "    for best performance; the best value depends on the interaction\n",
       "    of the input variables.\n",
       "\n",
       "min_impurity_decrease : float, default=0.0\n",
       "    A node will be split if this split induces a decrease of the impurity\n",
       "    greater than or equal to this value.\n",
       "\n",
       "    The weighted impurity decrease equation is the following::\n",
       "\n",
       "        N_t / N * (impurity - N_t_R / N_t * right_impurity\n",
       "                            - N_t_L / N_t * left_impurity)\n",
       "\n",
       "    where ``N`` is the total number of samples, ``N_t`` is the number of\n",
       "    samples at the current node, ``N_t_L`` is the number of samples in the\n",
       "    left child, and ``N_t_R`` is the number of samples in the right child.\n",
       "\n",
       "    ``N``, ``N_t``, ``N_t_R`` and ``N_t_L`` all refer to the weighted sum,\n",
       "    if ``sample_weight`` is passed.\n",
       "\n",
       "    .. versionadded:: 0.19\n",
       "\n",
       "init : estimator or 'zero', default=None\n",
       "    An estimator object that is used to compute the initial predictions.\n",
       "    ``init`` has to provide :term:`fit` and :term:`predict`. If 'zero', the\n",
       "    initial raw predictions are set to zero. By default a\n",
       "    ``DummyEstimator`` is used, predicting either the average target value\n",
       "    (for loss='squared_error'), or a quantile for the other losses.\n",
       "\n",
       "random_state : int, RandomState instance or None, default=None\n",
       "    Controls the random seed given to each Tree estimator at each\n",
       "    boosting iteration.\n",
       "    In addition, it controls the random permutation of the features at\n",
       "    each split (see Notes for more details).\n",
       "    It also controls the random splitting of the training data to obtain a\n",
       "    validation set if `n_iter_no_change` is not None.\n",
       "    Pass an int for reproducible output across multiple function calls.\n",
       "    See :term:`Glossary <random_state>`.\n",
       "\n",
       "max_features : {'auto', 'sqrt', 'log2'}, int or float, default=None\n",
       "    The number of features to consider when looking for the best split:\n",
       "\n",
       "    - If int, then consider `max_features` features at each split.\n",
       "    - If float, then `max_features` is a fraction and\n",
       "      `int(max_features * n_features)` features are considered at each\n",
       "      split.\n",
       "    - If \"auto\", then `max_features=n_features`.\n",
       "    - If \"sqrt\", then `max_features=sqrt(n_features)`.\n",
       "    - If \"log2\", then `max_features=log2(n_features)`.\n",
       "    - If None, then `max_features=n_features`.\n",
       "\n",
       "    Choosing `max_features < n_features` leads to a reduction of variance\n",
       "    and an increase in bias.\n",
       "\n",
       "    Note: the search for a split does not stop until at least one\n",
       "    valid partition of the node samples is found, even if it requires to\n",
       "    effectively inspect more than ``max_features`` features.\n",
       "\n",
       "alpha : float, default=0.9\n",
       "    The alpha-quantile of the huber loss function and the quantile\n",
       "    loss function. Only if ``loss='huber'`` or ``loss='quantile'``.\n",
       "\n",
       "verbose : int, default=0\n",
       "    Enable verbose output. If 1 then it prints progress and performance\n",
       "    once in a while (the more trees the lower the frequency). If greater\n",
       "    than 1 then it prints progress and performance for every tree.\n",
       "\n",
       "max_leaf_nodes : int, default=None\n",
       "    Grow trees with ``max_leaf_nodes`` in best-first fashion.\n",
       "    Best nodes are defined as relative reduction in impurity.\n",
       "    If None then unlimited number of leaf nodes.\n",
       "\n",
       "warm_start : bool, default=False\n",
       "    When set to ``True``, reuse the solution of the previous call to fit\n",
       "    and add more estimators to the ensemble, otherwise, just erase the\n",
       "    previous solution. See :term:`the Glossary <warm_start>`.\n",
       "\n",
       "validation_fraction : float, default=0.1\n",
       "    The proportion of training data to set aside as validation set for\n",
       "    early stopping. Must be between 0 and 1.\n",
       "    Only used if ``n_iter_no_change`` is set to an integer.\n",
       "\n",
       "    .. versionadded:: 0.20\n",
       "\n",
       "n_iter_no_change : int, default=None\n",
       "    ``n_iter_no_change`` is used to decide if early stopping will be used\n",
       "    to terminate training when validation score is not improving. By\n",
       "    default it is set to None to disable early stopping. If set to a\n",
       "    number, it will set aside ``validation_fraction`` size of the training\n",
       "    data as validation and terminate training when validation score is not\n",
       "    improving in all of the previous ``n_iter_no_change`` numbers of\n",
       "    iterations.\n",
       "\n",
       "    .. versionadded:: 0.20\n",
       "\n",
       "tol : float, default=1e-4\n",
       "    Tolerance for the early stopping. When the loss is not improving\n",
       "    by at least tol for ``n_iter_no_change`` iterations (if set to a\n",
       "    number), the training stops.\n",
       "\n",
       "    .. versionadded:: 0.20\n",
       "\n",
       "ccp_alpha : non-negative float, default=0.0\n",
       "    Complexity parameter used for Minimal Cost-Complexity Pruning. The\n",
       "    subtree with the largest cost complexity that is smaller than\n",
       "    ``ccp_alpha`` will be chosen. By default, no pruning is performed. See\n",
       "    :ref:`minimal_cost_complexity_pruning` for details.\n",
       "\n",
       "    .. versionadded:: 0.22\n",
       "\n",
       "Attributes\n",
       "----------\n",
       "feature_importances_ : ndarray of shape (n_features,)\n",
       "    The impurity-based feature importances.\n",
       "    The higher, the more important the feature.\n",
       "    The importance of a feature is computed as the (normalized)\n",
       "    total reduction of the criterion brought by that feature.  It is also\n",
       "    known as the Gini importance.\n",
       "\n",
       "    Warning: impurity-based feature importances can be misleading for\n",
       "    high cardinality features (many unique values). See\n",
       "    :func:`sklearn.inspection.permutation_importance` as an alternative.\n",
       "\n",
       "oob_improvement_ : ndarray of shape (n_estimators,)\n",
       "    The improvement in loss (= deviance) on the out-of-bag samples\n",
       "    relative to the previous iteration.\n",
       "    ``oob_improvement_[0]`` is the improvement in\n",
       "    loss of the first stage over the ``init`` estimator.\n",
       "    Only available if ``subsample < 1.0``\n",
       "\n",
       "train_score_ : ndarray of shape (n_estimators,)\n",
       "    The i-th score ``train_score_[i]`` is the deviance (= loss) of the\n",
       "    model at iteration ``i`` on the in-bag sample.\n",
       "    If ``subsample == 1`` this is the deviance on the training data.\n",
       "\n",
       "loss_ : LossFunction\n",
       "    The concrete ``LossFunction`` object.\n",
       "\n",
       "init_ : estimator\n",
       "    The estimator that provides the initial predictions.\n",
       "    Set via the ``init`` argument or ``loss.init_estimator``.\n",
       "\n",
       "estimators_ : ndarray of DecisionTreeRegressor of shape (n_estimators, 1)\n",
       "    The collection of fitted sub-estimators.\n",
       "\n",
       "n_classes_ : int\n",
       "    The number of classes, set to 1 for regressors.\n",
       "\n",
       "    .. deprecated:: 0.24\n",
       "        Attribute ``n_classes_`` was deprecated in version 0.24 and\n",
       "        will be removed in 1.1 (renaming of 0.26).\n",
       "\n",
       "n_estimators_ : int\n",
       "    The number of estimators as selected by early stopping (if\n",
       "    ``n_iter_no_change`` is specified). Otherwise it is set to\n",
       "    ``n_estimators``.\n",
       "\n",
       "n_features_ : int\n",
       "    The number of data features.\n",
       "\n",
       "    .. deprecated:: 1.0\n",
       "        Attribute `n_features_` was deprecated in version 1.0 and will be\n",
       "        removed in 1.2. Use `n_features_in_` instead.\n",
       "\n",
       "n_features_in_ : int\n",
       "    Number of features seen during :term:`fit`.\n",
       "\n",
       "    .. versionadded:: 0.24\n",
       "\n",
       "feature_names_in_ : ndarray of shape (`n_features_in_`,)\n",
       "    Names of features seen during :term:`fit`. Defined only when `X`\n",
       "    has feature names that are all strings.\n",
       "\n",
       "    .. versionadded:: 1.0\n",
       "\n",
       "max_features_ : int\n",
       "    The inferred value of max_features.\n",
       "\n",
       "See Also\n",
       "--------\n",
       "HistGradientBoostingRegressor : Histogram-based Gradient Boosting\n",
       "    Classification Tree.\n",
       "sklearn.tree.DecisionTreeRegressor : A decision tree regressor.\n",
       "sklearn.ensemble.RandomForestRegressor : A random forest regressor.\n",
       "\n",
       "Notes\n",
       "-----\n",
       "The features are always randomly permuted at each split. Therefore,\n",
       "the best found split may vary, even with the same training data and\n",
       "``max_features=n_features``, if the improvement of the criterion is\n",
       "identical for several splits enumerated during the search of the best\n",
       "split. To obtain a deterministic behaviour during fitting,\n",
       "``random_state`` has to be fixed.\n",
       "\n",
       "References\n",
       "----------\n",
       "J. Friedman, Greedy Function Approximation: A Gradient Boosting\n",
       "Machine, The Annals of Statistics, Vol. 29, No. 5, 2001.\n",
       "\n",
       "J. Friedman, Stochastic Gradient Boosting, 1999\n",
       "\n",
       "T. Hastie, R. Tibshirani and J. Friedman.\n",
       "Elements of Statistical Learning Ed. 2, Springer, 2009.\n",
       "\n",
       "Examples\n",
       "--------\n",
       ">>> from sklearn.datasets import make_regression\n",
       ">>> from sklearn.ensemble import GradientBoostingRegressor\n",
       ">>> from sklearn.model_selection import train_test_split\n",
       ">>> X, y = make_regression(random_state=0)\n",
       ">>> X_train, X_test, y_train, y_test = train_test_split(\n",
       "...     X, y, random_state=0)\n",
       ">>> reg = GradientBoostingRegressor(random_state=0)\n",
       ">>> reg.fit(X_train, y_train)\n",
       "GradientBoostingRegressor(random_state=0)\n",
       ">>> reg.predict(X_test[1:2])\n",
       "array([-61...])\n",
       ">>> reg.score(X_test, y_test)\n",
       "0.4...\n"
      ]
     },
     "metadata": {},
     "output_type": "display_data"
    }
   ],
   "source": [
    "?gbm_model"
   ]
  },
  {
   "cell_type": "markdown",
   "id": "f8bcb945-5484-4531-a684-b62c36b6f136",
   "metadata": {},
   "source": [
    "## Tahmin"
   ]
  },
  {
   "cell_type": "code",
   "execution_count": 124,
   "id": "edec3193-1aa5-4b1e-9f0d-640648d20793",
   "metadata": {},
   "outputs": [
    {
     "data": {
      "text/plain": [
       "344.67437883141207"
      ]
     },
     "execution_count": 124,
     "metadata": {},
     "output_type": "execute_result"
    }
   ],
   "source": [
    "y_pred = gbm_model.predict(X_test)\n",
    "np.sqrt(mean_squared_error(y_test, y_pred))"
   ]
  },
  {
   "cell_type": "markdown",
   "id": "05bd336a-0e6d-43d3-9fe9-0b104cb43a47",
   "metadata": {},
   "source": [
    "## Model Tuning"
   ]
  },
  {
   "cell_type": "code",
   "execution_count": 125,
   "id": "e22d0674-8dc2-49a7-a623-55e3e4e88ac7",
   "metadata": {},
   "outputs": [
    {
     "name": "stdout",
     "output_type": "stream",
     "text": [
      "Fitting 10 folds for each of 240 candidates, totalling 2400 fits\n"
     ]
    },
    {
     "data": {
      "text/plain": [
       "{'learning_rate': 0.1, 'max_depth': 5, 'n_estimators': 2000, 'subsample': 0.5}"
      ]
     },
     "execution_count": 125,
     "metadata": {},
     "output_type": "execute_result"
    }
   ],
   "source": [
    "gbm_params = {\n",
    "    'learning_rate': [0.001, 0.01, 0.1, 0.2],\n",
    "    'max_depth': [3, 5, 8,50,100],\n",
    "    'n_estimators': [200, 500, 1000, 2000],\n",
    "    'subsample': [1,0.5,0.75],\n",
    "}\n",
    "\n",
    "gbm = GradientBoostingRegressor()\n",
    "gbm_cv_model = GridSearchCV(gbm, gbm_params, cv = 10, n_jobs = -1, verbose = 2).fit(X_train, y_train)\n",
    "gbm_cv_model.best_params_"
   ]
  },
  {
   "cell_type": "code",
   "execution_count": 126,
   "id": "dabc06e9-c6e1-4105-8530-17aa73783473",
   "metadata": {},
   "outputs": [],
   "source": [
    "gbm_tuned = GradientBoostingRegressor(learning_rate = 0.1,  \n",
    "                                      max_depth = 5, \n",
    "                                      n_estimators = 200, \n",
    "                                      subsample = 0.5)\n",
    "\n",
    "gbm_tuned = gbm_tuned.fit(X_train,y_train)"
   ]
  },
  {
   "cell_type": "code",
   "execution_count": 127,
   "id": "1fc781d3-d0c3-41f6-b8b4-35c1d5d52e4d",
   "metadata": {},
   "outputs": [
    {
     "data": {
      "text/plain": [
       "328.4577466390202"
      ]
     },
     "execution_count": 127,
     "metadata": {},
     "output_type": "execute_result"
    }
   ],
   "source": [
    "y_pred = gbm_tuned.predict(X_test)\n",
    "np.sqrt(mean_squared_error(y_test, y_pred))"
   ]
  },
  {
   "cell_type": "code",
   "execution_count": 129,
   "id": "753b2993-3628-4703-a489-090130934259",
   "metadata": {},
   "outputs": [
    {
     "data": {
      "image/png": "[encoded data removed]",
      "text/plain": [
       "<Figure size 432x288 with 1 Axes>"
      ]
     },
     "metadata": {
      "needs_background": "light"
     },
     "output_type": "display_data"
    }
   ],
   "source": [
    "Importance = pd.DataFrame({\"Importance\": gbm_tuned.feature_importances_*100},\n",
    "                         index = X_train.columns)\n",
    "Importance.sort_values(by = \"Importance\", \n",
    "                       axis = 0, \n",
    "                       ascending = True).plot(kind =\"barh\", color = \"r\")\n",
    "\n",
    "plt.xlabel(\"Değişken Önem Düzeyleri\");"
   ]
  },
  {
   "cell_type": "markdown",
   "id": "038063cf-8c60-4c82-ae10-329982223527",
   "metadata": {},
   "source": [
    "# eXtreme Gradient Boosting (XGBoost)\n",
    "\n",
    "XGBoost,  GBMin hız ve tahmin performansını arttırmak üzere optimize edilmiş; ölçeklenebilir ve farklı platformlara entegre edilebilir halidir\n",
    "<br><br>\n",
    "* R, Python, Hadoop, Scala, Julia ile kullanılabilir\n",
    "* Ölçeklenebilirdir\n",
    "* Hızlıdır\n",
    "* Tahmin başarısı yüksektir\n",
    "* Birçok kaggle yarışmasında başarısı kanıtlanmıştır"
   ]
  },
  {
   "cell_type": "code",
   "execution_count": 7,
   "id": "8d09ca5e-f89d-42bd-bf4c-b8aabb426cb1",
   "metadata": {},
   "outputs": [],
   "source": [
    "hit = pd.read_csv(\"Ml3Hitters.csv\")\n",
    "df = hit.copy()\n",
    "df = df.dropna()\n",
    "dms = pd.get_dummies(df[['League', 'Division', 'NewLeague']])\n",
    "y = df[\"Salary\"]\n",
    "X_ = df.drop(['Salary', 'League', 'Division', 'NewLeague'], axis=1).astype('float64')\n",
    "X = pd.concat([X_, dms[['League_N', 'Division_W', 'NewLeague_N']]], axis=1)\n",
    "X_train, X_test, y_train, y_test = train_test_split(X, y, \n",
    "                                                    test_size=0.25, \n",
    "                                                    random_state=42)"
   ]
  },
  {
   "cell_type": "code",
   "execution_count": 10,
   "id": "32e71fe3-1328-48b8-aaf4-397ac11e7ba0",
   "metadata": {},
   "outputs": [],
   "source": [
    "# !pip install xgboost\n",
    "# import xgboost as xgb\n",
    "# from xbgoost impot XGBRegressor\n",
    "DM_train = xgb.DMatrix(data = X_train, label = y_train)\n",
    "DM_test = xgb.DMatrix(data = X_test, label = y_test)\n",
    "xgb_model = XGBRegressor().fit(X_train, y_train)"
   ]
  },
  {
   "cell_type": "markdown",
   "id": "44db30c3-4d72-4411-b852-96343cf98707",
   "metadata": {},
   "source": [
    "## Tahmin"
   ]
  },
  {
   "cell_type": "code",
   "execution_count": 11,
   "id": "9e33b832-65e4-47f9-8eb1-1a0350dfcb35",
   "metadata": {},
   "outputs": [
    {
     "data": {
      "text/plain": [
       "355.46515176059927"
      ]
     },
     "execution_count": 11,
     "metadata": {},
     "output_type": "execute_result"
    }
   ],
   "source": [
    "y_pred = xgb_model.predict(X_test)\n",
    "np.sqrt(mean_squared_error(y_test, y_pred))"
   ]
  },
  {
   "cell_type": "markdown",
   "id": "d4278432-db5d-45a1-9770-6f5adb37a3f0",
   "metadata": {},
   "source": [
    "## Model Tuning"
   ]
  },
  {
   "cell_type": "code",
   "execution_count": 12,
   "id": "5c5f8e07-1844-4a16-838a-5f0963e4f7b0",
   "metadata": {
    "collapsed": true,
    "jupyter": {
     "outputs_hidden": true
    },
    "tags": []
   },
   "outputs": [
    {
     "data": {
      "text/plain": [
       "\u001b[1;31mType:\u001b[0m        XGBRegressor\n",
       "\u001b[1;31mString form:\u001b[0m\n",
       "XGBRegressor(base_score=0.5, booster='gbtree', colsample_bylevel=1,\n",
       "           colsample_bynode <...> s_weight=1, subsample=1, tree_method='exact',\n",
       "           validate_parameters=1, verbosity=None)\n",
       "\u001b[1;31mFile:\u001b[0m        c:\\users\\tolga\\appdata\\local\\programs\\python\\python310\\lib\\site-packages\\xgboost\\sklearn.py\n",
       "\u001b[1;31mDocstring:\u001b[0m  \n",
       "Implementation of the scikit-learn API for XGBoost regression.\n",
       "\n",
       "\n",
       "Parameters\n",
       "----------\n",
       "\n",
       "    n_estimators : int\n",
       "        Number of gradient boosted trees.  Equivalent to number of boosting\n",
       "        rounds.\n",
       "\n",
       "    max_depth :  Optional[int]\n",
       "        Maximum tree depth for base learners.\n",
       "    learning_rate : Optional[float]\n",
       "        Boosting learning rate (xgb's \"eta\")\n",
       "    verbosity : Optional[int]\n",
       "        The degree of verbosity. Valid values are 0 (silent) - 3 (debug).\n",
       "    objective : typing.Union[str, typing.Callable[[numpy.ndarray, numpy.ndarray], typing.Tuple[numpy.ndarray, numpy.ndarray]], NoneType]\n",
       "        Specify the learning task and the corresponding learning objective or\n",
       "        a custom objective function to be used (see note below).\n",
       "    booster: Optional[str]\n",
       "        Specify which booster to use: gbtree, gblinear or dart.\n",
       "    tree_method: Optional[str]\n",
       "        Specify which tree method to use.  Default to auto.  If this parameter\n",
       "        is set to default, XGBoost will choose the most conservative option\n",
       "        available.  It's recommended to study this option from the parameters\n",
       "        document: https://xgboost.readthedocs.io/en/latest/treemethod.html.\n",
       "    n_jobs : Optional[int]\n",
       "        Number of parallel threads used to run xgboost.  When used with other Scikit-Learn\n",
       "        algorithms like grid search, you may choose which algorithm to parallelize and\n",
       "        balance the threads.  Creating thread contention will significantly slow down both\n",
       "        algorithms.\n",
       "    gamma : Optional[float]\n",
       "        Minimum loss reduction required to make a further partition on a leaf\n",
       "        node of the tree.\n",
       "    min_child_weight : Optional[float]\n",
       "        Minimum sum of instance weight(hessian) needed in a child.\n",
       "    max_delta_step : Optional[float]\n",
       "        Maximum delta step we allow each tree's weight estimation to be.\n",
       "    subsample : Optional[float]\n",
       "        Subsample ratio of the training instance.\n",
       "    colsample_bytree : Optional[float]\n",
       "        Subsample ratio of columns when constructing each tree.\n",
       "    colsample_bylevel : Optional[float]\n",
       "        Subsample ratio of columns for each level.\n",
       "    colsample_bynode : Optional[float]\n",
       "        Subsample ratio of columns for each split.\n",
       "    reg_alpha : Optional[float]\n",
       "        L1 regularization term on weights (xgb's alpha).\n",
       "    reg_lambda : Optional[float]\n",
       "        L2 regularization term on weights (xgb's lambda).\n",
       "    scale_pos_weight : Optional[float]\n",
       "        Balancing of positive and negative weights.\n",
       "    base_score : Optional[float]\n",
       "        The initial prediction score of all instances, global bias.\n",
       "    random_state : Optional[Union[numpy.random.RandomState, int]]\n",
       "        Random number seed.\n",
       "\n",
       "        .. note::\n",
       "\n",
       "           Using gblinear booster with shotgun updater is nondeterministic as\n",
       "           it uses Hogwild algorithm.\n",
       "\n",
       "    missing : float, default np.nan\n",
       "        Value in the data which needs to be present as a missing value.\n",
       "    num_parallel_tree: Optional[int]\n",
       "        Used for boosting random forest.\n",
       "    monotone_constraints : Optional[Union[Dict[str, int], str]]\n",
       "        Constraint of variable monotonicity.  See tutorial for more\n",
       "        information.\n",
       "    interaction_constraints : Optional[Union[str, List[Tuple[str]]]]\n",
       "        Constraints for interaction representing permitted interactions.  The\n",
       "        constraints must be specified in the form of a nest list, e.g. [[0, 1],\n",
       "        [2, 3, 4]], where each inner list is a group of indices of features\n",
       "        that are allowed to interact with each other.  See tutorial for more\n",
       "        information\n",
       "    importance_type: Optional[str]\n",
       "        The feature importance type for the feature_importances\\_ property:\n",
       "\n",
       "        * For tree model, it's either \"gain\", \"weight\", \"cover\", \"total_gain\" or\n",
       "          \"total_cover\".\n",
       "        * For linear model, only \"weight\" is defined and it's the normalized coefficients\n",
       "          without bias.\n",
       "\n",
       "    gpu_id : Optional[int]\n",
       "        Device ordinal.\n",
       "    validate_parameters : Optional[bool]\n",
       "        Give warnings for unknown parameter.\n",
       "    predictor : Optional[str]\n",
       "        Force XGBoost to use specific predictor, available choices are [cpu_predictor,\n",
       "        gpu_predictor].\n",
       "    enable_categorical : bool\n",
       "\n",
       "        .. versionadded:: 1.5.0\n",
       "\n",
       "        Experimental support for categorical data.  Do not set to true unless you are\n",
       "        interested in development. Only valid when `gpu_hist` and dataframe are used.\n",
       "\n",
       "    kwargs : dict, optional\n",
       "        Keyword arguments for XGBoost Booster object.  Full documentation of\n",
       "        parameters can be found here:\n",
       "        https://github.com/dmlc/xgboost/blob/master/doc/parameter.rst.\n",
       "        Attempting to set a parameter via the constructor args and \\*\\*kwargs\n",
       "        dict simultaneously will result in a TypeError.\n",
       "\n",
       "        .. note:: \\*\\*kwargs unsupported by scikit-learn\n",
       "\n",
       "            \\*\\*kwargs is unsupported by scikit-learn.  We do not guarantee\n",
       "            that parameters passed via this argument will interact properly\n",
       "            with scikit-learn.\n",
       "\n",
       "        .. note::  Custom objective function\n",
       "\n",
       "            A custom objective function can be provided for the ``objective``\n",
       "            parameter. In this case, it should have the signature\n",
       "            ``objective(y_true, y_pred) -> grad, hess``:\n",
       "\n",
       "            y_true: array_like of shape [n_samples]\n",
       "                The target values\n",
       "            y_pred: array_like of shape [n_samples]\n",
       "                The predicted values\n",
       "\n",
       "            grad: array_like of shape [n_samples]\n",
       "                The value of the gradient for each sample point.\n",
       "            hess: array_like of shape [n_samples]\n",
       "                The value of the second derivative for each sample point\n"
      ]
     },
     "metadata": {},
     "output_type": "display_data"
    }
   ],
   "source": [
    "?xgb_model"
   ]
  },
  {
   "cell_type": "code",
   "execution_count": 13,
   "id": "e083b045-d262-407d-bad2-fec340a321aa",
   "metadata": {},
   "outputs": [
    {
     "name": "stdout",
     "output_type": "stream",
     "text": [
      "Fitting 10 folds for each of 300 candidates, totalling 3000 fits\n"
     ]
    },
    {
     "data": {
      "text/plain": [
       "GridSearchCV(cv=10,\n",
       "             estimator=XGBRegressor(base_score=None, booster=None,\n",
       "                                    colsample_bylevel=None,\n",
       "                                    colsample_bynode=None,\n",
       "                                    colsample_bytree=None,\n",
       "                                    enable_categorical=False, gamma=None,\n",
       "                                    gpu_id=None, importance_type=None,\n",
       "                                    interaction_constraints=None,\n",
       "                                    learning_rate=None, max_delta_step=None,\n",
       "                                    max_depth=None, min_child_weight=None,\n",
       "                                    missing=nan, monotone_constraints=None,\n",
       "                                    n_estimators=100, n_jobs=None,\n",
       "                                    num_parallel_tree=None, predictor=None,\n",
       "                                    random_state=None, reg_alpha=None,\n",
       "                                    reg_lambda=None, scale_pos_weight=None,\n",
       "                                    subsample=None, tree_method=None,\n",
       "                                    validate_parameters=None, verbosity=None),\n",
       "             n_jobs=-1,\n",
       "             param_grid={'colsample_bytree': [0.4, 0.5, 0.6, 0.9, 1],\n",
       "                         'learning_rate': [0.1, 0.01, 0.5],\n",
       "                         'max_depth': [2, 3, 4, 5, 6],\n",
       "                         'n_estimators': [100, 200, 500, 1000]},\n",
       "             verbose=2)"
      ]
     },
     "execution_count": 13,
     "metadata": {},
     "output_type": "execute_result"
    }
   ],
   "source": [
    "xgb_grid = {\n",
    "     'colsample_bytree': [0.4, 0.5,0.6,0.9,1], \n",
    "     'n_estimators':[100, 200, 500, 1000],\n",
    "     'max_depth': [2,3,4,5,6],\n",
    "     'learning_rate': [0.1, 0.01, 0.5]\n",
    "}\n",
    "\n",
    "xgb = XGBRegressor()\n",
    "\n",
    "xgb_cv = GridSearchCV(xgb, \n",
    "                      param_grid = xgb_grid, \n",
    "                      cv = 10, \n",
    "                      n_jobs = -1,\n",
    "                      verbose = 2)\n",
    "\n",
    "\n",
    "xgb_cv.fit(X_train, y_train)"
   ]
  },
  {
   "cell_type": "code",
   "execution_count": 14,
   "id": "bfd4579a-ca1b-445f-a044-1c95bfc373f8",
   "metadata": {},
   "outputs": [
    {
     "data": {
      "text/plain": [
       "{'colsample_bytree': 0.5,\n",
       " 'learning_rate': 0.1,\n",
       " 'max_depth': 2,\n",
       " 'n_estimators': 500}"
      ]
     },
     "execution_count": 14,
     "metadata": {},
     "output_type": "execute_result"
    }
   ],
   "source": [
    "xgb_cv.best_params_"
   ]
  },
  {
   "cell_type": "code",
   "execution_count": 16,
   "id": "1d19898d-5221-4e6c-8cb1-928bf8fd8f9c",
   "metadata": {},
   "outputs": [
    {
     "data": {
      "text/plain": [
       "360.4180975078934"
      ]
     },
     "execution_count": 16,
     "metadata": {},
     "output_type": "execute_result"
    }
   ],
   "source": [
    "xgb_tuned = XGBRegressor(colsample_bytree = 0.9, \n",
    "                         learning_rate = 0.01, \n",
    "                         max_depth = 5, \n",
    "                         n_estimators = 1000) \n",
    "\n",
    "xgb_tuned = xgb_tuned.fit(X_train,y_train)\n",
    "y_pred = xgb_tuned.predict(X_test)\n",
    "np.sqrt(mean_squared_error(y_test, y_pred))"
   ]
  },
  {
   "cell_type": "markdown",
   "id": "bb6540e6-1c38-4667-bfdd-fb38f5493008",
   "metadata": {},
   "source": [
    "# Light GBM\n",
    "\n",
    "Light GBM, XGBoost'un eğitim süresi performansını arttırmaya yönelik geliştirilen bir diğer GBM türüdür\n",
    "* Daha performanslıdır\n",
    "* Level-wise büyüme stratejisi yerine Leaf-wise büyüme stratejisini izler\n",
    "* Breadth-first search (BFS) yerine depth-first search (DFS) yöntemlerini kullanır"
   ]
  },
  {
   "cell_type": "code",
   "execution_count": 17,
   "id": "3daf7f6d-e5bf-4b89-9e97-48f21d7f1032",
   "metadata": {},
   "outputs": [],
   "source": [
    "hit = pd.read_csv(\"Ml3Hitters.csv\")\n",
    "df = hit.copy()\n",
    "df = df.dropna()\n",
    "dms = pd.get_dummies(df[['League', 'Division', 'NewLeague']])\n",
    "y = df[\"Salary\"]\n",
    "X_ = df.drop(['Salary', 'League', 'Division', 'NewLeague'], axis=1).astype('float64')\n",
    "X = pd.concat([X_, dms[['League_N', 'Division_W', 'NewLeague_N']]], axis=1)\n",
    "X_train, X_test, y_train, y_test = train_test_split(X, y, \n",
    "                                                    test_size=0.25, \n",
    "                                                    random_state=42)"
   ]
  },
  {
   "cell_type": "code",
   "execution_count": 19,
   "id": "7f3bdf51-2a7f-4303-9e7a-35c54c8bdb7c",
   "metadata": {},
   "outputs": [],
   "source": [
    "# !pip install lightgbm\n",
    "# from lightgbm import LGBMRegressor\n",
    "#conda install -c conda-forge lightgbm\n",
    "lgbm = LGBMRegressor()\n",
    "lgbm_model = lgbm.fit(X_train, y_train)"
   ]
  },
  {
   "cell_type": "markdown",
   "id": "5ede2984-6fb8-4d4c-b891-60dae307c5cb",
   "metadata": {},
   "source": [
    "## Tahmin"
   ]
  },
  {
   "cell_type": "code",
   "execution_count": 20,
   "id": "14ebb11b-c886-417c-8a6e-b5a55dc0fdc0",
   "metadata": {},
   "outputs": [
    {
     "data": {
      "text/plain": [
       "363.8712087611089"
      ]
     },
     "execution_count": 20,
     "metadata": {},
     "output_type": "execute_result"
    }
   ],
   "source": [
    "y_pred = lgbm_model.predict(X_test, num_iteration = lgbm_model.best_iteration_)\n",
    "np.sqrt(mean_squared_error(y_test, y_pred))"
   ]
  },
  {
   "cell_type": "markdown",
   "id": "5f804334-4f2f-483b-b353-228e35bb1519",
   "metadata": {},
   "source": [
    "## Model Tuning"
   ]
  },
  {
   "cell_type": "code",
   "execution_count": 21,
   "id": "b9b34771-140f-4d19-baa1-ab625f0ba46a",
   "metadata": {
    "collapsed": true,
    "jupyter": {
     "outputs_hidden": true
    },
    "tags": []
   },
   "outputs": [
    {
     "data": {
      "text/plain": [
       "\u001b[1;31mType:\u001b[0m           LGBMRegressor\n",
       "\u001b[1;31mString form:\u001b[0m    LGBMRegressor()\n",
       "\u001b[1;31mFile:\u001b[0m           c:\\users\\tolga\\appdata\\local\\programs\\python\\python310\\lib\\site-packages\\lightgbm\\sklearn.py\n",
       "\u001b[1;31mDocstring:\u001b[0m      LightGBM regressor.\n",
       "\u001b[1;31mInit docstring:\u001b[0m\n",
       "Construct a gradient boosting model.\n",
       "\n",
       "Parameters\n",
       "----------\n",
       "boosting_type : str, optional (default='gbdt')\n",
       "    'gbdt', traditional Gradient Boosting Decision Tree.\n",
       "    'dart', Dropouts meet Multiple Additive Regression Trees.\n",
       "    'goss', Gradient-based One-Side Sampling.\n",
       "    'rf', Random Forest.\n",
       "num_leaves : int, optional (default=31)\n",
       "    Maximum tree leaves for base learners.\n",
       "max_depth : int, optional (default=-1)\n",
       "    Maximum tree depth for base learners, <=0 means no limit.\n",
       "learning_rate : float, optional (default=0.1)\n",
       "    Boosting learning rate.\n",
       "    You can use ``callbacks`` parameter of ``fit`` method to shrink/adapt learning rate\n",
       "    in training using ``reset_parameter`` callback.\n",
       "    Note, that this will ignore the ``learning_rate`` argument in training.\n",
       "n_estimators : int, optional (default=100)\n",
       "    Number of boosted trees to fit.\n",
       "subsample_for_bin : int, optional (default=200000)\n",
       "    Number of samples for constructing bins.\n",
       "objective : str, callable or None, optional (default=None)\n",
       "    Specify the learning task and the corresponding learning objective or\n",
       "    a custom objective function to be used (see note below).\n",
       "    Default: 'regression' for LGBMRegressor, 'binary' or 'multiclass' for LGBMClassifier, 'lambdarank' for LGBMRanker.\n",
       "class_weight : dict, 'balanced' or None, optional (default=None)\n",
       "    Weights associated with classes in the form ``{class_label: weight}``.\n",
       "    Use this parameter only for multi-class classification task;\n",
       "    for binary classification task you may use ``is_unbalance`` or ``scale_pos_weight`` parameters.\n",
       "    Note, that the usage of all these parameters will result in poor estimates of the individual class probabilities.\n",
       "    You may want to consider performing probability calibration\n",
       "    (https://scikit-learn.org/stable/modules/calibration.html) of your model.\n",
       "    The 'balanced' mode uses the values of y to automatically adjust weights\n",
       "    inversely proportional to class frequencies in the input data as ``n_samples / (n_classes * np.bincount(y))``.\n",
       "    If None, all classes are supposed to have weight one.\n",
       "    Note, that these weights will be multiplied with ``sample_weight`` (passed through the ``fit`` method)\n",
       "    if ``sample_weight`` is specified.\n",
       "min_split_gain : float, optional (default=0.)\n",
       "    Minimum loss reduction required to make a further partition on a leaf node of the tree.\n",
       "min_child_weight : float, optional (default=1e-3)\n",
       "    Minimum sum of instance weight (hessian) needed in a child (leaf).\n",
       "min_child_samples : int, optional (default=20)\n",
       "    Minimum number of data needed in a child (leaf).\n",
       "subsample : float, optional (default=1.)\n",
       "    Subsample ratio of the training instance.\n",
       "subsample_freq : int, optional (default=0)\n",
       "    Frequency of subsample, <=0 means no enable.\n",
       "colsample_bytree : float, optional (default=1.)\n",
       "    Subsample ratio of columns when constructing each tree.\n",
       "reg_alpha : float, optional (default=0.)\n",
       "    L1 regularization term on weights.\n",
       "reg_lambda : float, optional (default=0.)\n",
       "    L2 regularization term on weights.\n",
       "random_state : int, RandomState object or None, optional (default=None)\n",
       "    Random number seed.\n",
       "    If int, this number is used to seed the C++ code.\n",
       "    If RandomState object (numpy), a random integer is picked based on its state to seed the C++ code.\n",
       "    If None, default seeds in C++ code are used.\n",
       "n_jobs : int, optional (default=-1)\n",
       "    Number of parallel threads.\n",
       "silent : bool, optional (default=True)\n",
       "    Whether to print messages while running boosting.\n",
       "importance_type : str, optional (default='split')\n",
       "    The type of feature importance to be filled into ``feature_importances_``.\n",
       "    If 'split', result contains numbers of times the feature is used in a model.\n",
       "    If 'gain', result contains total gains of splits which use the feature.\n",
       "**kwargs\n",
       "    Other parameters for the model.\n",
       "    Check http://lightgbm.readthedocs.io/en/latest/Parameters.html for more parameters.\n",
       "\n",
       "    .. warning::\n",
       "\n",
       "        \\*\\*kwargs is not supported in sklearn, it may cause unexpected issues.\n",
       "\n",
       "Note\n",
       "----\n",
       "A custom objective function can be provided for the ``objective`` parameter.\n",
       "In this case, it should have the signature\n",
       "``objective(y_true, y_pred) -> grad, hess`` or\n",
       "``objective(y_true, y_pred, group) -> grad, hess``:\n",
       "\n",
       "    y_true : array-like of shape = [n_samples]\n",
       "        The target values.\n",
       "    y_pred : array-like of shape = [n_samples] or shape = [n_samples * n_classes] (for multi-class task)\n",
       "        The predicted values.\n",
       "        Predicted values are returned before any transformation,\n",
       "        e.g. they are raw margin instead of probability of positive class for binary task.\n",
       "    group : array-like\n",
       "        Group/query data.\n",
       "        Only used in the learning-to-rank task.\n",
       "        sum(group) = n_samples.\n",
       "        For example, if you have a 100-document dataset with ``group = [10, 20, 40, 10, 10, 10]``, that means that you have 6 groups,\n",
       "        where the first 10 records are in the first group, records 11-30 are in the second group, records 31-70 are in the third group, etc.\n",
       "    grad : array-like of shape = [n_samples] or shape = [n_samples * n_classes] (for multi-class task)\n",
       "        The value of the first order derivative (gradient) of the loss\n",
       "        with respect to the elements of y_pred for each sample point.\n",
       "    hess : array-like of shape = [n_samples] or shape = [n_samples * n_classes] (for multi-class task)\n",
       "        The value of the second order derivative (Hessian) of the loss\n",
       "        with respect to the elements of y_pred for each sample point.\n",
       "\n",
       "For multi-class task, the y_pred is group by class_id first, then group by row_id.\n",
       "If you want to get i-th row y_pred in j-th class, the access way is y_pred[j * num_data + i]\n",
       "and you should group grad and hess in this way as well.\n"
      ]
     },
     "metadata": {},
     "output_type": "display_data"
    }
   ],
   "source": [
    "?lgbm_model"
   ]
  },
  {
   "cell_type": "code",
   "execution_count": 22,
   "id": "03b5acbf-ce53-4de6-8bd9-62ef7deb13f7",
   "metadata": {},
   "outputs": [
    {
     "name": "stdout",
     "output_type": "stream",
     "text": [
      "Fitting 10 folds for each of 960 candidates, totalling 9600 fits\n"
     ]
    }
   ],
   "source": [
    "lgbm_grid = {\n",
    "    'colsample_bytree': [0.4, 0.5,0.6,0.9,1],\n",
    "    'learning_rate': [0.01, 0.1, 0.5,1],\n",
    "    'n_estimators': [20, 40, 100, 200, 500,1000],\n",
    "    'max_depth': [1,2,3,4,5,6,7,8] }\n",
    "\n",
    "lgbm = LGBMRegressor()\n",
    "lgbm_cv_model = GridSearchCV(lgbm, lgbm_grid, cv=10, n_jobs = -1, verbose = 2).fit(X_train, y_train)"
   ]
  },
  {
   "cell_type": "code",
   "execution_count": 23,
   "id": "d47789e1-527b-414b-9663-e47a4734a273",
   "metadata": {},
   "outputs": [
    {
     "data": {
      "text/plain": [
       "{'colsample_bytree': 0.5,\n",
       " 'learning_rate': 0.1,\n",
       " 'max_depth': 6,\n",
       " 'n_estimators': 20}"
      ]
     },
     "execution_count": 23,
     "metadata": {},
     "output_type": "execute_result"
    }
   ],
   "source": [
    "lgbm_cv_model.best_params_"
   ]
  },
  {
   "cell_type": "code",
   "execution_count": 24,
   "id": "fac366b9-3a97-4a94-b4b1-918b4f9ea486",
   "metadata": {},
   "outputs": [],
   "source": [
    "lgbm_tuned = LGBMRegressor(learning_rate = 0.1, \n",
    "                           max_depth = 7, \n",
    "                           n_estimators = 40,\n",
    "                          colsample_bytree = 0.6)\n",
    "\n",
    "lgbm_tuned = lgbm_tuned.fit(X_train,y_train)"
   ]
  },
  {
   "cell_type": "code",
   "execution_count": 25,
   "id": "c7e77329-5169-495e-ac63-e4148f1d6c5f",
   "metadata": {},
   "outputs": [
    {
     "data": {
      "text/plain": [
       "372.7342551250238"
      ]
     },
     "execution_count": 25,
     "metadata": {},
     "output_type": "execute_result"
    }
   ],
   "source": [
    "y_pred = lgbm_tuned.predict(X_test)\n",
    "np.sqrt(mean_squared_error(y_test, y_pred))"
   ]
  },
  {
   "cell_type": "markdown",
   "id": "bfe9027c-345f-4fb1-81f1-5079e54e1652",
   "metadata": {},
   "source": [
    "# CatBoost (Category Boosting)\n",
    "\n",
    "Kategorik değişkenler ile otomatik olarak mücadele edebilen, hızlı, başarılı bir diğer GBM türevidir\n",
    "* Kategorik değişken desteği\n",
    "* Hızlı ve ölçeklenebilir GPU desteği\n",
    "* Daha başarılı tahminler\n",
    "* Hızlı train ve hızlı tahmin\n",
    "* Rusyanın ilk açık kaynak kodlu, başarılı bir ML çalışması"
   ]
  },
  {
   "cell_type": "code",
   "execution_count": 26,
   "id": "c446b902-0468-4a13-98dc-c0c8982305ef",
   "metadata": {},
   "outputs": [],
   "source": [
    "hit = pd.read_csv(\"Ml3Hitters.csv\")\n",
    "df = hit.copy()\n",
    "df = df.dropna()\n",
    "dms = pd.get_dummies(df[['League', 'Division', 'NewLeague']])\n",
    "y = df[\"Salary\"]\n",
    "X_ = df.drop(['Salary', 'League', 'Division', 'NewLeague'], axis=1).astype('float64')\n",
    "X = pd.concat([X_, dms[['League_N', 'Division_W', 'NewLeague_N']]], axis=1)\n",
    "X_train, X_test, y_train, y_test = train_test_split(X, y, \n",
    "                                                    test_size=0.25, \n",
    "                                                    random_state=42)"
   ]
  },
  {
   "cell_type": "code",
   "execution_count": 27,
   "id": "ab13ab81-4710-4a09-b253-b5cdc1e682b9",
   "metadata": {
    "collapsed": true,
    "jupyter": {
     "outputs_hidden": true
    },
    "tags": []
   },
   "outputs": [
    {
     "name": "stdout",
     "output_type": "stream",
     "text": [
      "Learning rate set to 0.031674\n",
      "0:\tlearn: 437.6430699\ttotal: 153ms\tremaining: 2m 33s\n",
      "1:\tlearn: 431.3923642\ttotal: 157ms\tremaining: 1m 18s\n",
      "2:\tlearn: 424.8820360\ttotal: 159ms\tremaining: 53s\n",
      "3:\tlearn: 418.2514904\ttotal: 162ms\tremaining: 40.2s\n",
      "4:\tlearn: 412.6394021\ttotal: 164ms\tremaining: 32.6s\n",
      "5:\tlearn: 406.6247020\ttotal: 165ms\tremaining: 27.4s\n",
      "6:\tlearn: 400.5321206\ttotal: 167ms\tremaining: 23.7s\n",
      "7:\tlearn: 394.6683437\ttotal: 169ms\tremaining: 20.9s\n",
      "8:\tlearn: 388.2496484\ttotal: 170ms\tremaining: 18.7s\n",
      "9:\tlearn: 382.9448842\ttotal: 172ms\tremaining: 17s\n",
      "10:\tlearn: 377.2600080\ttotal: 173ms\tremaining: 15.6s\n",
      "11:\tlearn: 372.4829606\ttotal: 174ms\tremaining: 14.4s\n",
      "12:\tlearn: 366.6823437\ttotal: 176ms\tremaining: 13.4s\n",
      "13:\tlearn: 362.6076230\ttotal: 177ms\tremaining: 12.5s\n",
      "14:\tlearn: 358.0107745\ttotal: 179ms\tremaining: 11.8s\n",
      "15:\tlearn: 353.2802665\ttotal: 180ms\tremaining: 11.1s\n",
      "16:\tlearn: 348.5646265\ttotal: 182ms\tremaining: 10.5s\n",
      "17:\tlearn: 343.6407912\ttotal: 184ms\tremaining: 10s\n",
      "18:\tlearn: 339.2363847\ttotal: 185ms\tremaining: 9.58s\n",
      "19:\tlearn: 334.3431252\ttotal: 187ms\tremaining: 9.17s\n",
      "20:\tlearn: 330.3247028\ttotal: 189ms\tremaining: 8.8s\n",
      "21:\tlearn: 326.6118334\ttotal: 190ms\tremaining: 8.46s\n",
      "22:\tlearn: 322.7759981\ttotal: 192ms\tremaining: 8.15s\n",
      "23:\tlearn: 318.9511822\ttotal: 193ms\tremaining: 7.87s\n",
      "24:\tlearn: 315.4216253\ttotal: 195ms\tremaining: 7.59s\n",
      "25:\tlearn: 311.3551377\ttotal: 196ms\tremaining: 7.35s\n",
      "26:\tlearn: 308.1492371\ttotal: 198ms\tremaining: 7.12s\n",
      "27:\tlearn: 304.7284729\ttotal: 199ms\tremaining: 6.9s\n",
      "28:\tlearn: 301.3893204\ttotal: 200ms\tremaining: 6.7s\n",
      "29:\tlearn: 298.2080758\ttotal: 202ms\tremaining: 6.51s\n",
      "30:\tlearn: 295.6878398\ttotal: 203ms\tremaining: 6.34s\n",
      "31:\tlearn: 292.3912243\ttotal: 204ms\tremaining: 6.17s\n",
      "32:\tlearn: 289.6345744\ttotal: 205ms\tremaining: 6.02s\n",
      "33:\tlearn: 287.2158711\ttotal: 207ms\tremaining: 5.88s\n",
      "34:\tlearn: 284.3879081\ttotal: 208ms\tremaining: 5.74s\n",
      "35:\tlearn: 281.7994818\ttotal: 209ms\tremaining: 5.6s\n",
      "36:\tlearn: 279.2028261\ttotal: 211ms\tremaining: 5.48s\n",
      "37:\tlearn: 276.5821160\ttotal: 212ms\tremaining: 5.36s\n",
      "38:\tlearn: 273.8890894\ttotal: 213ms\tremaining: 5.25s\n",
      "39:\tlearn: 271.1681677\ttotal: 214ms\tremaining: 5.14s\n",
      "40:\tlearn: 269.0159531\ttotal: 215ms\tremaining: 5.03s\n",
      "41:\tlearn: 266.3601804\ttotal: 216ms\tremaining: 4.94s\n",
      "42:\tlearn: 263.8608958\ttotal: 218ms\tremaining: 4.84s\n",
      "43:\tlearn: 261.1405566\ttotal: 219ms\tremaining: 4.75s\n",
      "44:\tlearn: 258.9314736\ttotal: 220ms\tremaining: 4.67s\n",
      "45:\tlearn: 256.3885577\ttotal: 221ms\tremaining: 4.59s\n",
      "46:\tlearn: 254.2857349\ttotal: 223ms\tremaining: 4.51s\n",
      "47:\tlearn: 252.2347121\ttotal: 224ms\tremaining: 4.44s\n",
      "48:\tlearn: 250.1779367\ttotal: 225ms\tremaining: 4.37s\n",
      "49:\tlearn: 248.2687430\ttotal: 226ms\tremaining: 4.29s\n",
      "50:\tlearn: 246.3685582\ttotal: 227ms\tremaining: 4.23s\n",
      "51:\tlearn: 244.8719988\ttotal: 229ms\tremaining: 4.17s\n",
      "52:\tlearn: 242.7348892\ttotal: 230ms\tremaining: 4.11s\n",
      "53:\tlearn: 241.1611112\ttotal: 231ms\tremaining: 4.05s\n",
      "54:\tlearn: 239.4819462\ttotal: 232ms\tremaining: 3.99s\n",
      "55:\tlearn: 237.3877895\ttotal: 233ms\tremaining: 3.94s\n",
      "56:\tlearn: 235.7619262\ttotal: 235ms\tremaining: 3.88s\n",
      "57:\tlearn: 233.9604804\ttotal: 236ms\tremaining: 3.83s\n",
      "58:\tlearn: 232.4948011\ttotal: 237ms\tremaining: 3.77s\n",
      "59:\tlearn: 230.6283304\ttotal: 238ms\tremaining: 3.73s\n",
      "60:\tlearn: 228.9920307\ttotal: 239ms\tremaining: 3.68s\n",
      "61:\tlearn: 227.5197637\ttotal: 240ms\tremaining: 3.63s\n",
      "62:\tlearn: 226.0561213\ttotal: 241ms\tremaining: 3.59s\n",
      "63:\tlearn: 224.3484762\ttotal: 242ms\tremaining: 3.54s\n",
      "64:\tlearn: 223.0652023\ttotal: 243ms\tremaining: 3.5s\n",
      "65:\tlearn: 221.6608069\ttotal: 244ms\tremaining: 3.46s\n",
      "66:\tlearn: 220.2445284\ttotal: 246ms\tremaining: 3.42s\n",
      "67:\tlearn: 219.0044262\ttotal: 247ms\tremaining: 3.38s\n",
      "68:\tlearn: 217.4624313\ttotal: 248ms\tremaining: 3.34s\n",
      "69:\tlearn: 216.0502248\ttotal: 249ms\tremaining: 3.31s\n",
      "70:\tlearn: 214.5361705\ttotal: 250ms\tremaining: 3.27s\n",
      "71:\tlearn: 213.1812509\ttotal: 251ms\tremaining: 3.23s\n",
      "72:\tlearn: 211.7399390\ttotal: 252ms\tremaining: 3.2s\n",
      "73:\tlearn: 210.5557639\ttotal: 254ms\tremaining: 3.18s\n",
      "74:\tlearn: 209.4242283\ttotal: 255ms\tremaining: 3.15s\n",
      "75:\tlearn: 208.4366109\ttotal: 256ms\tremaining: 3.12s\n",
      "76:\tlearn: 207.4514860\ttotal: 258ms\tremaining: 3.09s\n",
      "77:\tlearn: 206.1912213\ttotal: 259ms\tremaining: 3.06s\n",
      "78:\tlearn: 205.2585316\ttotal: 260ms\tremaining: 3.03s\n",
      "79:\tlearn: 203.8747879\ttotal: 261ms\tremaining: 3s\n",
      "80:\tlearn: 202.5993031\ttotal: 262ms\tremaining: 2.98s\n",
      "81:\tlearn: 201.4719061\ttotal: 263ms\tremaining: 2.95s\n",
      "82:\tlearn: 200.2871874\ttotal: 265ms\tremaining: 2.92s\n",
      "83:\tlearn: 199.1074683\ttotal: 266ms\tremaining: 2.9s\n",
      "84:\tlearn: 197.8511342\ttotal: 267ms\tremaining: 2.87s\n",
      "85:\tlearn: 196.8788042\ttotal: 268ms\tremaining: 2.85s\n",
      "86:\tlearn: 195.9815130\ttotal: 269ms\tremaining: 2.83s\n",
      "87:\tlearn: 195.0807956\ttotal: 270ms\tremaining: 2.8s\n",
      "88:\tlearn: 193.9775466\ttotal: 271ms\tremaining: 2.78s\n",
      "89:\tlearn: 192.8810426\ttotal: 273ms\tremaining: 2.76s\n",
      "90:\tlearn: 192.5363626\ttotal: 274ms\tremaining: 2.74s\n",
      "91:\tlearn: 191.3259849\ttotal: 275ms\tremaining: 2.72s\n",
      "92:\tlearn: 190.3650025\ttotal: 276ms\tremaining: 2.7s\n",
      "93:\tlearn: 189.3255643\ttotal: 278ms\tremaining: 2.67s\n",
      "94:\tlearn: 188.2433480\ttotal: 279ms\tremaining: 2.65s\n",
      "95:\tlearn: 187.2786096\ttotal: 280ms\tremaining: 2.63s\n",
      "96:\tlearn: 186.1284681\ttotal: 281ms\tremaining: 2.61s\n",
      "97:\tlearn: 185.0190872\ttotal: 282ms\tremaining: 2.59s\n",
      "98:\tlearn: 184.2888024\ttotal: 283ms\tremaining: 2.58s\n",
      "99:\tlearn: 183.3111217\ttotal: 284ms\tremaining: 2.56s\n",
      "100:\tlearn: 182.2519940\ttotal: 285ms\tremaining: 2.54s\n",
      "101:\tlearn: 181.0186200\ttotal: 287ms\tremaining: 2.52s\n",
      "102:\tlearn: 179.9672344\ttotal: 288ms\tremaining: 2.5s\n",
      "103:\tlearn: 178.9776753\ttotal: 289ms\tremaining: 2.49s\n",
      "104:\tlearn: 178.2445101\ttotal: 290ms\tremaining: 2.47s\n",
      "105:\tlearn: 177.4055906\ttotal: 291ms\tremaining: 2.45s\n",
      "106:\tlearn: 176.2405445\ttotal: 292ms\tremaining: 2.44s\n",
      "107:\tlearn: 175.1813091\ttotal: 293ms\tremaining: 2.42s\n",
      "108:\tlearn: 174.5537682\ttotal: 294ms\tremaining: 2.4s\n",
      "109:\tlearn: 173.8231890\ttotal: 295ms\tremaining: 2.39s\n",
      "110:\tlearn: 172.9324461\ttotal: 296ms\tremaining: 2.37s\n",
      "111:\tlearn: 172.0019421\ttotal: 297ms\tremaining: 2.36s\n",
      "112:\tlearn: 171.2945678\ttotal: 299ms\tremaining: 2.34s\n",
      "113:\tlearn: 170.4815313\ttotal: 300ms\tremaining: 2.33s\n",
      "114:\tlearn: 169.9491294\ttotal: 301ms\tremaining: 2.31s\n",
      "115:\tlearn: 169.2483859\ttotal: 302ms\tremaining: 2.3s\n",
      "116:\tlearn: 168.7342383\ttotal: 303ms\tremaining: 2.29s\n",
      "117:\tlearn: 168.1837140\ttotal: 304ms\tremaining: 2.27s\n",
      "118:\tlearn: 167.1222358\ttotal: 305ms\tremaining: 2.26s\n",
      "119:\tlearn: 166.3472734\ttotal: 306ms\tremaining: 2.25s\n",
      "120:\tlearn: 165.5330342\ttotal: 307ms\tremaining: 2.23s\n",
      "121:\tlearn: 164.8476246\ttotal: 308ms\tremaining: 2.22s\n",
      "122:\tlearn: 164.2399797\ttotal: 310ms\tremaining: 2.21s\n",
      "123:\tlearn: 164.0121571\ttotal: 311ms\tremaining: 2.19s\n",
      "124:\tlearn: 162.9794212\ttotal: 312ms\tremaining: 2.18s\n",
      "125:\tlearn: 162.2095741\ttotal: 313ms\tremaining: 2.17s\n",
      "126:\tlearn: 161.1695920\ttotal: 314ms\tremaining: 2.16s\n",
      "127:\tlearn: 160.3516612\ttotal: 315ms\tremaining: 2.15s\n",
      "128:\tlearn: 159.1596356\ttotal: 316ms\tremaining: 2.13s\n",
      "129:\tlearn: 158.5354394\ttotal: 317ms\tremaining: 2.12s\n",
      "130:\tlearn: 157.5922383\ttotal: 318ms\tremaining: 2.11s\n",
      "131:\tlearn: 156.9689796\ttotal: 319ms\tremaining: 2.1s\n",
      "132:\tlearn: 156.4170623\ttotal: 320ms\tremaining: 2.09s\n",
      "133:\tlearn: 156.1222595\ttotal: 322ms\tremaining: 2.08s\n",
      "134:\tlearn: 155.5996569\ttotal: 323ms\tremaining: 2.07s\n",
      "135:\tlearn: 154.8990155\ttotal: 324ms\tremaining: 2.06s\n",
      "136:\tlearn: 154.3704896\ttotal: 325ms\tremaining: 2.05s\n",
      "137:\tlearn: 153.8560012\ttotal: 326ms\tremaining: 2.04s\n",
      "138:\tlearn: 153.2399938\ttotal: 327ms\tremaining: 2.03s\n",
      "139:\tlearn: 152.2142414\ttotal: 328ms\tremaining: 2.02s\n",
      "140:\tlearn: 151.5976950\ttotal: 329ms\tremaining: 2.01s\n",
      "141:\tlearn: 151.4426506\ttotal: 330ms\tremaining: 2s\n",
      "142:\tlearn: 150.8467135\ttotal: 331ms\tremaining: 1.99s\n",
      "143:\tlearn: 150.0175883\ttotal: 332ms\tremaining: 1.98s\n",
      "144:\tlearn: 149.6327647\ttotal: 334ms\tremaining: 1.97s\n",
      "145:\tlearn: 148.9265718\ttotal: 335ms\tremaining: 1.96s\n",
      "146:\tlearn: 148.4460764\ttotal: 336ms\tremaining: 1.95s\n",
      "147:\tlearn: 147.8108318\ttotal: 337ms\tremaining: 1.94s\n",
      "148:\tlearn: 147.2766525\ttotal: 338ms\tremaining: 1.93s\n",
      "149:\tlearn: 146.8537279\ttotal: 339ms\tremaining: 1.92s\n",
      "150:\tlearn: 146.0227438\ttotal: 340ms\tremaining: 1.91s\n",
      "151:\tlearn: 145.5603059\ttotal: 341ms\tremaining: 1.9s\n",
      "152:\tlearn: 145.0318400\ttotal: 343ms\tremaining: 1.9s\n",
      "153:\tlearn: 144.6082188\ttotal: 344ms\tremaining: 1.89s\n",
      "154:\tlearn: 144.2070501\ttotal: 345ms\tremaining: 1.88s\n",
      "155:\tlearn: 143.8060676\ttotal: 346ms\tremaining: 1.87s\n",
      "156:\tlearn: 143.3819707\ttotal: 348ms\tremaining: 1.87s\n",
      "157:\tlearn: 143.0764402\ttotal: 349ms\tremaining: 1.86s\n",
      "158:\tlearn: 142.4609449\ttotal: 350ms\tremaining: 1.85s\n",
      "159:\tlearn: 142.3321970\ttotal: 351ms\tremaining: 1.84s\n",
      "160:\tlearn: 141.9044208\ttotal: 352ms\tremaining: 1.83s\n",
      "161:\tlearn: 141.4544471\ttotal: 354ms\tremaining: 1.83s\n",
      "162:\tlearn: 140.9391569\ttotal: 355ms\tremaining: 1.82s\n",
      "163:\tlearn: 140.3413557\ttotal: 356ms\tremaining: 1.81s\n",
      "164:\tlearn: 139.7992277\ttotal: 357ms\tremaining: 1.81s\n",
      "165:\tlearn: 139.3139418\ttotal: 358ms\tremaining: 1.8s\n",
      "166:\tlearn: 139.1617594\ttotal: 360ms\tremaining: 1.79s\n",
      "167:\tlearn: 138.8837397\ttotal: 361ms\tremaining: 1.79s\n",
      "168:\tlearn: 138.6951410\ttotal: 362ms\tremaining: 1.78s\n",
      "169:\tlearn: 138.0167618\ttotal: 363ms\tremaining: 1.77s\n",
      "170:\tlearn: 137.7020324\ttotal: 365ms\tremaining: 1.77s\n",
      "171:\tlearn: 137.1976478\ttotal: 366ms\tremaining: 1.76s\n",
      "172:\tlearn: 136.6670434\ttotal: 367ms\tremaining: 1.75s\n",
      "173:\tlearn: 136.4670074\ttotal: 368ms\tremaining: 1.75s\n",
      "174:\tlearn: 136.0663779\ttotal: 369ms\tremaining: 1.74s\n",
      "175:\tlearn: 135.9542221\ttotal: 370ms\tremaining: 1.73s\n",
      "176:\tlearn: 135.6178437\ttotal: 371ms\tremaining: 1.73s\n",
      "177:\tlearn: 134.6062854\ttotal: 372ms\tremaining: 1.72s\n",
      "178:\tlearn: 134.5063344\ttotal: 373ms\tremaining: 1.71s\n",
      "179:\tlearn: 133.9371247\ttotal: 374ms\tremaining: 1.7s\n",
      "180:\tlearn: 133.8431589\ttotal: 374ms\tremaining: 1.69s\n",
      "181:\tlearn: 133.4293648\ttotal: 375ms\tremaining: 1.69s\n",
      "182:\tlearn: 133.2065999\ttotal: 376ms\tremaining: 1.68s\n",
      "183:\tlearn: 132.9235113\ttotal: 377ms\tremaining: 1.67s\n",
      "184:\tlearn: 132.6695944\ttotal: 379ms\tremaining: 1.67s\n",
      "185:\tlearn: 132.3135234\ttotal: 380ms\tremaining: 1.66s\n",
      "186:\tlearn: 132.2233433\ttotal: 381ms\tremaining: 1.65s\n",
      "187:\tlearn: 132.0628764\ttotal: 382ms\tremaining: 1.65s\n",
      "188:\tlearn: 131.8624217\ttotal: 383ms\tremaining: 1.64s\n",
      "189:\tlearn: 131.3846390\ttotal: 384ms\tremaining: 1.64s\n",
      "190:\tlearn: 131.0638781\ttotal: 385ms\tremaining: 1.63s\n",
      "191:\tlearn: 130.4721276\ttotal: 387ms\tremaining: 1.63s\n",
      "192:\tlearn: 129.9910319\ttotal: 388ms\tremaining: 1.62s\n",
      "193:\tlearn: 129.7074214\ttotal: 389ms\tremaining: 1.61s\n",
      "194:\tlearn: 129.0491404\ttotal: 390ms\tremaining: 1.61s\n",
      "195:\tlearn: 128.6928621\ttotal: 391ms\tremaining: 1.6s\n",
      "196:\tlearn: 128.5117514\ttotal: 392ms\tremaining: 1.6s\n",
      "197:\tlearn: 128.4035709\ttotal: 393ms\tremaining: 1.59s\n",
      "198:\tlearn: 127.9924182\ttotal: 394ms\tremaining: 1.59s\n",
      "199:\tlearn: 127.7690317\ttotal: 395ms\tremaining: 1.58s\n",
      "200:\tlearn: 127.6252249\ttotal: 396ms\tremaining: 1.57s\n",
      "201:\tlearn: 127.4951417\ttotal: 397ms\tremaining: 1.57s\n",
      "202:\tlearn: 127.0315349\ttotal: 398ms\tremaining: 1.56s\n",
      "203:\tlearn: 126.7791475\ttotal: 400ms\tremaining: 1.56s\n",
      "204:\tlearn: 126.4903107\ttotal: 401ms\tremaining: 1.55s\n",
      "205:\tlearn: 126.0664803\ttotal: 402ms\tremaining: 1.55s\n",
      "206:\tlearn: 125.3934071\ttotal: 403ms\tremaining: 1.54s\n",
      "207:\tlearn: 125.0899622\ttotal: 404ms\tremaining: 1.54s\n",
      "208:\tlearn: 124.7757310\ttotal: 405ms\tremaining: 1.53s\n",
      "209:\tlearn: 124.5475960\ttotal: 406ms\tremaining: 1.53s\n",
      "210:\tlearn: 124.1962887\ttotal: 407ms\tremaining: 1.52s\n",
      "211:\tlearn: 123.9686937\ttotal: 408ms\tremaining: 1.52s\n",
      "212:\tlearn: 123.0280048\ttotal: 409ms\tremaining: 1.51s\n",
      "213:\tlearn: 122.5447141\ttotal: 410ms\tremaining: 1.51s\n",
      "214:\tlearn: 122.1785305\ttotal: 411ms\tremaining: 1.5s\n",
      "215:\tlearn: 121.4403560\ttotal: 412ms\tremaining: 1.5s\n",
      "216:\tlearn: 120.8269584\ttotal: 414ms\tremaining: 1.49s\n",
      "217:\tlearn: 120.2399329\ttotal: 415ms\tremaining: 1.49s\n",
      "218:\tlearn: 119.4852557\ttotal: 416ms\tremaining: 1.48s\n",
      "219:\tlearn: 119.2094151\ttotal: 417ms\tremaining: 1.48s\n",
      "220:\tlearn: 119.0417229\ttotal: 419ms\tremaining: 1.48s\n",
      "221:\tlearn: 118.9557915\ttotal: 420ms\tremaining: 1.47s\n",
      "222:\tlearn: 118.3082421\ttotal: 421ms\tremaining: 1.47s\n",
      "223:\tlearn: 117.7364211\ttotal: 422ms\tremaining: 1.46s\n",
      "224:\tlearn: 117.6324235\ttotal: 423ms\tremaining: 1.46s\n",
      "225:\tlearn: 117.2879743\ttotal: 424ms\tremaining: 1.45s\n",
      "226:\tlearn: 117.0422612\ttotal: 425ms\tremaining: 1.45s\n",
      "227:\tlearn: 116.8001379\ttotal: 426ms\tremaining: 1.44s\n",
      "228:\tlearn: 116.4854978\ttotal: 427ms\tremaining: 1.44s\n",
      "229:\tlearn: 115.7559740\ttotal: 428ms\tremaining: 1.43s\n",
      "230:\tlearn: 115.1896271\ttotal: 429ms\tremaining: 1.43s\n",
      "231:\tlearn: 114.9666291\ttotal: 430ms\tremaining: 1.42s\n",
      "232:\tlearn: 114.1239318\ttotal: 431ms\tremaining: 1.42s\n",
      "233:\tlearn: 113.9964466\ttotal: 432ms\tremaining: 1.42s\n",
      "234:\tlearn: 113.8912592\ttotal: 433ms\tremaining: 1.41s\n",
      "235:\tlearn: 113.4606970\ttotal: 434ms\tremaining: 1.41s\n",
      "236:\tlearn: 113.0958922\ttotal: 435ms\tremaining: 1.4s\n",
      "237:\tlearn: 113.0091361\ttotal: 437ms\tremaining: 1.4s\n",
      "238:\tlearn: 112.7657197\ttotal: 438ms\tremaining: 1.39s\n",
      "239:\tlearn: 112.2315070\ttotal: 439ms\tremaining: 1.39s\n",
      "240:\tlearn: 111.9507125\ttotal: 440ms\tremaining: 1.38s\n",
      "241:\tlearn: 111.7384492\ttotal: 441ms\tremaining: 1.38s\n",
      "242:\tlearn: 111.0693763\ttotal: 442ms\tremaining: 1.38s\n",
      "243:\tlearn: 110.3499926\ttotal: 443ms\tremaining: 1.37s\n",
      "244:\tlearn: 110.2316231\ttotal: 444ms\tremaining: 1.37s\n",
      "245:\tlearn: 109.6985998\ttotal: 445ms\tremaining: 1.36s\n",
      "246:\tlearn: 109.4279824\ttotal: 446ms\tremaining: 1.36s\n",
      "247:\tlearn: 109.1466762\ttotal: 447ms\tremaining: 1.35s\n",
      "248:\tlearn: 108.9628542\ttotal: 448ms\tremaining: 1.35s\n",
      "249:\tlearn: 108.7268676\ttotal: 449ms\tremaining: 1.35s\n",
      "250:\tlearn: 108.0921190\ttotal: 450ms\tremaining: 1.34s\n",
      "251:\tlearn: 107.6167844\ttotal: 451ms\tremaining: 1.34s\n",
      "252:\tlearn: 106.9716563\ttotal: 452ms\tremaining: 1.33s\n",
      "253:\tlearn: 106.4272485\ttotal: 453ms\tremaining: 1.33s\n",
      "254:\tlearn: 106.2032614\ttotal: 454ms\tremaining: 1.33s\n",
      "255:\tlearn: 105.5756794\ttotal: 455ms\tremaining: 1.32s\n",
      "256:\tlearn: 105.4918649\ttotal: 456ms\tremaining: 1.32s\n",
      "257:\tlearn: 105.2466976\ttotal: 457ms\tremaining: 1.31s\n",
      "258:\tlearn: 105.0461428\ttotal: 459ms\tremaining: 1.31s\n",
      "259:\tlearn: 104.5887628\ttotal: 460ms\tremaining: 1.31s\n",
      "260:\tlearn: 104.1305873\ttotal: 461ms\tremaining: 1.3s\n",
      "261:\tlearn: 103.5527158\ttotal: 462ms\tremaining: 1.3s\n",
      "262:\tlearn: 103.0334823\ttotal: 463ms\tremaining: 1.3s\n",
      "263:\tlearn: 102.6732388\ttotal: 464ms\tremaining: 1.29s\n",
      "264:\tlearn: 102.4678728\ttotal: 465ms\tremaining: 1.29s\n",
      "265:\tlearn: 101.9608852\ttotal: 466ms\tremaining: 1.28s\n",
      "266:\tlearn: 101.4449668\ttotal: 467ms\tremaining: 1.28s\n",
      "267:\tlearn: 100.9647899\ttotal: 468ms\tremaining: 1.28s\n",
      "268:\tlearn: 100.4376357\ttotal: 469ms\tremaining: 1.27s\n",
      "269:\tlearn: 100.1038322\ttotal: 470ms\tremaining: 1.27s\n",
      "270:\tlearn: 99.8991183\ttotal: 471ms\tremaining: 1.27s\n",
      "271:\tlearn: 99.4016031\ttotal: 472ms\tremaining: 1.26s\n",
      "272:\tlearn: 98.9231252\ttotal: 473ms\tremaining: 1.26s\n",
      "273:\tlearn: 98.5734863\ttotal: 474ms\tremaining: 1.26s\n",
      "274:\tlearn: 98.3333355\ttotal: 476ms\tremaining: 1.25s\n",
      "275:\tlearn: 97.9164082\ttotal: 477ms\tremaining: 1.25s\n",
      "276:\tlearn: 97.3911203\ttotal: 478ms\tremaining: 1.25s\n",
      "277:\tlearn: 96.9317789\ttotal: 479ms\tremaining: 1.24s\n",
      "278:\tlearn: 96.6243997\ttotal: 480ms\tremaining: 1.24s\n",
      "279:\tlearn: 96.3288821\ttotal: 481ms\tremaining: 1.24s\n",
      "280:\tlearn: 95.8579534\ttotal: 482ms\tremaining: 1.23s\n",
      "281:\tlearn: 95.4136026\ttotal: 483ms\tremaining: 1.23s\n",
      "282:\tlearn: 95.3442077\ttotal: 484ms\tremaining: 1.23s\n",
      "283:\tlearn: 95.1166584\ttotal: 485ms\tremaining: 1.22s\n",
      "284:\tlearn: 94.8017360\ttotal: 486ms\tremaining: 1.22s\n",
      "285:\tlearn: 94.5863908\ttotal: 487ms\tremaining: 1.22s\n",
      "286:\tlearn: 94.4111694\ttotal: 488ms\tremaining: 1.21s\n",
      "287:\tlearn: 94.2678024\ttotal: 490ms\tremaining: 1.21s\n",
      "288:\tlearn: 93.7753419\ttotal: 491ms\tremaining: 1.21s\n",
      "289:\tlearn: 93.3772710\ttotal: 492ms\tremaining: 1.2s\n",
      "290:\tlearn: 92.8750904\ttotal: 493ms\tremaining: 1.2s\n",
      "291:\tlearn: 92.6654794\ttotal: 494ms\tremaining: 1.2s\n",
      "292:\tlearn: 92.2659876\ttotal: 495ms\tremaining: 1.19s\n",
      "293:\tlearn: 92.0282495\ttotal: 496ms\tremaining: 1.19s\n",
      "294:\tlearn: 91.8288855\ttotal: 497ms\tremaining: 1.19s\n",
      "295:\tlearn: 91.6752612\ttotal: 498ms\tremaining: 1.18s\n",
      "296:\tlearn: 91.2561883\ttotal: 499ms\tremaining: 1.18s\n",
      "297:\tlearn: 91.0227123\ttotal: 500ms\tremaining: 1.18s\n",
      "298:\tlearn: 90.8392142\ttotal: 501ms\tremaining: 1.18s\n",
      "299:\tlearn: 90.6853014\ttotal: 503ms\tremaining: 1.17s\n",
      "300:\tlearn: 90.5986761\ttotal: 504ms\tremaining: 1.17s\n",
      "301:\tlearn: 90.2180036\ttotal: 505ms\tremaining: 1.17s\n",
      "302:\tlearn: 89.8313622\ttotal: 506ms\tremaining: 1.16s\n",
      "303:\tlearn: 89.6872837\ttotal: 507ms\tremaining: 1.16s\n",
      "304:\tlearn: 89.3853276\ttotal: 508ms\tremaining: 1.16s\n",
      "305:\tlearn: 88.9459206\ttotal: 509ms\tremaining: 1.16s\n",
      "306:\tlearn: 88.7258770\ttotal: 510ms\tremaining: 1.15s\n",
      "307:\tlearn: 88.5374358\ttotal: 512ms\tremaining: 1.15s\n",
      "308:\tlearn: 88.0624447\ttotal: 513ms\tremaining: 1.15s\n",
      "309:\tlearn: 87.7942692\ttotal: 514ms\tremaining: 1.14s\n",
      "310:\tlearn: 87.6354184\ttotal: 515ms\tremaining: 1.14s\n",
      "311:\tlearn: 87.4879486\ttotal: 516ms\tremaining: 1.14s\n",
      "312:\tlearn: 87.0294739\ttotal: 517ms\tremaining: 1.13s\n",
      "313:\tlearn: 86.6746221\ttotal: 518ms\tremaining: 1.13s\n",
      "314:\tlearn: 86.2792146\ttotal: 519ms\tremaining: 1.13s\n",
      "315:\tlearn: 86.2127070\ttotal: 521ms\tremaining: 1.13s\n",
      "316:\tlearn: 86.1507368\ttotal: 522ms\tremaining: 1.12s\n",
      "317:\tlearn: 85.7089141\ttotal: 523ms\tremaining: 1.12s\n",
      "318:\tlearn: 85.6035137\ttotal: 524ms\tremaining: 1.12s\n",
      "319:\tlearn: 85.3587988\ttotal: 525ms\tremaining: 1.12s\n",
      "320:\tlearn: 84.9660906\ttotal: 527ms\tremaining: 1.11s\n",
      "321:\tlearn: 84.5474713\ttotal: 528ms\tremaining: 1.11s\n",
      "322:\tlearn: 84.1996852\ttotal: 529ms\tremaining: 1.11s\n",
      "323:\tlearn: 84.0654282\ttotal: 530ms\tremaining: 1.1s\n",
      "324:\tlearn: 83.7937327\ttotal: 531ms\tremaining: 1.1s\n",
      "325:\tlearn: 83.5064288\ttotal: 532ms\tremaining: 1.1s\n",
      "326:\tlearn: 83.3997655\ttotal: 534ms\tremaining: 1.1s\n",
      "327:\tlearn: 83.2958622\ttotal: 535ms\tremaining: 1.09s\n",
      "328:\tlearn: 82.9877578\ttotal: 536ms\tremaining: 1.09s\n",
      "329:\tlearn: 82.6286638\ttotal: 537ms\tremaining: 1.09s\n",
      "330:\tlearn: 82.2827132\ttotal: 538ms\tremaining: 1.09s\n",
      "331:\tlearn: 82.0895251\ttotal: 540ms\tremaining: 1.08s\n",
      "332:\tlearn: 82.0130649\ttotal: 541ms\tremaining: 1.08s\n",
      "333:\tlearn: 81.6771734\ttotal: 542ms\tremaining: 1.08s\n",
      "334:\tlearn: 81.3519124\ttotal: 543ms\tremaining: 1.08s\n",
      "335:\tlearn: 81.0170326\ttotal: 545ms\tremaining: 1.08s\n",
      "336:\tlearn: 80.6917886\ttotal: 546ms\tremaining: 1.07s\n",
      "337:\tlearn: 80.3455177\ttotal: 547ms\tremaining: 1.07s\n",
      "338:\tlearn: 80.0260727\ttotal: 548ms\tremaining: 1.07s\n",
      "339:\tlearn: 79.9154748\ttotal: 550ms\tremaining: 1.07s\n",
      "340:\tlearn: 79.7813079\ttotal: 551ms\tremaining: 1.06s\n",
      "341:\tlearn: 79.3513293\ttotal: 552ms\tremaining: 1.06s\n",
      "342:\tlearn: 78.8666019\ttotal: 553ms\tremaining: 1.06s\n",
      "343:\tlearn: 78.7959013\ttotal: 554ms\tremaining: 1.06s\n",
      "344:\tlearn: 78.7081334\ttotal: 555ms\tremaining: 1.05s\n",
      "345:\tlearn: 78.3354931\ttotal: 556ms\tremaining: 1.05s\n",
      "346:\tlearn: 77.9475067\ttotal: 557ms\tremaining: 1.05s\n",
      "347:\tlearn: 77.8910420\ttotal: 558ms\tremaining: 1.04s\n",
      "348:\tlearn: 77.5461672\ttotal: 559ms\tremaining: 1.04s\n",
      "349:\tlearn: 77.3717101\ttotal: 560ms\tremaining: 1.04s\n",
      "350:\tlearn: 77.0729657\ttotal: 561ms\tremaining: 1.04s\n",
      "351:\tlearn: 76.7699287\ttotal: 563ms\tremaining: 1.03s\n",
      "352:\tlearn: 76.6029759\ttotal: 564ms\tremaining: 1.03s\n",
      "353:\tlearn: 76.1642615\ttotal: 565ms\tremaining: 1.03s\n",
      "354:\tlearn: 76.1202523\ttotal: 566ms\tremaining: 1.03s\n",
      "355:\tlearn: 75.9487132\ttotal: 567ms\tremaining: 1.03s\n",
      "356:\tlearn: 75.6748479\ttotal: 568ms\tremaining: 1.02s\n",
      "357:\tlearn: 75.4290864\ttotal: 570ms\tremaining: 1.02s\n",
      "358:\tlearn: 75.0463849\ttotal: 571ms\tremaining: 1.02s\n",
      "359:\tlearn: 74.9902381\ttotal: 572ms\tremaining: 1.02s\n",
      "360:\tlearn: 74.5243875\ttotal: 573ms\tremaining: 1.01s\n",
      "361:\tlearn: 74.1913065\ttotal: 574ms\tremaining: 1.01s\n",
      "362:\tlearn: 73.8413359\ttotal: 575ms\tremaining: 1.01s\n",
      "363:\tlearn: 73.7602119\ttotal: 576ms\tremaining: 1.01s\n",
      "364:\tlearn: 73.3278135\ttotal: 577ms\tremaining: 1s\n",
      "365:\tlearn: 72.9524336\ttotal: 578ms\tremaining: 1s\n",
      "366:\tlearn: 72.6791856\ttotal: 579ms\tremaining: 999ms\n",
      "367:\tlearn: 72.4333577\ttotal: 580ms\tremaining: 997ms\n",
      "368:\tlearn: 72.1672937\ttotal: 581ms\tremaining: 994ms\n",
      "369:\tlearn: 71.9070276\ttotal: 582ms\tremaining: 992ms\n",
      "370:\tlearn: 71.5496196\ttotal: 584ms\tremaining: 989ms\n",
      "371:\tlearn: 71.3161902\ttotal: 585ms\tremaining: 987ms\n",
      "372:\tlearn: 71.1259191\ttotal: 586ms\tremaining: 985ms\n",
      "373:\tlearn: 70.9889962\ttotal: 587ms\tremaining: 982ms\n",
      "374:\tlearn: 70.7417966\ttotal: 588ms\tremaining: 980ms\n",
      "375:\tlearn: 70.4931174\ttotal: 589ms\tremaining: 978ms\n",
      "376:\tlearn: 70.3300576\ttotal: 590ms\tremaining: 976ms\n",
      "377:\tlearn: 69.9233248\ttotal: 592ms\tremaining: 973ms\n",
      "378:\tlearn: 69.6261005\ttotal: 593ms\tremaining: 971ms\n",
      "379:\tlearn: 69.3989708\ttotal: 594ms\tremaining: 969ms\n",
      "380:\tlearn: 69.0085387\ttotal: 595ms\tremaining: 966ms\n",
      "381:\tlearn: 68.7604153\ttotal: 596ms\tremaining: 964ms\n",
      "382:\tlearn: 68.4602767\ttotal: 597ms\tremaining: 962ms\n",
      "383:\tlearn: 68.1005452\ttotal: 598ms\tremaining: 959ms\n",
      "384:\tlearn: 68.0540467\ttotal: 599ms\tremaining: 957ms\n",
      "385:\tlearn: 67.8972753\ttotal: 600ms\tremaining: 954ms\n",
      "386:\tlearn: 67.5389629\ttotal: 601ms\tremaining: 952ms\n",
      "387:\tlearn: 67.2390178\ttotal: 602ms\tremaining: 950ms\n",
      "388:\tlearn: 67.0279888\ttotal: 603ms\tremaining: 947ms\n",
      "389:\tlearn: 66.8375919\ttotal: 604ms\tremaining: 945ms\n",
      "390:\tlearn: 66.4118315\ttotal: 605ms\tremaining: 943ms\n",
      "391:\tlearn: 66.3642690\ttotal: 606ms\tremaining: 940ms\n",
      "392:\tlearn: 66.1673138\ttotal: 607ms\tremaining: 938ms\n",
      "393:\tlearn: 66.0177482\ttotal: 608ms\tremaining: 936ms\n",
      "394:\tlearn: 65.8018038\ttotal: 610ms\tremaining: 934ms\n",
      "395:\tlearn: 65.6886505\ttotal: 611ms\tremaining: 931ms\n",
      "396:\tlearn: 65.6120185\ttotal: 612ms\tremaining: 929ms\n",
      "397:\tlearn: 65.5746662\ttotal: 613ms\tremaining: 927ms\n",
      "398:\tlearn: 65.2974851\ttotal: 614ms\tremaining: 924ms\n",
      "399:\tlearn: 65.2464764\ttotal: 615ms\tremaining: 922ms\n",
      "400:\tlearn: 65.1241314\ttotal: 616ms\tremaining: 920ms\n",
      "401:\tlearn: 65.0515740\ttotal: 617ms\tremaining: 918ms\n",
      "402:\tlearn: 64.8089636\ttotal: 618ms\tremaining: 915ms\n",
      "403:\tlearn: 64.5992230\ttotal: 619ms\tremaining: 913ms\n",
      "404:\tlearn: 64.2907010\ttotal: 620ms\tremaining: 911ms\n",
      "405:\tlearn: 64.1568642\ttotal: 621ms\tremaining: 909ms\n",
      "406:\tlearn: 63.8279106\ttotal: 622ms\tremaining: 906ms\n",
      "407:\tlearn: 63.5558565\ttotal: 623ms\tremaining: 904ms\n",
      "408:\tlearn: 63.3865445\ttotal: 624ms\tremaining: 902ms\n",
      "409:\tlearn: 63.2752408\ttotal: 625ms\tremaining: 900ms\n",
      "410:\tlearn: 63.1070190\ttotal: 626ms\tremaining: 898ms\n",
      "411:\tlearn: 62.7868376\ttotal: 627ms\tremaining: 895ms\n",
      "412:\tlearn: 62.5345803\ttotal: 628ms\tremaining: 893ms\n",
      "413:\tlearn: 62.2729058\ttotal: 630ms\tremaining: 891ms\n",
      "414:\tlearn: 61.9850985\ttotal: 631ms\tremaining: 889ms\n",
      "415:\tlearn: 61.7784164\ttotal: 632ms\tremaining: 887ms\n",
      "416:\tlearn: 61.7431976\ttotal: 633ms\tremaining: 885ms\n",
      "417:\tlearn: 61.4309964\ttotal: 634ms\tremaining: 882ms\n",
      "418:\tlearn: 61.3513660\ttotal: 635ms\tremaining: 880ms\n",
      "419:\tlearn: 61.1253739\ttotal: 636ms\tremaining: 878ms\n",
      "420:\tlearn: 61.0742571\ttotal: 637ms\tremaining: 876ms\n",
      "421:\tlearn: 61.0390980\ttotal: 638ms\tremaining: 874ms\n",
      "422:\tlearn: 61.0095757\ttotal: 639ms\tremaining: 872ms\n",
      "423:\tlearn: 60.6843255\ttotal: 640ms\tremaining: 870ms\n",
      "424:\tlearn: 60.4045551\ttotal: 641ms\tremaining: 867ms\n",
      "425:\tlearn: 60.3649587\ttotal: 642ms\tremaining: 865ms\n",
      "426:\tlearn: 60.3315828\ttotal: 643ms\tremaining: 863ms\n",
      "427:\tlearn: 60.1047027\ttotal: 644ms\tremaining: 861ms\n",
      "428:\tlearn: 59.9170736\ttotal: 645ms\tremaining: 859ms\n",
      "429:\tlearn: 59.6875648\ttotal: 646ms\tremaining: 857ms\n",
      "430:\tlearn: 59.6662150\ttotal: 647ms\tremaining: 854ms\n",
      "431:\tlearn: 59.4208112\ttotal: 648ms\tremaining: 852ms\n",
      "432:\tlearn: 59.2358034\ttotal: 649ms\tremaining: 850ms\n",
      "433:\tlearn: 58.9818868\ttotal: 650ms\tremaining: 848ms\n",
      "434:\tlearn: 58.7089433\ttotal: 651ms\tremaining: 846ms\n",
      "435:\tlearn: 58.5898817\ttotal: 652ms\tremaining: 844ms\n",
      "436:\tlearn: 58.5425342\ttotal: 654ms\tremaining: 842ms\n",
      "437:\tlearn: 58.2884605\ttotal: 655ms\tremaining: 840ms\n",
      "438:\tlearn: 58.2643873\ttotal: 656ms\tremaining: 838ms\n",
      "439:\tlearn: 58.2330868\ttotal: 657ms\tremaining: 836ms\n",
      "440:\tlearn: 57.9676592\ttotal: 658ms\tremaining: 834ms\n",
      "441:\tlearn: 57.7670212\ttotal: 659ms\tremaining: 832ms\n",
      "442:\tlearn: 57.5322464\ttotal: 660ms\tremaining: 830ms\n",
      "443:\tlearn: 57.2771620\ttotal: 661ms\tremaining: 828ms\n",
      "444:\tlearn: 57.0227885\ttotal: 662ms\tremaining: 826ms\n",
      "445:\tlearn: 56.7616770\ttotal: 663ms\tremaining: 824ms\n",
      "446:\tlearn: 56.7367450\ttotal: 664ms\tremaining: 822ms\n",
      "447:\tlearn: 56.6715001\ttotal: 665ms\tremaining: 820ms\n",
      "448:\tlearn: 56.4881346\ttotal: 666ms\tremaining: 818ms\n",
      "449:\tlearn: 56.3749776\ttotal: 667ms\tremaining: 816ms\n",
      "450:\tlearn: 56.2172319\ttotal: 668ms\tremaining: 814ms\n",
      "451:\tlearn: 55.9461925\ttotal: 670ms\tremaining: 812ms\n",
      "452:\tlearn: 55.8884270\ttotal: 671ms\tremaining: 810ms\n",
      "453:\tlearn: 55.7987432\ttotal: 672ms\tremaining: 808ms\n",
      "454:\tlearn: 55.7376337\ttotal: 673ms\tremaining: 806ms\n",
      "455:\tlearn: 55.5150595\ttotal: 674ms\tremaining: 804ms\n",
      "456:\tlearn: 55.4819680\ttotal: 675ms\tremaining: 802ms\n",
      "457:\tlearn: 55.1719919\ttotal: 676ms\tremaining: 800ms\n",
      "458:\tlearn: 55.1295759\ttotal: 677ms\tremaining: 798ms\n",
      "459:\tlearn: 55.0856302\ttotal: 678ms\tremaining: 796ms\n",
      "460:\tlearn: 54.8056235\ttotal: 679ms\tremaining: 794ms\n",
      "461:\tlearn: 54.4030407\ttotal: 680ms\tremaining: 792ms\n",
      "462:\tlearn: 54.3308204\ttotal: 681ms\tremaining: 790ms\n",
      "463:\tlearn: 54.0283724\ttotal: 682ms\tremaining: 788ms\n",
      "464:\tlearn: 53.9962714\ttotal: 683ms\tremaining: 786ms\n",
      "465:\tlearn: 53.8149476\ttotal: 684ms\tremaining: 784ms\n",
      "466:\tlearn: 53.7806209\ttotal: 685ms\tremaining: 782ms\n",
      "467:\tlearn: 53.7585727\ttotal: 686ms\tremaining: 780ms\n",
      "468:\tlearn: 53.5042777\ttotal: 687ms\tremaining: 778ms\n",
      "469:\tlearn: 53.3257034\ttotal: 688ms\tremaining: 776ms\n",
      "470:\tlearn: 53.0801119\ttotal: 689ms\tremaining: 774ms\n",
      "471:\tlearn: 53.0136550\ttotal: 691ms\tremaining: 772ms\n",
      "472:\tlearn: 52.9408930\ttotal: 692ms\tremaining: 771ms\n",
      "473:\tlearn: 52.7089062\ttotal: 693ms\tremaining: 769ms\n",
      "474:\tlearn: 52.6819781\ttotal: 694ms\tremaining: 767ms\n",
      "475:\tlearn: 52.5065568\ttotal: 695ms\tremaining: 765ms\n",
      "476:\tlearn: 52.3688770\ttotal: 696ms\tremaining: 764ms\n",
      "477:\tlearn: 52.2402473\ttotal: 698ms\tremaining: 762ms\n",
      "478:\tlearn: 52.1406517\ttotal: 699ms\tremaining: 760ms\n",
      "479:\tlearn: 52.1107144\ttotal: 700ms\tremaining: 758ms\n",
      "480:\tlearn: 51.9239449\ttotal: 701ms\tremaining: 756ms\n",
      "481:\tlearn: 51.7096820\ttotal: 702ms\tremaining: 754ms\n",
      "482:\tlearn: 51.6266918\ttotal: 703ms\tremaining: 753ms\n",
      "483:\tlearn: 51.5969797\ttotal: 704ms\tremaining: 751ms\n",
      "484:\tlearn: 51.4480162\ttotal: 705ms\tremaining: 749ms\n",
      "485:\tlearn: 51.2269261\ttotal: 707ms\tremaining: 747ms\n",
      "486:\tlearn: 50.9904632\ttotal: 708ms\tremaining: 746ms\n",
      "487:\tlearn: 50.9342043\ttotal: 709ms\tremaining: 744ms\n",
      "488:\tlearn: 50.8423680\ttotal: 710ms\tremaining: 742ms\n",
      "489:\tlearn: 50.7269788\ttotal: 711ms\tremaining: 740ms\n",
      "490:\tlearn: 50.5384699\ttotal: 712ms\tremaining: 738ms\n",
      "491:\tlearn: 50.5047793\ttotal: 713ms\tremaining: 737ms\n",
      "492:\tlearn: 50.3234448\ttotal: 715ms\tremaining: 735ms\n",
      "493:\tlearn: 50.1653421\ttotal: 716ms\tremaining: 733ms\n",
      "494:\tlearn: 49.9835558\ttotal: 717ms\tremaining: 732ms\n",
      "495:\tlearn: 49.8884283\ttotal: 719ms\tremaining: 730ms\n",
      "496:\tlearn: 49.6217364\ttotal: 720ms\tremaining: 728ms\n",
      "497:\tlearn: 49.5268562\ttotal: 721ms\tremaining: 727ms\n",
      "498:\tlearn: 49.3078402\ttotal: 722ms\tremaining: 725ms\n",
      "499:\tlearn: 49.2571676\ttotal: 723ms\tremaining: 723ms\n",
      "500:\tlearn: 49.2173141\ttotal: 725ms\tremaining: 722ms\n",
      "501:\tlearn: 48.9813103\ttotal: 726ms\tremaining: 720ms\n",
      "502:\tlearn: 48.8304542\ttotal: 727ms\tremaining: 718ms\n",
      "503:\tlearn: 48.7430936\ttotal: 728ms\tremaining: 717ms\n",
      "504:\tlearn: 48.5493989\ttotal: 729ms\tremaining: 715ms\n",
      "505:\tlearn: 48.5134839\ttotal: 730ms\tremaining: 713ms\n",
      "506:\tlearn: 48.3516141\ttotal: 732ms\tremaining: 711ms\n",
      "507:\tlearn: 48.0631542\ttotal: 733ms\tremaining: 710ms\n",
      "508:\tlearn: 47.8591880\ttotal: 734ms\tremaining: 708ms\n",
      "509:\tlearn: 47.7182444\ttotal: 735ms\tremaining: 706ms\n",
      "510:\tlearn: 47.6301870\ttotal: 736ms\tremaining: 704ms\n",
      "511:\tlearn: 47.4767324\ttotal: 737ms\tremaining: 702ms\n",
      "512:\tlearn: 47.2822625\ttotal: 738ms\tremaining: 701ms\n",
      "513:\tlearn: 47.1022658\ttotal: 739ms\tremaining: 699ms\n",
      "514:\tlearn: 47.0536181\ttotal: 740ms\tremaining: 697ms\n",
      "515:\tlearn: 47.0249559\ttotal: 741ms\tremaining: 695ms\n",
      "516:\tlearn: 46.8789720\ttotal: 743ms\tremaining: 694ms\n",
      "517:\tlearn: 46.7133769\ttotal: 744ms\tremaining: 692ms\n",
      "518:\tlearn: 46.5157986\ttotal: 745ms\tremaining: 690ms\n",
      "519:\tlearn: 46.3630405\ttotal: 746ms\tremaining: 688ms\n",
      "520:\tlearn: 46.1730188\ttotal: 747ms\tremaining: 687ms\n",
      "521:\tlearn: 46.1360908\ttotal: 748ms\tremaining: 685ms\n",
      "522:\tlearn: 45.9652487\ttotal: 749ms\tremaining: 683ms\n",
      "523:\tlearn: 45.8122703\ttotal: 750ms\tremaining: 681ms\n",
      "524:\tlearn: 45.4984451\ttotal: 751ms\tremaining: 680ms\n",
      "525:\tlearn: 45.3161076\ttotal: 752ms\tremaining: 678ms\n",
      "526:\tlearn: 45.2802854\ttotal: 753ms\tremaining: 676ms\n",
      "527:\tlearn: 45.2448275\ttotal: 754ms\tremaining: 674ms\n",
      "528:\tlearn: 45.0816321\ttotal: 755ms\tremaining: 673ms\n",
      "529:\tlearn: 44.9794319\ttotal: 757ms\tremaining: 671ms\n",
      "530:\tlearn: 44.6832140\ttotal: 758ms\tremaining: 669ms\n",
      "531:\tlearn: 44.4460046\ttotal: 759ms\tremaining: 668ms\n",
      "532:\tlearn: 44.2118287\ttotal: 760ms\tremaining: 666ms\n",
      "533:\tlearn: 44.0693524\ttotal: 761ms\tremaining: 664ms\n",
      "534:\tlearn: 43.7781614\ttotal: 762ms\tremaining: 663ms\n",
      "535:\tlearn: 43.5541731\ttotal: 763ms\tremaining: 661ms\n",
      "536:\tlearn: 43.5134866\ttotal: 764ms\tremaining: 659ms\n",
      "537:\tlearn: 43.3609810\ttotal: 766ms\tremaining: 657ms\n",
      "538:\tlearn: 43.1828364\ttotal: 767ms\tremaining: 656ms\n",
      "539:\tlearn: 43.1681810\ttotal: 767ms\tremaining: 653ms\n",
      "540:\tlearn: 43.0597548\ttotal: 768ms\tremaining: 652ms\n",
      "541:\tlearn: 43.0399237\ttotal: 769ms\tremaining: 650ms\n",
      "542:\tlearn: 42.7955247\ttotal: 770ms\tremaining: 648ms\n",
      "543:\tlearn: 42.5339065\ttotal: 771ms\tremaining: 647ms\n",
      "544:\tlearn: 42.4295635\ttotal: 772ms\tremaining: 645ms\n",
      "545:\tlearn: 42.2338376\ttotal: 773ms\tremaining: 643ms\n",
      "546:\tlearn: 42.0124060\ttotal: 775ms\tremaining: 641ms\n",
      "547:\tlearn: 41.8255183\ttotal: 776ms\tremaining: 640ms\n",
      "548:\tlearn: 41.6388681\ttotal: 777ms\tremaining: 638ms\n",
      "549:\tlearn: 41.4001270\ttotal: 778ms\tremaining: 636ms\n",
      "550:\tlearn: 41.1013528\ttotal: 779ms\tremaining: 635ms\n",
      "551:\tlearn: 41.0100295\ttotal: 780ms\tremaining: 633ms\n",
      "552:\tlearn: 40.9906076\ttotal: 781ms\tremaining: 631ms\n",
      "553:\tlearn: 40.8809109\ttotal: 782ms\tremaining: 629ms\n",
      "554:\tlearn: 40.7831302\ttotal: 783ms\tremaining: 628ms\n",
      "555:\tlearn: 40.7317763\ttotal: 784ms\tremaining: 626ms\n",
      "556:\tlearn: 40.6321710\ttotal: 785ms\tremaining: 624ms\n",
      "557:\tlearn: 40.4475073\ttotal: 786ms\tremaining: 623ms\n",
      "558:\tlearn: 40.2859957\ttotal: 787ms\tremaining: 621ms\n",
      "559:\tlearn: 40.0262057\ttotal: 788ms\tremaining: 619ms\n",
      "560:\tlearn: 39.9326350\ttotal: 789ms\tremaining: 618ms\n",
      "561:\tlearn: 39.8735956\ttotal: 790ms\tremaining: 616ms\n",
      "562:\tlearn: 39.7083019\ttotal: 791ms\tremaining: 614ms\n",
      "563:\tlearn: 39.5379855\ttotal: 793ms\tremaining: 613ms\n",
      "564:\tlearn: 39.3451301\ttotal: 794ms\tremaining: 611ms\n",
      "565:\tlearn: 39.2041273\ttotal: 795ms\tremaining: 609ms\n",
      "566:\tlearn: 38.9870162\ttotal: 796ms\tremaining: 608ms\n",
      "567:\tlearn: 38.8638040\ttotal: 797ms\tremaining: 606ms\n",
      "568:\tlearn: 38.7752116\ttotal: 798ms\tremaining: 604ms\n",
      "569:\tlearn: 38.6530297\ttotal: 799ms\tremaining: 603ms\n",
      "570:\tlearn: 38.5505372\ttotal: 800ms\tremaining: 601ms\n",
      "571:\tlearn: 38.5134486\ttotal: 801ms\tremaining: 599ms\n",
      "572:\tlearn: 38.3680902\ttotal: 802ms\tremaining: 598ms\n",
      "573:\tlearn: 38.1897295\ttotal: 803ms\tremaining: 596ms\n",
      "574:\tlearn: 38.1083536\ttotal: 804ms\tremaining: 594ms\n",
      "575:\tlearn: 37.9229216\ttotal: 805ms\tremaining: 593ms\n",
      "576:\tlearn: 37.8377087\ttotal: 806ms\tremaining: 591ms\n",
      "577:\tlearn: 37.7966900\ttotal: 807ms\tremaining: 589ms\n",
      "578:\tlearn: 37.6700761\ttotal: 808ms\tremaining: 588ms\n",
      "579:\tlearn: 37.6355177\ttotal: 809ms\tremaining: 586ms\n",
      "580:\tlearn: 37.4648199\ttotal: 810ms\tremaining: 584ms\n",
      "581:\tlearn: 37.2959505\ttotal: 811ms\tremaining: 583ms\n",
      "582:\tlearn: 37.1423961\ttotal: 812ms\tremaining: 581ms\n",
      "583:\tlearn: 36.9297315\ttotal: 813ms\tremaining: 579ms\n",
      "584:\tlearn: 36.8850382\ttotal: 815ms\tremaining: 578ms\n",
      "585:\tlearn: 36.7546519\ttotal: 816ms\tremaining: 576ms\n",
      "586:\tlearn: 36.7377554\ttotal: 817ms\tremaining: 575ms\n",
      "587:\tlearn: 36.6899102\ttotal: 818ms\tremaining: 573ms\n",
      "588:\tlearn: 36.5617094\ttotal: 819ms\tremaining: 571ms\n",
      "589:\tlearn: 36.4272921\ttotal: 820ms\tremaining: 570ms\n",
      "590:\tlearn: 36.2657889\ttotal: 821ms\tremaining: 568ms\n",
      "591:\tlearn: 36.2539345\ttotal: 821ms\tremaining: 566ms\n",
      "592:\tlearn: 36.2314399\ttotal: 822ms\tremaining: 564ms\n",
      "593:\tlearn: 36.0683824\ttotal: 824ms\tremaining: 563ms\n",
      "594:\tlearn: 35.9283095\ttotal: 825ms\tremaining: 561ms\n",
      "595:\tlearn: 35.7968288\ttotal: 826ms\tremaining: 560ms\n",
      "596:\tlearn: 35.7223423\ttotal: 827ms\tremaining: 558ms\n",
      "597:\tlearn: 35.5848854\ttotal: 828ms\tremaining: 556ms\n",
      "598:\tlearn: 35.4754344\ttotal: 829ms\tremaining: 555ms\n",
      "599:\tlearn: 35.3533890\ttotal: 830ms\tremaining: 553ms\n",
      "600:\tlearn: 35.2201505\ttotal: 831ms\tremaining: 552ms\n",
      "601:\tlearn: 35.0873272\ttotal: 832ms\tremaining: 550ms\n",
      "602:\tlearn: 35.0461873\ttotal: 833ms\tremaining: 549ms\n",
      "603:\tlearn: 34.9273071\ttotal: 834ms\tremaining: 547ms\n",
      "604:\tlearn: 34.8162855\ttotal: 835ms\tremaining: 545ms\n",
      "605:\tlearn: 34.7130059\ttotal: 836ms\tremaining: 544ms\n",
      "606:\tlearn: 34.5585617\ttotal: 837ms\tremaining: 542ms\n",
      "607:\tlearn: 34.4611907\ttotal: 838ms\tremaining: 541ms\n",
      "608:\tlearn: 34.4326546\ttotal: 839ms\tremaining: 539ms\n",
      "609:\tlearn: 34.2846979\ttotal: 841ms\tremaining: 537ms\n",
      "610:\tlearn: 34.1734501\ttotal: 842ms\tremaining: 536ms\n",
      "611:\tlearn: 34.0230965\ttotal: 843ms\tremaining: 534ms\n",
      "612:\tlearn: 33.8282501\ttotal: 844ms\tremaining: 533ms\n",
      "613:\tlearn: 33.7746747\ttotal: 845ms\tremaining: 531ms\n",
      "614:\tlearn: 33.7068386\ttotal: 846ms\tremaining: 530ms\n",
      "615:\tlearn: 33.5780800\ttotal: 847ms\tremaining: 528ms\n",
      "616:\tlearn: 33.4695325\ttotal: 848ms\tremaining: 526ms\n",
      "617:\tlearn: 33.3463443\ttotal: 849ms\tremaining: 525ms\n",
      "618:\tlearn: 33.2877395\ttotal: 850ms\tremaining: 523ms\n",
      "619:\tlearn: 33.2418826\ttotal: 851ms\tremaining: 522ms\n",
      "620:\tlearn: 33.1045465\ttotal: 852ms\tremaining: 520ms\n",
      "621:\tlearn: 32.9400639\ttotal: 853ms\tremaining: 519ms\n",
      "622:\tlearn: 32.8996970\ttotal: 854ms\tremaining: 517ms\n",
      "623:\tlearn: 32.7429487\ttotal: 855ms\tremaining: 515ms\n",
      "624:\tlearn: 32.6132355\ttotal: 856ms\tremaining: 514ms\n",
      "625:\tlearn: 32.4714976\ttotal: 857ms\tremaining: 512ms\n",
      "626:\tlearn: 32.4320448\ttotal: 858ms\tremaining: 511ms\n",
      "627:\tlearn: 32.2628258\ttotal: 860ms\tremaining: 509ms\n",
      "628:\tlearn: 32.2038569\ttotal: 861ms\tremaining: 508ms\n",
      "629:\tlearn: 32.0940738\ttotal: 862ms\tremaining: 506ms\n",
      "630:\tlearn: 32.0068495\ttotal: 863ms\tremaining: 504ms\n",
      "631:\tlearn: 31.9053748\ttotal: 864ms\tremaining: 503ms\n",
      "632:\tlearn: 31.7715772\ttotal: 865ms\tremaining: 501ms\n",
      "633:\tlearn: 31.6687835\ttotal: 866ms\tremaining: 500ms\n",
      "634:\tlearn: 31.6368050\ttotal: 867ms\tremaining: 498ms\n",
      "635:\tlearn: 31.5709628\ttotal: 868ms\tremaining: 497ms\n",
      "636:\tlearn: 31.4052213\ttotal: 869ms\tremaining: 495ms\n",
      "637:\tlearn: 31.2452229\ttotal: 870ms\tremaining: 494ms\n",
      "638:\tlearn: 31.1221828\ttotal: 872ms\tremaining: 492ms\n",
      "639:\tlearn: 31.0853500\ttotal: 873ms\tremaining: 491ms\n",
      "640:\tlearn: 30.9167355\ttotal: 874ms\tremaining: 490ms\n",
      "641:\tlearn: 30.8667253\ttotal: 876ms\tremaining: 488ms\n",
      "642:\tlearn: 30.7427129\ttotal: 877ms\tremaining: 487ms\n",
      "643:\tlearn: 30.5748228\ttotal: 878ms\tremaining: 485ms\n",
      "644:\tlearn: 30.5080592\ttotal: 879ms\tremaining: 484ms\n",
      "645:\tlearn: 30.3444228\ttotal: 880ms\tremaining: 482ms\n",
      "646:\tlearn: 30.1858385\ttotal: 881ms\tremaining: 481ms\n",
      "647:\tlearn: 30.1481951\ttotal: 883ms\tremaining: 479ms\n",
      "648:\tlearn: 30.1139150\ttotal: 884ms\tremaining: 478ms\n",
      "649:\tlearn: 30.0147177\ttotal: 885ms\tremaining: 476ms\n",
      "650:\tlearn: 29.8610501\ttotal: 886ms\tremaining: 475ms\n",
      "651:\tlearn: 29.7793561\ttotal: 887ms\tremaining: 473ms\n",
      "652:\tlearn: 29.6870188\ttotal: 888ms\tremaining: 472ms\n",
      "653:\tlearn: 29.6229921\ttotal: 889ms\tremaining: 471ms\n",
      "654:\tlearn: 29.5806823\ttotal: 890ms\tremaining: 469ms\n",
      "655:\tlearn: 29.4903496\ttotal: 892ms\tremaining: 468ms\n",
      "656:\tlearn: 29.4011642\ttotal: 893ms\tremaining: 466ms\n",
      "657:\tlearn: 29.3880977\ttotal: 894ms\tremaining: 465ms\n",
      "658:\tlearn: 29.2615919\ttotal: 895ms\tremaining: 463ms\n",
      "659:\tlearn: 29.1004727\ttotal: 896ms\tremaining: 462ms\n",
      "660:\tlearn: 29.0530692\ttotal: 898ms\tremaining: 460ms\n",
      "661:\tlearn: 28.9863628\ttotal: 899ms\tremaining: 459ms\n",
      "662:\tlearn: 28.8714304\ttotal: 900ms\tremaining: 457ms\n",
      "663:\tlearn: 28.7331979\ttotal: 901ms\tremaining: 456ms\n",
      "664:\tlearn: 28.6366801\ttotal: 902ms\tremaining: 455ms\n",
      "665:\tlearn: 28.5716341\ttotal: 903ms\tremaining: 453ms\n",
      "666:\tlearn: 28.4974876\ttotal: 905ms\tremaining: 452ms\n",
      "667:\tlearn: 28.4112710\ttotal: 906ms\tremaining: 450ms\n",
      "668:\tlearn: 28.2984651\ttotal: 907ms\tremaining: 449ms\n",
      "669:\tlearn: 28.1339510\ttotal: 908ms\tremaining: 447ms\n",
      "670:\tlearn: 28.1075789\ttotal: 910ms\tremaining: 446ms\n",
      "671:\tlearn: 28.0922293\ttotal: 911ms\tremaining: 445ms\n",
      "672:\tlearn: 27.9723760\ttotal: 912ms\tremaining: 443ms\n",
      "673:\tlearn: 27.9055283\ttotal: 913ms\tremaining: 442ms\n",
      "674:\tlearn: 27.8205243\ttotal: 915ms\tremaining: 440ms\n",
      "675:\tlearn: 27.8084834\ttotal: 916ms\tremaining: 439ms\n",
      "676:\tlearn: 27.7891840\ttotal: 917ms\tremaining: 437ms\n",
      "677:\tlearn: 27.6730952\ttotal: 918ms\tremaining: 436ms\n",
      "678:\tlearn: 27.6094279\ttotal: 919ms\tremaining: 434ms\n",
      "679:\tlearn: 27.5709406\ttotal: 920ms\tremaining: 433ms\n",
      "680:\tlearn: 27.5062932\ttotal: 921ms\tremaining: 431ms\n",
      "681:\tlearn: 27.4149358\ttotal: 922ms\tremaining: 430ms\n",
      "682:\tlearn: 27.3480578\ttotal: 923ms\tremaining: 428ms\n",
      "683:\tlearn: 27.2546632\ttotal: 924ms\tremaining: 427ms\n",
      "684:\tlearn: 27.1581242\ttotal: 925ms\tremaining: 426ms\n",
      "685:\tlearn: 27.1291330\ttotal: 927ms\tremaining: 424ms\n",
      "686:\tlearn: 27.0589760\ttotal: 928ms\tremaining: 423ms\n",
      "687:\tlearn: 26.9207571\ttotal: 929ms\tremaining: 421ms\n",
      "688:\tlearn: 26.8046340\ttotal: 930ms\tremaining: 420ms\n",
      "689:\tlearn: 26.7346039\ttotal: 931ms\tremaining: 418ms\n",
      "690:\tlearn: 26.6359238\ttotal: 932ms\tremaining: 417ms\n",
      "691:\tlearn: 26.5458163\ttotal: 934ms\tremaining: 415ms\n",
      "692:\tlearn: 26.5287024\ttotal: 935ms\tremaining: 414ms\n",
      "693:\tlearn: 26.4436127\ttotal: 936ms\tremaining: 413ms\n",
      "694:\tlearn: 26.3860996\ttotal: 937ms\tremaining: 411ms\n",
      "695:\tlearn: 26.3271824\ttotal: 938ms\tremaining: 410ms\n",
      "696:\tlearn: 26.1929180\ttotal: 939ms\tremaining: 408ms\n",
      "697:\tlearn: 26.0989501\ttotal: 941ms\tremaining: 407ms\n",
      "698:\tlearn: 26.0348052\ttotal: 942ms\tremaining: 406ms\n",
      "699:\tlearn: 25.9715846\ttotal: 943ms\tremaining: 404ms\n",
      "700:\tlearn: 25.8624783\ttotal: 944ms\tremaining: 403ms\n",
      "701:\tlearn: 25.8020332\ttotal: 945ms\tremaining: 401ms\n",
      "702:\tlearn: 25.7940141\ttotal: 946ms\tremaining: 400ms\n",
      "703:\tlearn: 25.6937173\ttotal: 948ms\tremaining: 398ms\n",
      "704:\tlearn: 25.6133995\ttotal: 949ms\tremaining: 397ms\n",
      "705:\tlearn: 25.5272559\ttotal: 950ms\tremaining: 396ms\n",
      "706:\tlearn: 25.5087600\ttotal: 951ms\tremaining: 394ms\n",
      "707:\tlearn: 25.3506858\ttotal: 952ms\tremaining: 393ms\n",
      "708:\tlearn: 25.3314352\ttotal: 953ms\tremaining: 391ms\n",
      "709:\tlearn: 25.3263712\ttotal: 954ms\tremaining: 390ms\n",
      "710:\tlearn: 25.2377772\ttotal: 955ms\tremaining: 388ms\n",
      "711:\tlearn: 25.1296003\ttotal: 956ms\tremaining: 387ms\n",
      "712:\tlearn: 25.1138661\ttotal: 958ms\tremaining: 385ms\n",
      "713:\tlearn: 25.0606164\ttotal: 959ms\tremaining: 384ms\n",
      "714:\tlearn: 24.9701122\ttotal: 960ms\tremaining: 383ms\n",
      "715:\tlearn: 24.9266980\ttotal: 961ms\tremaining: 381ms\n",
      "716:\tlearn: 24.8355245\ttotal: 962ms\tremaining: 380ms\n",
      "717:\tlearn: 24.7892595\ttotal: 964ms\tremaining: 378ms\n",
      "718:\tlearn: 24.7784156\ttotal: 965ms\tremaining: 377ms\n",
      "719:\tlearn: 24.7204068\ttotal: 966ms\tremaining: 376ms\n",
      "720:\tlearn: 24.6868946\ttotal: 967ms\tremaining: 374ms\n",
      "721:\tlearn: 24.5835248\ttotal: 968ms\tremaining: 373ms\n",
      "722:\tlearn: 24.4605667\ttotal: 970ms\tremaining: 371ms\n",
      "723:\tlearn: 24.3780491\ttotal: 971ms\tremaining: 370ms\n",
      "724:\tlearn: 24.3695387\ttotal: 972ms\tremaining: 369ms\n",
      "725:\tlearn: 24.2713928\ttotal: 974ms\tremaining: 367ms\n",
      "726:\tlearn: 24.2564573\ttotal: 975ms\tremaining: 366ms\n",
      "727:\tlearn: 24.1259045\ttotal: 976ms\tremaining: 365ms\n",
      "728:\tlearn: 24.0410925\ttotal: 977ms\tremaining: 363ms\n",
      "729:\tlearn: 23.9454740\ttotal: 979ms\tremaining: 362ms\n",
      "730:\tlearn: 23.9293944\ttotal: 980ms\tremaining: 361ms\n",
      "731:\tlearn: 23.8408373\ttotal: 981ms\tremaining: 359ms\n",
      "732:\tlearn: 23.7301307\ttotal: 982ms\tremaining: 358ms\n",
      "733:\tlearn: 23.6751178\ttotal: 984ms\tremaining: 356ms\n",
      "734:\tlearn: 23.5518474\ttotal: 985ms\tremaining: 355ms\n",
      "735:\tlearn: 23.5054838\ttotal: 987ms\tremaining: 354ms\n",
      "736:\tlearn: 23.4781040\ttotal: 989ms\tremaining: 353ms\n",
      "737:\tlearn: 23.3774725\ttotal: 991ms\tremaining: 352ms\n",
      "738:\tlearn: 23.3081022\ttotal: 992ms\tremaining: 350ms\n",
      "739:\tlearn: 23.2915892\ttotal: 994ms\tremaining: 349ms\n",
      "740:\tlearn: 23.2095735\ttotal: 996ms\tremaining: 348ms\n",
      "741:\tlearn: 23.1588315\ttotal: 997ms\tremaining: 347ms\n",
      "742:\tlearn: 23.1197993\ttotal: 999ms\tremaining: 345ms\n",
      "743:\tlearn: 23.0327780\ttotal: 1s\tremaining: 344ms\n",
      "744:\tlearn: 22.9759480\ttotal: 1s\tremaining: 343ms\n",
      "745:\tlearn: 22.8751423\ttotal: 1s\tremaining: 341ms\n",
      "746:\tlearn: 22.7768127\ttotal: 1s\tremaining: 340ms\n",
      "747:\tlearn: 22.6474970\ttotal: 1s\tremaining: 339ms\n",
      "748:\tlearn: 22.5780525\ttotal: 1.01s\tremaining: 337ms\n",
      "749:\tlearn: 22.5338308\ttotal: 1.01s\tremaining: 336ms\n",
      "750:\tlearn: 22.4330276\ttotal: 1.01s\tremaining: 335ms\n",
      "751:\tlearn: 22.4193891\ttotal: 1.01s\tremaining: 333ms\n",
      "752:\tlearn: 22.4093040\ttotal: 1.01s\tremaining: 332ms\n",
      "753:\tlearn: 22.3758979\ttotal: 1.01s\tremaining: 331ms\n",
      "754:\tlearn: 22.3560173\ttotal: 1.01s\tremaining: 329ms\n",
      "755:\tlearn: 22.3264261\ttotal: 1.02s\tremaining: 328ms\n",
      "756:\tlearn: 22.2796605\ttotal: 1.02s\tremaining: 327ms\n",
      "757:\tlearn: 22.2253439\ttotal: 1.02s\tremaining: 325ms\n",
      "758:\tlearn: 22.1636409\ttotal: 1.02s\tremaining: 324ms\n",
      "759:\tlearn: 22.1078491\ttotal: 1.02s\tremaining: 323ms\n",
      "760:\tlearn: 22.0275756\ttotal: 1.02s\tremaining: 322ms\n",
      "761:\tlearn: 22.0174143\ttotal: 1.03s\tremaining: 321ms\n",
      "762:\tlearn: 21.9887391\ttotal: 1.03s\tremaining: 320ms\n",
      "763:\tlearn: 21.9746733\ttotal: 1.03s\tremaining: 320ms\n",
      "764:\tlearn: 21.9529216\ttotal: 1.04s\tremaining: 319ms\n",
      "765:\tlearn: 21.8767644\ttotal: 1.04s\tremaining: 318ms\n",
      "766:\tlearn: 21.8668039\ttotal: 1.04s\tremaining: 317ms\n",
      "767:\tlearn: 21.8008688\ttotal: 1.04s\tremaining: 316ms\n",
      "768:\tlearn: 21.7612208\ttotal: 1.05s\tremaining: 315ms\n",
      "769:\tlearn: 21.6977978\ttotal: 1.05s\tremaining: 314ms\n",
      "770:\tlearn: 21.6870461\ttotal: 1.05s\tremaining: 313ms\n",
      "771:\tlearn: 21.6599780\ttotal: 1.06s\tremaining: 312ms\n",
      "772:\tlearn: 21.5522064\ttotal: 1.06s\tremaining: 311ms\n",
      "773:\tlearn: 21.5426327\ttotal: 1.06s\tremaining: 310ms\n",
      "774:\tlearn: 21.4391089\ttotal: 1.06s\tremaining: 309ms\n",
      "775:\tlearn: 21.4042993\ttotal: 1.07s\tremaining: 309ms\n",
      "776:\tlearn: 21.3284836\ttotal: 1.07s\tremaining: 307ms\n",
      "777:\tlearn: 21.3163774\ttotal: 1.07s\tremaining: 306ms\n",
      "778:\tlearn: 21.2708416\ttotal: 1.07s\tremaining: 305ms\n",
      "779:\tlearn: 21.2056943\ttotal: 1.08s\tremaining: 304ms\n",
      "780:\tlearn: 21.1434774\ttotal: 1.08s\tremaining: 302ms\n",
      "781:\tlearn: 21.0672473\ttotal: 1.08s\tremaining: 301ms\n",
      "782:\tlearn: 20.9629645\ttotal: 1.08s\tremaining: 300ms\n",
      "783:\tlearn: 20.9522537\ttotal: 1.08s\tremaining: 299ms\n",
      "784:\tlearn: 20.9252425\ttotal: 1.08s\tremaining: 297ms\n",
      "785:\tlearn: 20.8576799\ttotal: 1.09s\tremaining: 296ms\n",
      "786:\tlearn: 20.7922970\ttotal: 1.09s\tremaining: 295ms\n",
      "787:\tlearn: 20.7802134\ttotal: 1.09s\tremaining: 293ms\n",
      "788:\tlearn: 20.7125213\ttotal: 1.09s\tremaining: 292ms\n",
      "789:\tlearn: 20.7000005\ttotal: 1.09s\tremaining: 291ms\n",
      "790:\tlearn: 20.6366378\ttotal: 1.09s\tremaining: 289ms\n",
      "791:\tlearn: 20.6170923\ttotal: 1.1s\tremaining: 288ms\n",
      "792:\tlearn: 20.5485950\ttotal: 1.1s\tremaining: 287ms\n",
      "793:\tlearn: 20.5212323\ttotal: 1.1s\tremaining: 285ms\n",
      "794:\tlearn: 20.5004347\ttotal: 1.1s\tremaining: 284ms\n",
      "795:\tlearn: 20.4884649\ttotal: 1.1s\tremaining: 283ms\n",
      "796:\tlearn: 20.3727007\ttotal: 1.1s\tremaining: 281ms\n",
      "797:\tlearn: 20.2776166\ttotal: 1.1s\tremaining: 280ms\n",
      "798:\tlearn: 20.2690965\ttotal: 1.11s\tremaining: 278ms\n",
      "799:\tlearn: 20.2166634\ttotal: 1.11s\tremaining: 277ms\n",
      "800:\tlearn: 20.1160179\ttotal: 1.11s\tremaining: 275ms\n",
      "801:\tlearn: 20.0642268\ttotal: 1.11s\tremaining: 274ms\n",
      "802:\tlearn: 20.0323601\ttotal: 1.11s\tremaining: 273ms\n",
      "803:\tlearn: 19.9485334\ttotal: 1.11s\tremaining: 271ms\n",
      "804:\tlearn: 19.9071725\ttotal: 1.11s\tremaining: 270ms\n",
      "805:\tlearn: 19.8943564\ttotal: 1.11s\tremaining: 268ms\n",
      "806:\tlearn: 19.7804687\ttotal: 1.12s\tremaining: 267ms\n",
      "807:\tlearn: 19.7343406\ttotal: 1.12s\tremaining: 266ms\n",
      "808:\tlearn: 19.6963930\ttotal: 1.12s\tremaining: 264ms\n",
      "809:\tlearn: 19.6705675\ttotal: 1.12s\tremaining: 263ms\n",
      "810:\tlearn: 19.6382933\ttotal: 1.12s\tremaining: 261ms\n",
      "811:\tlearn: 19.5889191\ttotal: 1.12s\tremaining: 260ms\n",
      "812:\tlearn: 19.5638487\ttotal: 1.12s\tremaining: 259ms\n",
      "813:\tlearn: 19.4926424\ttotal: 1.13s\tremaining: 257ms\n",
      "814:\tlearn: 19.3961396\ttotal: 1.13s\tremaining: 256ms\n",
      "815:\tlearn: 19.3880242\ttotal: 1.13s\tremaining: 254ms\n",
      "816:\tlearn: 19.2808372\ttotal: 1.13s\tremaining: 253ms\n",
      "817:\tlearn: 19.1712815\ttotal: 1.13s\tremaining: 252ms\n",
      "818:\tlearn: 19.0909823\ttotal: 1.13s\tremaining: 250ms\n",
      "819:\tlearn: 18.9993504\ttotal: 1.13s\tremaining: 249ms\n",
      "820:\tlearn: 18.9773399\ttotal: 1.13s\tremaining: 247ms\n",
      "821:\tlearn: 18.8989735\ttotal: 1.14s\tremaining: 246ms\n",
      "822:\tlearn: 18.8275176\ttotal: 1.14s\tremaining: 245ms\n",
      "823:\tlearn: 18.8092278\ttotal: 1.14s\tremaining: 243ms\n",
      "824:\tlearn: 18.7938447\ttotal: 1.14s\tremaining: 242ms\n",
      "825:\tlearn: 18.7871267\ttotal: 1.14s\tremaining: 240ms\n",
      "826:\tlearn: 18.7299674\ttotal: 1.14s\tremaining: 239ms\n",
      "827:\tlearn: 18.6808264\ttotal: 1.14s\tremaining: 238ms\n",
      "828:\tlearn: 18.5984875\ttotal: 1.14s\tremaining: 236ms\n",
      "829:\tlearn: 18.5170088\ttotal: 1.15s\tremaining: 235ms\n",
      "830:\tlearn: 18.4707382\ttotal: 1.15s\tremaining: 233ms\n",
      "831:\tlearn: 18.4368619\ttotal: 1.15s\tremaining: 232ms\n",
      "832:\tlearn: 18.3683191\ttotal: 1.15s\tremaining: 231ms\n",
      "833:\tlearn: 18.3295058\ttotal: 1.15s\tremaining: 229ms\n",
      "834:\tlearn: 18.2587263\ttotal: 1.15s\tremaining: 228ms\n",
      "835:\tlearn: 18.2103679\ttotal: 1.15s\tremaining: 227ms\n",
      "836:\tlearn: 18.1781032\ttotal: 1.16s\tremaining: 225ms\n",
      "837:\tlearn: 18.0746921\ttotal: 1.16s\tremaining: 224ms\n",
      "838:\tlearn: 18.0131984\ttotal: 1.16s\tremaining: 222ms\n",
      "839:\tlearn: 17.9510877\ttotal: 1.16s\tremaining: 221ms\n",
      "840:\tlearn: 17.8893536\ttotal: 1.16s\tremaining: 220ms\n",
      "841:\tlearn: 17.8813583\ttotal: 1.16s\tremaining: 218ms\n",
      "842:\tlearn: 17.8129857\ttotal: 1.16s\tremaining: 217ms\n",
      "843:\tlearn: 17.7981202\ttotal: 1.17s\tremaining: 216ms\n",
      "844:\tlearn: 17.7414627\ttotal: 1.17s\tremaining: 214ms\n",
      "845:\tlearn: 17.7255534\ttotal: 1.17s\tremaining: 213ms\n",
      "846:\tlearn: 17.6965545\ttotal: 1.17s\tremaining: 211ms\n",
      "847:\tlearn: 17.6499397\ttotal: 1.17s\tremaining: 210ms\n",
      "848:\tlearn: 17.6133852\ttotal: 1.17s\tremaining: 208ms\n",
      "849:\tlearn: 17.5621620\ttotal: 1.17s\tremaining: 207ms\n",
      "850:\tlearn: 17.5064049\ttotal: 1.17s\tremaining: 206ms\n",
      "851:\tlearn: 17.4643467\ttotal: 1.18s\tremaining: 204ms\n",
      "852:\tlearn: 17.4569544\ttotal: 1.18s\tremaining: 203ms\n",
      "853:\tlearn: 17.3731897\ttotal: 1.18s\tremaining: 201ms\n",
      "854:\tlearn: 17.3313609\ttotal: 1.18s\tremaining: 200ms\n",
      "855:\tlearn: 17.2781582\ttotal: 1.18s\tremaining: 198ms\n",
      "856:\tlearn: 17.2283433\ttotal: 1.18s\tremaining: 197ms\n",
      "857:\tlearn: 17.1944614\ttotal: 1.18s\tremaining: 196ms\n",
      "858:\tlearn: 17.1573393\ttotal: 1.18s\tremaining: 194ms\n",
      "859:\tlearn: 17.0975067\ttotal: 1.18s\tremaining: 193ms\n",
      "860:\tlearn: 17.0462043\ttotal: 1.18s\tremaining: 191ms\n",
      "861:\tlearn: 17.0118805\ttotal: 1.19s\tremaining: 190ms\n",
      "862:\tlearn: 17.0045195\ttotal: 1.19s\tremaining: 188ms\n",
      "863:\tlearn: 16.9528999\ttotal: 1.19s\tremaining: 187ms\n",
      "864:\tlearn: 16.9270632\ttotal: 1.19s\tremaining: 186ms\n",
      "865:\tlearn: 16.8915252\ttotal: 1.19s\tremaining: 184ms\n",
      "866:\tlearn: 16.7946576\ttotal: 1.19s\tremaining: 183ms\n",
      "867:\tlearn: 16.7737222\ttotal: 1.19s\tremaining: 181ms\n",
      "868:\tlearn: 16.7192509\ttotal: 1.19s\tremaining: 180ms\n",
      "869:\tlearn: 16.7138388\ttotal: 1.19s\tremaining: 179ms\n",
      "870:\tlearn: 16.6877768\ttotal: 1.2s\tremaining: 177ms\n",
      "871:\tlearn: 16.6265748\ttotal: 1.2s\tremaining: 176ms\n",
      "872:\tlearn: 16.5641199\ttotal: 1.2s\tremaining: 174ms\n",
      "873:\tlearn: 16.4935111\ttotal: 1.2s\tremaining: 173ms\n",
      "874:\tlearn: 16.4250863\ttotal: 1.2s\tremaining: 171ms\n",
      "875:\tlearn: 16.3566947\ttotal: 1.2s\tremaining: 170ms\n",
      "876:\tlearn: 16.2731185\ttotal: 1.2s\tremaining: 169ms\n",
      "877:\tlearn: 16.2207923\ttotal: 1.2s\tremaining: 167ms\n",
      "878:\tlearn: 16.2073108\ttotal: 1.2s\tremaining: 166ms\n",
      "879:\tlearn: 16.1336576\ttotal: 1.21s\tremaining: 164ms\n",
      "880:\tlearn: 16.0994139\ttotal: 1.21s\tremaining: 163ms\n",
      "881:\tlearn: 16.0720217\ttotal: 1.21s\tremaining: 162ms\n",
      "882:\tlearn: 16.0192163\ttotal: 1.21s\tremaining: 160ms\n",
      "883:\tlearn: 16.0021989\ttotal: 1.21s\tremaining: 159ms\n",
      "884:\tlearn: 15.9003005\ttotal: 1.21s\tremaining: 157ms\n",
      "885:\tlearn: 15.8685768\ttotal: 1.21s\tremaining: 156ms\n",
      "886:\tlearn: 15.7757199\ttotal: 1.21s\tremaining: 155ms\n",
      "887:\tlearn: 15.7280015\ttotal: 1.21s\tremaining: 153ms\n",
      "888:\tlearn: 15.7037867\ttotal: 1.22s\tremaining: 152ms\n",
      "889:\tlearn: 15.6876254\ttotal: 1.22s\tremaining: 150ms\n",
      "890:\tlearn: 15.6002589\ttotal: 1.22s\tremaining: 149ms\n",
      "891:\tlearn: 15.5663914\ttotal: 1.22s\tremaining: 148ms\n",
      "892:\tlearn: 15.4827503\ttotal: 1.22s\tremaining: 146ms\n",
      "893:\tlearn: 15.4422647\ttotal: 1.22s\tremaining: 145ms\n",
      "894:\tlearn: 15.4230904\ttotal: 1.22s\tremaining: 143ms\n",
      "895:\tlearn: 15.3907978\ttotal: 1.22s\tremaining: 142ms\n",
      "896:\tlearn: 15.3022423\ttotal: 1.22s\tremaining: 141ms\n",
      "897:\tlearn: 15.2770800\ttotal: 1.23s\tremaining: 139ms\n",
      "898:\tlearn: 15.2708396\ttotal: 1.23s\tremaining: 138ms\n",
      "899:\tlearn: 15.2217814\ttotal: 1.23s\tremaining: 136ms\n",
      "900:\tlearn: 15.2150872\ttotal: 1.23s\tremaining: 135ms\n",
      "901:\tlearn: 15.1938758\ttotal: 1.23s\tremaining: 134ms\n",
      "902:\tlearn: 15.1087389\ttotal: 1.23s\tremaining: 132ms\n",
      "903:\tlearn: 15.0270836\ttotal: 1.23s\tremaining: 131ms\n",
      "904:\tlearn: 14.9579009\ttotal: 1.23s\tremaining: 130ms\n",
      "905:\tlearn: 14.9321713\ttotal: 1.24s\tremaining: 128ms\n",
      "906:\tlearn: 14.9254894\ttotal: 1.24s\tremaining: 127ms\n",
      "907:\tlearn: 14.8662999\ttotal: 1.24s\tremaining: 125ms\n",
      "908:\tlearn: 14.7969088\ttotal: 1.24s\tremaining: 124ms\n",
      "909:\tlearn: 14.7187437\ttotal: 1.24s\tremaining: 123ms\n",
      "910:\tlearn: 14.6594229\ttotal: 1.24s\tremaining: 121ms\n",
      "911:\tlearn: 14.6109629\ttotal: 1.24s\tremaining: 120ms\n",
      "912:\tlearn: 14.5833869\ttotal: 1.24s\tremaining: 118ms\n",
      "913:\tlearn: 14.5677206\ttotal: 1.24s\tremaining: 117ms\n",
      "914:\tlearn: 14.5260964\ttotal: 1.25s\tremaining: 116ms\n",
      "915:\tlearn: 14.4838792\ttotal: 1.25s\tremaining: 114ms\n",
      "916:\tlearn: 14.4614097\ttotal: 1.25s\tremaining: 113ms\n",
      "917:\tlearn: 14.4432212\ttotal: 1.25s\tremaining: 112ms\n",
      "918:\tlearn: 14.4363977\ttotal: 1.25s\tremaining: 110ms\n",
      "919:\tlearn: 14.3740822\ttotal: 1.25s\tremaining: 109ms\n",
      "920:\tlearn: 14.3363459\ttotal: 1.25s\tremaining: 107ms\n",
      "921:\tlearn: 14.2862425\ttotal: 1.25s\tremaining: 106ms\n",
      "922:\tlearn: 14.2195191\ttotal: 1.25s\tremaining: 105ms\n",
      "923:\tlearn: 14.1752422\ttotal: 1.26s\tremaining: 103ms\n",
      "924:\tlearn: 14.1582897\ttotal: 1.26s\tremaining: 102ms\n",
      "925:\tlearn: 14.0892518\ttotal: 1.26s\tremaining: 101ms\n",
      "926:\tlearn: 14.0163904\ttotal: 1.26s\tremaining: 99.3ms\n",
      "927:\tlearn: 13.9674906\ttotal: 1.26s\tremaining: 97.9ms\n",
      "928:\tlearn: 13.9421041\ttotal: 1.26s\tremaining: 96.5ms\n",
      "929:\tlearn: 13.9264108\ttotal: 1.26s\tremaining: 95.2ms\n",
      "930:\tlearn: 13.8953443\ttotal: 1.26s\tremaining: 93.8ms\n",
      "931:\tlearn: 13.8514821\ttotal: 1.27s\tremaining: 92.4ms\n",
      "932:\tlearn: 13.8317730\ttotal: 1.27s\tremaining: 91.1ms\n",
      "933:\tlearn: 13.7980615\ttotal: 1.27s\tremaining: 89.7ms\n",
      "934:\tlearn: 13.7252551\ttotal: 1.27s\tremaining: 88.4ms\n",
      "935:\tlearn: 13.6867475\ttotal: 1.27s\tremaining: 87ms\n",
      "936:\tlearn: 13.6663164\ttotal: 1.27s\tremaining: 85.6ms\n",
      "937:\tlearn: 13.6108173\ttotal: 1.27s\tremaining: 84.3ms\n",
      "938:\tlearn: 13.5827380\ttotal: 1.27s\tremaining: 82.9ms\n",
      "939:\tlearn: 13.5211246\ttotal: 1.28s\tremaining: 81.5ms\n",
      "940:\tlearn: 13.4752089\ttotal: 1.28s\tremaining: 80.1ms\n",
      "941:\tlearn: 13.4283115\ttotal: 1.28s\tremaining: 78.8ms\n",
      "942:\tlearn: 13.3912327\ttotal: 1.28s\tremaining: 77.4ms\n",
      "943:\tlearn: 13.3593766\ttotal: 1.28s\tremaining: 76ms\n",
      "944:\tlearn: 13.3015250\ttotal: 1.28s\tremaining: 74.6ms\n",
      "945:\tlearn: 13.2587480\ttotal: 1.28s\tremaining: 73.3ms\n",
      "946:\tlearn: 13.1949436\ttotal: 1.28s\tremaining: 71.9ms\n",
      "947:\tlearn: 13.1552441\ttotal: 1.28s\tremaining: 70.5ms\n",
      "948:\tlearn: 13.0700947\ttotal: 1.29s\tremaining: 69.2ms\n",
      "949:\tlearn: 13.0460884\ttotal: 1.29s\tremaining: 67.8ms\n",
      "950:\tlearn: 13.0315972\ttotal: 1.29s\tremaining: 66.4ms\n",
      "951:\tlearn: 12.9964111\ttotal: 1.29s\tremaining: 65.1ms\n",
      "952:\tlearn: 12.9757139\ttotal: 1.29s\tremaining: 63.7ms\n",
      "953:\tlearn: 12.9120533\ttotal: 1.29s\tremaining: 62.3ms\n",
      "954:\tlearn: 12.8776679\ttotal: 1.29s\tremaining: 61ms\n",
      "955:\tlearn: 12.8703243\ttotal: 1.29s\tremaining: 59.6ms\n",
      "956:\tlearn: 12.8058615\ttotal: 1.29s\tremaining: 58.2ms\n",
      "957:\tlearn: 12.7637381\ttotal: 1.3s\tremaining: 56.9ms\n",
      "958:\tlearn: 12.7517063\ttotal: 1.3s\tremaining: 55.5ms\n",
      "959:\tlearn: 12.7382108\ttotal: 1.3s\tremaining: 54.1ms\n",
      "960:\tlearn: 12.6881713\ttotal: 1.3s\tremaining: 52.8ms\n",
      "961:\tlearn: 12.6728317\ttotal: 1.3s\tremaining: 51.4ms\n",
      "962:\tlearn: 12.6386609\ttotal: 1.3s\tremaining: 50ms\n",
      "963:\tlearn: 12.5837642\ttotal: 1.3s\tremaining: 48.7ms\n",
      "964:\tlearn: 12.5689789\ttotal: 1.3s\tremaining: 47.3ms\n",
      "965:\tlearn: 12.5362136\ttotal: 1.3s\tremaining: 46ms\n",
      "966:\tlearn: 12.5186020\ttotal: 1.31s\tremaining: 44.6ms\n",
      "967:\tlearn: 12.4787889\ttotal: 1.31s\tremaining: 43.2ms\n",
      "968:\tlearn: 12.4463866\ttotal: 1.31s\tremaining: 41.9ms\n",
      "969:\tlearn: 12.3919484\ttotal: 1.31s\tremaining: 40.5ms\n",
      "970:\tlearn: 12.3583173\ttotal: 1.31s\tremaining: 39.2ms\n",
      "971:\tlearn: 12.3430204\ttotal: 1.31s\tremaining: 37.8ms\n",
      "972:\tlearn: 12.3036135\ttotal: 1.31s\tremaining: 36.4ms\n",
      "973:\tlearn: 12.2785886\ttotal: 1.31s\tremaining: 35.1ms\n",
      "974:\tlearn: 12.2424148\ttotal: 1.31s\tremaining: 33.7ms\n",
      "975:\tlearn: 12.2287225\ttotal: 1.32s\tremaining: 32.4ms\n",
      "976:\tlearn: 12.1894056\ttotal: 1.32s\tremaining: 31ms\n",
      "977:\tlearn: 12.1399699\ttotal: 1.32s\tremaining: 29.7ms\n",
      "978:\tlearn: 12.1165698\ttotal: 1.32s\tremaining: 28.3ms\n",
      "979:\tlearn: 12.1084930\ttotal: 1.32s\tremaining: 27ms\n",
      "980:\tlearn: 12.1041455\ttotal: 1.32s\tremaining: 25.6ms\n",
      "981:\tlearn: 12.0749440\ttotal: 1.32s\tremaining: 24.3ms\n",
      "982:\tlearn: 12.0676323\ttotal: 1.32s\tremaining: 22.9ms\n",
      "983:\tlearn: 12.0253491\ttotal: 1.32s\tremaining: 21.6ms\n",
      "984:\tlearn: 11.9725269\ttotal: 1.33s\tremaining: 20.2ms\n",
      "985:\tlearn: 11.9344239\ttotal: 1.33s\tremaining: 18.9ms\n",
      "986:\tlearn: 11.8870660\ttotal: 1.33s\tremaining: 17.5ms\n",
      "987:\tlearn: 11.8411099\ttotal: 1.33s\tremaining: 16.2ms\n",
      "988:\tlearn: 11.7973602\ttotal: 1.33s\tremaining: 14.8ms\n",
      "989:\tlearn: 11.7514376\ttotal: 1.33s\tremaining: 13.5ms\n",
      "990:\tlearn: 11.7232746\ttotal: 1.34s\tremaining: 12.2ms\n",
      "991:\tlearn: 11.6852796\ttotal: 1.34s\tremaining: 10.8ms\n",
      "992:\tlearn: 11.6463794\ttotal: 1.35s\tremaining: 9.49ms\n",
      "993:\tlearn: 11.6106308\ttotal: 1.35s\tremaining: 8.13ms\n",
      "994:\tlearn: 11.5731961\ttotal: 1.35s\tremaining: 6.78ms\n",
      "995:\tlearn: 11.5417359\ttotal: 1.35s\tremaining: 5.42ms\n",
      "996:\tlearn: 11.5167117\ttotal: 1.35s\tremaining: 4.06ms\n",
      "997:\tlearn: 11.4745232\ttotal: 1.35s\tremaining: 2.71ms\n",
      "998:\tlearn: 11.4604481\ttotal: 1.35s\tremaining: 1.35ms\n",
      "999:\tlearn: 11.4510502\ttotal: 1.35s\tremaining: 0us\n"
     ]
    }
   ],
   "source": [
    "# !pip install catboost\n",
    "# from catboost import CatBoostRegressor\n",
    "catb = CatBoostRegressor()\n",
    "catb_model = catb.fit(X_train, y_train)"
   ]
  },
  {
   "cell_type": "markdown",
   "id": "be7bceda-d047-4faa-bcfa-3469e14e9201",
   "metadata": {},
   "source": [
    "## Tahmin"
   ]
  },
  {
   "cell_type": "code",
   "execution_count": 28,
   "id": "e1edf857-f45d-46af-ac38-097bea547300",
   "metadata": {},
   "outputs": [
    {
     "data": {
      "text/plain": [
       "351.194631344607"
      ]
     },
     "execution_count": 28,
     "metadata": {},
     "output_type": "execute_result"
    }
   ],
   "source": [
    "y_pred = catb_model.predict(X_test)\n",
    "np.sqrt(mean_squared_error(y_test, y_pred))"
   ]
  },
  {
   "cell_type": "markdown",
   "id": "3b6de291-6895-485c-aafe-48bf643f43b6",
   "metadata": {},
   "source": [
    "## Model Tuning"
   ]
  },
  {
   "cell_type": "code",
   "execution_count": 29,
   "id": "fbd3f007-4d39-4c12-944b-57dd34168b12",
   "metadata": {
    "collapsed": true,
    "jupyter": {
     "outputs_hidden": true
    },
    "tags": []
   },
   "outputs": [
    {
     "name": "stdout",
     "output_type": "stream",
     "text": [
      "Fitting 5 folds for each of 96 candidates, totalling 480 fits\n",
      "0:\tlearn: 422.4143448\ttotal: 15.5ms\tremaining: 15.5s\n",
      "1:\tlearn: 404.1864276\ttotal: 16.4ms\tremaining: 8.2s\n",
      "2:\tlearn: 386.3231718\ttotal: 17.1ms\tremaining: 5.7s\n",
      "3:\tlearn: 370.5548032\ttotal: 17.9ms\tremaining: 4.47s\n",
      "4:\tlearn: 354.9242038\ttotal: 18.7ms\tremaining: 3.72s\n",
      "5:\tlearn: 342.3403984\ttotal: 19.5ms\tremaining: 3.23s\n",
      "6:\tlearn: 328.2370070\ttotal: 20.3ms\tremaining: 2.88s\n",
      "7:\tlearn: 317.5056526\ttotal: 21.2ms\tremaining: 2.63s\n",
      "8:\tlearn: 306.6243511\ttotal: 22ms\tremaining: 2.42s\n",
      "9:\tlearn: 297.3147023\ttotal: 22.9ms\tremaining: 2.26s\n",
      "10:\tlearn: 288.3685892\ttotal: 23.7ms\tremaining: 2.13s\n",
      "11:\tlearn: 281.0996220\ttotal: 24.3ms\tremaining: 2s\n",
      "12:\tlearn: 273.2254898\ttotal: 25.1ms\tremaining: 1.9s\n",
      "13:\tlearn: 266.9003385\ttotal: 25.8ms\tremaining: 1.82s\n",
      "14:\tlearn: 261.9092500\ttotal: 26.5ms\tremaining: 1.74s\n",
      "15:\tlearn: 256.2637350\ttotal: 27.3ms\tremaining: 1.68s\n",
      "16:\tlearn: 250.3667935\ttotal: 28.1ms\tremaining: 1.62s\n",
      "17:\tlearn: 244.8631098\ttotal: 28.8ms\tremaining: 1.57s\n",
      "18:\tlearn: 240.1540669\ttotal: 29.6ms\tremaining: 1.53s\n",
      "19:\tlearn: 235.6057263\ttotal: 30.4ms\tremaining: 1.49s\n",
      "20:\tlearn: 231.2431102\ttotal: 31.1ms\tremaining: 1.45s\n",
      "21:\tlearn: 226.4912464\ttotal: 31.9ms\tremaining: 1.42s\n",
      "22:\tlearn: 223.5591707\ttotal: 32.3ms\tremaining: 1.37s\n",
      "23:\tlearn: 219.6098928\ttotal: 33.1ms\tremaining: 1.34s\n",
      "24:\tlearn: 215.3653069\ttotal: 33.7ms\tremaining: 1.32s\n",
      "25:\tlearn: 212.0589058\ttotal: 34.5ms\tremaining: 1.29s\n",
      "26:\tlearn: 209.7717728\ttotal: 35.1ms\tremaining: 1.27s\n",
      "27:\tlearn: 206.4800180\ttotal: 35.8ms\tremaining: 1.24s\n",
      "28:\tlearn: 204.4998286\ttotal: 36.5ms\tremaining: 1.22s\n",
      "29:\tlearn: 202.5999376\ttotal: 37.3ms\tremaining: 1.21s\n",
      "30:\tlearn: 199.5099986\ttotal: 38ms\tremaining: 1.19s\n",
      "31:\tlearn: 196.9435690\ttotal: 38.7ms\tremaining: 1.17s\n",
      "32:\tlearn: 194.9855023\ttotal: 39.4ms\tremaining: 1.16s\n",
      "33:\tlearn: 193.0037094\ttotal: 40.1ms\tremaining: 1.14s\n",
      "34:\tlearn: 191.6771224\ttotal: 40.8ms\tremaining: 1.13s\n",
      "35:\tlearn: 188.6440989\ttotal: 41.6ms\tremaining: 1.11s\n",
      "36:\tlearn: 186.7575822\ttotal: 42.3ms\tremaining: 1.1s\n",
      "37:\tlearn: 183.5070965\ttotal: 43ms\tremaining: 1.09s\n",
      "38:\tlearn: 181.9932704\ttotal: 43.8ms\tremaining: 1.08s\n",
      "39:\tlearn: 180.4612043\ttotal: 44.6ms\tremaining: 1.07s\n",
      "40:\tlearn: 178.9727236\ttotal: 45.3ms\tremaining: 1.06s\n",
      "41:\tlearn: 176.9704782\ttotal: 46.1ms\tremaining: 1.05s\n",
      "42:\tlearn: 172.9583917\ttotal: 46.8ms\tremaining: 1.04s\n",
      "43:\tlearn: 172.0259404\ttotal: 47.5ms\tremaining: 1.03s\n",
      "44:\tlearn: 169.6703908\ttotal: 48.2ms\tremaining: 1.02s\n",
      "45:\tlearn: 167.0349788\ttotal: 48.8ms\tremaining: 1.01s\n",
      "46:\tlearn: 166.0151540\ttotal: 49.6ms\tremaining: 1s\n",
      "47:\tlearn: 164.3432866\ttotal: 50.3ms\tremaining: 997ms\n",
      "48:\tlearn: 163.7139546\ttotal: 51ms\tremaining: 989ms\n",
      "49:\tlearn: 162.0231882\ttotal: 51.6ms\tremaining: 981ms\n",
      "50:\tlearn: 159.4806540\ttotal: 52.3ms\tremaining: 972ms\n",
      "51:\tlearn: 156.5835618\ttotal: 53ms\tremaining: 967ms\n",
      "52:\tlearn: 155.1124833\ttotal: 53.7ms\tremaining: 959ms\n",
      "53:\tlearn: 154.3849650\ttotal: 54.4ms\tremaining: 953ms\n",
      "54:\tlearn: 153.2243534\ttotal: 55.1ms\tremaining: 946ms\n",
      "55:\tlearn: 152.3205510\ttotal: 55.7ms\tremaining: 939ms\n",
      "56:\tlearn: 151.0666069\ttotal: 56.4ms\tremaining: 933ms\n",
      "57:\tlearn: 150.0992693\ttotal: 57.1ms\tremaining: 927ms\n",
      "58:\tlearn: 149.7214223\ttotal: 57.8ms\tremaining: 922ms\n",
      "59:\tlearn: 149.3420563\ttotal: 58.5ms\tremaining: 916ms\n",
      "60:\tlearn: 147.1527638\ttotal: 59.2ms\tremaining: 911ms\n",
      "61:\tlearn: 146.0849045\ttotal: 59.9ms\tremaining: 907ms\n",
      "62:\tlearn: 145.2592821\ttotal: 60.6ms\tremaining: 901ms\n",
      "63:\tlearn: 143.9723823\ttotal: 61.3ms\tremaining: 896ms\n",
      "64:\tlearn: 142.9337890\ttotal: 61.9ms\tremaining: 890ms\n",
      "65:\tlearn: 141.2456060\ttotal: 62.8ms\tremaining: 888ms\n",
      "66:\tlearn: 140.0933886\ttotal: 63.4ms\tremaining: 883ms\n",
      "67:\tlearn: 139.0122411\ttotal: 64.1ms\tremaining: 878ms\n",
      "68:\tlearn: 137.0658535\ttotal: 64.8ms\tremaining: 874ms\n",
      "69:\tlearn: 136.5187600\ttotal: 65.5ms\tremaining: 870ms\n",
      "70:\tlearn: 135.3177866\ttotal: 66.3ms\tremaining: 868ms\n",
      "71:\tlearn: 134.4397288\ttotal: 67ms\tremaining: 864ms\n",
      "72:\tlearn: 133.9689054\ttotal: 67.7ms\tremaining: 860ms\n",
      "73:\tlearn: 132.9503812\ttotal: 68.4ms\tremaining: 856ms\n",
      "74:\tlearn: 132.4790284\ttotal: 69.2ms\tremaining: 853ms\n",
      "75:\tlearn: 130.0079846\ttotal: 69.8ms\tremaining: 849ms\n",
      "76:\tlearn: 128.6536311\ttotal: 70.5ms\tremaining: 845ms\n",
      "77:\tlearn: 126.4149435\ttotal: 71.2ms\tremaining: 841ms\n",
      "78:\tlearn: 124.7339610\ttotal: 71.9ms\tremaining: 838ms\n",
      "79:\tlearn: 123.6799098\ttotal: 72.7ms\tremaining: 836ms\n",
      "80:\tlearn: 122.0132818\ttotal: 73.5ms\tremaining: 833ms\n",
      "81:\tlearn: 121.7718402\ttotal: 74.3ms\tremaining: 832ms\n",
      "82:\tlearn: 121.0226763\ttotal: 75ms\tremaining: 829ms\n",
      "83:\tlearn: 119.0352412\ttotal: 75.7ms\tremaining: 826ms\n",
      "84:\tlearn: 118.1578472\ttotal: 76.4ms\tremaining: 823ms\n",
      "85:\tlearn: 117.3963152\ttotal: 77.1ms\tremaining: 820ms\n",
      "86:\tlearn: 116.8601830\ttotal: 77.8ms\tremaining: 817ms\n",
      "87:\tlearn: 115.1485488\ttotal: 78.6ms\tremaining: 815ms\n",
      "88:\tlearn: 113.3802066\ttotal: 79.3ms\tremaining: 812ms\n",
      "89:\tlearn: 111.8047507\ttotal: 80.1ms\tremaining: 810ms\n",
      "90:\tlearn: 111.2173889\ttotal: 80.8ms\tremaining: 807ms\n",
      "91:\tlearn: 109.7797673\ttotal: 81.4ms\tremaining: 803ms\n",
      "92:\tlearn: 108.5968886\ttotal: 82.3ms\tremaining: 802ms\n",
      "93:\tlearn: 107.3902106\ttotal: 82.9ms\tremaining: 799ms\n",
      "94:\tlearn: 106.5920119\ttotal: 83.7ms\tremaining: 797ms\n",
      "95:\tlearn: 105.9400132\ttotal: 84.4ms\tremaining: 795ms\n",
      "96:\tlearn: 104.5018068\ttotal: 85.2ms\tremaining: 793ms\n",
      "97:\tlearn: 104.2449785\ttotal: 85.9ms\tremaining: 790ms\n",
      "98:\tlearn: 102.4745810\ttotal: 86.6ms\tremaining: 788ms\n",
      "99:\tlearn: 101.5007722\ttotal: 87.2ms\tremaining: 785ms\n",
      "100:\tlearn: 101.0929742\ttotal: 87.9ms\tremaining: 782ms\n",
      "101:\tlearn: 100.8864538\ttotal: 88.6ms\tremaining: 780ms\n",
      "102:\tlearn: 99.5007076\ttotal: 89.3ms\tremaining: 777ms\n",
      "103:\tlearn: 98.1646778\ttotal: 89.9ms\tremaining: 775ms\n",
      "104:\tlearn: 97.1950961\ttotal: 90.6ms\tremaining: 772ms\n",
      "105:\tlearn: 96.0991462\ttotal: 91.3ms\tremaining: 770ms\n",
      "106:\tlearn: 95.4337941\ttotal: 92ms\tremaining: 768ms\n",
      "107:\tlearn: 94.9099345\ttotal: 92.7ms\tremaining: 766ms\n",
      "108:\tlearn: 94.3889362\ttotal: 93.3ms\tremaining: 763ms\n",
      "109:\tlearn: 94.2091744\ttotal: 94.1ms\tremaining: 761ms\n",
      "110:\tlearn: 92.8508793\ttotal: 94.8ms\tremaining: 759ms\n",
      "111:\tlearn: 92.1784338\ttotal: 95.5ms\tremaining: 757ms\n",
      "112:\tlearn: 91.6689944\ttotal: 96.2ms\tremaining: 755ms\n",
      "113:\tlearn: 90.6644520\ttotal: 97ms\tremaining: 754ms\n",
      "114:\tlearn: 90.5375287\ttotal: 97.7ms\tremaining: 752ms\n",
      "115:\tlearn: 90.3442623\ttotal: 98.4ms\tremaining: 750ms\n",
      "116:\tlearn: 89.3637881\ttotal: 99.1ms\tremaining: 748ms\n",
      "117:\tlearn: 88.5340073\ttotal: 99.8ms\tremaining: 746ms\n",
      "118:\tlearn: 88.3598014\ttotal: 101ms\tremaining: 745ms\n",
      "119:\tlearn: 87.1290719\ttotal: 101ms\tremaining: 743ms\n",
      "120:\tlearn: 87.0034893\ttotal: 102ms\tremaining: 741ms\n",
      "121:\tlearn: 85.9581724\ttotal: 103ms\tremaining: 739ms\n",
      "122:\tlearn: 84.7062226\ttotal: 103ms\tremaining: 737ms\n",
      "123:\tlearn: 84.6114296\ttotal: 104ms\tremaining: 735ms\n",
      "124:\tlearn: 83.3769126\ttotal: 105ms\tremaining: 733ms\n",
      "125:\tlearn: 82.2866094\ttotal: 105ms\tremaining: 731ms\n",
      "126:\tlearn: 81.7817112\ttotal: 106ms\tremaining: 731ms\n",
      "127:\tlearn: 80.3710545\ttotal: 107ms\tremaining: 730ms\n",
      "128:\tlearn: 79.3458239\ttotal: 108ms\tremaining: 728ms\n",
      "129:\tlearn: 78.8966509\ttotal: 109ms\tremaining: 727ms\n",
      "130:\tlearn: 78.7683699\ttotal: 109ms\tremaining: 725ms\n",
      "131:\tlearn: 78.0116712\ttotal: 110ms\tremaining: 723ms\n",
      "132:\tlearn: 77.5728582\ttotal: 111ms\tremaining: 721ms\n",
      "133:\tlearn: 76.4635356\ttotal: 111ms\tremaining: 719ms\n",
      "134:\tlearn: 75.6109482\ttotal: 112ms\tremaining: 717ms\n",
      "135:\tlearn: 74.8287886\ttotal: 113ms\tremaining: 715ms\n",
      "136:\tlearn: 74.2493825\ttotal: 113ms\tremaining: 713ms\n",
      "137:\tlearn: 73.3192822\ttotal: 114ms\tremaining: 713ms\n",
      "138:\tlearn: 72.9755066\ttotal: 115ms\tremaining: 711ms\n",
      "139:\tlearn: 72.8423874\ttotal: 115ms\tremaining: 709ms\n",
      "140:\tlearn: 71.5949506\ttotal: 116ms\tremaining: 708ms\n",
      "141:\tlearn: 70.9408732\ttotal: 117ms\tremaining: 706ms\n",
      "142:\tlearn: 70.1699642\ttotal: 118ms\tremaining: 705ms\n",
      "143:\tlearn: 69.8737644\ttotal: 118ms\tremaining: 704ms\n",
      "144:\tlearn: 69.0963759\ttotal: 119ms\tremaining: 703ms\n",
      "145:\tlearn: 68.9702397\ttotal: 120ms\tremaining: 701ms\n",
      "146:\tlearn: 67.8950397\ttotal: 121ms\tremaining: 700ms\n",
      "147:\tlearn: 67.1501269\ttotal: 121ms\tremaining: 699ms\n",
      "148:\tlearn: 66.4028868\ttotal: 122ms\tremaining: 697ms\n",
      "149:\tlearn: 65.3349813\ttotal: 123ms\tremaining: 696ms\n",
      "150:\tlearn: 64.6766190\ttotal: 123ms\tremaining: 694ms\n",
      "151:\tlearn: 63.7390417\ttotal: 124ms\tremaining: 693ms\n",
      "152:\tlearn: 62.9043101\ttotal: 125ms\tremaining: 691ms\n",
      "153:\tlearn: 62.5922794\ttotal: 126ms\tremaining: 690ms\n",
      "154:\tlearn: 62.1160450\ttotal: 126ms\tremaining: 688ms\n",
      "155:\tlearn: 61.7702532\ttotal: 127ms\tremaining: 687ms\n",
      "156:\tlearn: 61.2433354\ttotal: 128ms\tremaining: 685ms\n",
      "157:\tlearn: 60.8455422\ttotal: 128ms\tremaining: 684ms\n",
      "158:\tlearn: 60.6755303\ttotal: 129ms\tremaining: 682ms\n",
      "159:\tlearn: 59.9631043\ttotal: 130ms\tremaining: 681ms\n",
      "160:\tlearn: 59.2211911\ttotal: 130ms\tremaining: 680ms\n",
      "161:\tlearn: 59.1400932\ttotal: 131ms\tremaining: 678ms\n",
      "162:\tlearn: 58.9164262\ttotal: 132ms\tremaining: 677ms\n",
      "163:\tlearn: 58.2084420\ttotal: 133ms\tremaining: 676ms\n",
      "164:\tlearn: 57.9934649\ttotal: 133ms\tremaining: 674ms\n",
      "165:\tlearn: 57.3736694\ttotal: 134ms\tremaining: 672ms\n",
      "166:\tlearn: 56.8338370\ttotal: 134ms\tremaining: 671ms\n",
      "167:\tlearn: 56.5518049\ttotal: 135ms\tremaining: 670ms\n",
      "168:\tlearn: 55.9777349\ttotal: 136ms\tremaining: 669ms\n",
      "169:\tlearn: 55.4485860\ttotal: 137ms\tremaining: 668ms\n",
      "170:\tlearn: 55.0892542\ttotal: 137ms\tremaining: 667ms\n",
      "171:\tlearn: 54.9915464\ttotal: 138ms\tremaining: 665ms\n",
      "172:\tlearn: 54.3968112\ttotal: 139ms\tremaining: 664ms\n",
      "173:\tlearn: 53.7708163\ttotal: 140ms\tremaining: 662ms\n",
      "174:\tlearn: 53.1993023\ttotal: 140ms\tremaining: 661ms\n",
      "175:\tlearn: 52.7773821\ttotal: 141ms\tremaining: 660ms\n",
      "176:\tlearn: 52.5186612\ttotal: 142ms\tremaining: 658ms\n",
      "177:\tlearn: 52.0038075\ttotal: 142ms\tremaining: 658ms\n",
      "178:\tlearn: 51.7971195\ttotal: 143ms\tremaining: 657ms\n",
      "179:\tlearn: 51.4334863\ttotal: 144ms\tremaining: 656ms\n",
      "180:\tlearn: 50.9151359\ttotal: 145ms\tremaining: 656ms\n",
      "181:\tlearn: 50.8252320\ttotal: 146ms\tremaining: 654ms\n",
      "182:\tlearn: 50.4143487\ttotal: 146ms\tremaining: 653ms\n",
      "183:\tlearn: 50.0253432\ttotal: 147ms\tremaining: 652ms\n",
      "184:\tlearn: 49.6769233\ttotal: 148ms\tremaining: 650ms\n",
      "185:\tlearn: 49.5689505\ttotal: 148ms\tremaining: 649ms\n",
      "186:\tlearn: 49.0813531\ttotal: 149ms\tremaining: 648ms\n",
      "187:\tlearn: 48.9396335\ttotal: 150ms\tremaining: 647ms\n",
      "188:\tlearn: 48.5040716\ttotal: 151ms\tremaining: 646ms\n",
      "189:\tlearn: 47.9644995\ttotal: 151ms\tremaining: 645ms\n",
      "190:\tlearn: 47.8292554\ttotal: 152ms\tremaining: 644ms\n",
      "191:\tlearn: 47.4433025\ttotal: 153ms\tremaining: 642ms\n",
      "192:\tlearn: 46.9286959\ttotal: 153ms\tremaining: 641ms\n",
      "193:\tlearn: 46.3092347\ttotal: 154ms\tremaining: 640ms\n",
      "194:\tlearn: 45.7431428\ttotal: 155ms\tremaining: 639ms\n",
      "195:\tlearn: 45.6714261\ttotal: 155ms\tremaining: 638ms\n",
      "196:\tlearn: 45.5088158\ttotal: 156ms\tremaining: 636ms\n",
      "197:\tlearn: 45.4713460\ttotal: 157ms\tremaining: 635ms\n",
      "198:\tlearn: 45.0942536\ttotal: 157ms\tremaining: 634ms\n",
      "199:\tlearn: 44.7625600\ttotal: 158ms\tremaining: 632ms\n",
      "200:\tlearn: 44.3247006\ttotal: 159ms\tremaining: 631ms\n",
      "201:\tlearn: 43.8054974\ttotal: 160ms\tremaining: 630ms\n",
      "202:\tlearn: 43.3359785\ttotal: 160ms\tremaining: 629ms\n",
      "203:\tlearn: 42.8698272\ttotal: 161ms\tremaining: 628ms\n",
      "204:\tlearn: 42.4275364\ttotal: 161ms\tremaining: 626ms\n",
      "205:\tlearn: 41.9463597\ttotal: 162ms\tremaining: 625ms\n",
      "206:\tlearn: 41.7547985\ttotal: 163ms\tremaining: 624ms\n",
      "207:\tlearn: 41.6019714\ttotal: 164ms\tremaining: 623ms\n",
      "208:\tlearn: 41.4342896\ttotal: 164ms\tremaining: 621ms\n",
      "209:\tlearn: 41.0764993\ttotal: 165ms\tremaining: 620ms\n",
      "210:\tlearn: 40.7895715\ttotal: 165ms\tremaining: 619ms\n",
      "211:\tlearn: 40.4428042\ttotal: 166ms\tremaining: 618ms\n",
      "212:\tlearn: 39.9370849\ttotal: 167ms\tremaining: 616ms\n",
      "213:\tlearn: 39.4885257\ttotal: 168ms\tremaining: 616ms\n",
      "214:\tlearn: 39.1268375\ttotal: 168ms\tremaining: 615ms\n",
      "215:\tlearn: 38.9591271\ttotal: 169ms\tremaining: 614ms\n",
      "216:\tlearn: 38.8008893\ttotal: 170ms\tremaining: 612ms\n",
      "217:\tlearn: 38.4956003\ttotal: 170ms\tremaining: 612ms\n",
      "218:\tlearn: 38.3528545\ttotal: 171ms\tremaining: 611ms\n",
      "219:\tlearn: 38.1794276\ttotal: 172ms\tremaining: 610ms\n",
      "220:\tlearn: 38.1135196\ttotal: 173ms\tremaining: 609ms\n",
      "221:\tlearn: 37.9126665\ttotal: 174ms\tremaining: 608ms\n",
      "222:\tlearn: 37.5375523\ttotal: 174ms\tremaining: 607ms\n",
      "223:\tlearn: 37.3774479\ttotal: 175ms\tremaining: 606ms\n",
      "224:\tlearn: 36.8965396\ttotal: 176ms\tremaining: 605ms\n",
      "225:\tlearn: 36.4012999\ttotal: 176ms\tremaining: 604ms\n",
      "226:\tlearn: 35.9300616\ttotal: 177ms\tremaining: 603ms\n",
      "227:\tlearn: 35.6148029\ttotal: 178ms\tremaining: 602ms\n",
      "228:\tlearn: 35.2741594\ttotal: 179ms\tremaining: 601ms\n",
      "229:\tlearn: 35.0196015\ttotal: 179ms\tremaining: 600ms\n",
      "230:\tlearn: 34.5877862\ttotal: 180ms\tremaining: 599ms\n",
      "231:\tlearn: 34.4128370\ttotal: 181ms\tremaining: 598ms\n",
      "232:\tlearn: 34.2685016\ttotal: 181ms\tremaining: 597ms\n",
      "233:\tlearn: 34.2021290\ttotal: 182ms\tremaining: 596ms\n",
      "234:\tlearn: 34.1117548\ttotal: 183ms\tremaining: 595ms\n",
      "235:\tlearn: 33.7038307\ttotal: 184ms\tremaining: 594ms\n",
      "236:\tlearn: 33.6591145\ttotal: 185ms\tremaining: 594ms\n",
      "237:\tlearn: 33.6134076\ttotal: 186ms\tremaining: 594ms\n",
      "238:\tlearn: 33.3091022\ttotal: 186ms\tremaining: 594ms\n",
      "239:\tlearn: 33.2050988\ttotal: 187ms\tremaining: 593ms\n",
      "240:\tlearn: 32.7984087\ttotal: 188ms\tremaining: 592ms\n",
      "241:\tlearn: 32.4886567\ttotal: 189ms\tremaining: 591ms\n",
      "242:\tlearn: 32.3354906\ttotal: 189ms\tremaining: 590ms\n",
      "243:\tlearn: 32.1610609\ttotal: 190ms\tremaining: 589ms\n",
      "244:\tlearn: 31.9242693\ttotal: 191ms\tremaining: 588ms\n",
      "245:\tlearn: 31.4693550\ttotal: 192ms\tremaining: 587ms\n",
      "246:\tlearn: 31.1071532\ttotal: 192ms\tremaining: 586ms\n",
      "247:\tlearn: 30.7311162\ttotal: 193ms\tremaining: 586ms\n",
      "248:\tlearn: 30.4892550\ttotal: 194ms\tremaining: 584ms\n",
      "249:\tlearn: 30.3680212\ttotal: 195ms\tremaining: 584ms\n",
      "250:\tlearn: 30.1346007\ttotal: 195ms\tremaining: 583ms\n",
      "251:\tlearn: 29.8046285\ttotal: 196ms\tremaining: 582ms\n",
      "252:\tlearn: 29.6637514\ttotal: 197ms\tremaining: 581ms\n",
      "253:\tlearn: 29.5176095\ttotal: 198ms\tremaining: 580ms\n",
      "254:\tlearn: 29.3723319\ttotal: 198ms\tremaining: 580ms\n",
      "255:\tlearn: 29.1301438\ttotal: 199ms\tremaining: 579ms\n",
      "256:\tlearn: 29.1025017\ttotal: 200ms\tremaining: 579ms\n",
      "257:\tlearn: 28.8276340\ttotal: 201ms\tremaining: 578ms\n",
      "258:\tlearn: 28.6313979\ttotal: 202ms\tremaining: 578ms\n",
      "259:\tlearn: 28.3904787\ttotal: 203ms\tremaining: 578ms\n",
      "260:\tlearn: 27.9496011\ttotal: 204ms\tremaining: 578ms\n",
      "261:\tlearn: 27.6744647\ttotal: 205ms\tremaining: 578ms\n",
      "262:\tlearn: 27.5631687\ttotal: 206ms\tremaining: 577ms\n",
      "263:\tlearn: 27.2940171\ttotal: 207ms\tremaining: 577ms\n",
      "264:\tlearn: 27.0524989\ttotal: 208ms\tremaining: 576ms\n",
      "265:\tlearn: 26.9019408\ttotal: 208ms\tremaining: 575ms\n",
      "266:\tlearn: 26.7539234\ttotal: 209ms\tremaining: 574ms\n",
      "267:\tlearn: 26.5906135\ttotal: 210ms\tremaining: 573ms\n",
      "268:\tlearn: 26.3413069\ttotal: 211ms\tremaining: 573ms\n",
      "269:\tlearn: 26.2300985\ttotal: 211ms\tremaining: 572ms\n",
      "270:\tlearn: 25.7633750\ttotal: 212ms\tremaining: 571ms\n",
      "271:\tlearn: 25.5999298\ttotal: 213ms\tremaining: 571ms\n",
      "272:\tlearn: 25.4034221\ttotal: 214ms\tremaining: 570ms\n",
      "273:\tlearn: 25.3449361\ttotal: 215ms\tremaining: 570ms\n",
      "274:\tlearn: 25.1308675\ttotal: 216ms\tremaining: 570ms\n",
      "275:\tlearn: 24.8170605\ttotal: 217ms\tremaining: 570ms\n",
      "276:\tlearn: 24.5265387\ttotal: 219ms\tremaining: 571ms\n",
      "277:\tlearn: 24.3891773\ttotal: 220ms\tremaining: 570ms\n",
      "278:\tlearn: 24.1691955\ttotal: 220ms\tremaining: 570ms\n",
      "279:\tlearn: 23.9780841\ttotal: 221ms\tremaining: 569ms\n",
      "280:\tlearn: 23.7459991\ttotal: 222ms\tremaining: 568ms\n",
      "281:\tlearn: 23.5762098\ttotal: 223ms\tremaining: 567ms\n",
      "282:\tlearn: 23.4130148\ttotal: 224ms\tremaining: 566ms\n",
      "283:\tlearn: 23.1365659\ttotal: 224ms\tremaining: 566ms\n",
      "284:\tlearn: 22.9605139\ttotal: 225ms\tremaining: 565ms\n",
      "285:\tlearn: 22.8198952\ttotal: 226ms\tremaining: 564ms\n",
      "286:\tlearn: 22.7220776\ttotal: 227ms\tremaining: 563ms\n",
      "287:\tlearn: 22.6349162\ttotal: 228ms\tremaining: 563ms\n",
      "288:\tlearn: 22.5037731\ttotal: 228ms\tremaining: 562ms\n",
      "289:\tlearn: 22.4280658\ttotal: 229ms\tremaining: 561ms\n",
      "290:\tlearn: 22.4111078\ttotal: 230ms\tremaining: 560ms\n",
      "291:\tlearn: 22.2582825\ttotal: 231ms\tremaining: 559ms\n",
      "292:\tlearn: 22.0361847\ttotal: 232ms\tremaining: 559ms\n",
      "293:\tlearn: 21.9197616\ttotal: 232ms\tremaining: 558ms\n",
      "294:\tlearn: 21.8934931\ttotal: 233ms\tremaining: 557ms\n",
      "295:\tlearn: 21.8385467\ttotal: 234ms\tremaining: 556ms\n",
      "296:\tlearn: 21.6056469\ttotal: 235ms\tremaining: 555ms\n",
      "297:\tlearn: 21.3638471\ttotal: 235ms\tremaining: 554ms\n",
      "298:\tlearn: 21.2403020\ttotal: 236ms\tremaining: 554ms\n",
      "299:\tlearn: 20.9940588\ttotal: 237ms\tremaining: 553ms\n",
      "300:\tlearn: 20.8606002\ttotal: 238ms\tremaining: 552ms\n",
      "301:\tlearn: 20.7521062\ttotal: 238ms\tremaining: 551ms\n",
      "302:\tlearn: 20.4914061\ttotal: 239ms\tremaining: 550ms\n",
      "303:\tlearn: 20.4390781\ttotal: 240ms\tremaining: 549ms\n",
      "304:\tlearn: 20.4261039\ttotal: 240ms\tremaining: 548ms\n",
      "305:\tlearn: 20.3429361\ttotal: 241ms\tremaining: 547ms\n",
      "306:\tlearn: 20.3186699\ttotal: 242ms\tremaining: 546ms\n",
      "307:\tlearn: 20.2200547\ttotal: 243ms\tremaining: 545ms\n",
      "308:\tlearn: 20.0363798\ttotal: 244ms\tremaining: 545ms\n",
      "309:\tlearn: 19.9375964\ttotal: 244ms\tremaining: 544ms\n",
      "310:\tlearn: 19.8562475\ttotal: 245ms\tremaining: 543ms\n",
      "311:\tlearn: 19.7207383\ttotal: 246ms\tremaining: 542ms\n",
      "312:\tlearn: 19.5840205\ttotal: 247ms\tremaining: 541ms\n",
      "313:\tlearn: 19.4498604\ttotal: 247ms\tremaining: 540ms\n",
      "314:\tlearn: 19.3106313\ttotal: 248ms\tremaining: 539ms\n",
      "315:\tlearn: 19.1555646\ttotal: 249ms\tremaining: 539ms\n",
      "316:\tlearn: 19.1426558\ttotal: 250ms\tremaining: 538ms\n",
      "317:\tlearn: 19.0179770\ttotal: 250ms\tremaining: 537ms\n",
      "318:\tlearn: 18.9331646\ttotal: 251ms\tremaining: 536ms\n",
      "319:\tlearn: 18.7759664\ttotal: 252ms\tremaining: 535ms\n",
      "320:\tlearn: 18.7302473\ttotal: 253ms\tremaining: 534ms\n",
      "321:\tlearn: 18.6822773\ttotal: 253ms\tremaining: 533ms\n",
      "322:\tlearn: 18.6212081\ttotal: 254ms\tremaining: 532ms\n",
      "323:\tlearn: 18.3825932\ttotal: 255ms\tremaining: 531ms\n",
      "324:\tlearn: 18.0840511\ttotal: 255ms\tremaining: 531ms\n",
      "325:\tlearn: 17.9626242\ttotal: 256ms\tremaining: 530ms\n",
      "326:\tlearn: 17.8194649\ttotal: 257ms\tremaining: 529ms\n",
      "327:\tlearn: 17.6897852\ttotal: 258ms\tremaining: 528ms\n",
      "328:\tlearn: 17.6729587\ttotal: 259ms\tremaining: 528ms\n",
      "329:\tlearn: 17.5730192\ttotal: 260ms\tremaining: 527ms\n",
      "330:\tlearn: 17.3061709\ttotal: 261ms\tremaining: 527ms\n",
      "331:\tlearn: 17.2732138\ttotal: 261ms\tremaining: 526ms\n",
      "332:\tlearn: 17.1284244\ttotal: 262ms\tremaining: 526ms\n",
      "333:\tlearn: 17.0578788\ttotal: 263ms\tremaining: 525ms\n",
      "334:\tlearn: 16.9109643\ttotal: 264ms\tremaining: 524ms\n",
      "335:\tlearn: 16.6595095\ttotal: 265ms\tremaining: 523ms\n",
      "336:\tlearn: 16.5240861\ttotal: 266ms\tremaining: 522ms\n",
      "337:\tlearn: 16.3631551\ttotal: 266ms\tremaining: 522ms\n",
      "338:\tlearn: 16.2364521\ttotal: 267ms\tremaining: 521ms\n",
      "339:\tlearn: 16.1259236\ttotal: 268ms\tremaining: 520ms\n",
      "340:\tlearn: 16.1070160\ttotal: 269ms\tremaining: 519ms\n",
      "341:\tlearn: 15.9446333\ttotal: 269ms\tremaining: 518ms\n",
      "342:\tlearn: 15.8404109\ttotal: 270ms\tremaining: 517ms\n",
      "343:\tlearn: 15.7616719\ttotal: 271ms\tremaining: 517ms\n",
      "344:\tlearn: 15.7046860\ttotal: 272ms\tremaining: 516ms\n",
      "345:\tlearn: 15.5565531\ttotal: 273ms\tremaining: 515ms\n",
      "346:\tlearn: 15.4739767\ttotal: 273ms\tremaining: 514ms\n",
      "347:\tlearn: 15.4214691\ttotal: 274ms\tremaining: 514ms\n",
      "348:\tlearn: 15.3830392\ttotal: 275ms\tremaining: 513ms\n",
      "349:\tlearn: 15.2925503\ttotal: 276ms\tremaining: 512ms\n",
      "350:\tlearn: 15.2685305\ttotal: 276ms\tremaining: 511ms\n",
      "351:\tlearn: 15.0959980\ttotal: 277ms\tremaining: 510ms\n",
      "352:\tlearn: 15.0185539\ttotal: 278ms\tremaining: 509ms\n",
      "353:\tlearn: 14.9344909\ttotal: 279ms\tremaining: 509ms\n",
      "354:\tlearn: 14.8185511\ttotal: 279ms\tremaining: 508ms\n",
      "355:\tlearn: 14.7621205\ttotal: 280ms\tremaining: 507ms\n",
      "356:\tlearn: 14.6824384\ttotal: 281ms\tremaining: 506ms\n",
      "357:\tlearn: 14.5918871\ttotal: 282ms\tremaining: 505ms\n",
      "358:\tlearn: 14.4898356\ttotal: 282ms\tremaining: 504ms\n",
      "359:\tlearn: 14.4773981\ttotal: 283ms\tremaining: 504ms\n",
      "360:\tlearn: 14.3256006\ttotal: 284ms\tremaining: 503ms\n",
      "361:\tlearn: 14.1704867\ttotal: 285ms\tremaining: 502ms\n",
      "362:\tlearn: 14.0453382\ttotal: 286ms\tremaining: 501ms\n",
      "363:\tlearn: 13.9488312\ttotal: 286ms\tremaining: 500ms\n",
      "364:\tlearn: 13.8932251\ttotal: 287ms\tremaining: 500ms\n",
      "365:\tlearn: 13.7368549\ttotal: 288ms\tremaining: 499ms\n",
      "366:\tlearn: 13.6533268\ttotal: 289ms\tremaining: 498ms\n",
      "367:\tlearn: 13.5191569\ttotal: 290ms\tremaining: 498ms\n",
      "368:\tlearn: 13.4712080\ttotal: 291ms\tremaining: 497ms\n",
      "369:\tlearn: 13.3454926\ttotal: 292ms\tremaining: 497ms\n",
      "370:\tlearn: 13.2804919\ttotal: 293ms\tremaining: 496ms\n",
      "371:\tlearn: 13.2609934\ttotal: 294ms\tremaining: 496ms\n",
      "372:\tlearn: 13.1804458\ttotal: 294ms\tremaining: 495ms\n",
      "373:\tlearn: 13.0381162\ttotal: 295ms\tremaining: 495ms\n",
      "374:\tlearn: 13.0250736\ttotal: 296ms\tremaining: 494ms\n",
      "375:\tlearn: 13.0006609\ttotal: 297ms\tremaining: 494ms\n",
      "376:\tlearn: 12.8507663\ttotal: 298ms\tremaining: 493ms\n",
      "377:\tlearn: 12.6986039\ttotal: 299ms\tremaining: 492ms\n",
      "378:\tlearn: 12.5574544\ttotal: 300ms\tremaining: 492ms\n",
      "379:\tlearn: 12.4864386\ttotal: 302ms\tremaining: 492ms\n",
      "380:\tlearn: 12.3739036\ttotal: 303ms\tremaining: 492ms\n",
      "381:\tlearn: 12.3110117\ttotal: 303ms\tremaining: 491ms\n",
      "382:\tlearn: 12.2077088\ttotal: 304ms\tremaining: 490ms\n",
      "383:\tlearn: 12.1065885\ttotal: 305ms\tremaining: 489ms\n",
      "384:\tlearn: 12.0323948\ttotal: 306ms\tremaining: 489ms\n",
      "385:\tlearn: 12.0014896\ttotal: 307ms\tremaining: 488ms\n",
      "386:\tlearn: 11.8568080\ttotal: 308ms\tremaining: 487ms\n",
      "387:\tlearn: 11.7867144\ttotal: 308ms\tremaining: 486ms\n",
      "388:\tlearn: 11.7500836\ttotal: 309ms\tremaining: 486ms\n",
      "389:\tlearn: 11.7348877\ttotal: 310ms\tremaining: 485ms\n",
      "390:\tlearn: 11.7286653\ttotal: 311ms\tremaining: 484ms\n",
      "391:\tlearn: 11.6241305\ttotal: 312ms\tremaining: 484ms\n",
      "392:\tlearn: 11.5960420\ttotal: 313ms\tremaining: 483ms\n",
      "393:\tlearn: 11.5729987\ttotal: 314ms\tremaining: 482ms\n",
      "394:\tlearn: 11.5635235\ttotal: 314ms\tremaining: 482ms\n",
      "395:\tlearn: 11.4873129\ttotal: 315ms\tremaining: 481ms\n",
      "396:\tlearn: 11.3564378\ttotal: 316ms\tremaining: 480ms\n",
      "397:\tlearn: 11.2078876\ttotal: 317ms\tremaining: 479ms\n",
      "398:\tlearn: 11.1598904\ttotal: 319ms\tremaining: 480ms\n",
      "399:\tlearn: 11.0885074\ttotal: 321ms\tremaining: 481ms\n",
      "400:\tlearn: 11.0278575\ttotal: 323ms\tremaining: 482ms\n",
      "401:\tlearn: 10.9865756\ttotal: 325ms\tremaining: 483ms\n",
      "402:\tlearn: 10.8794931\ttotal: 327ms\tremaining: 484ms\n",
      "403:\tlearn: 10.8382558\ttotal: 328ms\tremaining: 484ms\n",
      "404:\tlearn: 10.7596014\ttotal: 329ms\tremaining: 483ms\n",
      "405:\tlearn: 10.7064165\ttotal: 331ms\tremaining: 484ms\n",
      "406:\tlearn: 10.6372130\ttotal: 332ms\tremaining: 483ms\n",
      "407:\tlearn: 10.5505037\ttotal: 333ms\tremaining: 484ms\n",
      "408:\tlearn: 10.4676489\ttotal: 335ms\tremaining: 484ms\n",
      "409:\tlearn: 10.3632792\ttotal: 337ms\tremaining: 484ms\n",
      "410:\tlearn: 10.3399756\ttotal: 338ms\tremaining: 484ms\n",
      "411:\tlearn: 10.2905778\ttotal: 339ms\tremaining: 484ms\n",
      "412:\tlearn: 10.2175164\ttotal: 341ms\tremaining: 484ms\n",
      "413:\tlearn: 10.1482923\ttotal: 342ms\tremaining: 484ms\n",
      "414:\tlearn: 10.0590953\ttotal: 343ms\tremaining: 483ms\n",
      "415:\tlearn: 9.9982795\ttotal: 344ms\tremaining: 483ms\n",
      "416:\tlearn: 9.9099074\ttotal: 346ms\tremaining: 483ms\n",
      "417:\tlearn: 9.8641812\ttotal: 347ms\tremaining: 483ms\n",
      "418:\tlearn: 9.8207799\ttotal: 348ms\tremaining: 483ms\n",
      "419:\tlearn: 9.7000976\ttotal: 349ms\tremaining: 482ms\n",
      "420:\tlearn: 9.6211675\ttotal: 350ms\tremaining: 482ms\n",
      "421:\tlearn: 9.5821946\ttotal: 351ms\tremaining: 481ms\n",
      "422:\tlearn: 9.5314530\ttotal: 352ms\tremaining: 480ms\n",
      "423:\tlearn: 9.5231706\ttotal: 353ms\tremaining: 480ms\n",
      "424:\tlearn: 9.4897613\ttotal: 354ms\tremaining: 479ms\n",
      "425:\tlearn: 9.4178254\ttotal: 355ms\tremaining: 478ms\n",
      "426:\tlearn: 9.3468512\ttotal: 357ms\tremaining: 478ms\n",
      "427:\tlearn: 9.2916542\ttotal: 358ms\tremaining: 478ms\n",
      "428:\tlearn: 9.2671046\ttotal: 359ms\tremaining: 478ms\n",
      "429:\tlearn: 9.1507425\ttotal: 360ms\tremaining: 478ms\n",
      "430:\tlearn: 9.0905964\ttotal: 362ms\tremaining: 477ms\n",
      "431:\tlearn: 9.0599172\ttotal: 363ms\tremaining: 477ms\n",
      "432:\tlearn: 8.9911670\ttotal: 364ms\tremaining: 476ms\n",
      "433:\tlearn: 8.9769178\ttotal: 365ms\tremaining: 476ms\n",
      "434:\tlearn: 8.9011639\ttotal: 366ms\tremaining: 475ms\n",
      "435:\tlearn: 8.8578447\ttotal: 367ms\tremaining: 474ms\n",
      "436:\tlearn: 8.7766216\ttotal: 368ms\tremaining: 474ms\n",
      "437:\tlearn: 8.7600187\ttotal: 369ms\tremaining: 474ms\n",
      "438:\tlearn: 8.7039464\ttotal: 370ms\tremaining: 473ms\n",
      "439:\tlearn: 8.6701908\ttotal: 371ms\tremaining: 472ms\n",
      "440:\tlearn: 8.6561906\ttotal: 372ms\tremaining: 472ms\n",
      "441:\tlearn: 8.6030579\ttotal: 373ms\tremaining: 471ms\n",
      "442:\tlearn: 8.5192884\ttotal: 375ms\tremaining: 471ms\n",
      "443:\tlearn: 8.4605490\ttotal: 375ms\tremaining: 470ms\n",
      "444:\tlearn: 8.3846572\ttotal: 376ms\tremaining: 469ms\n",
      "445:\tlearn: 8.3429264\ttotal: 378ms\tremaining: 469ms\n",
      "446:\tlearn: 8.3068488\ttotal: 379ms\tremaining: 468ms\n",
      "447:\tlearn: 8.2662142\ttotal: 380ms\tremaining: 468ms\n",
      "448:\tlearn: 8.1806196\ttotal: 381ms\tremaining: 467ms\n",
      "449:\tlearn: 8.1475696\ttotal: 382ms\tremaining: 467ms\n",
      "450:\tlearn: 8.1145904\ttotal: 383ms\tremaining: 466ms\n",
      "451:\tlearn: 8.0740309\ttotal: 384ms\tremaining: 465ms\n",
      "452:\tlearn: 8.0095799\ttotal: 385ms\tremaining: 465ms\n",
      "453:\tlearn: 7.9857193\ttotal: 386ms\tremaining: 464ms\n",
      "454:\tlearn: 7.9300069\ttotal: 387ms\tremaining: 464ms\n",
      "455:\tlearn: 7.9088282\ttotal: 388ms\tremaining: 463ms\n",
      "456:\tlearn: 7.8726359\ttotal: 389ms\tremaining: 462ms\n",
      "457:\tlearn: 7.8453260\ttotal: 390ms\tremaining: 461ms\n",
      "458:\tlearn: 7.8015145\ttotal: 391ms\tremaining: 461ms\n",
      "459:\tlearn: 7.7552434\ttotal: 392ms\tremaining: 460ms\n",
      "460:\tlearn: 7.7033074\ttotal: 393ms\tremaining: 459ms\n",
      "461:\tlearn: 7.6732816\ttotal: 394ms\tremaining: 459ms\n",
      "462:\tlearn: 7.6387343\ttotal: 395ms\tremaining: 458ms\n",
      "463:\tlearn: 7.5939225\ttotal: 396ms\tremaining: 458ms\n",
      "464:\tlearn: 7.5495985\ttotal: 397ms\tremaining: 457ms\n",
      "465:\tlearn: 7.5164784\ttotal: 398ms\tremaining: 456ms\n",
      "466:\tlearn: 7.4692120\ttotal: 399ms\tremaining: 456ms\n",
      "467:\tlearn: 7.4602739\ttotal: 400ms\tremaining: 455ms\n",
      "468:\tlearn: 7.4245927\ttotal: 401ms\tremaining: 454ms\n",
      "469:\tlearn: 7.3402299\ttotal: 402ms\tremaining: 454ms\n",
      "470:\tlearn: 7.2998185\ttotal: 404ms\tremaining: 454ms\n",
      "471:\tlearn: 7.2014577\ttotal: 405ms\tremaining: 453ms\n",
      "472:\tlearn: 7.1904207\ttotal: 406ms\tremaining: 453ms\n",
      "473:\tlearn: 7.1527862\ttotal: 407ms\tremaining: 452ms\n",
      "474:\tlearn: 7.0771473\ttotal: 409ms\tremaining: 452ms\n",
      "475:\tlearn: 7.0539525\ttotal: 410ms\tremaining: 452ms\n",
      "476:\tlearn: 6.9846025\ttotal: 411ms\tremaining: 451ms\n",
      "477:\tlearn: 6.9534313\ttotal: 412ms\tremaining: 450ms\n",
      "478:\tlearn: 6.8975880\ttotal: 413ms\tremaining: 450ms\n",
      "479:\tlearn: 6.8254191\ttotal: 414ms\tremaining: 449ms\n",
      "480:\tlearn: 6.8112478\ttotal: 415ms\tremaining: 448ms\n",
      "481:\tlearn: 6.7648902\ttotal: 416ms\tremaining: 447ms\n",
      "482:\tlearn: 6.6860735\ttotal: 417ms\tremaining: 446ms\n",
      "483:\tlearn: 6.6633461\ttotal: 418ms\tremaining: 445ms\n",
      "484:\tlearn: 6.6475279\ttotal: 419ms\tremaining: 444ms\n",
      "485:\tlearn: 6.5921608\ttotal: 420ms\tremaining: 444ms\n",
      "486:\tlearn: 6.5602794\ttotal: 421ms\tremaining: 443ms\n",
      "487:\tlearn: 6.5499659\ttotal: 421ms\tremaining: 442ms\n",
      "488:\tlearn: 6.4940006\ttotal: 422ms\tremaining: 441ms\n",
      "489:\tlearn: 6.4247752\ttotal: 423ms\tremaining: 440ms\n",
      "490:\tlearn: 6.3877601\ttotal: 424ms\tremaining: 440ms\n",
      "491:\tlearn: 6.3314191\ttotal: 425ms\tremaining: 439ms\n",
      "492:\tlearn: 6.2812751\ttotal: 426ms\tremaining: 438ms\n",
      "493:\tlearn: 6.2685065\ttotal: 426ms\tremaining: 437ms\n",
      "494:\tlearn: 6.2241138\ttotal: 427ms\tremaining: 436ms\n",
      "495:\tlearn: 6.1695214\ttotal: 428ms\tremaining: 435ms\n",
      "496:\tlearn: 6.1421906\ttotal: 429ms\tremaining: 434ms\n",
      "497:\tlearn: 6.1331850\ttotal: 430ms\tremaining: 433ms\n",
      "498:\tlearn: 6.1166327\ttotal: 430ms\tremaining: 432ms\n",
      "499:\tlearn: 6.0829602\ttotal: 431ms\tremaining: 431ms\n",
      "500:\tlearn: 6.0650422\ttotal: 432ms\tremaining: 430ms\n",
      "501:\tlearn: 6.0436563\ttotal: 433ms\tremaining: 429ms\n",
      "502:\tlearn: 5.9902804\ttotal: 434ms\tremaining: 428ms\n",
      "503:\tlearn: 5.9121675\ttotal: 434ms\tremaining: 427ms\n",
      "504:\tlearn: 5.9091850\ttotal: 435ms\tremaining: 426ms\n",
      "505:\tlearn: 5.8967995\ttotal: 436ms\tremaining: 425ms\n",
      "506:\tlearn: 5.8430221\ttotal: 436ms\tremaining: 424ms\n",
      "507:\tlearn: 5.8135495\ttotal: 437ms\tremaining: 423ms\n",
      "508:\tlearn: 5.7890913\ttotal: 438ms\tremaining: 423ms\n",
      "509:\tlearn: 5.7577091\ttotal: 439ms\tremaining: 422ms\n",
      "510:\tlearn: 5.7523488\ttotal: 440ms\tremaining: 421ms\n",
      "511:\tlearn: 5.6546493\ttotal: 440ms\tremaining: 420ms\n",
      "512:\tlearn: 5.6194513\ttotal: 441ms\tremaining: 419ms\n",
      "513:\tlearn: 5.5672252\ttotal: 442ms\tremaining: 418ms\n",
      "514:\tlearn: 5.5539421\ttotal: 443ms\tremaining: 417ms\n",
      "515:\tlearn: 5.5185620\ttotal: 443ms\tremaining: 416ms\n",
      "516:\tlearn: 5.4789463\ttotal: 444ms\tremaining: 415ms\n",
      "517:\tlearn: 5.4236755\ttotal: 445ms\tremaining: 414ms\n",
      "518:\tlearn: 5.3864207\ttotal: 446ms\tremaining: 413ms\n",
      "519:\tlearn: 5.3533466\ttotal: 447ms\tremaining: 412ms\n",
      "520:\tlearn: 5.3369921\ttotal: 448ms\tremaining: 411ms\n",
      "521:\tlearn: 5.2560437\ttotal: 448ms\tremaining: 411ms\n",
      "522:\tlearn: 5.2017840\ttotal: 449ms\tremaining: 410ms\n",
      "523:\tlearn: 5.1755812\ttotal: 450ms\tremaining: 409ms\n",
      "524:\tlearn: 5.1385832\ttotal: 451ms\tremaining: 408ms\n",
      "525:\tlearn: 5.1335579\ttotal: 451ms\tremaining: 407ms\n",
      "526:\tlearn: 5.0585358\ttotal: 452ms\tremaining: 406ms\n",
      "527:\tlearn: 5.0021152\ttotal: 453ms\tremaining: 405ms\n",
      "528:\tlearn: 4.9822398\ttotal: 454ms\tremaining: 404ms\n",
      "529:\tlearn: 4.9752376\ttotal: 455ms\tremaining: 403ms\n",
      "530:\tlearn: 4.9479232\ttotal: 455ms\tremaining: 402ms\n",
      "531:\tlearn: 4.9271142\ttotal: 456ms\tremaining: 401ms\n",
      "532:\tlearn: 4.9023595\ttotal: 457ms\tremaining: 401ms\n",
      "533:\tlearn: 4.8555527\ttotal: 458ms\tremaining: 400ms\n",
      "534:\tlearn: 4.8367794\ttotal: 459ms\tremaining: 399ms\n",
      "535:\tlearn: 4.7952444\ttotal: 459ms\tremaining: 398ms\n",
      "536:\tlearn: 4.7409194\ttotal: 460ms\tremaining: 397ms\n",
      "537:\tlearn: 4.6929973\ttotal: 461ms\tremaining: 396ms\n",
      "538:\tlearn: 4.6579685\ttotal: 462ms\tremaining: 395ms\n",
      "539:\tlearn: 4.6195745\ttotal: 463ms\tremaining: 394ms\n",
      "540:\tlearn: 4.5964136\ttotal: 464ms\tremaining: 393ms\n",
      "541:\tlearn: 4.5836819\ttotal: 465ms\tremaining: 393ms\n",
      "542:\tlearn: 4.5766395\ttotal: 465ms\tremaining: 392ms\n",
      "543:\tlearn: 4.5639948\ttotal: 466ms\tremaining: 391ms\n",
      "544:\tlearn: 4.5321336\ttotal: 467ms\tremaining: 390ms\n",
      "545:\tlearn: 4.5257262\ttotal: 468ms\tremaining: 389ms\n",
      "546:\tlearn: 4.5121200\ttotal: 469ms\tremaining: 388ms\n",
      "547:\tlearn: 4.5000971\ttotal: 470ms\tremaining: 388ms\n",
      "548:\tlearn: 4.4699564\ttotal: 471ms\tremaining: 387ms\n",
      "549:\tlearn: 4.4223918\ttotal: 472ms\tremaining: 386ms\n",
      "550:\tlearn: 4.3900850\ttotal: 473ms\tremaining: 385ms\n",
      "551:\tlearn: 4.3865832\ttotal: 473ms\tremaining: 384ms\n",
      "552:\tlearn: 4.3555236\ttotal: 474ms\tremaining: 383ms\n",
      "553:\tlearn: 4.3326942\ttotal: 475ms\tremaining: 382ms\n",
      "554:\tlearn: 4.3083453\ttotal: 476ms\tremaining: 381ms\n",
      "555:\tlearn: 4.2783012\ttotal: 476ms\tremaining: 380ms\n",
      "556:\tlearn: 4.2386680\ttotal: 477ms\tremaining: 379ms\n",
      "557:\tlearn: 4.1982182\ttotal: 478ms\tremaining: 379ms\n",
      "558:\tlearn: 4.1818634\ttotal: 479ms\tremaining: 378ms\n",
      "559:\tlearn: 4.1603123\ttotal: 480ms\tremaining: 377ms\n",
      "560:\tlearn: 4.1162392\ttotal: 480ms\tremaining: 376ms\n",
      "561:\tlearn: 4.0942539\ttotal: 481ms\tremaining: 375ms\n",
      "562:\tlearn: 4.0833944\ttotal: 482ms\tremaining: 374ms\n",
      "563:\tlearn: 4.0651220\ttotal: 483ms\tremaining: 373ms\n",
      "564:\tlearn: 4.0359525\ttotal: 483ms\tremaining: 372ms\n",
      "565:\tlearn: 4.0331482\ttotal: 484ms\tremaining: 371ms\n",
      "566:\tlearn: 4.0110785\ttotal: 485ms\tremaining: 370ms\n",
      "567:\tlearn: 3.9846807\ttotal: 486ms\tremaining: 369ms\n",
      "568:\tlearn: 3.9611224\ttotal: 486ms\tremaining: 368ms\n",
      "569:\tlearn: 3.9238317\ttotal: 487ms\tremaining: 367ms\n",
      "570:\tlearn: 3.9105718\ttotal: 488ms\tremaining: 366ms\n",
      "571:\tlearn: 3.8725349\ttotal: 488ms\tremaining: 365ms\n",
      "572:\tlearn: 3.8589458\ttotal: 489ms\tremaining: 365ms\n",
      "573:\tlearn: 3.8201118\ttotal: 490ms\tremaining: 364ms\n",
      "574:\tlearn: 3.8100971\ttotal: 491ms\tremaining: 363ms\n",
      "575:\tlearn: 3.7824233\ttotal: 491ms\tremaining: 362ms\n",
      "576:\tlearn: 3.7652240\ttotal: 492ms\tremaining: 361ms\n",
      "577:\tlearn: 3.7320270\ttotal: 493ms\tremaining: 360ms\n",
      "578:\tlearn: 3.7227983\ttotal: 494ms\tremaining: 359ms\n",
      "579:\tlearn: 3.7007934\ttotal: 494ms\tremaining: 358ms\n",
      "580:\tlearn: 3.6703626\ttotal: 495ms\tremaining: 357ms\n",
      "581:\tlearn: 3.6587500\ttotal: 496ms\tremaining: 356ms\n",
      "582:\tlearn: 3.6435213\ttotal: 496ms\tremaining: 355ms\n",
      "583:\tlearn: 3.6165255\ttotal: 497ms\tremaining: 354ms\n",
      "584:\tlearn: 3.5921438\ttotal: 498ms\tremaining: 353ms\n",
      "585:\tlearn: 3.5823094\ttotal: 499ms\tremaining: 352ms\n",
      "586:\tlearn: 3.5707107\ttotal: 499ms\tremaining: 351ms\n",
      "587:\tlearn: 3.5585582\ttotal: 500ms\tremaining: 350ms\n",
      "588:\tlearn: 3.5083056\ttotal: 501ms\tremaining: 349ms\n",
      "589:\tlearn: 3.4896083\ttotal: 501ms\tremaining: 348ms\n",
      "590:\tlearn: 3.4745190\ttotal: 502ms\tremaining: 347ms\n",
      "591:\tlearn: 3.4627260\ttotal: 503ms\tremaining: 347ms\n",
      "592:\tlearn: 3.4385625\ttotal: 504ms\tremaining: 346ms\n",
      "593:\tlearn: 3.3997235\ttotal: 504ms\tremaining: 345ms\n",
      "594:\tlearn: 3.3764192\ttotal: 505ms\tremaining: 344ms\n",
      "595:\tlearn: 3.3590522\ttotal: 506ms\tremaining: 343ms\n",
      "596:\tlearn: 3.3474857\ttotal: 506ms\tremaining: 342ms\n",
      "597:\tlearn: 3.3123623\ttotal: 507ms\tremaining: 341ms\n",
      "598:\tlearn: 3.2999589\ttotal: 508ms\tremaining: 340ms\n",
      "599:\tlearn: 3.2767538\ttotal: 509ms\tremaining: 339ms\n",
      "600:\tlearn: 3.2530783\ttotal: 509ms\tremaining: 338ms\n",
      "601:\tlearn: 3.2269777\ttotal: 510ms\tremaining: 337ms\n",
      "602:\tlearn: 3.1938868\ttotal: 511ms\tremaining: 336ms\n",
      "603:\tlearn: 3.1728589\ttotal: 512ms\tremaining: 335ms\n",
      "604:\tlearn: 3.1549029\ttotal: 512ms\tremaining: 335ms\n",
      "605:\tlearn: 3.1478118\ttotal: 513ms\tremaining: 334ms\n",
      "606:\tlearn: 3.1145245\ttotal: 514ms\tremaining: 333ms\n",
      "607:\tlearn: 3.0718905\ttotal: 514ms\tremaining: 332ms\n",
      "608:\tlearn: 3.0352714\ttotal: 515ms\tremaining: 331ms\n",
      "609:\tlearn: 2.9984985\ttotal: 516ms\tremaining: 330ms\n",
      "610:\tlearn: 2.9594115\ttotal: 517ms\tremaining: 329ms\n",
      "611:\tlearn: 2.9438145\ttotal: 517ms\tremaining: 328ms\n",
      "612:\tlearn: 2.9265773\ttotal: 518ms\tremaining: 327ms\n",
      "613:\tlearn: 2.9036898\ttotal: 519ms\tremaining: 326ms\n",
      "614:\tlearn: 2.8790612\ttotal: 520ms\tremaining: 325ms\n",
      "615:\tlearn: 2.8654898\ttotal: 520ms\tremaining: 324ms\n",
      "616:\tlearn: 2.8462561\ttotal: 521ms\tremaining: 324ms\n",
      "617:\tlearn: 2.8254976\ttotal: 522ms\tremaining: 323ms\n",
      "618:\tlearn: 2.8190407\ttotal: 523ms\tremaining: 322ms\n",
      "619:\tlearn: 2.8129812\ttotal: 523ms\tremaining: 321ms\n",
      "620:\tlearn: 2.8097755\ttotal: 524ms\tremaining: 320ms\n",
      "621:\tlearn: 2.7960320\ttotal: 525ms\tremaining: 319ms\n",
      "622:\tlearn: 2.7878495\ttotal: 526ms\tremaining: 318ms\n",
      "623:\tlearn: 2.7602980\ttotal: 527ms\tremaining: 317ms\n",
      "624:\tlearn: 2.7341408\ttotal: 528ms\tremaining: 317ms\n",
      "625:\tlearn: 2.7302545\ttotal: 528ms\tremaining: 316ms\n",
      "626:\tlearn: 2.7120252\ttotal: 529ms\tremaining: 315ms\n",
      "627:\tlearn: 2.7075024\ttotal: 530ms\tremaining: 314ms\n",
      "628:\tlearn: 2.6970031\ttotal: 530ms\tremaining: 313ms\n",
      "629:\tlearn: 2.6928246\ttotal: 531ms\tremaining: 312ms\n",
      "630:\tlearn: 2.6709120\ttotal: 532ms\tremaining: 311ms\n",
      "631:\tlearn: 2.6656247\ttotal: 533ms\tremaining: 310ms\n",
      "632:\tlearn: 2.6452838\ttotal: 533ms\tremaining: 309ms\n",
      "633:\tlearn: 2.6271014\ttotal: 534ms\tremaining: 308ms\n",
      "634:\tlearn: 2.6089454\ttotal: 535ms\tremaining: 307ms\n",
      "635:\tlearn: 2.5996271\ttotal: 536ms\tremaining: 307ms\n",
      "636:\tlearn: 2.5923568\ttotal: 536ms\tremaining: 306ms\n",
      "637:\tlearn: 2.5837611\ttotal: 537ms\tremaining: 305ms\n",
      "638:\tlearn: 2.5726721\ttotal: 538ms\tremaining: 304ms\n",
      "639:\tlearn: 2.5577477\ttotal: 539ms\tremaining: 303ms\n",
      "640:\tlearn: 2.5500744\ttotal: 539ms\tremaining: 302ms\n",
      "641:\tlearn: 2.5274442\ttotal: 540ms\tremaining: 301ms\n",
      "642:\tlearn: 2.5157559\ttotal: 541ms\tremaining: 300ms\n",
      "643:\tlearn: 2.5053856\ttotal: 542ms\tremaining: 299ms\n",
      "644:\tlearn: 2.4841922\ttotal: 542ms\tremaining: 299ms\n",
      "645:\tlearn: 2.4674035\ttotal: 543ms\tremaining: 298ms\n",
      "646:\tlearn: 2.4484158\ttotal: 544ms\tremaining: 297ms\n",
      "647:\tlearn: 2.4263246\ttotal: 545ms\tremaining: 296ms\n",
      "648:\tlearn: 2.4052258\ttotal: 546ms\tremaining: 295ms\n",
      "649:\tlearn: 2.3816894\ttotal: 546ms\tremaining: 294ms\n",
      "650:\tlearn: 2.3659119\ttotal: 547ms\tremaining: 293ms\n",
      "651:\tlearn: 2.3576051\ttotal: 548ms\tremaining: 292ms\n",
      "652:\tlearn: 2.3288476\ttotal: 549ms\tremaining: 292ms\n",
      "653:\tlearn: 2.3109502\ttotal: 549ms\tremaining: 291ms\n",
      "654:\tlearn: 2.3021504\ttotal: 550ms\tremaining: 290ms\n",
      "655:\tlearn: 2.3009515\ttotal: 551ms\tremaining: 289ms\n",
      "656:\tlearn: 2.2893680\ttotal: 552ms\tremaining: 288ms\n",
      "657:\tlearn: 2.2852898\ttotal: 552ms\tremaining: 287ms\n",
      "658:\tlearn: 2.2647131\ttotal: 553ms\tremaining: 286ms\n",
      "659:\tlearn: 2.2437777\ttotal: 554ms\tremaining: 285ms\n",
      "660:\tlearn: 2.2228007\ttotal: 555ms\tremaining: 285ms\n",
      "661:\tlearn: 2.2030047\ttotal: 556ms\tremaining: 284ms\n",
      "662:\tlearn: 2.1823076\ttotal: 556ms\tremaining: 283ms\n",
      "663:\tlearn: 2.1607769\ttotal: 557ms\tremaining: 282ms\n",
      "664:\tlearn: 2.1491049\ttotal: 558ms\tremaining: 281ms\n",
      "665:\tlearn: 2.1403920\ttotal: 559ms\tremaining: 280ms\n",
      "666:\tlearn: 2.1255852\ttotal: 559ms\tremaining: 279ms\n",
      "667:\tlearn: 2.1087714\ttotal: 560ms\tremaining: 278ms\n",
      "668:\tlearn: 2.1033385\ttotal: 561ms\tremaining: 278ms\n",
      "669:\tlearn: 2.0923091\ttotal: 562ms\tremaining: 277ms\n",
      "670:\tlearn: 2.0834076\ttotal: 562ms\tremaining: 276ms\n",
      "671:\tlearn: 2.0735926\ttotal: 563ms\tremaining: 275ms\n",
      "672:\tlearn: 2.0603541\ttotal: 564ms\tremaining: 274ms\n",
      "673:\tlearn: 2.0576392\ttotal: 565ms\tremaining: 273ms\n",
      "674:\tlearn: 2.0455537\ttotal: 565ms\tremaining: 272ms\n",
      "675:\tlearn: 2.0282804\ttotal: 566ms\tremaining: 271ms\n",
      "676:\tlearn: 2.0217423\ttotal: 567ms\tremaining: 270ms\n",
      "677:\tlearn: 2.0119192\ttotal: 567ms\tremaining: 269ms\n",
      "678:\tlearn: 2.0001332\ttotal: 568ms\tremaining: 268ms\n",
      "679:\tlearn: 1.9979894\ttotal: 569ms\tremaining: 268ms\n",
      "680:\tlearn: 1.9907747\ttotal: 569ms\tremaining: 267ms\n",
      "681:\tlearn: 1.9736817\ttotal: 570ms\tremaining: 266ms\n",
      "682:\tlearn: 1.9600965\ttotal: 571ms\tremaining: 265ms\n",
      "683:\tlearn: 1.9539201\ttotal: 571ms\tremaining: 264ms\n",
      "684:\tlearn: 1.9449369\ttotal: 572ms\tremaining: 263ms\n",
      "685:\tlearn: 1.9419454\ttotal: 573ms\tremaining: 262ms\n",
      "686:\tlearn: 1.9326842\ttotal: 573ms\tremaining: 261ms\n",
      "687:\tlearn: 1.9288548\ttotal: 574ms\tremaining: 260ms\n",
      "688:\tlearn: 1.9236716\ttotal: 575ms\tremaining: 259ms\n",
      "689:\tlearn: 1.9228496\ttotal: 575ms\tremaining: 259ms\n",
      "690:\tlearn: 1.9176354\ttotal: 576ms\tremaining: 258ms\n",
      "691:\tlearn: 1.9147659\ttotal: 577ms\tremaining: 257ms\n",
      "692:\tlearn: 1.9079892\ttotal: 577ms\tremaining: 256ms\n",
      "693:\tlearn: 1.9048238\ttotal: 578ms\tremaining: 255ms\n",
      "694:\tlearn: 1.8959419\ttotal: 579ms\tremaining: 254ms\n",
      "695:\tlearn: 1.8711502\ttotal: 579ms\tremaining: 253ms\n",
      "696:\tlearn: 1.8583228\ttotal: 580ms\tremaining: 252ms\n",
      "697:\tlearn: 1.8482604\ttotal: 581ms\tremaining: 251ms\n",
      "698:\tlearn: 1.8456936\ttotal: 581ms\tremaining: 250ms\n",
      "699:\tlearn: 1.8273471\ttotal: 582ms\tremaining: 249ms\n",
      "700:\tlearn: 1.8067825\ttotal: 583ms\tremaining: 249ms\n",
      "701:\tlearn: 1.8022221\ttotal: 583ms\tremaining: 248ms\n",
      "702:\tlearn: 1.7912070\ttotal: 584ms\tremaining: 247ms\n",
      "703:\tlearn: 1.7755760\ttotal: 585ms\tremaining: 246ms\n",
      "704:\tlearn: 1.7712682\ttotal: 585ms\tremaining: 245ms\n",
      "705:\tlearn: 1.7648319\ttotal: 586ms\tremaining: 244ms\n",
      "706:\tlearn: 1.7532904\ttotal: 587ms\tremaining: 243ms\n",
      "707:\tlearn: 1.7463625\ttotal: 587ms\tremaining: 242ms\n",
      "708:\tlearn: 1.7418161\ttotal: 588ms\tremaining: 241ms\n",
      "709:\tlearn: 1.7272345\ttotal: 589ms\tremaining: 240ms\n",
      "710:\tlearn: 1.7217505\ttotal: 589ms\tremaining: 239ms\n",
      "711:\tlearn: 1.7151154\ttotal: 590ms\tremaining: 239ms\n",
      "712:\tlearn: 1.7092925\ttotal: 591ms\tremaining: 238ms\n",
      "713:\tlearn: 1.7025995\ttotal: 591ms\tremaining: 237ms\n",
      "714:\tlearn: 1.6807623\ttotal: 592ms\tremaining: 236ms\n",
      "715:\tlearn: 1.6674907\ttotal: 593ms\tremaining: 235ms\n",
      "716:\tlearn: 1.6544638\ttotal: 593ms\tremaining: 234ms\n",
      "717:\tlearn: 1.6411236\ttotal: 594ms\tremaining: 233ms\n",
      "718:\tlearn: 1.6290477\ttotal: 595ms\tremaining: 232ms\n",
      "719:\tlearn: 1.6222366\ttotal: 595ms\tremaining: 232ms\n",
      "720:\tlearn: 1.6142656\ttotal: 596ms\tremaining: 231ms\n",
      "721:\tlearn: 1.6004470\ttotal: 597ms\tremaining: 230ms\n",
      "722:\tlearn: 1.5932177\ttotal: 598ms\tremaining: 229ms\n",
      "723:\tlearn: 1.5743215\ttotal: 598ms\tremaining: 228ms\n",
      "724:\tlearn: 1.5629066\ttotal: 599ms\tremaining: 227ms\n",
      "725:\tlearn: 1.5505525\ttotal: 599ms\tremaining: 226ms\n",
      "726:\tlearn: 1.5302974\ttotal: 600ms\tremaining: 225ms\n",
      "727:\tlearn: 1.5260700\ttotal: 601ms\tremaining: 224ms\n",
      "728:\tlearn: 1.5188723\ttotal: 601ms\tremaining: 224ms\n",
      "729:\tlearn: 1.5085309\ttotal: 602ms\tremaining: 223ms\n",
      "730:\tlearn: 1.5038733\ttotal: 603ms\tremaining: 222ms\n",
      "731:\tlearn: 1.5008194\ttotal: 603ms\tremaining: 221ms\n",
      "732:\tlearn: 1.4908829\ttotal: 604ms\tremaining: 220ms\n",
      "733:\tlearn: 1.4782605\ttotal: 605ms\tremaining: 219ms\n",
      "734:\tlearn: 1.4639356\ttotal: 605ms\tremaining: 218ms\n",
      "735:\tlearn: 1.4471455\ttotal: 606ms\tremaining: 217ms\n",
      "736:\tlearn: 1.4454285\ttotal: 607ms\tremaining: 216ms\n",
      "737:\tlearn: 1.4416273\ttotal: 607ms\tremaining: 216ms\n",
      "738:\tlearn: 1.4302267\ttotal: 608ms\tremaining: 215ms\n",
      "739:\tlearn: 1.4219328\ttotal: 609ms\tremaining: 214ms\n",
      "740:\tlearn: 1.4105579\ttotal: 609ms\tremaining: 213ms\n",
      "741:\tlearn: 1.4075838\ttotal: 610ms\tremaining: 212ms\n",
      "742:\tlearn: 1.4017014\ttotal: 610ms\tremaining: 211ms\n",
      "743:\tlearn: 1.3974208\ttotal: 611ms\tremaining: 210ms\n",
      "744:\tlearn: 1.3862572\ttotal: 612ms\tremaining: 209ms\n",
      "745:\tlearn: 1.3729360\ttotal: 612ms\tremaining: 208ms\n",
      "746:\tlearn: 1.3630904\ttotal: 613ms\tremaining: 208ms\n",
      "747:\tlearn: 1.3477583\ttotal: 614ms\tremaining: 207ms\n",
      "748:\tlearn: 1.3348270\ttotal: 614ms\tremaining: 206ms\n",
      "749:\tlearn: 1.3236754\ttotal: 615ms\tremaining: 205ms\n",
      "750:\tlearn: 1.3171961\ttotal: 615ms\tremaining: 204ms\n",
      "751:\tlearn: 1.3113457\ttotal: 616ms\tremaining: 203ms\n",
      "752:\tlearn: 1.3036391\ttotal: 617ms\tremaining: 202ms\n",
      "753:\tlearn: 1.2935829\ttotal: 617ms\tremaining: 201ms\n",
      "754:\tlearn: 1.2837612\ttotal: 618ms\tremaining: 201ms\n",
      "755:\tlearn: 1.2768260\ttotal: 619ms\tremaining: 200ms\n",
      "756:\tlearn: 1.2689370\ttotal: 619ms\tremaining: 199ms\n",
      "757:\tlearn: 1.2561567\ttotal: 620ms\tremaining: 198ms\n",
      "758:\tlearn: 1.2475100\ttotal: 621ms\tremaining: 197ms\n",
      "759:\tlearn: 1.2405978\ttotal: 621ms\tremaining: 196ms\n",
      "760:\tlearn: 1.2342628\ttotal: 622ms\tremaining: 195ms\n",
      "761:\tlearn: 1.2271880\ttotal: 623ms\tremaining: 194ms\n",
      "762:\tlearn: 1.2138527\ttotal: 623ms\tremaining: 194ms\n",
      "763:\tlearn: 1.2076889\ttotal: 624ms\tremaining: 193ms\n",
      "764:\tlearn: 1.2041847\ttotal: 625ms\tremaining: 192ms\n",
      "765:\tlearn: 1.1970019\ttotal: 625ms\tremaining: 191ms\n",
      "766:\tlearn: 1.1892878\ttotal: 626ms\tremaining: 190ms\n",
      "767:\tlearn: 1.1858432\ttotal: 627ms\tremaining: 189ms\n",
      "768:\tlearn: 1.1746182\ttotal: 627ms\tremaining: 188ms\n",
      "769:\tlearn: 1.1694876\ttotal: 628ms\tremaining: 188ms\n",
      "770:\tlearn: 1.1657055\ttotal: 629ms\tremaining: 187ms\n",
      "771:\tlearn: 1.1556043\ttotal: 629ms\tremaining: 186ms\n",
      "772:\tlearn: 1.1540774\ttotal: 630ms\tremaining: 185ms\n",
      "773:\tlearn: 1.1473715\ttotal: 630ms\tremaining: 184ms\n",
      "774:\tlearn: 1.1419763\ttotal: 631ms\tremaining: 183ms\n",
      "775:\tlearn: 1.1303590\ttotal: 632ms\tremaining: 182ms\n",
      "776:\tlearn: 1.1230587\ttotal: 632ms\tremaining: 181ms\n",
      "777:\tlearn: 1.1143917\ttotal: 633ms\tremaining: 181ms\n",
      "778:\tlearn: 1.1112687\ttotal: 634ms\tremaining: 180ms\n",
      "779:\tlearn: 1.1009863\ttotal: 634ms\tremaining: 179ms\n",
      "780:\tlearn: 1.0899260\ttotal: 635ms\tremaining: 178ms\n",
      "781:\tlearn: 1.0855158\ttotal: 636ms\tremaining: 177ms\n",
      "782:\tlearn: 1.0808031\ttotal: 636ms\tremaining: 176ms\n",
      "783:\tlearn: 1.0763884\ttotal: 637ms\tremaining: 176ms\n",
      "784:\tlearn: 1.0710758\ttotal: 638ms\tremaining: 175ms\n",
      "785:\tlearn: 1.0634482\ttotal: 638ms\tremaining: 174ms\n",
      "786:\tlearn: 1.0529874\ttotal: 639ms\tremaining: 173ms\n",
      "787:\tlearn: 1.0501903\ttotal: 640ms\tremaining: 172ms\n",
      "788:\tlearn: 1.0410587\ttotal: 640ms\tremaining: 171ms\n",
      "789:\tlearn: 1.0386261\ttotal: 641ms\tremaining: 170ms\n",
      "790:\tlearn: 1.0351082\ttotal: 641ms\tremaining: 169ms\n",
      "791:\tlearn: 1.0320987\ttotal: 642ms\tremaining: 169ms\n",
      "792:\tlearn: 1.0294915\ttotal: 643ms\tremaining: 168ms\n",
      "793:\tlearn: 1.0233284\ttotal: 643ms\tremaining: 167ms\n",
      "794:\tlearn: 1.0176815\ttotal: 644ms\tremaining: 166ms\n",
      "795:\tlearn: 1.0074411\ttotal: 645ms\tremaining: 165ms\n",
      "796:\tlearn: 1.0020197\ttotal: 645ms\tremaining: 164ms\n",
      "797:\tlearn: 0.9989044\ttotal: 646ms\tremaining: 164ms\n",
      "798:\tlearn: 0.9937483\ttotal: 647ms\tremaining: 163ms\n",
      "799:\tlearn: 0.9867329\ttotal: 647ms\tremaining: 162ms\n",
      "800:\tlearn: 0.9819829\ttotal: 648ms\tremaining: 161ms\n",
      "801:\tlearn: 0.9777514\ttotal: 648ms\tremaining: 160ms\n",
      "802:\tlearn: 0.9757462\ttotal: 649ms\tremaining: 159ms\n",
      "803:\tlearn: 0.9702440\ttotal: 650ms\tremaining: 158ms\n",
      "804:\tlearn: 0.9636471\ttotal: 650ms\tremaining: 158ms\n",
      "805:\tlearn: 0.9548362\ttotal: 651ms\tremaining: 157ms\n",
      "806:\tlearn: 0.9470745\ttotal: 652ms\tremaining: 156ms\n",
      "807:\tlearn: 0.9408578\ttotal: 652ms\tremaining: 155ms\n",
      "808:\tlearn: 0.9350692\ttotal: 653ms\tremaining: 154ms\n",
      "809:\tlearn: 0.9290967\ttotal: 654ms\tremaining: 153ms\n",
      "810:\tlearn: 0.9267158\ttotal: 654ms\tremaining: 153ms\n",
      "811:\tlearn: 0.9235794\ttotal: 655ms\tremaining: 152ms\n",
      "812:\tlearn: 0.9226084\ttotal: 656ms\tremaining: 151ms\n",
      "813:\tlearn: 0.9139012\ttotal: 656ms\tremaining: 150ms\n",
      "814:\tlearn: 0.9073690\ttotal: 657ms\tremaining: 149ms\n",
      "815:\tlearn: 0.9024018\ttotal: 658ms\tremaining: 148ms\n",
      "816:\tlearn: 0.9001693\ttotal: 658ms\tremaining: 147ms\n",
      "817:\tlearn: 0.8970481\ttotal: 659ms\tremaining: 147ms\n",
      "818:\tlearn: 0.8907494\ttotal: 660ms\tremaining: 146ms\n",
      "819:\tlearn: 0.8886718\ttotal: 660ms\tremaining: 145ms\n",
      "820:\tlearn: 0.8869259\ttotal: 661ms\tremaining: 144ms\n",
      "821:\tlearn: 0.8804683\ttotal: 662ms\tremaining: 143ms\n",
      "822:\tlearn: 0.8666371\ttotal: 663ms\tremaining: 142ms\n",
      "823:\tlearn: 0.8659600\ttotal: 663ms\tremaining: 142ms\n",
      "824:\tlearn: 0.8604612\ttotal: 664ms\tremaining: 141ms\n",
      "825:\tlearn: 0.8544955\ttotal: 665ms\tremaining: 140ms\n",
      "826:\tlearn: 0.8496739\ttotal: 665ms\tremaining: 139ms\n",
      "827:\tlearn: 0.8420906\ttotal: 666ms\tremaining: 138ms\n",
      "828:\tlearn: 0.8398457\ttotal: 667ms\tremaining: 137ms\n",
      "829:\tlearn: 0.8358570\ttotal: 667ms\tremaining: 137ms\n",
      "830:\tlearn: 0.8293211\ttotal: 668ms\tremaining: 136ms\n",
      "831:\tlearn: 0.8236188\ttotal: 668ms\tremaining: 135ms\n",
      "832:\tlearn: 0.8175017\ttotal: 669ms\tremaining: 134ms\n",
      "833:\tlearn: 0.8128315\ttotal: 670ms\tremaining: 133ms\n",
      "834:\tlearn: 0.8096197\ttotal: 670ms\tremaining: 132ms\n",
      "835:\tlearn: 0.8027133\ttotal: 671ms\tremaining: 132ms\n",
      "836:\tlearn: 0.7987555\ttotal: 672ms\tremaining: 131ms\n",
      "837:\tlearn: 0.7928141\ttotal: 672ms\tremaining: 130ms\n",
      "838:\tlearn: 0.7897563\ttotal: 673ms\tremaining: 129ms\n",
      "839:\tlearn: 0.7876758\ttotal: 674ms\tremaining: 128ms\n",
      "840:\tlearn: 0.7777598\ttotal: 674ms\tremaining: 127ms\n",
      "841:\tlearn: 0.7767597\ttotal: 675ms\tremaining: 127ms\n",
      "842:\tlearn: 0.7665043\ttotal: 675ms\tremaining: 126ms\n",
      "843:\tlearn: 0.7626478\ttotal: 676ms\tremaining: 125ms\n",
      "844:\tlearn: 0.7540439\ttotal: 677ms\tremaining: 124ms\n",
      "845:\tlearn: 0.7508537\ttotal: 677ms\tremaining: 123ms\n",
      "846:\tlearn: 0.7459152\ttotal: 678ms\tremaining: 122ms\n",
      "847:\tlearn: 0.7447900\ttotal: 678ms\tremaining: 122ms\n",
      "848:\tlearn: 0.7418475\ttotal: 679ms\tremaining: 121ms\n",
      "849:\tlearn: 0.7379949\ttotal: 680ms\tremaining: 120ms\n",
      "850:\tlearn: 0.7369054\ttotal: 681ms\tremaining: 119ms\n",
      "851:\tlearn: 0.7327236\ttotal: 681ms\tremaining: 118ms\n",
      "852:\tlearn: 0.7311790\ttotal: 682ms\tremaining: 118ms\n",
      "853:\tlearn: 0.7226495\ttotal: 683ms\tremaining: 117ms\n",
      "854:\tlearn: 0.7168390\ttotal: 683ms\tremaining: 116ms\n",
      "855:\tlearn: 0.7117890\ttotal: 684ms\tremaining: 115ms\n",
      "856:\tlearn: 0.7040100\ttotal: 685ms\tremaining: 114ms\n",
      "857:\tlearn: 0.6960021\ttotal: 685ms\tremaining: 113ms\n",
      "858:\tlearn: 0.6920263\ttotal: 686ms\tremaining: 113ms\n",
      "859:\tlearn: 0.6853317\ttotal: 687ms\tremaining: 112ms\n",
      "860:\tlearn: 0.6805108\ttotal: 687ms\tremaining: 111ms\n",
      "861:\tlearn: 0.6771728\ttotal: 688ms\tremaining: 110ms\n",
      "862:\tlearn: 0.6708199\ttotal: 688ms\tremaining: 109ms\n",
      "863:\tlearn: 0.6689468\ttotal: 689ms\tremaining: 108ms\n",
      "864:\tlearn: 0.6647579\ttotal: 690ms\tremaining: 108ms\n",
      "865:\tlearn: 0.6587745\ttotal: 690ms\tremaining: 107ms\n",
      "866:\tlearn: 0.6549437\ttotal: 691ms\tremaining: 106ms\n",
      "867:\tlearn: 0.6484944\ttotal: 692ms\tremaining: 105ms\n",
      "868:\tlearn: 0.6455316\ttotal: 692ms\tremaining: 104ms\n",
      "869:\tlearn: 0.6420739\ttotal: 693ms\tremaining: 104ms\n",
      "870:\tlearn: 0.6375667\ttotal: 694ms\tremaining: 103ms\n",
      "871:\tlearn: 0.6358236\ttotal: 695ms\tremaining: 102ms\n",
      "872:\tlearn: 0.6320335\ttotal: 696ms\tremaining: 101ms\n",
      "873:\tlearn: 0.6288025\ttotal: 696ms\tremaining: 100ms\n",
      "874:\tlearn: 0.6243292\ttotal: 697ms\tremaining: 99.6ms\n",
      "875:\tlearn: 0.6165696\ttotal: 698ms\tremaining: 98.8ms\n",
      "876:\tlearn: 0.6128782\ttotal: 699ms\tremaining: 98ms\n",
      "877:\tlearn: 0.6057460\ttotal: 699ms\tremaining: 97.2ms\n",
      "878:\tlearn: 0.6048833\ttotal: 700ms\tremaining: 96.4ms\n",
      "879:\tlearn: 0.5984637\ttotal: 701ms\tremaining: 95.6ms\n",
      "880:\tlearn: 0.5935168\ttotal: 701ms\tremaining: 94.8ms\n",
      "881:\tlearn: 0.5892604\ttotal: 702ms\tremaining: 93.9ms\n",
      "882:\tlearn: 0.5846504\ttotal: 703ms\tremaining: 93.1ms\n",
      "883:\tlearn: 0.5814985\ttotal: 704ms\tremaining: 92.3ms\n",
      "884:\tlearn: 0.5778053\ttotal: 704ms\tremaining: 91.5ms\n",
      "885:\tlearn: 0.5739896\ttotal: 705ms\tremaining: 90.7ms\n",
      "886:\tlearn: 0.5729847\ttotal: 706ms\tremaining: 89.9ms\n",
      "887:\tlearn: 0.5724598\ttotal: 706ms\tremaining: 89.1ms\n",
      "888:\tlearn: 0.5718988\ttotal: 707ms\tremaining: 88.3ms\n",
      "889:\tlearn: 0.5672314\ttotal: 708ms\tremaining: 87.5ms\n",
      "890:\tlearn: 0.5659035\ttotal: 708ms\tremaining: 86.7ms\n",
      "891:\tlearn: 0.5587131\ttotal: 709ms\tremaining: 85.9ms\n",
      "892:\tlearn: 0.5562858\ttotal: 710ms\tremaining: 85ms\n",
      "893:\tlearn: 0.5555127\ttotal: 711ms\tremaining: 84.2ms\n",
      "894:\tlearn: 0.5527685\ttotal: 711ms\tremaining: 83.4ms\n",
      "895:\tlearn: 0.5499500\ttotal: 712ms\tremaining: 82.6ms\n",
      "896:\tlearn: 0.5456148\ttotal: 713ms\tremaining: 81.8ms\n",
      "897:\tlearn: 0.5403285\ttotal: 713ms\tremaining: 81ms\n",
      "898:\tlearn: 0.5377774\ttotal: 714ms\tremaining: 80.2ms\n",
      "899:\tlearn: 0.5371353\ttotal: 715ms\tremaining: 79.4ms\n",
      "900:\tlearn: 0.5332613\ttotal: 715ms\tremaining: 78.6ms\n",
      "901:\tlearn: 0.5289379\ttotal: 716ms\tremaining: 77.8ms\n",
      "902:\tlearn: 0.5277948\ttotal: 717ms\tremaining: 77ms\n",
      "903:\tlearn: 0.5229979\ttotal: 717ms\tremaining: 76.2ms\n",
      "904:\tlearn: 0.5176545\ttotal: 718ms\tremaining: 75.4ms\n",
      "905:\tlearn: 0.5167566\ttotal: 719ms\tremaining: 74.6ms\n",
      "906:\tlearn: 0.5163313\ttotal: 720ms\tremaining: 73.8ms\n",
      "907:\tlearn: 0.5116777\ttotal: 720ms\tremaining: 73ms\n",
      "908:\tlearn: 0.5097952\ttotal: 721ms\tremaining: 72.2ms\n",
      "909:\tlearn: 0.5071290\ttotal: 722ms\tremaining: 71.4ms\n",
      "910:\tlearn: 0.5049191\ttotal: 722ms\tremaining: 70.6ms\n",
      "911:\tlearn: 0.5018383\ttotal: 723ms\tremaining: 69.8ms\n",
      "912:\tlearn: 0.5007466\ttotal: 724ms\tremaining: 69ms\n",
      "913:\tlearn: 0.4998771\ttotal: 725ms\tremaining: 68.2ms\n",
      "914:\tlearn: 0.4954624\ttotal: 725ms\tremaining: 67.4ms\n",
      "915:\tlearn: 0.4942071\ttotal: 726ms\tremaining: 66.6ms\n",
      "916:\tlearn: 0.4893003\ttotal: 727ms\tremaining: 65.8ms\n",
      "917:\tlearn: 0.4870233\ttotal: 727ms\tremaining: 65ms\n",
      "918:\tlearn: 0.4830379\ttotal: 728ms\tremaining: 64.2ms\n",
      "919:\tlearn: 0.4753426\ttotal: 729ms\tremaining: 63.4ms\n",
      "920:\tlearn: 0.4730706\ttotal: 729ms\tremaining: 62.6ms\n",
      "921:\tlearn: 0.4679650\ttotal: 730ms\tremaining: 61.8ms\n",
      "922:\tlearn: 0.4651630\ttotal: 731ms\tremaining: 61ms\n",
      "923:\tlearn: 0.4634313\ttotal: 732ms\tremaining: 60.2ms\n",
      "924:\tlearn: 0.4607284\ttotal: 732ms\tremaining: 59.4ms\n",
      "925:\tlearn: 0.4589159\ttotal: 733ms\tremaining: 58.6ms\n",
      "926:\tlearn: 0.4532169\ttotal: 734ms\tremaining: 57.8ms\n",
      "927:\tlearn: 0.4509932\ttotal: 734ms\tremaining: 57ms\n",
      "928:\tlearn: 0.4506088\ttotal: 735ms\tremaining: 56.2ms\n",
      "929:\tlearn: 0.4501478\ttotal: 736ms\tremaining: 55.4ms\n",
      "930:\tlearn: 0.4490581\ttotal: 736ms\tremaining: 54.6ms\n",
      "931:\tlearn: 0.4447316\ttotal: 737ms\tremaining: 53.8ms\n",
      "932:\tlearn: 0.4415148\ttotal: 738ms\tremaining: 53ms\n",
      "933:\tlearn: 0.4391051\ttotal: 739ms\tremaining: 52.2ms\n",
      "934:\tlearn: 0.4357356\ttotal: 739ms\tremaining: 51.4ms\n",
      "935:\tlearn: 0.4323983\ttotal: 740ms\tremaining: 50.6ms\n",
      "936:\tlearn: 0.4302143\ttotal: 741ms\tremaining: 49.8ms\n",
      "937:\tlearn: 0.4289117\ttotal: 741ms\tremaining: 49ms\n",
      "938:\tlearn: 0.4284339\ttotal: 742ms\tremaining: 48.2ms\n",
      "939:\tlearn: 0.4244107\ttotal: 742ms\tremaining: 47.4ms\n",
      "940:\tlearn: 0.4237451\ttotal: 743ms\tremaining: 46.6ms\n",
      "941:\tlearn: 0.4215386\ttotal: 744ms\tremaining: 45.8ms\n",
      "942:\tlearn: 0.4180705\ttotal: 744ms\tremaining: 45ms\n",
      "943:\tlearn: 0.4154760\ttotal: 745ms\tremaining: 44.2ms\n",
      "944:\tlearn: 0.4124859\ttotal: 745ms\tremaining: 43.4ms\n",
      "945:\tlearn: 0.4119886\ttotal: 746ms\tremaining: 42.6ms\n",
      "946:\tlearn: 0.4115906\ttotal: 746ms\tremaining: 41.8ms\n",
      "947:\tlearn: 0.4081974\ttotal: 747ms\tremaining: 41ms\n",
      "948:\tlearn: 0.4064530\ttotal: 748ms\tremaining: 40.2ms\n",
      "949:\tlearn: 0.4040915\ttotal: 749ms\tremaining: 39.4ms\n",
      "950:\tlearn: 0.4008861\ttotal: 749ms\tremaining: 38.6ms\n",
      "951:\tlearn: 0.3970913\ttotal: 750ms\tremaining: 37.8ms\n",
      "952:\tlearn: 0.3943258\ttotal: 751ms\tremaining: 37ms\n",
      "953:\tlearn: 0.3926270\ttotal: 752ms\tremaining: 36.2ms\n",
      "954:\tlearn: 0.3909448\ttotal: 752ms\tremaining: 35.4ms\n",
      "955:\tlearn: 0.3887707\ttotal: 753ms\tremaining: 34.7ms\n",
      "956:\tlearn: 0.3868345\ttotal: 754ms\tremaining: 33.9ms\n",
      "957:\tlearn: 0.3839349\ttotal: 754ms\tremaining: 33.1ms\n",
      "958:\tlearn: 0.3808497\ttotal: 755ms\tremaining: 32.3ms\n",
      "959:\tlearn: 0.3779283\ttotal: 755ms\tremaining: 31.5ms\n",
      "960:\tlearn: 0.3755090\ttotal: 756ms\tremaining: 30.7ms\n",
      "961:\tlearn: 0.3734292\ttotal: 757ms\tremaining: 29.9ms\n",
      "962:\tlearn: 0.3731558\ttotal: 757ms\tremaining: 29.1ms\n",
      "963:\tlearn: 0.3716642\ttotal: 758ms\tremaining: 28.3ms\n",
      "964:\tlearn: 0.3700879\ttotal: 759ms\tremaining: 27.5ms\n",
      "965:\tlearn: 0.3676034\ttotal: 759ms\tremaining: 26.7ms\n",
      "966:\tlearn: 0.3640425\ttotal: 760ms\tremaining: 25.9ms\n",
      "967:\tlearn: 0.3632495\ttotal: 761ms\tremaining: 25.1ms\n",
      "968:\tlearn: 0.3603878\ttotal: 761ms\tremaining: 24.4ms\n",
      "969:\tlearn: 0.3584398\ttotal: 762ms\tremaining: 23.6ms\n",
      "970:\tlearn: 0.3560019\ttotal: 763ms\tremaining: 22.8ms\n",
      "971:\tlearn: 0.3535719\ttotal: 763ms\tremaining: 22ms\n",
      "972:\tlearn: 0.3518950\ttotal: 764ms\tremaining: 21.2ms\n",
      "973:\tlearn: 0.3479039\ttotal: 764ms\tremaining: 20.4ms\n",
      "974:\tlearn: 0.3463938\ttotal: 765ms\tremaining: 19.6ms\n",
      "975:\tlearn: 0.3433932\ttotal: 766ms\tremaining: 18.8ms\n",
      "976:\tlearn: 0.3410148\ttotal: 766ms\tremaining: 18ms\n",
      "977:\tlearn: 0.3393532\ttotal: 767ms\tremaining: 17.3ms\n",
      "978:\tlearn: 0.3373067\ttotal: 768ms\tremaining: 16.5ms\n",
      "979:\tlearn: 0.3359122\ttotal: 768ms\tremaining: 15.7ms\n",
      "980:\tlearn: 0.3340848\ttotal: 769ms\tremaining: 14.9ms\n",
      "981:\tlearn: 0.3331220\ttotal: 769ms\tremaining: 14.1ms\n",
      "982:\tlearn: 0.3308795\ttotal: 770ms\tremaining: 13.3ms\n",
      "983:\tlearn: 0.3288012\ttotal: 771ms\tremaining: 12.5ms\n",
      "984:\tlearn: 0.3271648\ttotal: 771ms\tremaining: 11.7ms\n",
      "985:\tlearn: 0.3246514\ttotal: 772ms\tremaining: 11ms\n",
      "986:\tlearn: 0.3218383\ttotal: 773ms\tremaining: 10.2ms\n",
      "987:\tlearn: 0.3206535\ttotal: 773ms\tremaining: 9.39ms\n",
      "988:\tlearn: 0.3190063\ttotal: 774ms\tremaining: 8.61ms\n",
      "989:\tlearn: 0.3176250\ttotal: 774ms\tremaining: 7.82ms\n",
      "990:\tlearn: 0.3146329\ttotal: 775ms\tremaining: 7.04ms\n",
      "991:\tlearn: 0.3130835\ttotal: 776ms\tremaining: 6.26ms\n",
      "992:\tlearn: 0.3107534\ttotal: 776ms\tremaining: 5.47ms\n",
      "993:\tlearn: 0.3089626\ttotal: 777ms\tremaining: 4.69ms\n",
      "994:\tlearn: 0.3080205\ttotal: 778ms\tremaining: 3.91ms\n",
      "995:\tlearn: 0.3055692\ttotal: 778ms\tremaining: 3.13ms\n",
      "996:\tlearn: 0.3035687\ttotal: 779ms\tremaining: 2.34ms\n",
      "997:\tlearn: 0.3019582\ttotal: 780ms\tremaining: 1.56ms\n",
      "998:\tlearn: 0.3000480\ttotal: 780ms\tremaining: 781us\n",
      "999:\tlearn: 0.2971131\ttotal: 781ms\tremaining: 0us\n"
     ]
    },
    {
     "data": {
      "text/plain": [
       "GridSearchCV(cv=5,\n",
       "             estimator=<catboost.core.CatBoostRegressor object at 0x0000020D6AA34070>,\n",
       "             n_jobs=-1,\n",
       "             param_grid={'depth': [3, 4, 5, 6, 7, 8],\n",
       "                         'iterations': [200, 500, 1000, 2000],\n",
       "                         'learning_rate': [0.01, 0.03, 0.05, 0.1]},\n",
       "             verbose=2)"
      ]
     },
     "execution_count": 29,
     "metadata": {},
     "output_type": "execute_result"
    }
   ],
   "source": [
    "catb_grid = {\n",
    "    'iterations': [200,500,1000,2000],\n",
    "    'learning_rate': [0.01, 0.03, 0.05, 0.1],\n",
    "    'depth': [3,4,5,6,7,8] }\n",
    "\n",
    "catb = CatBoostRegressor()\n",
    "catb_cv_model = GridSearchCV(catb, catb_grid, cv=5, n_jobs = -1, verbose = 2)\n",
    "catb_cv_model.fit(X_train, y_train)"
   ]
  },
  {
   "cell_type": "code",
   "execution_count": 30,
   "id": "f5da4638-97f3-4c24-888a-5b55e0470482",
   "metadata": {},
   "outputs": [
    {
     "data": {
      "text/plain": [
       "{'depth': 5, 'iterations': 1000, 'learning_rate': 0.1}"
      ]
     },
     "execution_count": 30,
     "metadata": {},
     "output_type": "execute_result"
    }
   ],
   "source": [
    "catb_cv_model.best_params_"
   ]
  },
  {
   "cell_type": "code",
   "execution_count": 31,
   "id": "72af0e59-7369-4e84-b5b4-45c5ce065832",
   "metadata": {
    "collapsed": true,
    "jupyter": {
     "outputs_hidden": true
    },
    "tags": []
   },
   "outputs": [
    {
     "name": "stdout",
     "output_type": "stream",
     "text": [
      "0:\tlearn: 442.4903140\ttotal: 13.8ms\tremaining: 2.74s\n",
      "1:\tlearn: 440.4621805\ttotal: 16.9ms\tremaining: 1.67s\n",
      "2:\tlearn: 438.5132091\ttotal: 19.9ms\tremaining: 1.31s\n",
      "3:\tlearn: 436.2180377\ttotal: 22.8ms\tremaining: 1.12s\n",
      "4:\tlearn: 434.0461579\ttotal: 26.1ms\tremaining: 1.02s\n",
      "5:\tlearn: 431.8437770\ttotal: 29ms\tremaining: 936ms\n",
      "6:\tlearn: 430.1594587\ttotal: 31.8ms\tremaining: 878ms\n",
      "7:\tlearn: 428.0941830\ttotal: 34.8ms\tremaining: 834ms\n",
      "8:\tlearn: 426.0998774\ttotal: 38ms\tremaining: 805ms\n",
      "9:\tlearn: 424.0249067\ttotal: 38.8ms\tremaining: 738ms\n",
      "10:\tlearn: 422.1921868\ttotal: 41.7ms\tremaining: 717ms\n",
      "11:\tlearn: 420.2506764\ttotal: 44.5ms\tremaining: 697ms\n",
      "12:\tlearn: 418.3116383\ttotal: 47.3ms\tremaining: 680ms\n",
      "13:\tlearn: 416.2966847\ttotal: 50.1ms\tremaining: 665ms\n",
      "14:\tlearn: 414.5776175\ttotal: 52.9ms\tremaining: 653ms\n",
      "15:\tlearn: 412.8009394\ttotal: 55.9ms\tremaining: 643ms\n",
      "16:\tlearn: 410.9774146\ttotal: 59.1ms\tremaining: 636ms\n",
      "17:\tlearn: 409.1047417\ttotal: 61.9ms\tremaining: 626ms\n",
      "18:\tlearn: 407.6243957\ttotal: 64.6ms\tremaining: 615ms\n",
      "19:\tlearn: 405.9072209\ttotal: 67.3ms\tremaining: 606ms\n",
      "20:\tlearn: 404.2566200\ttotal: 70.1ms\tremaining: 597ms\n",
      "21:\tlearn: 402.5329859\ttotal: 72.6ms\tremaining: 587ms\n",
      "22:\tlearn: 400.6495607\ttotal: 75.5ms\tremaining: 581ms\n",
      "23:\tlearn: 398.8468643\ttotal: 85.6ms\tremaining: 628ms\n",
      "24:\tlearn: 397.0329195\ttotal: 97ms\tremaining: 679ms\n",
      "25:\tlearn: 395.4747968\ttotal: 99.8ms\tremaining: 668ms\n",
      "26:\tlearn: 393.7206925\ttotal: 103ms\tremaining: 657ms\n",
      "27:\tlearn: 392.2904125\ttotal: 105ms\tremaining: 647ms\n",
      "28:\tlearn: 390.5630617\ttotal: 108ms\tremaining: 636ms\n",
      "29:\tlearn: 389.1479370\ttotal: 110ms\tremaining: 626ms\n",
      "30:\tlearn: 387.6030700\ttotal: 113ms\tremaining: 616ms\n",
      "31:\tlearn: 386.0164157\ttotal: 116ms\tremaining: 610ms\n",
      "32:\tlearn: 384.1076046\ttotal: 119ms\tremaining: 603ms\n",
      "33:\tlearn: 382.3830744\ttotal: 122ms\tremaining: 597ms\n",
      "34:\tlearn: 380.5987560\ttotal: 125ms\tremaining: 591ms\n",
      "35:\tlearn: 379.0931667\ttotal: 128ms\tremaining: 584ms\n",
      "36:\tlearn: 377.6455643\ttotal: 132ms\tremaining: 582ms\n",
      "37:\tlearn: 376.0951499\ttotal: 135ms\tremaining: 576ms\n",
      "38:\tlearn: 374.6596684\ttotal: 138ms\tremaining: 570ms\n",
      "39:\tlearn: 372.8982744\ttotal: 141ms\tremaining: 563ms\n",
      "40:\tlearn: 371.4430906\ttotal: 144ms\tremaining: 559ms\n",
      "41:\tlearn: 370.1346896\ttotal: 147ms\tremaining: 553ms\n",
      "42:\tlearn: 368.3409801\ttotal: 150ms\tremaining: 548ms\n",
      "43:\tlearn: 366.9161522\ttotal: 153ms\tremaining: 543ms\n",
      "44:\tlearn: 365.5390053\ttotal: 156ms\tremaining: 538ms\n",
      "45:\tlearn: 364.0156710\ttotal: 159ms\tremaining: 533ms\n",
      "46:\tlearn: 362.5688240\ttotal: 163ms\tremaining: 530ms\n",
      "47:\tlearn: 361.0766459\ttotal: 166ms\tremaining: 525ms\n",
      "48:\tlearn: 359.4068914\ttotal: 169ms\tremaining: 521ms\n",
      "49:\tlearn: 358.0264840\ttotal: 172ms\tremaining: 517ms\n",
      "50:\tlearn: 356.6569261\ttotal: 176ms\tremaining: 514ms\n",
      "51:\tlearn: 355.3295581\ttotal: 179ms\tremaining: 509ms\n",
      "52:\tlearn: 353.7981543\ttotal: 182ms\tremaining: 505ms\n",
      "53:\tlearn: 352.3857927\ttotal: 185ms\tremaining: 500ms\n",
      "54:\tlearn: 351.0170630\ttotal: 188ms\tremaining: 496ms\n",
      "55:\tlearn: 349.5583299\ttotal: 191ms\tremaining: 490ms\n",
      "56:\tlearn: 348.3551914\ttotal: 193ms\tremaining: 485ms\n",
      "57:\tlearn: 347.0770426\ttotal: 196ms\tremaining: 481ms\n",
      "58:\tlearn: 345.9005401\ttotal: 199ms\tremaining: 476ms\n",
      "59:\tlearn: 344.5492739\ttotal: 202ms\tremaining: 471ms\n",
      "60:\tlearn: 343.4861303\ttotal: 204ms\tremaining: 466ms\n",
      "61:\tlearn: 342.1246162\ttotal: 207ms\tremaining: 461ms\n",
      "62:\tlearn: 340.6842766\ttotal: 210ms\tremaining: 457ms\n",
      "63:\tlearn: 339.3315019\ttotal: 213ms\tremaining: 453ms\n",
      "64:\tlearn: 337.8521507\ttotal: 216ms\tremaining: 449ms\n",
      "65:\tlearn: 336.5759989\ttotal: 219ms\tremaining: 445ms\n",
      "66:\tlearn: 335.2858902\ttotal: 223ms\tremaining: 443ms\n",
      "67:\tlearn: 334.0030235\ttotal: 228ms\tremaining: 443ms\n",
      "68:\tlearn: 332.7313763\ttotal: 231ms\tremaining: 439ms\n",
      "69:\tlearn: 331.5974885\ttotal: 234ms\tremaining: 435ms\n",
      "70:\tlearn: 330.5354149\ttotal: 237ms\tremaining: 430ms\n",
      "71:\tlearn: 329.3024752\ttotal: 239ms\tremaining: 425ms\n",
      "72:\tlearn: 328.0534820\ttotal: 242ms\tremaining: 421ms\n",
      "73:\tlearn: 326.9395455\ttotal: 244ms\tremaining: 416ms\n",
      "74:\tlearn: 325.5288974\ttotal: 247ms\tremaining: 411ms\n",
      "75:\tlearn: 324.3277188\ttotal: 249ms\tremaining: 406ms\n",
      "76:\tlearn: 323.0868571\ttotal: 251ms\tremaining: 401ms\n",
      "77:\tlearn: 321.8690017\ttotal: 254ms\tremaining: 397ms\n",
      "78:\tlearn: 320.9509169\ttotal: 256ms\tremaining: 392ms\n",
      "79:\tlearn: 319.8700363\ttotal: 258ms\tremaining: 387ms\n",
      "80:\tlearn: 318.4920699\ttotal: 261ms\tremaining: 383ms\n",
      "81:\tlearn: 317.4778062\ttotal: 263ms\tremaining: 378ms\n",
      "82:\tlearn: 316.3636635\ttotal: 265ms\tremaining: 374ms\n",
      "83:\tlearn: 315.1041604\ttotal: 268ms\tremaining: 370ms\n",
      "84:\tlearn: 314.0018701\ttotal: 270ms\tremaining: 366ms\n",
      "85:\tlearn: 312.8242118\ttotal: 273ms\tremaining: 362ms\n",
      "86:\tlearn: 311.7133822\ttotal: 275ms\tremaining: 358ms\n",
      "87:\tlearn: 310.6125773\ttotal: 278ms\tremaining: 354ms\n",
      "88:\tlearn: 309.5934070\ttotal: 280ms\tremaining: 350ms\n",
      "89:\tlearn: 308.6035314\ttotal: 282ms\tremaining: 345ms\n",
      "90:\tlearn: 307.4645756\ttotal: 285ms\tremaining: 341ms\n",
      "91:\tlearn: 306.3359620\ttotal: 287ms\tremaining: 337ms\n",
      "92:\tlearn: 305.3546576\ttotal: 290ms\tremaining: 334ms\n",
      "93:\tlearn: 304.3497567\ttotal: 293ms\tremaining: 330ms\n",
      "94:\tlearn: 303.3926155\ttotal: 295ms\tremaining: 326ms\n",
      "95:\tlearn: 302.1234778\ttotal: 298ms\tremaining: 323ms\n",
      "96:\tlearn: 300.8748060\ttotal: 300ms\tremaining: 319ms\n",
      "97:\tlearn: 299.8192745\ttotal: 303ms\tremaining: 315ms\n",
      "98:\tlearn: 298.8369756\ttotal: 305ms\tremaining: 312ms\n",
      "99:\tlearn: 297.8913508\ttotal: 308ms\tremaining: 308ms\n",
      "100:\tlearn: 296.8220741\ttotal: 310ms\tremaining: 304ms\n",
      "101:\tlearn: 295.8591240\ttotal: 312ms\tremaining: 300ms\n",
      "102:\tlearn: 295.0212733\ttotal: 315ms\tremaining: 296ms\n",
      "103:\tlearn: 293.9712550\ttotal: 317ms\tremaining: 293ms\n",
      "104:\tlearn: 292.8563786\ttotal: 319ms\tremaining: 289ms\n",
      "105:\tlearn: 291.8182216\ttotal: 322ms\tremaining: 285ms\n",
      "106:\tlearn: 290.8176654\ttotal: 324ms\tremaining: 282ms\n",
      "107:\tlearn: 289.9383970\ttotal: 326ms\tremaining: 277ms\n",
      "108:\tlearn: 288.7005005\ttotal: 328ms\tremaining: 274ms\n",
      "109:\tlearn: 287.7512562\ttotal: 330ms\tremaining: 270ms\n",
      "110:\tlearn: 286.8929047\ttotal: 333ms\tremaining: 267ms\n",
      "111:\tlearn: 285.9704538\ttotal: 335ms\tremaining: 263ms\n",
      "112:\tlearn: 284.9057160\ttotal: 337ms\tremaining: 260ms\n",
      "113:\tlearn: 284.1826027\ttotal: 340ms\tremaining: 256ms\n",
      "114:\tlearn: 283.1170272\ttotal: 342ms\tremaining: 253ms\n",
      "115:\tlearn: 282.0680805\ttotal: 344ms\tremaining: 249ms\n",
      "116:\tlearn: 281.2294931\ttotal: 347ms\tremaining: 246ms\n",
      "117:\tlearn: 280.2761021\ttotal: 350ms\tremaining: 243ms\n",
      "118:\tlearn: 279.4292163\ttotal: 352ms\tremaining: 240ms\n",
      "119:\tlearn: 278.5105683\ttotal: 354ms\tremaining: 236ms\n",
      "120:\tlearn: 277.6361767\ttotal: 357ms\tremaining: 233ms\n",
      "121:\tlearn: 276.8037869\ttotal: 359ms\tremaining: 230ms\n",
      "122:\tlearn: 276.0239867\ttotal: 362ms\tremaining: 226ms\n",
      "123:\tlearn: 275.1795488\ttotal: 364ms\tremaining: 223ms\n",
      "124:\tlearn: 274.3292722\ttotal: 367ms\tremaining: 220ms\n",
      "125:\tlearn: 273.4198837\ttotal: 370ms\tremaining: 217ms\n",
      "126:\tlearn: 272.5973891\ttotal: 372ms\tremaining: 214ms\n",
      "127:\tlearn: 271.8101515\ttotal: 375ms\tremaining: 211ms\n",
      "128:\tlearn: 270.9025424\ttotal: 378ms\tremaining: 208ms\n",
      "129:\tlearn: 270.0364886\ttotal: 381ms\tremaining: 205ms\n",
      "130:\tlearn: 269.0385322\ttotal: 384ms\tremaining: 202ms\n",
      "131:\tlearn: 268.1937827\ttotal: 386ms\tremaining: 199ms\n",
      "132:\tlearn: 267.4049794\ttotal: 388ms\tremaining: 196ms\n",
      "133:\tlearn: 266.6338446\ttotal: 391ms\tremaining: 193ms\n",
      "134:\tlearn: 265.8071481\ttotal: 394ms\tremaining: 190ms\n",
      "135:\tlearn: 264.8647141\ttotal: 396ms\tremaining: 186ms\n",
      "136:\tlearn: 264.1327683\ttotal: 399ms\tremaining: 183ms\n",
      "137:\tlearn: 263.2736152\ttotal: 401ms\tremaining: 180ms\n",
      "138:\tlearn: 262.3035083\ttotal: 403ms\tremaining: 177ms\n",
      "139:\tlearn: 261.5548509\ttotal: 406ms\tremaining: 174ms\n",
      "140:\tlearn: 260.6810614\ttotal: 408ms\tremaining: 171ms\n",
      "141:\tlearn: 259.9520565\ttotal: 410ms\tremaining: 168ms\n",
      "142:\tlearn: 259.1637940\ttotal: 413ms\tremaining: 164ms\n",
      "143:\tlearn: 258.4748956\ttotal: 415ms\tremaining: 161ms\n",
      "144:\tlearn: 257.7311746\ttotal: 417ms\tremaining: 158ms\n",
      "145:\tlearn: 256.9606337\ttotal: 420ms\tremaining: 155ms\n",
      "146:\tlearn: 256.3518311\ttotal: 422ms\tremaining: 152ms\n",
      "147:\tlearn: 255.5049330\ttotal: 425ms\tremaining: 149ms\n",
      "148:\tlearn: 254.7238850\ttotal: 427ms\tremaining: 146ms\n",
      "149:\tlearn: 253.8840501\ttotal: 429ms\tremaining: 143ms\n",
      "150:\tlearn: 253.0754983\ttotal: 432ms\tremaining: 140ms\n",
      "151:\tlearn: 252.2453750\ttotal: 434ms\tremaining: 137ms\n",
      "152:\tlearn: 251.5607633\ttotal: 436ms\tremaining: 134ms\n",
      "153:\tlearn: 250.9442552\ttotal: 438ms\tremaining: 131ms\n",
      "154:\tlearn: 250.1822151\ttotal: 441ms\tremaining: 128ms\n",
      "155:\tlearn: 249.4448988\ttotal: 443ms\tremaining: 125ms\n",
      "156:\tlearn: 248.7637093\ttotal: 446ms\tremaining: 122ms\n",
      "157:\tlearn: 248.1165411\ttotal: 448ms\tremaining: 119ms\n",
      "158:\tlearn: 247.4318005\ttotal: 450ms\tremaining: 116ms\n",
      "159:\tlearn: 246.6414875\ttotal: 453ms\tremaining: 113ms\n",
      "160:\tlearn: 245.9710878\ttotal: 455ms\tremaining: 110ms\n",
      "161:\tlearn: 245.2531651\ttotal: 457ms\tremaining: 107ms\n",
      "162:\tlearn: 244.3669394\ttotal: 459ms\tremaining: 104ms\n",
      "163:\tlearn: 243.5127155\ttotal: 462ms\tremaining: 101ms\n",
      "164:\tlearn: 242.7095888\ttotal: 464ms\tremaining: 98.5ms\n",
      "165:\tlearn: 242.0376740\ttotal: 466ms\tremaining: 95.5ms\n",
      "166:\tlearn: 241.2252825\ttotal: 469ms\tremaining: 92.7ms\n",
      "167:\tlearn: 240.5849477\ttotal: 471ms\tremaining: 89.8ms\n",
      "168:\tlearn: 239.7800585\ttotal: 474ms\tremaining: 86.9ms\n",
      "169:\tlearn: 239.1427178\ttotal: 476ms\tremaining: 84ms\n",
      "170:\tlearn: 238.5203908\ttotal: 478ms\tremaining: 81.1ms\n",
      "171:\tlearn: 237.7975333\ttotal: 481ms\tremaining: 78.2ms\n",
      "172:\tlearn: 237.3602037\ttotal: 481ms\tremaining: 75.1ms\n",
      "173:\tlearn: 236.6786338\ttotal: 483ms\tremaining: 72.2ms\n",
      "174:\tlearn: 236.0202210\ttotal: 486ms\tremaining: 69.4ms\n",
      "175:\tlearn: 235.3476701\ttotal: 488ms\tremaining: 66.6ms\n",
      "176:\tlearn: 234.6718452\ttotal: 490ms\tremaining: 63.7ms\n",
      "177:\tlearn: 233.8885269\ttotal: 493ms\tremaining: 60.9ms\n",
      "178:\tlearn: 233.1892495\ttotal: 495ms\tremaining: 58.1ms\n",
      "179:\tlearn: 232.5527509\ttotal: 497ms\tremaining: 55.3ms\n",
      "180:\tlearn: 231.9618575\ttotal: 500ms\tremaining: 52.5ms\n",
      "181:\tlearn: 231.3342102\ttotal: 502ms\tremaining: 49.7ms\n",
      "182:\tlearn: 230.7244333\ttotal: 505ms\tremaining: 46.9ms\n",
      "183:\tlearn: 230.1436842\ttotal: 507ms\tremaining: 44.1ms\n",
      "184:\tlearn: 229.5095318\ttotal: 509ms\tremaining: 41.3ms\n",
      "185:\tlearn: 228.8917327\ttotal: 511ms\tremaining: 38.5ms\n",
      "186:\tlearn: 228.2636690\ttotal: 514ms\tremaining: 35.7ms\n",
      "187:\tlearn: 227.6023563\ttotal: 516ms\tremaining: 33ms\n",
      "188:\tlearn: 227.0846972\ttotal: 519ms\tremaining: 30.2ms\n",
      "189:\tlearn: 226.4545281\ttotal: 521ms\tremaining: 27.4ms\n",
      "190:\tlearn: 225.8981660\ttotal: 523ms\tremaining: 24.7ms\n",
      "191:\tlearn: 225.3663235\ttotal: 526ms\tremaining: 21.9ms\n",
      "192:\tlearn: 224.7996893\ttotal: 528ms\tremaining: 19.1ms\n",
      "193:\tlearn: 224.2439337\ttotal: 530ms\tremaining: 16.4ms\n",
      "194:\tlearn: 223.6864443\ttotal: 532ms\tremaining: 13.7ms\n",
      "195:\tlearn: 223.1405707\ttotal: 535ms\tremaining: 10.9ms\n",
      "196:\tlearn: 222.4965559\ttotal: 538ms\tremaining: 8.19ms\n",
      "197:\tlearn: 221.9452309\ttotal: 540ms\tremaining: 5.46ms\n",
      "198:\tlearn: 221.4075421\ttotal: 543ms\tremaining: 2.73ms\n",
      "199:\tlearn: 220.9138000\ttotal: 545ms\tremaining: 0us\n"
     ]
    }
   ],
   "source": [
    "catb_tuned = CatBoostRegressor(iterations = 200, \n",
    "                               learning_rate = 0.01, \n",
    "                               depth = 8)\n",
    "\n",
    "catb_tuned = catb_tuned.fit(X_train,y_train)"
   ]
  },
  {
   "cell_type": "code",
   "execution_count": 32,
   "id": "488bea22-a31b-4fde-970b-e0fb95e7ba50",
   "metadata": {},
   "outputs": [
    {
     "data": {
      "text/plain": [
       "369.6970696250705"
      ]
     },
     "execution_count": 32,
     "metadata": {},
     "output_type": "execute_result"
    }
   ],
   "source": [
    "y_pred = catb_tuned.predict(X_test)\n",
    "np.sqrt(mean_squared_error(y_test, y_pred))"
   ]
  }
 ],
 "metadata": {
  "kernelspec": {
   "display_name": "Python 3 (ipykernel)",
   "language": "python",
   "name": "python3"
  },
  "language_info": {
   "codemirror_mode": {
    "name": "ipython",
    "version": 3
   },
   "file_extension": ".py",
   "mimetype": "text/x-python",
   "name": "python",
   "nbconvert_exporter": "python",
   "pygments_lexer": "ipython3",
   "version": "3.10.2"
  }
 },
 "nbformat": 4,
 "nbformat_minor": 5
}
