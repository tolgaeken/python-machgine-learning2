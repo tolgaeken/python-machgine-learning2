{
 "cells": [
  {
   "cell_type": "markdown",
   "id": "8a431b8c-e8d9-4f36-aa86-c78fe956f5b2",
   "metadata": {},
   "source": [
    "# Makine Öğrenmesi\n",
    "Bilgisayarların insanlara benzer şekilde öğrenmesini sağlamak maksadıyla çeşitli algoritma ve tekniklerin geliştirilmesi için çalışılan bilimsel bir çalışma alanıdır"
   ]
  },
  {
   "cell_type": "markdown",
   "id": "7a857f17-63b6-40b2-8643-43176933d5d1",
   "metadata": {},
   "source": [
    "# Terminoloji\n",
    "## Kavramlar\n",
    "* Değişkenler\n",
    "    * Bağımlı Değişken\n",
    "    * Bağımsız Değişken\n",
    "* Öğrenme Türleri\n",
    "    * Gözetimli Öğrenme\n",
    "    * Gözetimsiz Öğrenme\n",
    "    * Yarı Gözetimli Öğrenme\n",
    "* Problem Türü\n",
    "    * Regresyon\n",
    "    * Sınıflandırma\n",
    "* Değişken TÜrleri\n",
    "    * Sayısal Değişkenler (nicel, kantiatif)\n",
    "    * Kategorik Değişkenler (nitel, kaliatif)\n",
    "* Ölçek Türleri\n",
    "    * Sayısal değişkenler için: Aralık ve Oran\n",
    "    * Kategorik değişkenler için: Nominal ve Ordinal\n",
    "* Test-Train Ayrımı\n",
    "    * Veriyi ikiye ayırdıktan sonra bir kısmı ile eriyi eğittikten sonra kalan kısmı ile veriyi test etmektir\n",
    "* Değişken Mühendisliği (Feature Engineering)\n",
    "* Değişken Seçimi (Variable Selection)\n",
    "* Model Seçimi (İki durum vardır)\n",
    "    * **Birincisi:** Oluşabilcek değişken kombinasyonları ile oluşturulan modeller arasından en iyi modelin seçilmesi\n",
    "    * **İkincisi:** Kurulan birbirinden farklı modeller arasından model seçimi\n",
    "    <br>\n",
    "    * **Model Neye Göre Seçilir?**\n",
    "        * Regresyon için açıklanabilirlik oranı ve RMSE benzeri bir değer.\n",
    "        * Sınıflandırma için doğru sınıflandırma oranı benzeri bir değer.\n",
    "* Aşırı Öğrenme (Overfitting)\n",
    "    * Rassallığını kaybeder\n",
    "    * Hata başarısı düşer\n",
    "<br>\n",
    "* Deterministik Modeller\n",
    "    * Değişkenler arasında kesin bir ilişki olduğunu varsayan modellere denir\n",
    "* Stokastik Modeller\n",
    "    * Tesadüfi hata barındıran modellere denir\n",
    "* Doğrusal Modeller\n",
    "* Doğrusal Olmyan Modeller"
   ]
  },
  {
   "cell_type": "markdown",
   "id": "2cebd6fd-f457-407d-b19e-8f80650221cf",
   "metadata": {
    "tags": []
   },
   "source": [
    "# Model Doğrulama Yöntemleri\n",
    "Modellerin ürettiği sonuçların doğru değerlendirilmesi çalışmalarıdır\n",
    "\n",
    "## Holdout Yöntemi (Sınama Seti Yaklaşımı)\n",
    "* Veriyi ikiye ayırdıktan sonra bir kısmı ile eriyi eğittikten sonra kalan kısmı ile veriyi test etmektir\n",
    "* Genellikle 2/3 oranında eğitime, 1/3 oranında teste ayrılır\n",
    "\n",
    "## K-Katlı Çapraz Doğrulama (K Fold Cross Validation)\n",
    "* Eğitim ve test seti olarak iyi ayrılır. \n",
    "* Fakat k adet parçaya ayrılır. \n",
    "* **1. İterasyon:** Bir tanesi dışarıda bırakılır. Kalan parçalar, dışarıda birakılan bir parça ile test edilir.\n",
    "* **2.İterasyon:** Başka bir parça dışarıda bırakılır. Tekrar kalan parçalar ile dışarıda bırakılan parça test edilir.\n",
    "* **İterasyon bu şekilde devam eder**\n",
    "\n",
    "## Leave One Out\n",
    "* Değişken ve gözlem sayısı aynıdır\n",
    "* Genelde kullanılmaz\n",
    "\n",
    "## Bootstrap Yeniden Örnekleme Yöntemi\n",
    "* Yerine koyma yöntemi kullanılır\n",
    "* Her örneklem için hatanın ortalaması alınır"
   ]
  },
  {
   "cell_type": "markdown",
   "id": "a7a8fbc2-0cdd-4b67-be65-d5359407ef3c",
   "metadata": {},
   "source": [
    "# Model Başarı Değerlendirme Yöntemleri\n",
    "<br><br>\n",
    "**Hata Toplamı Ortalaması**\n",
    "\n",
    "MSE olarak belirtilir\n",
    "\n",
    "${\\displaystyle MSE = {\\frac {1}{n}} {\\sum_{i=1}^n (y_i - {\\hat y_{i}})^2}}$\n",
    "\n",
    "* ${\\displaystyle \\frac {1}{n}}$: Gözlem sayısı\n",
    "* ${\\displaystyle y_i}$: Gerçek değerler\n",
    "* ${\\displaystyle {\\hat y_{i}}}$: Tahmini değerler\n",
    "<br><br>\n",
    "\n",
    "**Hata Toplamı Ortalaması Karekökü**\n",
    "<br>\n",
    "${\\displaystyle RMSE = {\\sqrt {{\\frac {1}{n}} {\\sum_{i=1}^n (y_i - {\\hat y_{i}})^2}}}}$\n",
    "<br><br>\n",
    "**Mutlak Hata Ortalaması**\n",
    "<br>\n",
    "${\\displaystyle MAE = {\\frac {1}{n}} {\\sum_{i=1}^n {|y_i - {\\hat y_{i}}|}}}$"
   ]
  },
  {
   "cell_type": "markdown",
   "id": "f220d8f1-2433-4ec9-8b80-6f53768db80d",
   "metadata": {},
   "source": [
    "**Karışıklık Matrisi**"
   ]
  },
  {
   "cell_type": "code",
   "execution_count": 3,
   "id": "5a313dd1-3010-444c-a59e-71e188ac9769",
   "metadata": {
    "jupyter": {
     "source_hidden": true
    },
    "tags": []
   },
   "outputs": [
    {
     "data": {
      "text/html": [
       "<div>\n",
       "<style scoped>\n",
       "    .dataframe tbody tr th:only-of-type {\n",
       "        vertical-align: middle;\n",
       "    }\n",
       "\n",
       "    .dataframe tbody tr th {\n",
       "        vertical-align: top;\n",
       "    }\n",
       "\n",
       "    .dataframe thead th {\n",
       "        text-align: right;\n",
       "    }\n",
       "</style>\n",
       "<table border=\"1\" class=\"dataframe\">\n",
       "  <thead>\n",
       "    <tr style=\"text-align: right;\">\n",
       "      <th></th>\n",
       "      <th>gercek_sinif</th>\n",
       "      <th>tahmin_edilen</th>\n",
       "      <th>sonuc</th>\n",
       "    </tr>\n",
       "  </thead>\n",
       "  <tbody>\n",
       "    <tr>\n",
       "      <th>0</th>\n",
       "      <td>1</td>\n",
       "      <td>1</td>\n",
       "      <td>True Pozitif (TP)</td>\n",
       "    </tr>\n",
       "    <tr>\n",
       "      <th>1</th>\n",
       "      <td>1</td>\n",
       "      <td>0</td>\n",
       "      <td>False Negatif (FN)</td>\n",
       "    </tr>\n",
       "    <tr>\n",
       "      <th>2</th>\n",
       "      <td>0</td>\n",
       "      <td>1</td>\n",
       "      <td>False Pozitif (FP)</td>\n",
       "    </tr>\n",
       "    <tr>\n",
       "      <th>3</th>\n",
       "      <td>0</td>\n",
       "      <td>0</td>\n",
       "      <td>True Negatif (TN)</td>\n",
       "    </tr>\n",
       "  </tbody>\n",
       "</table>\n",
       "</div>"
      ],
      "text/plain": [
       "   gercek_sinif  tahmin_edilen               sonuc\n",
       "0             1              1   True Pozitif (TP)\n",
       "1             1              0  False Negatif (FN)\n",
       "2             0              1  False Pozitif (FP)\n",
       "3             0              0   True Negatif (TN)"
      ]
     },
     "execution_count": 3,
     "metadata": {},
     "output_type": "execute_result"
    }
   ],
   "source": [
    "import pandas as pd\n",
    "gercek_sinif = [1,1,0,0]\n",
    "tahmin_edilen = [1,0,1,0]\n",
    "sonuc = [\"True Pozitif (TP)\",\"False Negatif (FN)\",\"False Pozitif (FP)\",\"True Negatif (TN)\"]\n",
    "df = pd.DataFrame({\"gercek_sinif\":gercek_sinif,\"tahmin_edilen\":tahmin_edilen,\"sonuc\":sonuc})\n",
    "df"
   ]
  },
  {
   "cell_type": "markdown",
   "id": "1e58314a-43ca-4ada-a714-1e1c6ab4e957",
   "metadata": {},
   "source": [
    "**Doğruluk:** (TP+TN) / Hepsi\n",
    "<br>\n",
    "**Hata Oranı:** (FN+FP) / Hepsi\n",
    "<br>\n",
    "**Kesinlik:** TP / (TP+FP)\n",
    "<br>\n",
    "**Anma:** TP / (TP+FN)"
   ]
  },
  {
   "cell_type": "markdown",
   "id": "2b7ccbc1-e7b4-469d-97bc-a73d6191f37a",
   "metadata": {},
   "source": [
    "**ROC Eğrisi (Alıcı İşlem Karakteristiği)**\n",
    "\n",
    "Bir sınıflandırıcının ya da birden fazla sınıflandırıcının başarısının değerlendirilmesi için kullanılır"
   ]
  },
  {
   "cell_type": "markdown",
   "id": "60f0b886-1280-45bb-9914-134bcfd67597",
   "metadata": {},
   "source": [
    "# Yanlılık - Varyans Değiş Tokuşu (Bias - Variance Tradeoff)\n",
    "Modellerin tahmin başarılarının değerlendirilmesidir\n",
    "<br>\n",
    "**Underfitting:** Yüksek Yanlılık\n",
    "<br>\n",
    "**Doğru Model:** Düşük yanlılık, düşük varyans\n",
    "<br>\n",
    "**Overfitting:** Yüksek varyans"
   ]
  },
  {
   "cell_type": "markdown",
   "id": "45afdd2f-ef98-493a-92a1-a60478335f2f",
   "metadata": {},
   "source": [
    "# Model Tahmin Performansını Artırmak\n",
    "* Parametre\n",
    "    * Modelin kendi üreteceği içsel parametrelerdir\n",
    "* Hiperparametre\n",
    "    * Kullanılan makine öğrenmesi algoritmalarnın dışsal parametreleridir\n",
    "* Parametre Tuning\n",
    "    * İki anlamda kullanılır\n",
    "        * Modelin kendi içindeki parametreleri tune etmektir (ayarlamak)\n",
    "        * Modelin hiperparametrelerini tune etmektir\n",
    "* Model Tuning\n",
    "    * Modelin tamamını ayarlamaktır\n",
    "    * Modelin tamamını kapsar"
   ]
  },
  {
   "cell_type": "code",
   "execution_count": null,
   "id": "0fdfbb3c-bde5-4234-bb3b-b5904551c1de",
   "metadata": {},
   "outputs": [],
   "source": []
  }
 ],
 "metadata": {
  "kernelspec": {
   "display_name": "Python 3 (ipykernel)",
   "language": "python",
   "name": "python3"
  },
  "language_info": {
   "codemirror_mode": {
    "name": "ipython",
    "version": 3
   },
   "file_extension": ".py",
   "mimetype": "text/x-python",
   "name": "python",
   "nbconvert_exporter": "python",
   "pygments_lexer": "ipython3",
   "version": "3.10.2"
  }
 },
 "nbformat": 4,
 "nbformat_minor": 5
}
