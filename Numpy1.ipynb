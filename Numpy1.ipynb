{
 "cells": [
  {
   "cell_type": "markdown",
   "id": "3cd3d0b0-a333-4fb6-b0f9-38d2f9bae52c",
   "metadata": {},
   "source": [
    "# Neden Numpy?"
   ]
  },
  {
   "cell_type": "code",
   "execution_count": 1,
   "id": "01eae09c-f0c6-4957-8d7b-f9c68d406796",
   "metadata": {},
   "outputs": [],
   "source": [
    "import numpy as np"
   ]
  },
  {
   "cell_type": "code",
   "execution_count": 2,
   "id": "d2c74110-b95e-4dc1-ba12-7c1a9caefdd9",
   "metadata": {},
   "outputs": [
    {
     "data": {
      "text/plain": [
       "[2, 3, 4, 5]"
      ]
     },
     "execution_count": 2,
     "metadata": {},
     "output_type": "execute_result"
    }
   ],
   "source": [
    "a = [1,2,3,4]\n",
    "b = [2,3,4,5]\n",
    "a\n",
    "b"
   ]
  },
  {
   "cell_type": "code",
   "execution_count": 3,
   "id": "5300e0d1-c0e9-4aeb-bc38-d333161d563d",
   "metadata": {},
   "outputs": [
    {
     "data": {
      "text/plain": [
       "[1, 2, 3, 4]"
      ]
     },
     "execution_count": 3,
     "metadata": {},
     "output_type": "execute_result"
    }
   ],
   "source": [
    "a"
   ]
  },
  {
   "cell_type": "code",
   "execution_count": 4,
   "id": "43b3189a-a492-4f4d-8bd9-3c309c92f283",
   "metadata": {},
   "outputs": [
    {
     "data": {
      "text/plain": [
       "[2, 3, 4, 5]"
      ]
     },
     "execution_count": 4,
     "metadata": {},
     "output_type": "execute_result"
    }
   ],
   "source": [
    "b"
   ]
  },
  {
   "cell_type": "code",
   "execution_count": 5,
   "id": "75aa75d7-3a2a-4761-a9e4-1d70a6b8e154",
   "metadata": {},
   "outputs": [
    {
     "data": {
      "text/plain": [
       "[2, 6, 12, 20]"
      ]
     },
     "execution_count": 5,
     "metadata": {},
     "output_type": "execute_result"
    }
   ],
   "source": [
    "ab = []\n",
    "\n",
    "for i in range(0,len(a)):\n",
    "    ab.append(a[i]*b[i])\n",
    "    \n",
    "ab"
   ]
  },
  {
   "cell_type": "code",
   "execution_count": 6,
   "id": "83ebbfc1-2993-428a-9a3d-26dd9b3b3917",
   "metadata": {},
   "outputs": [],
   "source": [
    "a = np.array([1,2,3,4])\n",
    "b = np.array([2,3,4,5])"
   ]
  },
  {
   "cell_type": "code",
   "execution_count": 7,
   "id": "bce0c537-d536-4466-bdf7-6b6df4fa751f",
   "metadata": {},
   "outputs": [
    {
     "data": {
      "text/plain": [
       "array([ 2,  6, 12, 20])"
      ]
     },
     "execution_count": 7,
     "metadata": {},
     "output_type": "execute_result"
    }
   ],
   "source": [
    "a*b"
   ]
  },
  {
   "cell_type": "code",
   "execution_count": 8,
   "id": "d9c98008-c073-463e-a4f2-98957b806038",
   "metadata": {},
   "outputs": [
    {
     "data": {
      "text/plain": [
       "array([1, 2, 3, 4, 5])"
      ]
     },
     "execution_count": 8,
     "metadata": {},
     "output_type": "execute_result"
    }
   ],
   "source": [
    "np.array([1,2,3,4,5])"
   ]
  },
  {
   "cell_type": "code",
   "execution_count": 9,
   "id": "5ca7cf16-dddc-4987-856a-589a57622791",
   "metadata": {},
   "outputs": [],
   "source": [
    "a = np.array([1,2,3,4,5])"
   ]
  },
  {
   "cell_type": "code",
   "execution_count": 10,
   "id": "204bc796-e0eb-4d75-8a12-346a1d2a6389",
   "metadata": {},
   "outputs": [
    {
     "data": {
      "text/plain": [
       "numpy.ndarray"
      ]
     },
     "execution_count": 10,
     "metadata": {},
     "output_type": "execute_result"
    }
   ],
   "source": [
    "type(a)"
   ]
  },
  {
   "cell_type": "code",
   "execution_count": 11,
   "id": "28468d9c-5233-4d83-a843-bf901c62a194",
   "metadata": {},
   "outputs": [
    {
     "data": {
      "text/plain": [
       "array([3.14, 4.  , 2.  , 3.  ])"
      ]
     },
     "execution_count": 11,
     "metadata": {},
     "output_type": "execute_result"
    }
   ],
   "source": [
    "np.array([3.14,4,2,3])"
   ]
  },
  {
   "cell_type": "code",
   "execution_count": 12,
   "id": "be1315c8-412e-4558-9631-453241e14d45",
   "metadata": {},
   "outputs": [
    {
     "data": {
      "text/plain": [
       "array([3.14, 4.  , 2.  , 3.  ], dtype=float32)"
      ]
     },
     "execution_count": 12,
     "metadata": {},
     "output_type": "execute_result"
    }
   ],
   "source": [
    "np.array([3.14,4,2,3],dtype=\"float32\")"
   ]
  },
  {
   "cell_type": "code",
   "execution_count": 13,
   "id": "007db347-2e45-4e73-a119-6e42404ca172",
   "metadata": {},
   "outputs": [
    {
     "data": {
      "text/plain": [
       "array([3, 4, 2, 3])"
      ]
     },
     "execution_count": 13,
     "metadata": {},
     "output_type": "execute_result"
    }
   ],
   "source": [
    "np.array([3.14,4,2,3],dtype=\"int\")"
   ]
  },
  {
   "cell_type": "markdown",
   "id": "86e23c4d-b27e-420a-ba95-08e0a155b8e7",
   "metadata": {
    "tags": []
   },
   "source": [
    "# Sıfırdan array oluşturma"
   ]
  },
  {
   "cell_type": "code",
   "execution_count": 14,
   "id": "e5a06abd-c1c0-4342-b777-74e2d5516878",
   "metadata": {},
   "outputs": [
    {
     "data": {
      "text/plain": [
       "array([0, 0, 0, 0, 0, 0, 0, 0, 0, 0])"
      ]
     },
     "execution_count": 14,
     "metadata": {},
     "output_type": "execute_result"
    }
   ],
   "source": [
    "np.zeros(10,dtype=\"int\")"
   ]
  },
  {
   "cell_type": "code",
   "execution_count": 15,
   "id": "4f0c2809-936e-4359-bd64-8aed238893a6",
   "metadata": {},
   "outputs": [
    {
     "data": {
      "text/plain": [
       "array([[1, 1, 1, 1, 1],\n",
       "       [1, 1, 1, 1, 1],\n",
       "       [1, 1, 1, 1, 1]])"
      ]
     },
     "execution_count": 15,
     "metadata": {},
     "output_type": "execute_result"
    }
   ],
   "source": [
    "np.ones((3,5),dtype=\"int\")"
   ]
  },
  {
   "cell_type": "code",
   "execution_count": 16,
   "id": "afcd2e7f-27ef-454e-aeed-687cc9328a55",
   "metadata": {},
   "outputs": [
    {
     "data": {
      "text/plain": [
       "array([[3, 3, 3, 3, 3],\n",
       "       [3, 3, 3, 3, 3],\n",
       "       [3, 3, 3, 3, 3]])"
      ]
     },
     "execution_count": 16,
     "metadata": {},
     "output_type": "execute_result"
    }
   ],
   "source": [
    "np.full((3,5),3)"
   ]
  },
  {
   "cell_type": "code",
   "execution_count": 17,
   "id": "873e8271-f292-4e79-9bba-efd2d7ffdf80",
   "metadata": {},
   "outputs": [
    {
     "data": {
      "text/plain": [
       "array([ 0,  3,  6,  9, 12, 15, 18, 21, 24, 27, 30])"
      ]
     },
     "execution_count": 17,
     "metadata": {},
     "output_type": "execute_result"
    }
   ],
   "source": [
    "np.arange(0,31,3)"
   ]
  },
  {
   "cell_type": "code",
   "execution_count": 18,
   "id": "f56ff75e-bf7b-4d31-a0c7-1f8669080207",
   "metadata": {},
   "outputs": [
    {
     "data": {
      "text/plain": [
       "array([0.        , 0.11111111, 0.22222222, 0.33333333, 0.44444444,\n",
       "       0.55555556, 0.66666667, 0.77777778, 0.88888889, 1.        ])"
      ]
     },
     "execution_count": 18,
     "metadata": {},
     "output_type": "execute_result"
    }
   ],
   "source": [
    "np.linspace(0,1,10)"
   ]
  },
  {
   "cell_type": "code",
   "execution_count": 19,
   "id": "dfac943b-c376-4182-ad1c-bcaeb5083ae2",
   "metadata": {},
   "outputs": [
    {
     "data": {
      "text/plain": [
       "array([[ 9.91771397, 12.99454803, 11.30397274,  2.66995097],\n",
       "       [13.59870484, 14.6488518 ,  9.49691074,  0.68931642],\n",
       "       [ 3.85105154, 16.3179288 ,  7.01595448,  1.74481338]])"
      ]
     },
     "execution_count": 19,
     "metadata": {},
     "output_type": "execute_result"
    }
   ],
   "source": [
    "np.random.normal(10,4,(3,4))"
   ]
  },
  {
   "cell_type": "code",
   "execution_count": 20,
   "id": "5d9d9cc3-dfaf-4cf8-b26a-d87b58c12d0e",
   "metadata": {},
   "outputs": [
    {
     "data": {
      "text/plain": [
       "array([[5, 2, 5],\n",
       "       [1, 2, 5],\n",
       "       [1, 6, 7]])"
      ]
     },
     "execution_count": 20,
     "metadata": {},
     "output_type": "execute_result"
    }
   ],
   "source": [
    "np.random.randint(0,10,(3,3))"
   ]
  },
  {
   "cell_type": "markdown",
   "id": "faf76789-8ec6-4682-ae94-ca24c90a5823",
   "metadata": {},
   "source": [
    "# Özellikler"
   ]
  },
  {
   "cell_type": "markdown",
   "id": "f88a39cc-1a80-41e3-8433-5c2ded78f88c",
   "metadata": {},
   "source": [
    "* **ndim**: _boyut sayısı_\n",
    "* **shape**: _boyut bilgisi_\n",
    "* **size**: _toplam eleman sayısı_\n",
    "* **dtype**: _array veri tipi_"
   ]
  },
  {
   "cell_type": "code",
   "execution_count": 21,
   "id": "518f97bc-2589-43b0-b5e4-fd2a62ef6a55",
   "metadata": {},
   "outputs": [
    {
     "data": {
      "text/plain": [
       "array([4, 5, 8, 4, 0, 3, 5, 0, 0, 5])"
      ]
     },
     "execution_count": 21,
     "metadata": {},
     "output_type": "execute_result"
    }
   ],
   "source": [
    "np.random.randint(10,size = 10)"
   ]
  },
  {
   "cell_type": "code",
   "execution_count": 22,
   "id": "f934efa7-1205-42b1-bb02-a9c59839c7eb",
   "metadata": {},
   "outputs": [],
   "source": [
    "a = np.random.randint(10,size = 10)"
   ]
  },
  {
   "cell_type": "code",
   "execution_count": 23,
   "id": "04dc921a-fc36-4cda-8b42-b4aae48b56cf",
   "metadata": {},
   "outputs": [
    {
     "data": {
      "text/plain": [
       "1"
      ]
     },
     "execution_count": 23,
     "metadata": {},
     "output_type": "execute_result"
    }
   ],
   "source": [
    "a.ndim"
   ]
  },
  {
   "cell_type": "code",
   "execution_count": 24,
   "id": "f8c7b580-1668-4d6f-9a0e-cdc7a62ed7bd",
   "metadata": {},
   "outputs": [
    {
     "data": {
      "text/plain": [
       "(10,)"
      ]
     },
     "execution_count": 24,
     "metadata": {},
     "output_type": "execute_result"
    }
   ],
   "source": [
    "a.shape"
   ]
  },
  {
   "cell_type": "code",
   "execution_count": 25,
   "id": "07b0d8e7-9b53-4918-a285-a95886c3156b",
   "metadata": {},
   "outputs": [
    {
     "data": {
      "text/plain": [
       "10"
      ]
     },
     "execution_count": 25,
     "metadata": {},
     "output_type": "execute_result"
    }
   ],
   "source": [
    "a.size"
   ]
  },
  {
   "cell_type": "code",
   "execution_count": 26,
   "id": "ba1533bf-ea85-49a4-b977-7110dea366fd",
   "metadata": {},
   "outputs": [
    {
     "data": {
      "text/plain": [
       "dtype('int32')"
      ]
     },
     "execution_count": 26,
     "metadata": {},
     "output_type": "execute_result"
    }
   ],
   "source": [
    "a.dtype"
   ]
  },
  {
   "cell_type": "code",
   "execution_count": 27,
   "id": "f48fc513-8b80-4b1d-b098-0e6556b74b9f",
   "metadata": {},
   "outputs": [],
   "source": [
    "b = np.random.randint(10,size= (3,5))"
   ]
  },
  {
   "cell_type": "code",
   "execution_count": 28,
   "id": "483c1c1f-09d8-4cac-83f2-6215b9fc0cce",
   "metadata": {},
   "outputs": [
    {
     "data": {
      "text/plain": [
       "array([[9, 7, 6, 8, 7],\n",
       "       [8, 3, 6, 6, 8],\n",
       "       [3, 6, 1, 1, 4]])"
      ]
     },
     "execution_count": 28,
     "metadata": {},
     "output_type": "execute_result"
    }
   ],
   "source": [
    "b"
   ]
  },
  {
   "cell_type": "code",
   "execution_count": 29,
   "id": "dc0dd54d-2fc5-4729-b47e-e07d8d12c5bb",
   "metadata": {},
   "outputs": [
    {
     "data": {
      "text/plain": [
       "2"
      ]
     },
     "execution_count": 29,
     "metadata": {},
     "output_type": "execute_result"
    }
   ],
   "source": [
    "b.ndim"
   ]
  },
  {
   "cell_type": "code",
   "execution_count": 30,
   "id": "e398fbb6-8d0e-4257-828f-664cb2f2d99b",
   "metadata": {},
   "outputs": [
    {
     "data": {
      "text/plain": [
       "(3, 5)"
      ]
     },
     "execution_count": 30,
     "metadata": {},
     "output_type": "execute_result"
    }
   ],
   "source": [
    "b.shape"
   ]
  },
  {
   "cell_type": "code",
   "execution_count": 31,
   "id": "4f3667bf-11e8-4e1b-9a45-a2c8ce291690",
   "metadata": {},
   "outputs": [
    {
     "data": {
      "text/plain": [
       "15"
      ]
     },
     "execution_count": 31,
     "metadata": {},
     "output_type": "execute_result"
    }
   ],
   "source": [
    "b.size"
   ]
  },
  {
   "cell_type": "code",
   "execution_count": 32,
   "id": "498c928e-f672-4fff-be0e-d0ee81d1b147",
   "metadata": {},
   "outputs": [
    {
     "data": {
      "text/plain": [
       "dtype('int32')"
      ]
     },
     "execution_count": 32,
     "metadata": {},
     "output_type": "execute_result"
    }
   ],
   "source": [
    "b.dtype"
   ]
  },
  {
   "cell_type": "code",
   "execution_count": 33,
   "id": "85467a87-b82d-4049-8373-3376a325ba18",
   "metadata": {},
   "outputs": [
    {
     "data": {
      "text/plain": [
       "array([1, 2, 3, 4, 5, 6, 7, 8, 9])"
      ]
     },
     "execution_count": 33,
     "metadata": {},
     "output_type": "execute_result"
    }
   ],
   "source": [
    "np.arange(1,10)"
   ]
  },
  {
   "cell_type": "code",
   "execution_count": 34,
   "id": "ce8a0257-b094-404b-a4dc-55298b5492db",
   "metadata": {},
   "outputs": [
    {
     "data": {
      "text/plain": [
       "array([[1, 2, 3],\n",
       "       [4, 5, 6],\n",
       "       [7, 8, 9]])"
      ]
     },
     "execution_count": 34,
     "metadata": {},
     "output_type": "execute_result"
    }
   ],
   "source": [
    "np.arange(1,10).reshape((3,3))"
   ]
  },
  {
   "cell_type": "code",
   "execution_count": 35,
   "id": "5054dd59-6293-4f02-aea3-75568f6dcf04",
   "metadata": {},
   "outputs": [],
   "source": [
    "a = np.arange(1,10)"
   ]
  },
  {
   "cell_type": "code",
   "execution_count": 36,
   "id": "6f11a025-b089-48a9-9e17-553b6b535744",
   "metadata": {},
   "outputs": [
    {
     "data": {
      "text/plain": [
       "array([1, 2, 3, 4, 5, 6, 7, 8, 9])"
      ]
     },
     "execution_count": 36,
     "metadata": {},
     "output_type": "execute_result"
    }
   ],
   "source": [
    "a"
   ]
  },
  {
   "cell_type": "code",
   "execution_count": 37,
   "id": "b0d23c6b-7c81-421e-b95f-9f81149d7136",
   "metadata": {},
   "outputs": [
    {
     "data": {
      "text/plain": [
       "1"
      ]
     },
     "execution_count": 37,
     "metadata": {},
     "output_type": "execute_result"
    }
   ],
   "source": [
    "a.ndim"
   ]
  },
  {
   "cell_type": "code",
   "execution_count": 38,
   "id": "3c68fef9-3d64-4acd-b373-6dd23a2c4003",
   "metadata": {},
   "outputs": [],
   "source": [
    "b = a.reshape((1,9))"
   ]
  },
  {
   "cell_type": "code",
   "execution_count": 39,
   "id": "7d51b977-25a1-471f-9fb3-9a282e0de649",
   "metadata": {},
   "outputs": [
    {
     "data": {
      "text/plain": [
       "array([[1, 2, 3, 4, 5, 6, 7, 8, 9]])"
      ]
     },
     "execution_count": 39,
     "metadata": {},
     "output_type": "execute_result"
    }
   ],
   "source": [
    "b"
   ]
  },
  {
   "cell_type": "code",
   "execution_count": 40,
   "id": "cbd5aab6-084b-4868-a0cb-5d2d9b63ed26",
   "metadata": {},
   "outputs": [
    {
     "data": {
      "text/plain": [
       "2"
      ]
     },
     "execution_count": 40,
     "metadata": {},
     "output_type": "execute_result"
    }
   ],
   "source": [
    "b.ndim"
   ]
  },
  {
   "cell_type": "markdown",
   "id": "9689d95b-de2c-4235-b72b-bef76cc1b32d",
   "metadata": {},
   "source": [
    "# Array Birleştirme (Concatenation)"
   ]
  },
  {
   "cell_type": "code",
   "execution_count": 41,
   "id": "49a9e718-ea8e-4203-9b5e-bf32fcacd926",
   "metadata": {},
   "outputs": [],
   "source": [
    "x = np.array([1,2,3])\n",
    "y = np.array([4,5,6])"
   ]
  },
  {
   "cell_type": "code",
   "execution_count": 42,
   "id": "9cc8bdb2-c0bd-4ac8-9474-cddd1bcc1f6b",
   "metadata": {},
   "outputs": [
    {
     "data": {
      "text/plain": [
       "array([1, 2, 3, 4, 5, 6])"
      ]
     },
     "execution_count": 42,
     "metadata": {},
     "output_type": "execute_result"
    }
   ],
   "source": [
    "np.concatenate([x,y])"
   ]
  },
  {
   "cell_type": "code",
   "execution_count": 43,
   "id": "881d9488-f8e5-46cb-9487-49c32d5d376f",
   "metadata": {},
   "outputs": [],
   "source": [
    "z = np.array([7,8,9])"
   ]
  },
  {
   "cell_type": "code",
   "execution_count": 44,
   "id": "92a487d1-9532-4a92-b6b7-91296374aae1",
   "metadata": {},
   "outputs": [
    {
     "data": {
      "text/plain": [
       "array([1, 2, 3, 4, 5, 6, 7, 8, 9])"
      ]
     },
     "execution_count": 44,
     "metadata": {},
     "output_type": "execute_result"
    }
   ],
   "source": [
    "np.concatenate([x,y,z])"
   ]
  },
  {
   "cell_type": "markdown",
   "id": "5ad11c72-bd36-4e7d-b8e5-401c3a96195e",
   "metadata": {},
   "source": [
    "# İki boyut"
   ]
  },
  {
   "cell_type": "code",
   "execution_count": 45,
   "id": "9d206d2d-2e0c-47be-b1b0-2ebc3361c185",
   "metadata": {},
   "outputs": [],
   "source": [
    "a = np.array([[1,2,3],\n",
    "             [4,5,6]])"
   ]
  },
  {
   "cell_type": "code",
   "execution_count": 46,
   "id": "738afa12-88a8-498a-8147-7219fe9295dc",
   "metadata": {},
   "outputs": [
    {
     "data": {
      "text/plain": [
       "array([[1, 2, 3],\n",
       "       [4, 5, 6],\n",
       "       [1, 2, 3],\n",
       "       [4, 5, 6]])"
      ]
     },
     "execution_count": 46,
     "metadata": {},
     "output_type": "execute_result"
    }
   ],
   "source": [
    "np.concatenate([a,a])"
   ]
  },
  {
   "cell_type": "code",
   "execution_count": 47,
   "id": "2af85b31-88ca-4bcb-be76-65d1f6ad3bab",
   "metadata": {},
   "outputs": [
    {
     "data": {
      "text/plain": [
       "array([[1, 2, 3, 1, 2, 3],\n",
       "       [4, 5, 6, 4, 5, 6]])"
      ]
     },
     "execution_count": 47,
     "metadata": {},
     "output_type": "execute_result"
    }
   ],
   "source": [
    "np.concatenate([a,a],axis=1)"
   ]
  },
  {
   "cell_type": "markdown",
   "id": "12f6b83c-f96f-4dd8-b6dd-59f5f01f2461",
   "metadata": {},
   "source": [
    "# Array Ayırma (Splitting)"
   ]
  },
  {
   "cell_type": "code",
   "execution_count": 48,
   "id": "17c05d78-a32d-4f1f-9272-d604007cc780",
   "metadata": {},
   "outputs": [],
   "source": [
    "x = np.array([1,2,3,99,99,3,2,1])"
   ]
  },
  {
   "cell_type": "code",
   "execution_count": 49,
   "id": "79f21e7c-d102-45f2-af1e-a83adb099816",
   "metadata": {},
   "outputs": [
    {
     "data": {
      "text/plain": [
       "[array([1, 2, 3]), array([99, 99]), array([3, 2, 1])]"
      ]
     },
     "execution_count": 49,
     "metadata": {},
     "output_type": "execute_result"
    }
   ],
   "source": [
    "np.split(x, [3,5])"
   ]
  },
  {
   "cell_type": "code",
   "execution_count": 50,
   "id": "717ad1a1-2124-46c3-9334-b2bc44f5146e",
   "metadata": {},
   "outputs": [],
   "source": [
    "a,b,c = np.split(x, [3,5])"
   ]
  },
  {
   "cell_type": "code",
   "execution_count": 51,
   "id": "fbac1fd7-710e-4716-9f8e-7d7029ed407c",
   "metadata": {},
   "outputs": [
    {
     "data": {
      "text/plain": [
       "array([1, 2, 3])"
      ]
     },
     "execution_count": 51,
     "metadata": {},
     "output_type": "execute_result"
    }
   ],
   "source": [
    "a"
   ]
  },
  {
   "cell_type": "code",
   "execution_count": 52,
   "id": "b473f5a2-475f-4f5c-906d-98cf60e9c88d",
   "metadata": {},
   "outputs": [
    {
     "data": {
      "text/plain": [
       "array([99, 99])"
      ]
     },
     "execution_count": 52,
     "metadata": {},
     "output_type": "execute_result"
    }
   ],
   "source": [
    "b"
   ]
  },
  {
   "cell_type": "code",
   "execution_count": 53,
   "id": "0016ceb2-334a-4ff5-bb50-f53a96b649ce",
   "metadata": {},
   "outputs": [
    {
     "data": {
      "text/plain": [
       "array([3, 2, 1])"
      ]
     },
     "execution_count": 53,
     "metadata": {},
     "output_type": "execute_result"
    }
   ],
   "source": [
    "c"
   ]
  },
  {
   "cell_type": "markdown",
   "id": "e8acb284-087f-4a6b-aac6-94e393855d6b",
   "metadata": {},
   "source": [
    "# İki Boyutlu Ayırma"
   ]
  },
  {
   "cell_type": "code",
   "execution_count": 54,
   "id": "7206549e-b822-4240-8f38-55f6741f9b9d",
   "metadata": {},
   "outputs": [
    {
     "data": {
      "text/plain": [
       "array([[ 0,  1,  2,  3],\n",
       "       [ 4,  5,  6,  7],\n",
       "       [ 8,  9, 10, 11],\n",
       "       [12, 13, 14, 15]])"
      ]
     },
     "execution_count": 54,
     "metadata": {},
     "output_type": "execute_result"
    }
   ],
   "source": [
    "m = np.arange(16).reshape(4,4)\n",
    "m"
   ]
  },
  {
   "cell_type": "code",
   "execution_count": 55,
   "id": "206d0718-bac5-466b-b14f-bc6ce3941c3f",
   "metadata": {},
   "outputs": [
    {
     "data": {
      "text/plain": [
       "[array([[0, 1, 2, 3],\n",
       "        [4, 5, 6, 7]]),\n",
       " array([[ 8,  9, 10, 11],\n",
       "        [12, 13, 14, 15]])]"
      ]
     },
     "execution_count": 55,
     "metadata": {},
     "output_type": "execute_result"
    }
   ],
   "source": [
    "np.vsplit(m,[2])"
   ]
  },
  {
   "cell_type": "code",
   "execution_count": 56,
   "id": "ef8683e3-50e3-4301-9857-f1b9b7972cf4",
   "metadata": {},
   "outputs": [],
   "source": [
    "ust , alt = np.vsplit(m,[2])"
   ]
  },
  {
   "cell_type": "code",
   "execution_count": 57,
   "id": "9a34f678-1d95-473d-9525-fbd03727c6aa",
   "metadata": {},
   "outputs": [
    {
     "data": {
      "text/plain": [
       "array([[0, 1, 2, 3],\n",
       "       [4, 5, 6, 7]])"
      ]
     },
     "execution_count": 57,
     "metadata": {},
     "output_type": "execute_result"
    }
   ],
   "source": [
    "ust"
   ]
  },
  {
   "cell_type": "code",
   "execution_count": 58,
   "id": "4fa6cd8a-cc0f-416d-bcd9-03b6689c3e7b",
   "metadata": {},
   "outputs": [
    {
     "data": {
      "text/plain": [
       "array([[ 8,  9, 10, 11],\n",
       "       [12, 13, 14, 15]])"
      ]
     },
     "execution_count": 58,
     "metadata": {},
     "output_type": "execute_result"
    }
   ],
   "source": [
    "alt"
   ]
  },
  {
   "cell_type": "code",
   "execution_count": 59,
   "id": "3dc448cc-c6b0-449b-be41-16c19e9a2558",
   "metadata": {},
   "outputs": [
    {
     "data": {
      "text/plain": [
       "[array([[ 0,  1],\n",
       "        [ 4,  5],\n",
       "        [ 8,  9],\n",
       "        [12, 13]]),\n",
       " array([[ 2,  3],\n",
       "        [ 6,  7],\n",
       "        [10, 11],\n",
       "        [14, 15]])]"
      ]
     },
     "execution_count": 59,
     "metadata": {},
     "output_type": "execute_result"
    }
   ],
   "source": [
    "np.hsplit(m,[2])"
   ]
  },
  {
   "cell_type": "code",
   "execution_count": 60,
   "id": "bbefeba1-6638-4b6b-b31e-5606769f3e99",
   "metadata": {},
   "outputs": [],
   "source": [
    "sol,sag = np.hsplit(m,[2])"
   ]
  },
  {
   "cell_type": "code",
   "execution_count": 61,
   "id": "ba4f3c72-8b50-4f40-8409-fb6e2f69afbe",
   "metadata": {},
   "outputs": [
    {
     "data": {
      "text/plain": [
       "array([[ 0,  1],\n",
       "       [ 4,  5],\n",
       "       [ 8,  9],\n",
       "       [12, 13]])"
      ]
     },
     "execution_count": 61,
     "metadata": {},
     "output_type": "execute_result"
    }
   ],
   "source": [
    "sol"
   ]
  },
  {
   "cell_type": "code",
   "execution_count": 62,
   "id": "9232c43c-0602-49b2-af6d-0ed7b04aa7fa",
   "metadata": {},
   "outputs": [
    {
     "data": {
      "text/plain": [
       "array([[ 2,  3],\n",
       "       [ 6,  7],\n",
       "       [10, 11],\n",
       "       [14, 15]])"
      ]
     },
     "execution_count": 62,
     "metadata": {},
     "output_type": "execute_result"
    }
   ],
   "source": [
    "sag"
   ]
  },
  {
   "cell_type": "markdown",
   "id": "cd0e00cb-0e57-44a1-9e5c-02d0ea7128b1",
   "metadata": {},
   "source": [
    "# Array Sıralama (Sorting)"
   ]
  },
  {
   "cell_type": "code",
   "execution_count": 63,
   "id": "f163e066-9c3f-4fdf-baf5-ee8df03bdf6f",
   "metadata": {},
   "outputs": [],
   "source": [
    "v = np.array([2,1,4,3,5])"
   ]
  },
  {
   "cell_type": "code",
   "execution_count": 64,
   "id": "2163364f-ca3f-4d43-a5e9-71e3bde0b532",
   "metadata": {},
   "outputs": [
    {
     "data": {
      "text/plain": [
       "array([2, 1, 4, 3, 5])"
      ]
     },
     "execution_count": 64,
     "metadata": {},
     "output_type": "execute_result"
    }
   ],
   "source": [
    "v"
   ]
  },
  {
   "cell_type": "code",
   "execution_count": 65,
   "id": "abdaa5ba-3681-4928-85da-7baee54c75a6",
   "metadata": {},
   "outputs": [
    {
     "data": {
      "text/plain": [
       "array([1, 2, 3, 4, 5])"
      ]
     },
     "execution_count": 65,
     "metadata": {},
     "output_type": "execute_result"
    }
   ],
   "source": [
    "np.sort(v)"
   ]
  },
  {
   "cell_type": "code",
   "execution_count": 66,
   "id": "6948bc58-abbe-40ab-8dad-d9919310a963",
   "metadata": {},
   "outputs": [],
   "source": [
    "v.sort()"
   ]
  },
  {
   "cell_type": "code",
   "execution_count": 67,
   "id": "29b64b8a-52ab-4b5d-b1aa-78c93e764eae",
   "metadata": {},
   "outputs": [
    {
     "data": {
      "text/plain": [
       "array([1, 2, 3, 4, 5])"
      ]
     },
     "execution_count": 67,
     "metadata": {},
     "output_type": "execute_result"
    }
   ],
   "source": [
    "v"
   ]
  },
  {
   "cell_type": "markdown",
   "id": "347b4c0c-48ed-4031-9f02-85e0f3b52df5",
   "metadata": {},
   "source": [
    "# İki Boyutlu Array Sıralama"
   ]
  },
  {
   "cell_type": "code",
   "execution_count": 68,
   "id": "254807ad-3d33-43eb-8385-157f116b1722",
   "metadata": {},
   "outputs": [],
   "source": [
    "m = np.random.normal(20,5,(3,3))"
   ]
  },
  {
   "cell_type": "code",
   "execution_count": 69,
   "id": "27c3e4b5-6156-42f7-9a58-b4bdf46ddf3b",
   "metadata": {},
   "outputs": [
    {
     "data": {
      "text/plain": [
       "array([[24.62303172, 16.13870188, 18.48277761],\n",
       "       [12.32619298, 22.52778415, 25.32811871],\n",
       "       [26.89327988, 20.66270579, 23.15902353]])"
      ]
     },
     "execution_count": 69,
     "metadata": {},
     "output_type": "execute_result"
    }
   ],
   "source": [
    "m"
   ]
  },
  {
   "cell_type": "code",
   "execution_count": 70,
   "id": "47aabe8b-e144-45e7-8548-dda8cbb1c79a",
   "metadata": {},
   "outputs": [
    {
     "data": {
      "text/plain": [
       "array([[16.13870188, 18.48277761, 24.62303172],\n",
       "       [12.32619298, 22.52778415, 25.32811871],\n",
       "       [20.66270579, 23.15902353, 26.89327988]])"
      ]
     },
     "execution_count": 70,
     "metadata": {},
     "output_type": "execute_result"
    }
   ],
   "source": [
    "np.sort(m,axis=1)"
   ]
  },
  {
   "cell_type": "code",
   "execution_count": 71,
   "id": "f64bc165-2bec-4b47-b413-d00e71fb83f0",
   "metadata": {},
   "outputs": [
    {
     "data": {
      "text/plain": [
       "array([[12.32619298, 16.13870188, 18.48277761],\n",
       "       [24.62303172, 20.66270579, 23.15902353],\n",
       "       [26.89327988, 22.52778415, 25.32811871]])"
      ]
     },
     "execution_count": 71,
     "metadata": {},
     "output_type": "execute_result"
    }
   ],
   "source": [
    "np.sort(m,axis=0)"
   ]
  },
  {
   "cell_type": "markdown",
   "id": "f7159ba4-f962-4ec7-a363-1a3b1b10a13d",
   "metadata": {},
   "source": [
    "# Index ile Elemanlara Erişmek"
   ]
  },
  {
   "cell_type": "code",
   "execution_count": 72,
   "id": "464dbd09-9a7a-4a69-959d-28ee21d40b11",
   "metadata": {},
   "outputs": [],
   "source": [
    "a = np.random.randint(10,size=10)"
   ]
  },
  {
   "cell_type": "code",
   "execution_count": 73,
   "id": "de636fb2-7310-4c9c-a5c3-79b4c2cd6db0",
   "metadata": {},
   "outputs": [
    {
     "data": {
      "text/plain": [
       "array([2, 2, 2, 0, 7, 0, 1, 9, 4, 3])"
      ]
     },
     "execution_count": 73,
     "metadata": {},
     "output_type": "execute_result"
    }
   ],
   "source": [
    "a"
   ]
  },
  {
   "cell_type": "code",
   "execution_count": 74,
   "id": "521876f7-de73-493c-b1e0-65fbba7e204e",
   "metadata": {},
   "outputs": [
    {
     "data": {
      "text/plain": [
       "2"
      ]
     },
     "execution_count": 74,
     "metadata": {},
     "output_type": "execute_result"
    }
   ],
   "source": [
    "a[0]"
   ]
  },
  {
   "cell_type": "code",
   "execution_count": 75,
   "id": "ddb4c880-4ed9-47d3-971c-7ead847c23e1",
   "metadata": {},
   "outputs": [
    {
     "data": {
      "text/plain": [
       "3"
      ]
     },
     "execution_count": 75,
     "metadata": {},
     "output_type": "execute_result"
    }
   ],
   "source": [
    "a[-1]"
   ]
  },
  {
   "cell_type": "code",
   "execution_count": 76,
   "id": "b0632fcd-3c69-4f05-a50e-ff2836f7f55e",
   "metadata": {},
   "outputs": [],
   "source": [
    "a[0] = 100"
   ]
  },
  {
   "cell_type": "code",
   "execution_count": 77,
   "id": "fac2dd17-8fde-4d4d-b87e-3c808dee1b5f",
   "metadata": {},
   "outputs": [
    {
     "data": {
      "text/plain": [
       "array([100,   2,   2,   0,   7,   0,   1,   9,   4,   3])"
      ]
     },
     "execution_count": 77,
     "metadata": {},
     "output_type": "execute_result"
    }
   ],
   "source": [
    "a"
   ]
  },
  {
   "cell_type": "code",
   "execution_count": 78,
   "id": "8e1ac867-380b-4f09-afc3-6b80ab347f8e",
   "metadata": {},
   "outputs": [],
   "source": [
    "m = np.random.randint(10,size=(3,5))"
   ]
  },
  {
   "cell_type": "code",
   "execution_count": 79,
   "id": "45c50dd4-b759-47a7-bfd0-fc0dc4fa6b43",
   "metadata": {},
   "outputs": [
    {
     "data": {
      "text/plain": [
       "array([[5, 7, 8, 7, 1],\n",
       "       [8, 6, 1, 5, 3],\n",
       "       [4, 8, 8, 3, 9]])"
      ]
     },
     "execution_count": 79,
     "metadata": {},
     "output_type": "execute_result"
    }
   ],
   "source": [
    "m"
   ]
  },
  {
   "cell_type": "code",
   "execution_count": 80,
   "id": "e507bf41-5659-4b11-ac80-1987d2333b95",
   "metadata": {},
   "outputs": [
    {
     "data": {
      "text/plain": [
       "5"
      ]
     },
     "execution_count": 80,
     "metadata": {},
     "output_type": "execute_result"
    }
   ],
   "source": [
    "m[0,0]"
   ]
  },
  {
   "cell_type": "code",
   "execution_count": 81,
   "id": "4148f202-bda6-40fb-a9bb-68c383488559",
   "metadata": {},
   "outputs": [
    {
     "data": {
      "text/plain": [
       "1"
      ]
     },
     "execution_count": 81,
     "metadata": {},
     "output_type": "execute_result"
    }
   ],
   "source": [
    "m[1,2]"
   ]
  },
  {
   "cell_type": "code",
   "execution_count": 82,
   "id": "54ce3583-a484-499c-83e7-300d1146d6a7",
   "metadata": {},
   "outputs": [],
   "source": [
    "m[1,2] = 25"
   ]
  },
  {
   "cell_type": "code",
   "execution_count": 83,
   "id": "414a3cc5-d7b8-4b93-b69c-0f06b6b5a40f",
   "metadata": {},
   "outputs": [
    {
     "data": {
      "text/plain": [
       "array([[ 5,  7,  8,  7,  1],\n",
       "       [ 8,  6, 25,  5,  3],\n",
       "       [ 4,  8,  8,  3,  9]])"
      ]
     },
     "execution_count": 83,
     "metadata": {},
     "output_type": "execute_result"
    }
   ],
   "source": [
    "m"
   ]
  },
  {
   "cell_type": "code",
   "execution_count": 84,
   "id": "70cecc4c-5800-424b-bcb8-d46af4faebdc",
   "metadata": {},
   "outputs": [],
   "source": [
    "m[1,4] = 2.2"
   ]
  },
  {
   "cell_type": "code",
   "execution_count": 85,
   "id": "5f1bc715-4316-4174-bdb2-715bd3604bd5",
   "metadata": {},
   "outputs": [
    {
     "data": {
      "text/plain": [
       "array([[ 5,  7,  8,  7,  1],\n",
       "       [ 8,  6, 25,  5,  2],\n",
       "       [ 4,  8,  8,  3,  9]])"
      ]
     },
     "execution_count": 85,
     "metadata": {},
     "output_type": "execute_result"
    }
   ],
   "source": [
    "m"
   ]
  },
  {
   "cell_type": "markdown",
   "id": "37e79ae5-f2b8-4249-815b-35c007cf82d7",
   "metadata": {},
   "source": [
    "# Slicing ile Elemanlara Erişmek (Array Alt Kümesine Erişmek)"
   ]
  },
  {
   "cell_type": "code",
   "execution_count": 86,
   "id": "d8b80dc6-4c93-4fe1-8c36-be067456f7b1",
   "metadata": {},
   "outputs": [],
   "source": [
    "a = np.arange(20,30)"
   ]
  },
  {
   "cell_type": "code",
   "execution_count": 87,
   "id": "f3fbd996-8585-4dc0-afc2-aa5df3000182",
   "metadata": {},
   "outputs": [
    {
     "data": {
      "text/plain": [
       "array([20, 21, 22, 23, 24, 25, 26, 27, 28, 29])"
      ]
     },
     "execution_count": 87,
     "metadata": {},
     "output_type": "execute_result"
    }
   ],
   "source": [
    "a"
   ]
  },
  {
   "cell_type": "code",
   "execution_count": 88,
   "id": "31a3df5e-ccc6-4061-aed6-bb3bec9cad65",
   "metadata": {},
   "outputs": [
    {
     "data": {
      "text/plain": [
       "array([20, 21, 22])"
      ]
     },
     "execution_count": 88,
     "metadata": {},
     "output_type": "execute_result"
    }
   ],
   "source": [
    "a[0:3]"
   ]
  },
  {
   "cell_type": "code",
   "execution_count": 89,
   "id": "c3fbd119-b6e0-4365-9a00-0b1ed76c2f3d",
   "metadata": {},
   "outputs": [
    {
     "data": {
      "text/plain": [
       "array([20, 21, 22])"
      ]
     },
     "execution_count": 89,
     "metadata": {},
     "output_type": "execute_result"
    }
   ],
   "source": [
    "a[:3]"
   ]
  },
  {
   "cell_type": "code",
   "execution_count": 90,
   "id": "6b35a9b4-08de-481b-9f02-e0898013dd3d",
   "metadata": {},
   "outputs": [
    {
     "data": {
      "text/plain": [
       "array([23, 24, 25, 26, 27, 28, 29])"
      ]
     },
     "execution_count": 90,
     "metadata": {},
     "output_type": "execute_result"
    }
   ],
   "source": [
    "a[3:]"
   ]
  },
  {
   "cell_type": "code",
   "execution_count": 91,
   "id": "00d14c7b-e834-445b-b193-f2688a66576b",
   "metadata": {},
   "outputs": [
    {
     "data": {
      "text/plain": [
       "array([21, 23, 25, 27, 29])"
      ]
     },
     "execution_count": 91,
     "metadata": {},
     "output_type": "execute_result"
    }
   ],
   "source": [
    "a[1::2]"
   ]
  },
  {
   "cell_type": "code",
   "execution_count": 92,
   "id": "fa0e3530-018e-4e7e-8b5b-b4bd3ade7a0d",
   "metadata": {},
   "outputs": [
    {
     "data": {
      "text/plain": [
       "array([20, 22, 24, 26, 28])"
      ]
     },
     "execution_count": 92,
     "metadata": {},
     "output_type": "execute_result"
    }
   ],
   "source": [
    "a[0::2]"
   ]
  },
  {
   "cell_type": "code",
   "execution_count": 93,
   "id": "1d4af95c-2244-4016-99a9-a83cba0eac73",
   "metadata": {},
   "outputs": [
    {
     "data": {
      "text/plain": [
       "array([22, 24, 26, 28])"
      ]
     },
     "execution_count": 93,
     "metadata": {},
     "output_type": "execute_result"
    }
   ],
   "source": [
    "a[2::2]"
   ]
  },
  {
   "cell_type": "code",
   "execution_count": 94,
   "id": "91e6e5e1-d878-485c-adaf-54ae4bff62d5",
   "metadata": {},
   "outputs": [
    {
     "data": {
      "text/plain": [
       "array([20, 23, 26, 29])"
      ]
     },
     "execution_count": 94,
     "metadata": {},
     "output_type": "execute_result"
    }
   ],
   "source": [
    "a[0::3]"
   ]
  },
  {
   "cell_type": "markdown",
   "id": "bcc88fbe-f2c4-4f95-b113-bf9eab187679",
   "metadata": {},
   "source": [
    "# İki Boyutlu Slice İşlemleri"
   ]
  },
  {
   "cell_type": "code",
   "execution_count": 95,
   "id": "7e696acc-9d5d-4a55-a97e-e20e1cea7eb1",
   "metadata": {},
   "outputs": [
    {
     "data": {
      "text/plain": [
       "array([[0, 6, 9, 0, 0],\n",
       "       [4, 2, 2, 9, 0],\n",
       "       [6, 1, 5, 0, 8],\n",
       "       [5, 9, 6, 8, 5],\n",
       "       [4, 6, 6, 7, 7]])"
      ]
     },
     "execution_count": 95,
     "metadata": {},
     "output_type": "execute_result"
    }
   ],
   "source": [
    "m = np.random.randint(10,size = (5,5))\n",
    "m"
   ]
  },
  {
   "cell_type": "code",
   "execution_count": 96,
   "id": "19cac15f-f193-4471-be0c-0e0a35fe6cca",
   "metadata": {},
   "outputs": [
    {
     "data": {
      "text/plain": [
       "array([0, 4, 6, 5, 4])"
      ]
     },
     "execution_count": 96,
     "metadata": {},
     "output_type": "execute_result"
    }
   ],
   "source": [
    "m[:,0]"
   ]
  },
  {
   "cell_type": "code",
   "execution_count": 97,
   "id": "3be4f98c-d930-495f-b1e3-fe00b0d3a2b4",
   "metadata": {},
   "outputs": [
    {
     "data": {
      "text/plain": [
       "array([6, 2, 1, 9, 6])"
      ]
     },
     "execution_count": 97,
     "metadata": {},
     "output_type": "execute_result"
    }
   ],
   "source": [
    "m[:,1]"
   ]
  },
  {
   "cell_type": "code",
   "execution_count": 98,
   "id": "a965705d-6075-461a-955e-796fac9673b6",
   "metadata": {},
   "outputs": [
    {
     "data": {
      "text/plain": [
       "array([4, 2, 2, 9, 0])"
      ]
     },
     "execution_count": 98,
     "metadata": {},
     "output_type": "execute_result"
    }
   ],
   "source": [
    "m[1,:]"
   ]
  },
  {
   "cell_type": "code",
   "execution_count": 99,
   "id": "5cceabcf-1773-4c1d-a178-238d60f46752",
   "metadata": {},
   "outputs": [
    {
     "data": {
      "text/plain": [
       "array([5, 9, 6, 8, 5])"
      ]
     },
     "execution_count": 99,
     "metadata": {},
     "output_type": "execute_result"
    }
   ],
   "source": [
    "m[3,:]"
   ]
  },
  {
   "cell_type": "code",
   "execution_count": 100,
   "id": "7010ddd6-639e-4587-84d2-089483d35d1e",
   "metadata": {},
   "outputs": [
    {
     "data": {
      "text/plain": [
       "array([[0, 6, 9],\n",
       "       [4, 2, 2]])"
      ]
     },
     "execution_count": 100,
     "metadata": {},
     "output_type": "execute_result"
    }
   ],
   "source": [
    "m[0:2,0:3]"
   ]
  },
  {
   "cell_type": "code",
   "execution_count": 101,
   "id": "aaadc3e2-33b9-4a55-a45a-bda602ff8eff",
   "metadata": {},
   "outputs": [
    {
     "data": {
      "text/plain": [
       "array([[0, 6],\n",
       "       [4, 2],\n",
       "       [6, 1],\n",
       "       [5, 9],\n",
       "       [4, 6]])"
      ]
     },
     "execution_count": 101,
     "metadata": {},
     "output_type": "execute_result"
    }
   ],
   "source": [
    "m[:,0:2]"
   ]
  },
  {
   "cell_type": "code",
   "execution_count": 102,
   "id": "0802f64d-66bb-4435-ac5d-35d80880875b",
   "metadata": {},
   "outputs": [
    {
     "data": {
      "text/plain": [
       "array([[0, 6],\n",
       "       [4, 2],\n",
       "       [6, 1],\n",
       "       [5, 9],\n",
       "       [4, 6]])"
      ]
     },
     "execution_count": 102,
     "metadata": {},
     "output_type": "execute_result"
    }
   ],
   "source": [
    "m[:,:2]"
   ]
  },
  {
   "cell_type": "code",
   "execution_count": 103,
   "id": "c1aff0f6-7424-4b1c-a1c1-33dfdefcc9fc",
   "metadata": {},
   "outputs": [
    {
     "data": {
      "text/plain": [
       "array([[0, 6],\n",
       "       [4, 2],\n",
       "       [6, 1],\n",
       "       [5, 9],\n",
       "       [4, 6]])"
      ]
     },
     "execution_count": 103,
     "metadata": {},
     "output_type": "execute_result"
    }
   ],
   "source": [
    "m[::,:2]"
   ]
  },
  {
   "cell_type": "code",
   "execution_count": 104,
   "id": "55b0902f-e8d9-4131-9fd1-0808e320bea0",
   "metadata": {},
   "outputs": [
    {
     "data": {
      "text/plain": [
       "array([[0, 6, 9, 0, 0],\n",
       "       [4, 2, 2, 9, 0],\n",
       "       [6, 1, 5, 0, 8],\n",
       "       [5, 9, 6, 8, 5],\n",
       "       [4, 6, 6, 7, 7]])"
      ]
     },
     "execution_count": 104,
     "metadata": {},
     "output_type": "execute_result"
    }
   ],
   "source": [
    "m"
   ]
  },
  {
   "cell_type": "code",
   "execution_count": 105,
   "id": "4352750e-db92-4ef2-9f3b-5f98dd8719f1",
   "metadata": {},
   "outputs": [
    {
     "data": {
      "text/plain": [
       "array([[4, 2],\n",
       "       [6, 1]])"
      ]
     },
     "execution_count": 105,
     "metadata": {},
     "output_type": "execute_result"
    }
   ],
   "source": [
    "m[1:3,0:2]"
   ]
  },
  {
   "cell_type": "markdown",
   "id": "3cf39ca0-f007-4fab-a692-98ce727ce69d",
   "metadata": {},
   "source": [
    "# Alt Küme Üzerinde İşlem Yapmak"
   ]
  },
  {
   "cell_type": "code",
   "execution_count": 106,
   "id": "5e0691c1-0af3-4a73-845d-454d1093238b",
   "metadata": {},
   "outputs": [
    {
     "data": {
      "text/plain": [
       "array([[2, 9, 6, 5, 8],\n",
       "       [4, 5, 5, 9, 4],\n",
       "       [9, 6, 4, 3, 9],\n",
       "       [2, 4, 1, 8, 4],\n",
       "       [4, 1, 8, 1, 3]])"
      ]
     },
     "execution_count": 106,
     "metadata": {},
     "output_type": "execute_result"
    }
   ],
   "source": [
    "a = np.random.randint(10,size=(5,5))\n",
    "a"
   ]
  },
  {
   "cell_type": "code",
   "execution_count": 107,
   "id": "51c62853-0848-48b8-9fd7-c8824993abe4",
   "metadata": {},
   "outputs": [
    {
     "data": {
      "text/plain": [
       "array([[2, 9],\n",
       "       [4, 5],\n",
       "       [9, 6]])"
      ]
     },
     "execution_count": 107,
     "metadata": {},
     "output_type": "execute_result"
    }
   ],
   "source": [
    "alt_a = a[0:3,0:2]\n",
    "alt_a"
   ]
  },
  {
   "cell_type": "code",
   "execution_count": 108,
   "id": "f5703e6f-ed5c-419f-91bd-8115fc6ea2d9",
   "metadata": {},
   "outputs": [],
   "source": [
    "alt_a[0,0] = 999\n",
    "alt_a[1,1] = 888"
   ]
  },
  {
   "cell_type": "code",
   "execution_count": 109,
   "id": "b4481eb2-b046-430f-afd7-6913f17752ad",
   "metadata": {},
   "outputs": [
    {
     "data": {
      "text/plain": [
       "array([[999,   9],\n",
       "       [  4, 888],\n",
       "       [  9,   6]])"
      ]
     },
     "execution_count": 109,
     "metadata": {},
     "output_type": "execute_result"
    }
   ],
   "source": [
    "alt_a"
   ]
  },
  {
   "cell_type": "code",
   "execution_count": 110,
   "id": "ccbcb5f0-cc2e-4edb-beea-2115e0f3fa29",
   "metadata": {},
   "outputs": [
    {
     "data": {
      "text/plain": [
       "array([[999,   9,   6,   5,   8],\n",
       "       [  4, 888,   5,   9,   4],\n",
       "       [  9,   6,   4,   3,   9],\n",
       "       [  2,   4,   1,   8,   4],\n",
       "       [  4,   1,   8,   1,   3]])"
      ]
     },
     "execution_count": 110,
     "metadata": {},
     "output_type": "execute_result"
    }
   ],
   "source": [
    "a"
   ]
  },
  {
   "cell_type": "markdown",
   "id": "79a7d672-2d0f-4f9e-8dfa-401d481c1650",
   "metadata": {},
   "source": [
    "# Kopya Yöntemi ile Orjinal Matrisi Koruma"
   ]
  },
  {
   "cell_type": "code",
   "execution_count": 111,
   "id": "0dc1d443-5c62-41e8-a97b-e5b21b2edfbe",
   "metadata": {},
   "outputs": [
    {
     "data": {
      "text/plain": [
       "array([[3, 3, 8, 7, 6],\n",
       "       [2, 2, 8, 0, 0],\n",
       "       [9, 0, 3, 6, 1],\n",
       "       [3, 6, 8, 1, 7],\n",
       "       [8, 0, 7, 6, 8]])"
      ]
     },
     "execution_count": 111,
     "metadata": {},
     "output_type": "execute_result"
    }
   ],
   "source": [
    "m = np.random.randint(10,size=(5,5))\n",
    "m"
   ]
  },
  {
   "cell_type": "code",
   "execution_count": 112,
   "id": "2d21d661-aafe-471c-b754-468146693f5a",
   "metadata": {},
   "outputs": [
    {
     "data": {
      "text/plain": [
       "array([[3, 3],\n",
       "       [2, 2],\n",
       "       [9, 0]])"
      ]
     },
     "execution_count": 112,
     "metadata": {},
     "output_type": "execute_result"
    }
   ],
   "source": [
    "alt_m = m[0:3,0:2].copy()\n",
    "alt_m"
   ]
  },
  {
   "cell_type": "code",
   "execution_count": 113,
   "id": "5780d44a-350c-44af-b75d-78f1d1464d2f",
   "metadata": {},
   "outputs": [],
   "source": [
    "alt_m[0,0] = 999\n",
    "alt_m[1,1] = 888"
   ]
  },
  {
   "cell_type": "code",
   "execution_count": 114,
   "id": "6d7db3fe-5b14-4be4-bafe-479eb86d47bf",
   "metadata": {},
   "outputs": [
    {
     "data": {
      "text/plain": [
       "array([[999,   3],\n",
       "       [  2, 888],\n",
       "       [  9,   0]])"
      ]
     },
     "execution_count": 114,
     "metadata": {},
     "output_type": "execute_result"
    }
   ],
   "source": [
    "alt_m"
   ]
  },
  {
   "cell_type": "code",
   "execution_count": 115,
   "id": "0cac6026-fd39-4413-bd3f-fcc1ebe3c2e0",
   "metadata": {},
   "outputs": [
    {
     "data": {
      "text/plain": [
       "array([[3, 3, 8, 7, 6],\n",
       "       [2, 2, 8, 0, 0],\n",
       "       [9, 0, 3, 6, 1],\n",
       "       [3, 6, 8, 1, 7],\n",
       "       [8, 0, 7, 6, 8]])"
      ]
     },
     "execution_count": 115,
     "metadata": {},
     "output_type": "execute_result"
    }
   ],
   "source": [
    "m"
   ]
  },
  {
   "cell_type": "markdown",
   "id": "458b6b38-dcce-4d83-9dc2-1267bc5bf80e",
   "metadata": {},
   "source": [
    "# Fancy Index ile Elemanlara Erişmek (Önemli)"
   ]
  },
  {
   "cell_type": "code",
   "execution_count": 116,
   "id": "70058361-299d-45f2-9ac3-9b9f04a3f54b",
   "metadata": {},
   "outputs": [
    {
     "data": {
      "text/plain": [
       "array([ 0,  3,  6,  9, 12, 15, 18, 21, 24, 27])"
      ]
     },
     "execution_count": 116,
     "metadata": {},
     "output_type": "execute_result"
    }
   ],
   "source": [
    "v = np.arange(0,30,3)\n",
    "v"
   ]
  },
  {
   "cell_type": "code",
   "execution_count": 117,
   "id": "2820acff-71ca-4582-a7fa-a447bedc8e86",
   "metadata": {},
   "outputs": [
    {
     "data": {
      "text/plain": [
       "3"
      ]
     },
     "execution_count": 117,
     "metadata": {},
     "output_type": "execute_result"
    }
   ],
   "source": [
    "v[1]"
   ]
  },
  {
   "cell_type": "code",
   "execution_count": 118,
   "id": "1da4c659-2b60-4e65-8b3e-d41a2118474a",
   "metadata": {},
   "outputs": [
    {
     "data": {
      "text/plain": [
       "9"
      ]
     },
     "execution_count": 118,
     "metadata": {},
     "output_type": "execute_result"
    }
   ],
   "source": [
    "v[3]"
   ]
  },
  {
   "cell_type": "code",
   "execution_count": 119,
   "id": "69dfdd0c-48f7-4175-9514-391c386fb7c0",
   "metadata": {},
   "outputs": [
    {
     "data": {
      "text/plain": [
       "15"
      ]
     },
     "execution_count": 119,
     "metadata": {},
     "output_type": "execute_result"
    }
   ],
   "source": [
    "v[5]"
   ]
  },
  {
   "cell_type": "code",
   "execution_count": 120,
   "id": "f67421a2-bf20-42ea-945b-531f6731d109",
   "metadata": {},
   "outputs": [
    {
     "data": {
      "text/plain": [
       "[3, 9, 15]"
      ]
     },
     "execution_count": 120,
     "metadata": {},
     "output_type": "execute_result"
    }
   ],
   "source": [
    "[v[1],v[3],v[5]]"
   ]
  },
  {
   "cell_type": "code",
   "execution_count": 121,
   "id": "c700e6ef-cc06-4535-9fa5-18a4ccf4f451",
   "metadata": {},
   "outputs": [],
   "source": [
    "al_getir = [1,3,5]"
   ]
  },
  {
   "cell_type": "code",
   "execution_count": 122,
   "id": "5b01ca10-6ff3-4753-9f25-38bd76d06779",
   "metadata": {},
   "outputs": [
    {
     "data": {
      "text/plain": [
       "array([ 0,  3,  6,  9, 12, 15, 18, 21, 24, 27])"
      ]
     },
     "execution_count": 122,
     "metadata": {},
     "output_type": "execute_result"
    }
   ],
   "source": [
    "v"
   ]
  },
  {
   "cell_type": "code",
   "execution_count": 123,
   "id": "95a9f8a3-2337-4e4a-9d0e-812753ff5077",
   "metadata": {},
   "outputs": [
    {
     "data": {
      "text/plain": [
       "array([ 3,  9, 15])"
      ]
     },
     "execution_count": 123,
     "metadata": {},
     "output_type": "execute_result"
    }
   ],
   "source": [
    "v[al_getir]"
   ]
  },
  {
   "cell_type": "markdown",
   "id": "6fa210e2-7e31-4981-8b39-ab629eb1c6d8",
   "metadata": {},
   "source": [
    "# İki Boyutta Fancy"
   ]
  },
  {
   "cell_type": "code",
   "execution_count": 124,
   "id": "9babc9c2-2651-4d01-8ec8-67d6d4851e7d",
   "metadata": {},
   "outputs": [
    {
     "data": {
      "text/plain": [
       "array([[0, 1, 2],\n",
       "       [3, 4, 5],\n",
       "       [6, 7, 8]])"
      ]
     },
     "execution_count": 124,
     "metadata": {},
     "output_type": "execute_result"
    }
   ],
   "source": [
    "m = np.arange(9).reshape(3,3)\n",
    "m"
   ]
  },
  {
   "cell_type": "code",
   "execution_count": 125,
   "id": "197a5f80-0fbe-4fdf-a321-95db9ead8a27",
   "metadata": {},
   "outputs": [],
   "source": [
    "satir = np.array([0,1])\n",
    "sutun = np.array([1,2])"
   ]
  },
  {
   "cell_type": "code",
   "execution_count": 126,
   "id": "dd43c34d-3ee9-4715-9dc0-408bf96d07dc",
   "metadata": {},
   "outputs": [
    {
     "data": {
      "text/plain": [
       "array([1, 5])"
      ]
     },
     "execution_count": 126,
     "metadata": {},
     "output_type": "execute_result"
    }
   ],
   "source": [
    "m[satir,sutun]"
   ]
  },
  {
   "cell_type": "markdown",
   "id": "a10bace8-2a17-4635-b18c-1a460f3152a5",
   "metadata": {},
   "source": [
    "# Basit Index ile Fancy Index"
   ]
  },
  {
   "cell_type": "code",
   "execution_count": 127,
   "id": "68cde831-af2f-4e53-aa44-19d323962823",
   "metadata": {},
   "outputs": [
    {
     "data": {
      "text/plain": [
       "array([[0, 1, 2],\n",
       "       [3, 4, 5],\n",
       "       [6, 7, 8]])"
      ]
     },
     "execution_count": 127,
     "metadata": {},
     "output_type": "execute_result"
    }
   ],
   "source": [
    "m"
   ]
  },
  {
   "cell_type": "code",
   "execution_count": 128,
   "id": "9927d654-a77b-4f6c-b859-78b03da64c01",
   "metadata": {},
   "outputs": [
    {
     "data": {
      "text/plain": [
       "array([1, 2])"
      ]
     },
     "execution_count": 128,
     "metadata": {},
     "output_type": "execute_result"
    }
   ],
   "source": [
    "m[0,[1,2]]"
   ]
  },
  {
   "cell_type": "markdown",
   "id": "5ea4fcee-4890-4006-9a22-dd59bbd9f0df",
   "metadata": {},
   "source": [
    "# Slice ile Fancy"
   ]
  },
  {
   "cell_type": "code",
   "execution_count": 129,
   "id": "8b65a36e-e9bb-4a32-bbea-ea8ba2013bc1",
   "metadata": {},
   "outputs": [
    {
     "data": {
      "text/plain": [
       "array([[1, 2],\n",
       "       [4, 5],\n",
       "       [7, 8]])"
      ]
     },
     "execution_count": 129,
     "metadata": {},
     "output_type": "execute_result"
    }
   ],
   "source": [
    "m[0:,[1,2]]"
   ]
  },
  {
   "cell_type": "markdown",
   "id": "344bae8d-f203-4762-983e-640c39be2fb6",
   "metadata": {},
   "source": [
    "# Koşullu Eleman İşlemleri"
   ]
  },
  {
   "cell_type": "code",
   "execution_count": 130,
   "id": "a05e81d7-8c57-484d-a224-1538488dc82f",
   "metadata": {},
   "outputs": [],
   "source": [
    "v = np.array([1,2,3,4,5])"
   ]
  },
  {
   "cell_type": "code",
   "execution_count": 131,
   "id": "8e4327b2-e3ba-40b0-942d-e8c0465ed7fa",
   "metadata": {},
   "outputs": [
    {
     "data": {
      "text/plain": [
       "array([ True,  True, False, False, False])"
      ]
     },
     "execution_count": 131,
     "metadata": {},
     "output_type": "execute_result"
    }
   ],
   "source": [
    "v < 3"
   ]
  },
  {
   "cell_type": "code",
   "execution_count": 132,
   "id": "09299923-c5da-4921-9cd2-f47074701565",
   "metadata": {},
   "outputs": [
    {
     "data": {
      "text/plain": [
       "array([1, 2])"
      ]
     },
     "execution_count": 132,
     "metadata": {},
     "output_type": "execute_result"
    }
   ],
   "source": [
    "v[v<3]"
   ]
  },
  {
   "cell_type": "code",
   "execution_count": 133,
   "id": "85636797-c595-46f8-8df1-75f4383e1c1f",
   "metadata": {},
   "outputs": [
    {
     "data": {
      "text/plain": [
       "array([4, 5])"
      ]
     },
     "execution_count": 133,
     "metadata": {},
     "output_type": "execute_result"
    }
   ],
   "source": [
    "v[v>3]"
   ]
  },
  {
   "cell_type": "code",
   "execution_count": 134,
   "id": "7a15d052-14f2-44d7-a8ae-c5fe08f486ed",
   "metadata": {},
   "outputs": [
    {
     "data": {
      "text/plain": [
       "array([3, 4, 5])"
      ]
     },
     "execution_count": 134,
     "metadata": {},
     "output_type": "execute_result"
    }
   ],
   "source": [
    "v[v>=3]"
   ]
  },
  {
   "cell_type": "code",
   "execution_count": 135,
   "id": "3af326b0-883d-497e-9fb8-76cef1f152cd",
   "metadata": {},
   "outputs": [
    {
     "data": {
      "text/plain": [
       "array([1, 2, 3])"
      ]
     },
     "execution_count": 135,
     "metadata": {},
     "output_type": "execute_result"
    }
   ],
   "source": [
    "v[v<=3]"
   ]
  },
  {
   "cell_type": "code",
   "execution_count": 136,
   "id": "556c384b-a609-43e7-9417-029f849bfe79",
   "metadata": {},
   "outputs": [
    {
     "data": {
      "text/plain": [
       "array([3])"
      ]
     },
     "execution_count": 136,
     "metadata": {},
     "output_type": "execute_result"
    }
   ],
   "source": [
    "v[v==3]"
   ]
  },
  {
   "cell_type": "code",
   "execution_count": 137,
   "id": "c403e3b1-bf49-4d76-b75e-db7155a592a5",
   "metadata": {},
   "outputs": [
    {
     "data": {
      "text/plain": [
       "array([1, 2, 4, 5])"
      ]
     },
     "execution_count": 137,
     "metadata": {},
     "output_type": "execute_result"
    }
   ],
   "source": [
    "v[v!=3]"
   ]
  },
  {
   "cell_type": "code",
   "execution_count": 138,
   "id": "6bc3ae5c-8440-4a49-b48b-8e996734a49b",
   "metadata": {},
   "outputs": [
    {
     "data": {
      "text/plain": [
       "array([1, 2, 3, 4, 5])"
      ]
     },
     "execution_count": 138,
     "metadata": {},
     "output_type": "execute_result"
    }
   ],
   "source": [
    "v"
   ]
  },
  {
   "cell_type": "code",
   "execution_count": 139,
   "id": "7a1edfac-8a83-4b4f-bd9c-b656e67b4410",
   "metadata": {},
   "outputs": [
    {
     "data": {
      "text/plain": [
       "array([ 2,  4,  6,  8, 10])"
      ]
     },
     "execution_count": 139,
     "metadata": {},
     "output_type": "execute_result"
    }
   ],
   "source": [
    "v * 2"
   ]
  },
  {
   "cell_type": "code",
   "execution_count": 140,
   "id": "85bb82bb-aaf2-4466-9522-81d3f2d956f1",
   "metadata": {},
   "outputs": [
    {
     "data": {
      "text/plain": [
       "array([0.2, 0.4, 0.6, 0.8, 1. ])"
      ]
     },
     "execution_count": 140,
     "metadata": {},
     "output_type": "execute_result"
    }
   ],
   "source": [
    "v / 5"
   ]
  },
  {
   "cell_type": "code",
   "execution_count": 141,
   "id": "e9d8b91f-0e74-41d9-b0bf-8486855e9aac",
   "metadata": {},
   "outputs": [
    {
     "data": {
      "text/plain": [
       "array([0.5, 1. , 1.5, 2. , 2.5])"
      ]
     },
     "execution_count": 141,
     "metadata": {},
     "output_type": "execute_result"
    }
   ],
   "source": [
    "v*5/10"
   ]
  },
  {
   "cell_type": "code",
   "execution_count": 142,
   "id": "c704f2e9-68e0-4a4d-b1a7-8b0a046f8b1f",
   "metadata": {},
   "outputs": [
    {
     "data": {
      "text/plain": [
       "array([ 1,  4,  9, 16, 25])"
      ]
     },
     "execution_count": 142,
     "metadata": {},
     "output_type": "execute_result"
    }
   ],
   "source": [
    "v**2"
   ]
  },
  {
   "cell_type": "markdown",
   "id": "a3ee8010-9017-4f6d-8517-953b83f8a3bc",
   "metadata": {
    "tags": []
   },
   "source": [
    "# Matematiksel İşlemler"
   ]
  },
  {
   "cell_type": "code",
   "execution_count": 143,
   "id": "2c8428e7-89c7-4787-af44-7ae992794be5",
   "metadata": {},
   "outputs": [],
   "source": [
    "v = np.array([1,2,3,4,5])"
   ]
  },
  {
   "cell_type": "code",
   "execution_count": 144,
   "id": "df56b336-72b7-4691-b404-97f64443a1a8",
   "metadata": {},
   "outputs": [
    {
     "data": {
      "text/plain": [
       "array([0, 1, 2, 3, 4])"
      ]
     },
     "execution_count": 144,
     "metadata": {},
     "output_type": "execute_result"
    }
   ],
   "source": [
    "v - 1"
   ]
  },
  {
   "cell_type": "code",
   "execution_count": 145,
   "id": "a1b173bb-2512-4180-9a14-6ba89e07ad7d",
   "metadata": {},
   "outputs": [
    {
     "data": {
      "text/plain": [
       "array([ 5, 10, 15, 20, 25])"
      ]
     },
     "execution_count": 145,
     "metadata": {},
     "output_type": "execute_result"
    }
   ],
   "source": [
    "v * 5"
   ]
  },
  {
   "cell_type": "code",
   "execution_count": 146,
   "id": "f82f7ccc-1bfc-4171-b1d3-795f3f3c6c70",
   "metadata": {},
   "outputs": [
    {
     "data": {
      "text/plain": [
       "array([0.2, 0.4, 0.6, 0.8, 1. ])"
      ]
     },
     "execution_count": 146,
     "metadata": {},
     "output_type": "execute_result"
    }
   ],
   "source": [
    "v / 5"
   ]
  },
  {
   "cell_type": "code",
   "execution_count": 147,
   "id": "577f20c8-4b29-4b22-a251-4372a9b7fbaa",
   "metadata": {},
   "outputs": [
    {
     "data": {
      "text/plain": [
       "array([-0.5,  0. ,  0.5,  1. ,  1.5])"
      ]
     },
     "execution_count": 147,
     "metadata": {},
     "output_type": "execute_result"
    }
   ],
   "source": [
    "v * 5 / 10 - 1"
   ]
  },
  {
   "cell_type": "markdown",
   "id": "ac384cda-d2ae-43b7-a792-d8faaadd692e",
   "metadata": {},
   "source": [
    "# ufunc"
   ]
  },
  {
   "cell_type": "code",
   "execution_count": 148,
   "id": "525c61fd-0810-49cd-ad77-03ded9ad4fbf",
   "metadata": {},
   "outputs": [
    {
     "data": {
      "text/plain": [
       "array([0, 1, 2, 3, 4])"
      ]
     },
     "execution_count": 148,
     "metadata": {},
     "output_type": "execute_result"
    }
   ],
   "source": [
    "np.subtract(v,1)"
   ]
  },
  {
   "cell_type": "code",
   "execution_count": 149,
   "id": "a84f4600-57b0-4021-a0b9-dc5d18225a68",
   "metadata": {},
   "outputs": [
    {
     "data": {
      "text/plain": [
       "array([2, 3, 4, 5, 6])"
      ]
     },
     "execution_count": 149,
     "metadata": {},
     "output_type": "execute_result"
    }
   ],
   "source": [
    "np.add(v,1)"
   ]
  },
  {
   "cell_type": "code",
   "execution_count": 150,
   "id": "cce03b28-c647-49ab-9d92-5a390785d276",
   "metadata": {},
   "outputs": [
    {
     "data": {
      "text/plain": [
       "array([1, 2, 3, 4, 5])"
      ]
     },
     "execution_count": 150,
     "metadata": {},
     "output_type": "execute_result"
    }
   ],
   "source": [
    "np.multiply(v,1)"
   ]
  },
  {
   "cell_type": "code",
   "execution_count": 151,
   "id": "9636c996-87d0-4646-a2bf-951ba7c99a57",
   "metadata": {},
   "outputs": [
    {
     "data": {
      "text/plain": [
       "array([0.5, 1. , 1.5, 2. , 2.5])"
      ]
     },
     "execution_count": 151,
     "metadata": {},
     "output_type": "execute_result"
    }
   ],
   "source": [
    "np.divide(v,2)"
   ]
  },
  {
   "cell_type": "code",
   "execution_count": 152,
   "id": "4012b47d-81fb-4aec-b62d-6c5e753c1ff0",
   "metadata": {},
   "outputs": [
    {
     "data": {
      "text/plain": [
       "array([  1,   8,  27,  64, 125], dtype=int32)"
      ]
     },
     "execution_count": 152,
     "metadata": {},
     "output_type": "execute_result"
    }
   ],
   "source": [
    "np.power(v,3)"
   ]
  },
  {
   "cell_type": "code",
   "execution_count": 153,
   "id": "d01c427a-73b2-4d19-b502-f8f0a2aa0070",
   "metadata": {},
   "outputs": [
    {
     "data": {
      "text/plain": [
       "array([1, 0, 1, 0, 1], dtype=int32)"
      ]
     },
     "execution_count": 153,
     "metadata": {},
     "output_type": "execute_result"
    }
   ],
   "source": [
    "np.mod(v,2)"
   ]
  },
  {
   "cell_type": "code",
   "execution_count": 154,
   "id": "aa00e62d-43ca-44f5-b4e3-519a821153ff",
   "metadata": {},
   "outputs": [
    {
     "data": {
      "text/plain": [
       "array([1.        , 1.41421356, 1.73205081, 2.        , 2.23606798])"
      ]
     },
     "execution_count": 154,
     "metadata": {},
     "output_type": "execute_result"
    }
   ],
   "source": [
    "np.sqrt(v)"
   ]
  },
  {
   "cell_type": "code",
   "execution_count": 155,
   "id": "c999b027-0e7a-4cb7-86e3-4b10bba72f32",
   "metadata": {},
   "outputs": [
    {
     "data": {
      "text/plain": [
       "array([3])"
      ]
     },
     "execution_count": 155,
     "metadata": {},
     "output_type": "execute_result"
    }
   ],
   "source": [
    "np.absolute(np.array([-3]))"
   ]
  },
  {
   "cell_type": "code",
   "execution_count": 156,
   "id": "b46865b1-7620-4f98-b044-01ecd021dfcd",
   "metadata": {},
   "outputs": [
    {
     "data": {
      "text/plain": [
       "0.9589157234143065"
      ]
     },
     "execution_count": 156,
     "metadata": {},
     "output_type": "execute_result"
    }
   ],
   "source": [
    "np.sin(360)"
   ]
  },
  {
   "cell_type": "code",
   "execution_count": 157,
   "id": "5d272b68-2525-4c3f-b69d-8bc87a47c28a",
   "metadata": {},
   "outputs": [
    {
     "data": {
      "text/plain": [
       "-0.5984600690578581"
      ]
     },
     "execution_count": 157,
     "metadata": {},
     "output_type": "execute_result"
    }
   ],
   "source": [
    "np.cos(180)"
   ]
  },
  {
   "cell_type": "code",
   "execution_count": 158,
   "id": "b45af0bb-a27e-4eb4-bc81-1f440fc33de3",
   "metadata": {},
   "outputs": [],
   "source": [
    "v = np.array([1,2,3])"
   ]
  },
  {
   "cell_type": "code",
   "execution_count": 159,
   "id": "dd3014f6-9aca-4b76-a165-135d32522899",
   "metadata": {},
   "outputs": [
    {
     "data": {
      "text/plain": [
       "array([0.        , 0.69314718, 1.09861229])"
      ]
     },
     "execution_count": 159,
     "metadata": {},
     "output_type": "execute_result"
    }
   ],
   "source": [
    "np.log(v)"
   ]
  },
  {
   "cell_type": "code",
   "execution_count": 160,
   "id": "1b73ed94-dd52-4acf-aea9-58113bcf1311",
   "metadata": {},
   "outputs": [
    {
     "data": {
      "text/plain": [
       "array([0.        , 0.30103   , 0.47712125])"
      ]
     },
     "execution_count": 160,
     "metadata": {},
     "output_type": "execute_result"
    }
   ],
   "source": [
    "np.log10(v)"
   ]
  },
  {
   "cell_type": "code",
   "execution_count": 161,
   "id": "34b01b00-e9ae-4360-ad5d-a5f34e931c68",
   "metadata": {
    "collapsed": true,
    "jupyter": {
     "outputs_hidden": true
    },
    "tags": []
   },
   "outputs": [
    {
     "data": {
      "text/plain": [
       "\u001b[1;31mType:\u001b[0m        module\n",
       "\u001b[1;31mString form:\u001b[0m <module 'numpy' from 'C:\\\\Users\\\\tolga\\\\AppData\\\\Local\\\\Programs\\\\Python\\\\Python310\\\\lib\\\\site-packages\\\\numpy\\\\__init__.py'>\n",
       "\u001b[1;31mFile:\u001b[0m        c:\\users\\tolga\\appdata\\local\\programs\\python\\python310\\lib\\site-packages\\numpy\\__init__.py\n",
       "\u001b[1;31mDocstring:\u001b[0m  \n",
       "NumPy\n",
       "=====\n",
       "\n",
       "Provides\n",
       "  1. An array object of arbitrary homogeneous items\n",
       "  2. Fast mathematical operations over arrays\n",
       "  3. Linear Algebra, Fourier Transforms, Random Number Generation\n",
       "\n",
       "How to use the documentation\n",
       "----------------------------\n",
       "Documentation is available in two forms: docstrings provided\n",
       "with the code, and a loose standing reference guide, available from\n",
       "`the NumPy homepage <https://www.scipy.org>`_.\n",
       "\n",
       "We recommend exploring the docstrings using\n",
       "`IPython <https://ipython.org>`_, an advanced Python shell with\n",
       "TAB-completion and introspection capabilities.  See below for further\n",
       "instructions.\n",
       "\n",
       "The docstring examples assume that `numpy` has been imported as `np`::\n",
       "\n",
       "  >>> import numpy as np\n",
       "\n",
       "Code snippets are indicated by three greater-than signs::\n",
       "\n",
       "  >>> x = 42\n",
       "  >>> x = x + 1\n",
       "\n",
       "Use the built-in ``help`` function to view a function's docstring::\n",
       "\n",
       "  >>> help(np.sort)\n",
       "  ... # doctest: +SKIP\n",
       "\n",
       "For some objects, ``np.info(obj)`` may provide additional help.  This is\n",
       "particularly true if you see the line \"Help on ufunc object:\" at the top\n",
       "of the help() page.  Ufuncs are implemented in C, not Python, for speed.\n",
       "The native Python help() does not know how to view their help, but our\n",
       "np.info() function does.\n",
       "\n",
       "To search for documents containing a keyword, do::\n",
       "\n",
       "  >>> np.lookfor('keyword')\n",
       "  ... # doctest: +SKIP\n",
       "\n",
       "General-purpose documents like a glossary and help on the basic concepts\n",
       "of numpy are available under the ``doc`` sub-module::\n",
       "\n",
       "  >>> from numpy import doc\n",
       "  >>> help(doc)\n",
       "  ... # doctest: +SKIP\n",
       "\n",
       "Available subpackages\n",
       "---------------------\n",
       "doc\n",
       "    Topical documentation on broadcasting, indexing, etc.\n",
       "lib\n",
       "    Basic functions used by several sub-packages.\n",
       "random\n",
       "    Core Random Tools\n",
       "linalg\n",
       "    Core Linear Algebra Tools\n",
       "fft\n",
       "    Core FFT routines\n",
       "polynomial\n",
       "    Polynomial tools\n",
       "testing\n",
       "    NumPy testing tools\n",
       "f2py\n",
       "    Fortran to Python Interface Generator.\n",
       "distutils\n",
       "    Enhancements to distutils with support for\n",
       "    Fortran compilers support and more.\n",
       "\n",
       "Utilities\n",
       "---------\n",
       "test\n",
       "    Run numpy unittests\n",
       "show_config\n",
       "    Show numpy build configuration\n",
       "dual\n",
       "    Overwrite certain functions with high-performance SciPy tools.\n",
       "    Note: `numpy.dual` is deprecated.  Use the functions from NumPy or Scipy\n",
       "    directly instead of importing them from `numpy.dual`.\n",
       "matlib\n",
       "    Make everything matrices.\n",
       "__version__\n",
       "    NumPy version string\n",
       "\n",
       "Viewing documentation using IPython\n",
       "-----------------------------------\n",
       "Start IPython with the NumPy profile (``ipython -p numpy``), which will\n",
       "import `numpy` under the alias `np`.  Then, use the ``cpaste`` command to\n",
       "paste examples into the shell.  To see which functions are available in\n",
       "`numpy`, type ``np.<TAB>`` (where ``<TAB>`` refers to the TAB key), or use\n",
       "``np.*cos*?<ENTER>`` (where ``<ENTER>`` refers to the ENTER key) to narrow\n",
       "down the list.  To view the docstring for a function, use\n",
       "``np.cos?<ENTER>`` (to view the docstring) and ``np.cos??<ENTER>`` (to view\n",
       "the source code).\n",
       "\n",
       "Copies vs. in-place operation\n",
       "-----------------------------\n",
       "Most of the functions in `numpy` return a copy of the array argument\n",
       "(e.g., `np.sort`).  In-place versions of these functions are often\n",
       "available as array methods, i.e. ``x = np.array([1,2,3]); x.sort()``.\n",
       "Exceptions to this rule are documented.\n"
      ]
     },
     "metadata": {},
     "output_type": "display_data"
    }
   ],
   "source": [
    "?np"
   ]
  },
  {
   "cell_type": "code",
   "execution_count": 162,
   "id": "ad74ce13-93c8-4443-a114-7ca2c71670f0",
   "metadata": {},
   "outputs": [],
   "source": [
    "# python numpy cheat sheet"
   ]
  },
  {
   "cell_type": "code",
   "execution_count": 163,
   "id": "f090f9e1-cb07-49ff-a92a-94a1ea3520ad",
   "metadata": {},
   "outputs": [],
   "source": [
    "# numpy statistics cheat sheet"
   ]
  },
  {
   "cell_type": "markdown",
   "id": "8744e2e4-1827-4d88-9389-234cf582c09e",
   "metadata": {},
   "source": [
    "# NumPy ile İki Bilinmeyenli Denklem Çözümü"
   ]
  },
  {
   "cell_type": "markdown",
   "id": "667a120d-f75a-4919-998d-c0230d7f844a",
   "metadata": {},
   "source": [
    "* 5x + y = 12\n",
    "* x + 3y = 10"
   ]
  },
  {
   "cell_type": "code",
   "execution_count": 164,
   "id": "d4a53fae-1a1a-4b77-b228-b98d7554ea72",
   "metadata": {},
   "outputs": [],
   "source": [
    "a = np.array([[5,1],[1,3]])\n",
    "b = np.array([12,10])"
   ]
  },
  {
   "cell_type": "code",
   "execution_count": 165,
   "id": "d61d150f-7d52-4296-bd89-41820938a769",
   "metadata": {},
   "outputs": [
    {
     "data": {
      "text/plain": [
       "array([[5, 1],\n",
       "       [1, 3]])"
      ]
     },
     "execution_count": 165,
     "metadata": {},
     "output_type": "execute_result"
    }
   ],
   "source": [
    "a"
   ]
  },
  {
   "cell_type": "code",
   "execution_count": 166,
   "id": "215f1124-41c7-4a7f-a5cf-e2a9e6b59301",
   "metadata": {},
   "outputs": [
    {
     "data": {
      "text/plain": [
       "array([12, 10])"
      ]
     },
     "execution_count": 166,
     "metadata": {},
     "output_type": "execute_result"
    }
   ],
   "source": [
    "b"
   ]
  },
  {
   "cell_type": "code",
   "execution_count": 167,
   "id": "5aea3145-ebfc-40d1-b2cf-443800955b13",
   "metadata": {},
   "outputs": [
    {
     "data": {
      "text/plain": [
       "array([1.85714286, 2.71428571])"
      ]
     },
     "execution_count": 167,
     "metadata": {},
     "output_type": "execute_result"
    }
   ],
   "source": [
    "x = np.linalg.solve(a,b)\n",
    "x"
   ]
  }
 ],
 "metadata": {
  "kernelspec": {
   "display_name": "Python 3 (ipykernel)",
   "language": "python",
   "name": "python3"
  },
  "language_info": {
   "codemirror_mode": {
    "name": "ipython",
    "version": 3
   },
   "file_extension": ".py",
   "mimetype": "text/x-python",
   "name": "python",
   "nbconvert_exporter": "python",
   "pygments_lexer": "ipython3",
   "version": "3.10.2"
  }
 },
 "nbformat": 4,
 "nbformat_minor": 5
}
